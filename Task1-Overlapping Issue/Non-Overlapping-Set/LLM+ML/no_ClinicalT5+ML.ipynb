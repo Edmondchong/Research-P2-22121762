{
  "nbformat": 4,
  "nbformat_minor": 0,
  "metadata": {
    "colab": {
      "provenance": [],
      "machine_shape": "hm",
      "gpuType": "A100"
    },
    "kernelspec": {
      "name": "python3",
      "display_name": "Python 3"
    },
    "language_info": {
      "name": "python"
    },
    "accelerator": "GPU",
    "widgets": {
      "application/vnd.jupyter.widget-state+json": {
        "43200073278a41dd8340b3176c317fc6": {
          "model_module": "@jupyter-widgets/controls",
          "model_name": "HBoxModel",
          "model_module_version": "1.5.0",
          "state": {
            "_dom_classes": [],
            "_model_module": "@jupyter-widgets/controls",
            "_model_module_version": "1.5.0",
            "_model_name": "HBoxModel",
            "_view_count": null,
            "_view_module": "@jupyter-widgets/controls",
            "_view_module_version": "1.5.0",
            "_view_name": "HBoxView",
            "box_style": "",
            "children": [
              "IPY_MODEL_0525090ab8124f389bb7d5b7e32b2391",
              "IPY_MODEL_f919e868e46c458799ba045f44e81be9",
              "IPY_MODEL_ee8d4500d1184bc082f64d6398c72751"
            ],
            "layout": "IPY_MODEL_cb55f634c7904559b5409bbf56144994"
          }
        },
        "0525090ab8124f389bb7d5b7e32b2391": {
          "model_module": "@jupyter-widgets/controls",
          "model_name": "HTMLModel",
          "model_module_version": "1.5.0",
          "state": {
            "_dom_classes": [],
            "_model_module": "@jupyter-widgets/controls",
            "_model_module_version": "1.5.0",
            "_model_name": "HTMLModel",
            "_view_count": null,
            "_view_module": "@jupyter-widgets/controls",
            "_view_module_version": "1.5.0",
            "_view_name": "HTMLView",
            "description": "",
            "description_tooltip": null,
            "layout": "IPY_MODEL_4d5d5b7bfaa948fd971c2422078f76d6",
            "placeholder": "​",
            "style": "IPY_MODEL_b6350332b51c46fe809e912389598a08",
            "value": "config.json: 100%"
          }
        },
        "f919e868e46c458799ba045f44e81be9": {
          "model_module": "@jupyter-widgets/controls",
          "model_name": "FloatProgressModel",
          "model_module_version": "1.5.0",
          "state": {
            "_dom_classes": [],
            "_model_module": "@jupyter-widgets/controls",
            "_model_module_version": "1.5.0",
            "_model_name": "FloatProgressModel",
            "_view_count": null,
            "_view_module": "@jupyter-widgets/controls",
            "_view_module_version": "1.5.0",
            "_view_name": "ProgressView",
            "bar_style": "success",
            "description": "",
            "description_tooltip": null,
            "layout": "IPY_MODEL_715c2e48264d471496459fd8ef623c49",
            "max": 313,
            "min": 0,
            "orientation": "horizontal",
            "style": "IPY_MODEL_2309a2d3a3a14ae6ba192a1a7d73e1d8",
            "value": 313
          }
        },
        "ee8d4500d1184bc082f64d6398c72751": {
          "model_module": "@jupyter-widgets/controls",
          "model_name": "HTMLModel",
          "model_module_version": "1.5.0",
          "state": {
            "_dom_classes": [],
            "_model_module": "@jupyter-widgets/controls",
            "_model_module_version": "1.5.0",
            "_model_name": "HTMLModel",
            "_view_count": null,
            "_view_module": "@jupyter-widgets/controls",
            "_view_module_version": "1.5.0",
            "_view_name": "HTMLView",
            "description": "",
            "description_tooltip": null,
            "layout": "IPY_MODEL_53a59338313a44e28051d4a6df291c46",
            "placeholder": "​",
            "style": "IPY_MODEL_3891058df82444388c1055c1ba29bf40",
            "value": " 313/313 [00:00&lt;00:00, 27.5kB/s]"
          }
        },
        "cb55f634c7904559b5409bbf56144994": {
          "model_module": "@jupyter-widgets/base",
          "model_name": "LayoutModel",
          "model_module_version": "1.2.0",
          "state": {
            "_model_module": "@jupyter-widgets/base",
            "_model_module_version": "1.2.0",
            "_model_name": "LayoutModel",
            "_view_count": null,
            "_view_module": "@jupyter-widgets/base",
            "_view_module_version": "1.2.0",
            "_view_name": "LayoutView",
            "align_content": null,
            "align_items": null,
            "align_self": null,
            "border": null,
            "bottom": null,
            "display": null,
            "flex": null,
            "flex_flow": null,
            "grid_area": null,
            "grid_auto_columns": null,
            "grid_auto_flow": null,
            "grid_auto_rows": null,
            "grid_column": null,
            "grid_gap": null,
            "grid_row": null,
            "grid_template_areas": null,
            "grid_template_columns": null,
            "grid_template_rows": null,
            "height": null,
            "justify_content": null,
            "justify_items": null,
            "left": null,
            "margin": null,
            "max_height": null,
            "max_width": null,
            "min_height": null,
            "min_width": null,
            "object_fit": null,
            "object_position": null,
            "order": null,
            "overflow": null,
            "overflow_x": null,
            "overflow_y": null,
            "padding": null,
            "right": null,
            "top": null,
            "visibility": null,
            "width": null
          }
        },
        "4d5d5b7bfaa948fd971c2422078f76d6": {
          "model_module": "@jupyter-widgets/base",
          "model_name": "LayoutModel",
          "model_module_version": "1.2.0",
          "state": {
            "_model_module": "@jupyter-widgets/base",
            "_model_module_version": "1.2.0",
            "_model_name": "LayoutModel",
            "_view_count": null,
            "_view_module": "@jupyter-widgets/base",
            "_view_module_version": "1.2.0",
            "_view_name": "LayoutView",
            "align_content": null,
            "align_items": null,
            "align_self": null,
            "border": null,
            "bottom": null,
            "display": null,
            "flex": null,
            "flex_flow": null,
            "grid_area": null,
            "grid_auto_columns": null,
            "grid_auto_flow": null,
            "grid_auto_rows": null,
            "grid_column": null,
            "grid_gap": null,
            "grid_row": null,
            "grid_template_areas": null,
            "grid_template_columns": null,
            "grid_template_rows": null,
            "height": null,
            "justify_content": null,
            "justify_items": null,
            "left": null,
            "margin": null,
            "max_height": null,
            "max_width": null,
            "min_height": null,
            "min_width": null,
            "object_fit": null,
            "object_position": null,
            "order": null,
            "overflow": null,
            "overflow_x": null,
            "overflow_y": null,
            "padding": null,
            "right": null,
            "top": null,
            "visibility": null,
            "width": null
          }
        },
        "b6350332b51c46fe809e912389598a08": {
          "model_module": "@jupyter-widgets/controls",
          "model_name": "DescriptionStyleModel",
          "model_module_version": "1.5.0",
          "state": {
            "_model_module": "@jupyter-widgets/controls",
            "_model_module_version": "1.5.0",
            "_model_name": "DescriptionStyleModel",
            "_view_count": null,
            "_view_module": "@jupyter-widgets/base",
            "_view_module_version": "1.2.0",
            "_view_name": "StyleView",
            "description_width": ""
          }
        },
        "715c2e48264d471496459fd8ef623c49": {
          "model_module": "@jupyter-widgets/base",
          "model_name": "LayoutModel",
          "model_module_version": "1.2.0",
          "state": {
            "_model_module": "@jupyter-widgets/base",
            "_model_module_version": "1.2.0",
            "_model_name": "LayoutModel",
            "_view_count": null,
            "_view_module": "@jupyter-widgets/base",
            "_view_module_version": "1.2.0",
            "_view_name": "LayoutView",
            "align_content": null,
            "align_items": null,
            "align_self": null,
            "border": null,
            "bottom": null,
            "display": null,
            "flex": null,
            "flex_flow": null,
            "grid_area": null,
            "grid_auto_columns": null,
            "grid_auto_flow": null,
            "grid_auto_rows": null,
            "grid_column": null,
            "grid_gap": null,
            "grid_row": null,
            "grid_template_areas": null,
            "grid_template_columns": null,
            "grid_template_rows": null,
            "height": null,
            "justify_content": null,
            "justify_items": null,
            "left": null,
            "margin": null,
            "max_height": null,
            "max_width": null,
            "min_height": null,
            "min_width": null,
            "object_fit": null,
            "object_position": null,
            "order": null,
            "overflow": null,
            "overflow_x": null,
            "overflow_y": null,
            "padding": null,
            "right": null,
            "top": null,
            "visibility": null,
            "width": null
          }
        },
        "2309a2d3a3a14ae6ba192a1a7d73e1d8": {
          "model_module": "@jupyter-widgets/controls",
          "model_name": "ProgressStyleModel",
          "model_module_version": "1.5.0",
          "state": {
            "_model_module": "@jupyter-widgets/controls",
            "_model_module_version": "1.5.0",
            "_model_name": "ProgressStyleModel",
            "_view_count": null,
            "_view_module": "@jupyter-widgets/base",
            "_view_module_version": "1.2.0",
            "_view_name": "StyleView",
            "bar_color": null,
            "description_width": ""
          }
        },
        "53a59338313a44e28051d4a6df291c46": {
          "model_module": "@jupyter-widgets/base",
          "model_name": "LayoutModel",
          "model_module_version": "1.2.0",
          "state": {
            "_model_module": "@jupyter-widgets/base",
            "_model_module_version": "1.2.0",
            "_model_name": "LayoutModel",
            "_view_count": null,
            "_view_module": "@jupyter-widgets/base",
            "_view_module_version": "1.2.0",
            "_view_name": "LayoutView",
            "align_content": null,
            "align_items": null,
            "align_self": null,
            "border": null,
            "bottom": null,
            "display": null,
            "flex": null,
            "flex_flow": null,
            "grid_area": null,
            "grid_auto_columns": null,
            "grid_auto_flow": null,
            "grid_auto_rows": null,
            "grid_column": null,
            "grid_gap": null,
            "grid_row": null,
            "grid_template_areas": null,
            "grid_template_columns": null,
            "grid_template_rows": null,
            "height": null,
            "justify_content": null,
            "justify_items": null,
            "left": null,
            "margin": null,
            "max_height": null,
            "max_width": null,
            "min_height": null,
            "min_width": null,
            "object_fit": null,
            "object_position": null,
            "order": null,
            "overflow": null,
            "overflow_x": null,
            "overflow_y": null,
            "padding": null,
            "right": null,
            "top": null,
            "visibility": null,
            "width": null
          }
        },
        "3891058df82444388c1055c1ba29bf40": {
          "model_module": "@jupyter-widgets/controls",
          "model_name": "DescriptionStyleModel",
          "model_module_version": "1.5.0",
          "state": {
            "_model_module": "@jupyter-widgets/controls",
            "_model_module_version": "1.5.0",
            "_model_name": "DescriptionStyleModel",
            "_view_count": null,
            "_view_module": "@jupyter-widgets/base",
            "_view_module_version": "1.2.0",
            "_view_name": "StyleView",
            "description_width": ""
          }
        },
        "a207588380b74b238bb0fb39df65150d": {
          "model_module": "@jupyter-widgets/controls",
          "model_name": "HBoxModel",
          "model_module_version": "1.5.0",
          "state": {
            "_dom_classes": [],
            "_model_module": "@jupyter-widgets/controls",
            "_model_module_version": "1.5.0",
            "_model_name": "HBoxModel",
            "_view_count": null,
            "_view_module": "@jupyter-widgets/controls",
            "_view_module_version": "1.5.0",
            "_view_name": "HBoxView",
            "box_style": "",
            "children": [
              "IPY_MODEL_ec7436b65472418bb400c8920ac247ff",
              "IPY_MODEL_f2009dba6c2f44e593d191bb32e528a0",
              "IPY_MODEL_370b0131dad94b06a9775ea1c3179b24"
            ],
            "layout": "IPY_MODEL_f502307cd13d4bd6a983ff78d0fea86b"
          }
        },
        "ec7436b65472418bb400c8920ac247ff": {
          "model_module": "@jupyter-widgets/controls",
          "model_name": "HTMLModel",
          "model_module_version": "1.5.0",
          "state": {
            "_dom_classes": [],
            "_model_module": "@jupyter-widgets/controls",
            "_model_module_version": "1.5.0",
            "_model_name": "HTMLModel",
            "_view_count": null,
            "_view_module": "@jupyter-widgets/controls",
            "_view_module_version": "1.5.0",
            "_view_name": "HTMLView",
            "description": "",
            "description_tooltip": null,
            "layout": "IPY_MODEL_f24c804901df464bb9f1948583a0ad20",
            "placeholder": "​",
            "style": "IPY_MODEL_2e304a23bfb045e8ae05982ecd89b9a2",
            "value": "vocab.txt: 100%"
          }
        },
        "f2009dba6c2f44e593d191bb32e528a0": {
          "model_module": "@jupyter-widgets/controls",
          "model_name": "FloatProgressModel",
          "model_module_version": "1.5.0",
          "state": {
            "_dom_classes": [],
            "_model_module": "@jupyter-widgets/controls",
            "_model_module_version": "1.5.0",
            "_model_name": "FloatProgressModel",
            "_view_count": null,
            "_view_module": "@jupyter-widgets/controls",
            "_view_module_version": "1.5.0",
            "_view_name": "ProgressView",
            "bar_style": "success",
            "description": "",
            "description_tooltip": null,
            "layout": "IPY_MODEL_57b8460343fa49da96a7c2e743676d34",
            "max": 213450,
            "min": 0,
            "orientation": "horizontal",
            "style": "IPY_MODEL_90fcfb9f33384a9facde5c699eedef2f",
            "value": 213450
          }
        },
        "370b0131dad94b06a9775ea1c3179b24": {
          "model_module": "@jupyter-widgets/controls",
          "model_name": "HTMLModel",
          "model_module_version": "1.5.0",
          "state": {
            "_dom_classes": [],
            "_model_module": "@jupyter-widgets/controls",
            "_model_module_version": "1.5.0",
            "_model_name": "HTMLModel",
            "_view_count": null,
            "_view_module": "@jupyter-widgets/controls",
            "_view_module_version": "1.5.0",
            "_view_name": "HTMLView",
            "description": "",
            "description_tooltip": null,
            "layout": "IPY_MODEL_30bc09170c20468facf1a6fb82e29db7",
            "placeholder": "​",
            "style": "IPY_MODEL_2b4cfa393f3e48a09a81215e198fcadb",
            "value": " 213k/213k [00:00&lt;00:00, 10.9MB/s]"
          }
        },
        "f502307cd13d4bd6a983ff78d0fea86b": {
          "model_module": "@jupyter-widgets/base",
          "model_name": "LayoutModel",
          "model_module_version": "1.2.0",
          "state": {
            "_model_module": "@jupyter-widgets/base",
            "_model_module_version": "1.2.0",
            "_model_name": "LayoutModel",
            "_view_count": null,
            "_view_module": "@jupyter-widgets/base",
            "_view_module_version": "1.2.0",
            "_view_name": "LayoutView",
            "align_content": null,
            "align_items": null,
            "align_self": null,
            "border": null,
            "bottom": null,
            "display": null,
            "flex": null,
            "flex_flow": null,
            "grid_area": null,
            "grid_auto_columns": null,
            "grid_auto_flow": null,
            "grid_auto_rows": null,
            "grid_column": null,
            "grid_gap": null,
            "grid_row": null,
            "grid_template_areas": null,
            "grid_template_columns": null,
            "grid_template_rows": null,
            "height": null,
            "justify_content": null,
            "justify_items": null,
            "left": null,
            "margin": null,
            "max_height": null,
            "max_width": null,
            "min_height": null,
            "min_width": null,
            "object_fit": null,
            "object_position": null,
            "order": null,
            "overflow": null,
            "overflow_x": null,
            "overflow_y": null,
            "padding": null,
            "right": null,
            "top": null,
            "visibility": null,
            "width": null
          }
        },
        "f24c804901df464bb9f1948583a0ad20": {
          "model_module": "@jupyter-widgets/base",
          "model_name": "LayoutModel",
          "model_module_version": "1.2.0",
          "state": {
            "_model_module": "@jupyter-widgets/base",
            "_model_module_version": "1.2.0",
            "_model_name": "LayoutModel",
            "_view_count": null,
            "_view_module": "@jupyter-widgets/base",
            "_view_module_version": "1.2.0",
            "_view_name": "LayoutView",
            "align_content": null,
            "align_items": null,
            "align_self": null,
            "border": null,
            "bottom": null,
            "display": null,
            "flex": null,
            "flex_flow": null,
            "grid_area": null,
            "grid_auto_columns": null,
            "grid_auto_flow": null,
            "grid_auto_rows": null,
            "grid_column": null,
            "grid_gap": null,
            "grid_row": null,
            "grid_template_areas": null,
            "grid_template_columns": null,
            "grid_template_rows": null,
            "height": null,
            "justify_content": null,
            "justify_items": null,
            "left": null,
            "margin": null,
            "max_height": null,
            "max_width": null,
            "min_height": null,
            "min_width": null,
            "object_fit": null,
            "object_position": null,
            "order": null,
            "overflow": null,
            "overflow_x": null,
            "overflow_y": null,
            "padding": null,
            "right": null,
            "top": null,
            "visibility": null,
            "width": null
          }
        },
        "2e304a23bfb045e8ae05982ecd89b9a2": {
          "model_module": "@jupyter-widgets/controls",
          "model_name": "DescriptionStyleModel",
          "model_module_version": "1.5.0",
          "state": {
            "_model_module": "@jupyter-widgets/controls",
            "_model_module_version": "1.5.0",
            "_model_name": "DescriptionStyleModel",
            "_view_count": null,
            "_view_module": "@jupyter-widgets/base",
            "_view_module_version": "1.2.0",
            "_view_name": "StyleView",
            "description_width": ""
          }
        },
        "57b8460343fa49da96a7c2e743676d34": {
          "model_module": "@jupyter-widgets/base",
          "model_name": "LayoutModel",
          "model_module_version": "1.2.0",
          "state": {
            "_model_module": "@jupyter-widgets/base",
            "_model_module_version": "1.2.0",
            "_model_name": "LayoutModel",
            "_view_count": null,
            "_view_module": "@jupyter-widgets/base",
            "_view_module_version": "1.2.0",
            "_view_name": "LayoutView",
            "align_content": null,
            "align_items": null,
            "align_self": null,
            "border": null,
            "bottom": null,
            "display": null,
            "flex": null,
            "flex_flow": null,
            "grid_area": null,
            "grid_auto_columns": null,
            "grid_auto_flow": null,
            "grid_auto_rows": null,
            "grid_column": null,
            "grid_gap": null,
            "grid_row": null,
            "grid_template_areas": null,
            "grid_template_columns": null,
            "grid_template_rows": null,
            "height": null,
            "justify_content": null,
            "justify_items": null,
            "left": null,
            "margin": null,
            "max_height": null,
            "max_width": null,
            "min_height": null,
            "min_width": null,
            "object_fit": null,
            "object_position": null,
            "order": null,
            "overflow": null,
            "overflow_x": null,
            "overflow_y": null,
            "padding": null,
            "right": null,
            "top": null,
            "visibility": null,
            "width": null
          }
        },
        "90fcfb9f33384a9facde5c699eedef2f": {
          "model_module": "@jupyter-widgets/controls",
          "model_name": "ProgressStyleModel",
          "model_module_version": "1.5.0",
          "state": {
            "_model_module": "@jupyter-widgets/controls",
            "_model_module_version": "1.5.0",
            "_model_name": "ProgressStyleModel",
            "_view_count": null,
            "_view_module": "@jupyter-widgets/base",
            "_view_module_version": "1.2.0",
            "_view_name": "StyleView",
            "bar_color": null,
            "description_width": ""
          }
        },
        "30bc09170c20468facf1a6fb82e29db7": {
          "model_module": "@jupyter-widgets/base",
          "model_name": "LayoutModel",
          "model_module_version": "1.2.0",
          "state": {
            "_model_module": "@jupyter-widgets/base",
            "_model_module_version": "1.2.0",
            "_model_name": "LayoutModel",
            "_view_count": null,
            "_view_module": "@jupyter-widgets/base",
            "_view_module_version": "1.2.0",
            "_view_name": "LayoutView",
            "align_content": null,
            "align_items": null,
            "align_self": null,
            "border": null,
            "bottom": null,
            "display": null,
            "flex": null,
            "flex_flow": null,
            "grid_area": null,
            "grid_auto_columns": null,
            "grid_auto_flow": null,
            "grid_auto_rows": null,
            "grid_column": null,
            "grid_gap": null,
            "grid_row": null,
            "grid_template_areas": null,
            "grid_template_columns": null,
            "grid_template_rows": null,
            "height": null,
            "justify_content": null,
            "justify_items": null,
            "left": null,
            "margin": null,
            "max_height": null,
            "max_width": null,
            "min_height": null,
            "min_width": null,
            "object_fit": null,
            "object_position": null,
            "order": null,
            "overflow": null,
            "overflow_x": null,
            "overflow_y": null,
            "padding": null,
            "right": null,
            "top": null,
            "visibility": null,
            "width": null
          }
        },
        "2b4cfa393f3e48a09a81215e198fcadb": {
          "model_module": "@jupyter-widgets/controls",
          "model_name": "DescriptionStyleModel",
          "model_module_version": "1.5.0",
          "state": {
            "_model_module": "@jupyter-widgets/controls",
            "_model_module_version": "1.5.0",
            "_model_name": "DescriptionStyleModel",
            "_view_count": null,
            "_view_module": "@jupyter-widgets/base",
            "_view_module_version": "1.2.0",
            "_view_name": "StyleView",
            "description_width": ""
          }
        },
        "3b47ad8ec22a48078b6e1ff9ef5e5aad": {
          "model_module": "@jupyter-widgets/controls",
          "model_name": "HBoxModel",
          "model_module_version": "1.5.0",
          "state": {
            "_dom_classes": [],
            "_model_module": "@jupyter-widgets/controls",
            "_model_module_version": "1.5.0",
            "_model_name": "HBoxModel",
            "_view_count": null,
            "_view_module": "@jupyter-widgets/controls",
            "_view_module_version": "1.5.0",
            "_view_name": "HBoxView",
            "box_style": "",
            "children": [
              "IPY_MODEL_cb100550380240409d81ef4035927c0b",
              "IPY_MODEL_4b9c0882cdab4f5686e9f4a3492241cd",
              "IPY_MODEL_d76da1583f934a018be9b25662c9c359"
            ],
            "layout": "IPY_MODEL_23c8de0a48cb44bea8b55903bb04b39b"
          }
        },
        "cb100550380240409d81ef4035927c0b": {
          "model_module": "@jupyter-widgets/controls",
          "model_name": "HTMLModel",
          "model_module_version": "1.5.0",
          "state": {
            "_dom_classes": [],
            "_model_module": "@jupyter-widgets/controls",
            "_model_module_version": "1.5.0",
            "_model_name": "HTMLModel",
            "_view_count": null,
            "_view_module": "@jupyter-widgets/controls",
            "_view_module_version": "1.5.0",
            "_view_name": "HTMLView",
            "description": "",
            "description_tooltip": null,
            "layout": "IPY_MODEL_b1b4c37847ee46219b49d6e3fd45d983",
            "placeholder": "​",
            "style": "IPY_MODEL_c4d99e514ca34a6391afb85f42714b21",
            "value": "pytorch_model.bin: 100%"
          }
        },
        "4b9c0882cdab4f5686e9f4a3492241cd": {
          "model_module": "@jupyter-widgets/controls",
          "model_name": "FloatProgressModel",
          "model_module_version": "1.5.0",
          "state": {
            "_dom_classes": [],
            "_model_module": "@jupyter-widgets/controls",
            "_model_module_version": "1.5.0",
            "_model_name": "FloatProgressModel",
            "_view_count": null,
            "_view_module": "@jupyter-widgets/controls",
            "_view_module_version": "1.5.0",
            "_view_name": "ProgressView",
            "bar_style": "success",
            "description": "",
            "description_tooltip": null,
            "layout": "IPY_MODEL_b81db7b27aa64b7182ed9d693a0a881a",
            "max": 435780550,
            "min": 0,
            "orientation": "horizontal",
            "style": "IPY_MODEL_0680c7e1c1fa4527b899233adda77edf",
            "value": 435780550
          }
        },
        "d76da1583f934a018be9b25662c9c359": {
          "model_module": "@jupyter-widgets/controls",
          "model_name": "HTMLModel",
          "model_module_version": "1.5.0",
          "state": {
            "_dom_classes": [],
            "_model_module": "@jupyter-widgets/controls",
            "_model_module_version": "1.5.0",
            "_model_name": "HTMLModel",
            "_view_count": null,
            "_view_module": "@jupyter-widgets/controls",
            "_view_module_version": "1.5.0",
            "_view_name": "HTMLView",
            "description": "",
            "description_tooltip": null,
            "layout": "IPY_MODEL_7489595c3d324021bdfee57e5e339249",
            "placeholder": "​",
            "style": "IPY_MODEL_a93568ca4ada4ccebba44e3653ea1c45",
            "value": " 436M/436M [00:01&lt;00:00, 204MB/s]"
          }
        },
        "23c8de0a48cb44bea8b55903bb04b39b": {
          "model_module": "@jupyter-widgets/base",
          "model_name": "LayoutModel",
          "model_module_version": "1.2.0",
          "state": {
            "_model_module": "@jupyter-widgets/base",
            "_model_module_version": "1.2.0",
            "_model_name": "LayoutModel",
            "_view_count": null,
            "_view_module": "@jupyter-widgets/base",
            "_view_module_version": "1.2.0",
            "_view_name": "LayoutView",
            "align_content": null,
            "align_items": null,
            "align_self": null,
            "border": null,
            "bottom": null,
            "display": null,
            "flex": null,
            "flex_flow": null,
            "grid_area": null,
            "grid_auto_columns": null,
            "grid_auto_flow": null,
            "grid_auto_rows": null,
            "grid_column": null,
            "grid_gap": null,
            "grid_row": null,
            "grid_template_areas": null,
            "grid_template_columns": null,
            "grid_template_rows": null,
            "height": null,
            "justify_content": null,
            "justify_items": null,
            "left": null,
            "margin": null,
            "max_height": null,
            "max_width": null,
            "min_height": null,
            "min_width": null,
            "object_fit": null,
            "object_position": null,
            "order": null,
            "overflow": null,
            "overflow_x": null,
            "overflow_y": null,
            "padding": null,
            "right": null,
            "top": null,
            "visibility": null,
            "width": null
          }
        },
        "b1b4c37847ee46219b49d6e3fd45d983": {
          "model_module": "@jupyter-widgets/base",
          "model_name": "LayoutModel",
          "model_module_version": "1.2.0",
          "state": {
            "_model_module": "@jupyter-widgets/base",
            "_model_module_version": "1.2.0",
            "_model_name": "LayoutModel",
            "_view_count": null,
            "_view_module": "@jupyter-widgets/base",
            "_view_module_version": "1.2.0",
            "_view_name": "LayoutView",
            "align_content": null,
            "align_items": null,
            "align_self": null,
            "border": null,
            "bottom": null,
            "display": null,
            "flex": null,
            "flex_flow": null,
            "grid_area": null,
            "grid_auto_columns": null,
            "grid_auto_flow": null,
            "grid_auto_rows": null,
            "grid_column": null,
            "grid_gap": null,
            "grid_row": null,
            "grid_template_areas": null,
            "grid_template_columns": null,
            "grid_template_rows": null,
            "height": null,
            "justify_content": null,
            "justify_items": null,
            "left": null,
            "margin": null,
            "max_height": null,
            "max_width": null,
            "min_height": null,
            "min_width": null,
            "object_fit": null,
            "object_position": null,
            "order": null,
            "overflow": null,
            "overflow_x": null,
            "overflow_y": null,
            "padding": null,
            "right": null,
            "top": null,
            "visibility": null,
            "width": null
          }
        },
        "c4d99e514ca34a6391afb85f42714b21": {
          "model_module": "@jupyter-widgets/controls",
          "model_name": "DescriptionStyleModel",
          "model_module_version": "1.5.0",
          "state": {
            "_model_module": "@jupyter-widgets/controls",
            "_model_module_version": "1.5.0",
            "_model_name": "DescriptionStyleModel",
            "_view_count": null,
            "_view_module": "@jupyter-widgets/base",
            "_view_module_version": "1.2.0",
            "_view_name": "StyleView",
            "description_width": ""
          }
        },
        "b81db7b27aa64b7182ed9d693a0a881a": {
          "model_module": "@jupyter-widgets/base",
          "model_name": "LayoutModel",
          "model_module_version": "1.2.0",
          "state": {
            "_model_module": "@jupyter-widgets/base",
            "_model_module_version": "1.2.0",
            "_model_name": "LayoutModel",
            "_view_count": null,
            "_view_module": "@jupyter-widgets/base",
            "_view_module_version": "1.2.0",
            "_view_name": "LayoutView",
            "align_content": null,
            "align_items": null,
            "align_self": null,
            "border": null,
            "bottom": null,
            "display": null,
            "flex": null,
            "flex_flow": null,
            "grid_area": null,
            "grid_auto_columns": null,
            "grid_auto_flow": null,
            "grid_auto_rows": null,
            "grid_column": null,
            "grid_gap": null,
            "grid_row": null,
            "grid_template_areas": null,
            "grid_template_columns": null,
            "grid_template_rows": null,
            "height": null,
            "justify_content": null,
            "justify_items": null,
            "left": null,
            "margin": null,
            "max_height": null,
            "max_width": null,
            "min_height": null,
            "min_width": null,
            "object_fit": null,
            "object_position": null,
            "order": null,
            "overflow": null,
            "overflow_x": null,
            "overflow_y": null,
            "padding": null,
            "right": null,
            "top": null,
            "visibility": null,
            "width": null
          }
        },
        "0680c7e1c1fa4527b899233adda77edf": {
          "model_module": "@jupyter-widgets/controls",
          "model_name": "ProgressStyleModel",
          "model_module_version": "1.5.0",
          "state": {
            "_model_module": "@jupyter-widgets/controls",
            "_model_module_version": "1.5.0",
            "_model_name": "ProgressStyleModel",
            "_view_count": null,
            "_view_module": "@jupyter-widgets/base",
            "_view_module_version": "1.2.0",
            "_view_name": "StyleView",
            "bar_color": null,
            "description_width": ""
          }
        },
        "7489595c3d324021bdfee57e5e339249": {
          "model_module": "@jupyter-widgets/base",
          "model_name": "LayoutModel",
          "model_module_version": "1.2.0",
          "state": {
            "_model_module": "@jupyter-widgets/base",
            "_model_module_version": "1.2.0",
            "_model_name": "LayoutModel",
            "_view_count": null,
            "_view_module": "@jupyter-widgets/base",
            "_view_module_version": "1.2.0",
            "_view_name": "LayoutView",
            "align_content": null,
            "align_items": null,
            "align_self": null,
            "border": null,
            "bottom": null,
            "display": null,
            "flex": null,
            "flex_flow": null,
            "grid_area": null,
            "grid_auto_columns": null,
            "grid_auto_flow": null,
            "grid_auto_rows": null,
            "grid_column": null,
            "grid_gap": null,
            "grid_row": null,
            "grid_template_areas": null,
            "grid_template_columns": null,
            "grid_template_rows": null,
            "height": null,
            "justify_content": null,
            "justify_items": null,
            "left": null,
            "margin": null,
            "max_height": null,
            "max_width": null,
            "min_height": null,
            "min_width": null,
            "object_fit": null,
            "object_position": null,
            "order": null,
            "overflow": null,
            "overflow_x": null,
            "overflow_y": null,
            "padding": null,
            "right": null,
            "top": null,
            "visibility": null,
            "width": null
          }
        },
        "a93568ca4ada4ccebba44e3653ea1c45": {
          "model_module": "@jupyter-widgets/controls",
          "model_name": "DescriptionStyleModel",
          "model_module_version": "1.5.0",
          "state": {
            "_model_module": "@jupyter-widgets/controls",
            "_model_module_version": "1.5.0",
            "_model_name": "DescriptionStyleModel",
            "_view_count": null,
            "_view_module": "@jupyter-widgets/base",
            "_view_module_version": "1.2.0",
            "_view_name": "StyleView",
            "description_width": ""
          }
        }
      }
    }
  },
  "cells": [
    {
      "cell_type": "code",
      "execution_count": 1,
      "metadata": {
        "colab": {
          "base_uri": "https://localhost:8080/"
        },
        "id": "TuVoU60VxHqB",
        "outputId": "5d978c5c-e740-41a9-a199-5faa955f0f19"
      },
      "outputs": [
        {
          "output_type": "stream",
          "name": "stdout",
          "text": [
            "Mounted at /content/drive\n"
          ]
        }
      ],
      "source": [
        "from google.colab import drive\n",
        "drive.mount('/content/drive')"
      ]
    },
    {
      "cell_type": "code",
      "source": [
        "# Install Required Libraries\n",
        "!pip install transformers scikit-learn pandas torch"
      ],
      "metadata": {
        "colab": {
          "base_uri": "https://localhost:8080/"
        },
        "id": "jtd9HGd5xxta",
        "outputId": "5078775a-b3f7-4247-c377-c07ad5dbed74"
      },
      "execution_count": 2,
      "outputs": [
        {
          "output_type": "stream",
          "name": "stdout",
          "text": [
            "Requirement already satisfied: transformers in /usr/local/lib/python3.11/dist-packages (4.47.1)\n",
            "Requirement already satisfied: scikit-learn in /usr/local/lib/python3.11/dist-packages (1.6.0)\n",
            "Requirement already satisfied: pandas in /usr/local/lib/python3.11/dist-packages (2.2.2)\n",
            "Requirement already satisfied: torch in /usr/local/lib/python3.11/dist-packages (2.5.1+cu121)\n",
            "Requirement already satisfied: filelock in /usr/local/lib/python3.11/dist-packages (from transformers) (3.16.1)\n",
            "Requirement already satisfied: huggingface-hub<1.0,>=0.24.0 in /usr/local/lib/python3.11/dist-packages (from transformers) (0.27.1)\n",
            "Requirement already satisfied: numpy>=1.17 in /usr/local/lib/python3.11/dist-packages (from transformers) (1.26.4)\n",
            "Requirement already satisfied: packaging>=20.0 in /usr/local/lib/python3.11/dist-packages (from transformers) (24.2)\n",
            "Requirement already satisfied: pyyaml>=5.1 in /usr/local/lib/python3.11/dist-packages (from transformers) (6.0.2)\n",
            "Requirement already satisfied: regex!=2019.12.17 in /usr/local/lib/python3.11/dist-packages (from transformers) (2024.11.6)\n",
            "Requirement already satisfied: requests in /usr/local/lib/python3.11/dist-packages (from transformers) (2.32.3)\n",
            "Requirement already satisfied: tokenizers<0.22,>=0.21 in /usr/local/lib/python3.11/dist-packages (from transformers) (0.21.0)\n",
            "Requirement already satisfied: safetensors>=0.4.1 in /usr/local/lib/python3.11/dist-packages (from transformers) (0.5.2)\n",
            "Requirement already satisfied: tqdm>=4.27 in /usr/local/lib/python3.11/dist-packages (from transformers) (4.67.1)\n",
            "Requirement already satisfied: scipy>=1.6.0 in /usr/local/lib/python3.11/dist-packages (from scikit-learn) (1.13.1)\n",
            "Requirement already satisfied: joblib>=1.2.0 in /usr/local/lib/python3.11/dist-packages (from scikit-learn) (1.4.2)\n",
            "Requirement already satisfied: threadpoolctl>=3.1.0 in /usr/local/lib/python3.11/dist-packages (from scikit-learn) (3.5.0)\n",
            "Requirement already satisfied: python-dateutil>=2.8.2 in /usr/local/lib/python3.11/dist-packages (from pandas) (2.8.2)\n",
            "Requirement already satisfied: pytz>=2020.1 in /usr/local/lib/python3.11/dist-packages (from pandas) (2024.2)\n",
            "Requirement already satisfied: tzdata>=2022.7 in /usr/local/lib/python3.11/dist-packages (from pandas) (2024.2)\n",
            "Requirement already satisfied: typing-extensions>=4.8.0 in /usr/local/lib/python3.11/dist-packages (from torch) (4.12.2)\n",
            "Requirement already satisfied: networkx in /usr/local/lib/python3.11/dist-packages (from torch) (3.4.2)\n",
            "Requirement already satisfied: jinja2 in /usr/local/lib/python3.11/dist-packages (from torch) (3.1.5)\n",
            "Requirement already satisfied: fsspec in /usr/local/lib/python3.11/dist-packages (from torch) (2024.10.0)\n",
            "Requirement already satisfied: nvidia-cuda-nvrtc-cu12==12.1.105 in /usr/local/lib/python3.11/dist-packages (from torch) (12.1.105)\n",
            "Requirement already satisfied: nvidia-cuda-runtime-cu12==12.1.105 in /usr/local/lib/python3.11/dist-packages (from torch) (12.1.105)\n",
            "Requirement already satisfied: nvidia-cuda-cupti-cu12==12.1.105 in /usr/local/lib/python3.11/dist-packages (from torch) (12.1.105)\n",
            "Requirement already satisfied: nvidia-cudnn-cu12==9.1.0.70 in /usr/local/lib/python3.11/dist-packages (from torch) (9.1.0.70)\n",
            "Requirement already satisfied: nvidia-cublas-cu12==12.1.3.1 in /usr/local/lib/python3.11/dist-packages (from torch) (12.1.3.1)\n",
            "Requirement already satisfied: nvidia-cufft-cu12==11.0.2.54 in /usr/local/lib/python3.11/dist-packages (from torch) (11.0.2.54)\n",
            "Requirement already satisfied: nvidia-curand-cu12==10.3.2.106 in /usr/local/lib/python3.11/dist-packages (from torch) (10.3.2.106)\n",
            "Requirement already satisfied: nvidia-cusolver-cu12==11.4.5.107 in /usr/local/lib/python3.11/dist-packages (from torch) (11.4.5.107)\n",
            "Requirement already satisfied: nvidia-cusparse-cu12==12.1.0.106 in /usr/local/lib/python3.11/dist-packages (from torch) (12.1.0.106)\n",
            "Requirement already satisfied: nvidia-nccl-cu12==2.21.5 in /usr/local/lib/python3.11/dist-packages (from torch) (2.21.5)\n",
            "Requirement already satisfied: nvidia-nvtx-cu12==12.1.105 in /usr/local/lib/python3.11/dist-packages (from torch) (12.1.105)\n",
            "Requirement already satisfied: triton==3.1.0 in /usr/local/lib/python3.11/dist-packages (from torch) (3.1.0)\n",
            "Requirement already satisfied: sympy==1.13.1 in /usr/local/lib/python3.11/dist-packages (from torch) (1.13.1)\n",
            "Requirement already satisfied: nvidia-nvjitlink-cu12 in /usr/local/lib/python3.11/dist-packages (from nvidia-cusolver-cu12==11.4.5.107->torch) (12.6.85)\n",
            "Requirement already satisfied: mpmath<1.4,>=1.1.0 in /usr/local/lib/python3.11/dist-packages (from sympy==1.13.1->torch) (1.3.0)\n",
            "Requirement already satisfied: six>=1.5 in /usr/local/lib/python3.11/dist-packages (from python-dateutil>=2.8.2->pandas) (1.17.0)\n",
            "Requirement already satisfied: MarkupSafe>=2.0 in /usr/local/lib/python3.11/dist-packages (from jinja2->torch) (3.0.2)\n",
            "Requirement already satisfied: charset-normalizer<4,>=2 in /usr/local/lib/python3.11/dist-packages (from requests->transformers) (3.4.1)\n",
            "Requirement already satisfied: idna<4,>=2.5 in /usr/local/lib/python3.11/dist-packages (from requests->transformers) (3.10)\n",
            "Requirement already satisfied: urllib3<3,>=1.21.1 in /usr/local/lib/python3.11/dist-packages (from requests->transformers) (2.3.0)\n",
            "Requirement already satisfied: certifi>=2017.4.17 in /usr/local/lib/python3.11/dist-packages (from requests->transformers) (2024.12.14)\n"
          ]
        }
      ]
    },
    {
      "cell_type": "code",
      "source": [
        "import pandas as pd\n",
        "import torch\n",
        "import numpy as np\n",
        "from transformers import AutoTokenizer, AutoModelForSequenceClassification, Trainer, TrainingArguments\n",
        "from sklearn.naive_bayes import GaussianNB\n",
        "from sklearn.metrics import classification_report\n",
        "from sklearn.preprocessing import LabelEncoder"
      ],
      "metadata": {
        "id": "W0_ArHWXxyCi"
      },
      "execution_count": 3,
      "outputs": []
    },
    {
      "cell_type": "markdown",
      "source": [
        "# Load LLM"
      ],
      "metadata": {
        "id": "s7Dhd5Q9zLLw"
      }
    },
    {
      "cell_type": "code",
      "source": [
        "# Load Model\n",
        "model_name = \"dmis-lab/biobert-base-cased-v1.1\"\n",
        "tokenizer = AutoTokenizer.from_pretrained(model_name)\n",
        "model = AutoModelForSequenceClassification.from_pretrained(model_name, num_labels=59)  # Placeholder for `num_labels`\n",
        "\n",
        "# GPU Check\n",
        "device = torch.device(\"cuda\" if torch.cuda.is_available() else \"cpu\")\n",
        "model = model.to(device)"
      ],
      "metadata": {
        "colab": {
          "base_uri": "https://localhost:8080/",
          "height": 272,
          "referenced_widgets": [
            "43200073278a41dd8340b3176c317fc6",
            "0525090ab8124f389bb7d5b7e32b2391",
            "f919e868e46c458799ba045f44e81be9",
            "ee8d4500d1184bc082f64d6398c72751",
            "cb55f634c7904559b5409bbf56144994",
            "4d5d5b7bfaa948fd971c2422078f76d6",
            "b6350332b51c46fe809e912389598a08",
            "715c2e48264d471496459fd8ef623c49",
            "2309a2d3a3a14ae6ba192a1a7d73e1d8",
            "53a59338313a44e28051d4a6df291c46",
            "3891058df82444388c1055c1ba29bf40",
            "a207588380b74b238bb0fb39df65150d",
            "ec7436b65472418bb400c8920ac247ff",
            "f2009dba6c2f44e593d191bb32e528a0",
            "370b0131dad94b06a9775ea1c3179b24",
            "f502307cd13d4bd6a983ff78d0fea86b",
            "f24c804901df464bb9f1948583a0ad20",
            "2e304a23bfb045e8ae05982ecd89b9a2",
            "57b8460343fa49da96a7c2e743676d34",
            "90fcfb9f33384a9facde5c699eedef2f",
            "30bc09170c20468facf1a6fb82e29db7",
            "2b4cfa393f3e48a09a81215e198fcadb",
            "3b47ad8ec22a48078b6e1ff9ef5e5aad",
            "cb100550380240409d81ef4035927c0b",
            "4b9c0882cdab4f5686e9f4a3492241cd",
            "d76da1583f934a018be9b25662c9c359",
            "23c8de0a48cb44bea8b55903bb04b39b",
            "b1b4c37847ee46219b49d6e3fd45d983",
            "c4d99e514ca34a6391afb85f42714b21",
            "b81db7b27aa64b7182ed9d693a0a881a",
            "0680c7e1c1fa4527b899233adda77edf",
            "7489595c3d324021bdfee57e5e339249",
            "a93568ca4ada4ccebba44e3653ea1c45"
          ]
        },
        "id": "cv33Q4XjzNQQ",
        "outputId": "f997c519-ee8b-4f10-da9d-e705f7b1783a"
      },
      "execution_count": 4,
      "outputs": [
        {
          "output_type": "stream",
          "name": "stderr",
          "text": [
            "/usr/local/lib/python3.11/dist-packages/huggingface_hub/utils/_auth.py:94: UserWarning: \n",
            "The secret `HF_TOKEN` does not exist in your Colab secrets.\n",
            "To authenticate with the Hugging Face Hub, create a token in your settings tab (https://huggingface.co/settings/tokens), set it as secret in your Google Colab and restart your session.\n",
            "You will be able to reuse this secret in all of your notebooks.\n",
            "Please note that authentication is recommended but still optional to access public models or datasets.\n",
            "  warnings.warn(\n"
          ]
        },
        {
          "output_type": "display_data",
          "data": {
            "text/plain": [
              "config.json:   0%|          | 0.00/313 [00:00<?, ?B/s]"
            ],
            "application/vnd.jupyter.widget-view+json": {
              "version_major": 2,
              "version_minor": 0,
              "model_id": "43200073278a41dd8340b3176c317fc6"
            }
          },
          "metadata": {}
        },
        {
          "output_type": "display_data",
          "data": {
            "text/plain": [
              "vocab.txt:   0%|          | 0.00/213k [00:00<?, ?B/s]"
            ],
            "application/vnd.jupyter.widget-view+json": {
              "version_major": 2,
              "version_minor": 0,
              "model_id": "a207588380b74b238bb0fb39df65150d"
            }
          },
          "metadata": {}
        },
        {
          "output_type": "display_data",
          "data": {
            "text/plain": [
              "pytorch_model.bin:   0%|          | 0.00/436M [00:00<?, ?B/s]"
            ],
            "application/vnd.jupyter.widget-view+json": {
              "version_major": 2,
              "version_minor": 0,
              "model_id": "3b47ad8ec22a48078b6e1ff9ef5e5aad"
            }
          },
          "metadata": {}
        },
        {
          "output_type": "stream",
          "name": "stderr",
          "text": [
            "Some weights of BertForSequenceClassification were not initialized from the model checkpoint at dmis-lab/biobert-base-cased-v1.1 and are newly initialized: ['classifier.bias', 'classifier.weight']\n",
            "You should probably TRAIN this model on a down-stream task to be able to use it for predictions and inference.\n"
          ]
        }
      ]
    },
    {
      "cell_type": "markdown",
      "source": [
        "# Load File"
      ],
      "metadata": {
        "id": "N8HNZX3lzOOn"
      }
    },
    {
      "cell_type": "code",
      "source": [
        "# Load Pre-split Datasets\n",
        "train_path = \"/content/drive/MyDrive/P2/T1/Dataset/non_overlapped/LLM-no-train.csv\"\n",
        "val_path = \"/content/drive/MyDrive/P2/T1/Dataset/non_overlapped/LLM-no-val.csv\"\n",
        "test_path = \"/content/drive/MyDrive/P2/T1/Dataset/non_overlapped/LLM-no-test.csv\"\n",
        "\n",
        "train_data = pd.read_csv(train_path)\n",
        "val_data = pd.read_csv(val_path)\n",
        "test_data = pd.read_csv(test_path)"
      ],
      "metadata": {
        "id": "tXl-d7B8zHlf"
      },
      "execution_count": 5,
      "outputs": []
    },
    {
      "cell_type": "code",
      "source": [
        "# Encode Disease Labels\n",
        "label_encoder = LabelEncoder()\n",
        "train_data['encoded_labels'] = label_encoder.fit_transform(train_data['disease_label'])\n",
        "val_data['encoded_labels'] = label_encoder.transform(val_data['disease_label'])\n",
        "test_data['encoded_labels'] = label_encoder.transform(test_data['disease_label'])\n",
        "\n",
        "train_data = pd.read_csv(train_path)\n",
        "val_data = pd.read_csv(val_path)\n",
        "test_data = pd.read_csv(test_path)\n",
        "\n",
        "# Encode Disease Labels\n",
        "label_encoder = LabelEncoder()\n",
        "train_data['encoded_labels'] = label_encoder.fit_transform(train_data['disease_label'])\n",
        "val_data['encoded_labels'] = label_encoder.transform(val_data['disease_label'])\n",
        "test_data['encoded_labels'] = label_encoder.transform(test_data['disease_label'])\n",
        "\n",
        "num_classes = len(label_encoder.classes_)\n",
        "\n",
        "# Update ClinicalBERT Model for Classification\n",
        "model.num_labels = num_classes  # Update number of labels"
      ],
      "metadata": {
        "id": "SO203fezFuuK"
      },
      "execution_count": 6,
      "outputs": []
    },
    {
      "cell_type": "markdown",
      "source": [
        "# Tokenize Symptoms"
      ],
      "metadata": {
        "id": "fFHP5ahu0CBT"
      }
    },
    {
      "cell_type": "code",
      "source": [
        "# Tokenize Symptoms\n",
        "def tokenize_texts(texts):\n",
        "    return tokenizer(texts.tolist(), padding=True, truncation=True, max_length=128, return_tensors=\"pt\")\n",
        "\n",
        "train_encodings = tokenize_texts(train_data['symptoms'])\n",
        "val_encodings = tokenize_texts(val_data['symptoms'])\n",
        "test_encodings = tokenize_texts(test_data['symptoms'])\n",
        "\n",
        "# Convert labels to tensors\n",
        "train_labels = torch.tensor(train_data['encoded_labels'].tolist())\n",
        "val_labels = torch.tensor(val_data['encoded_labels'].tolist())\n",
        "test_labels = torch.tensor(test_data['encoded_labels'].tolist())\n",
        "\n",
        "# Dataset Class for Fine-Tuning\n",
        "class SymptomDataset(torch.utils.data.Dataset):\n",
        "    def __init__(self, encodings, labels):\n",
        "        self.encodings = encodings\n",
        "        self.labels = labels\n",
        "\n",
        "    def __len__(self):\n",
        "        return len(self.labels)\n",
        "\n",
        "    def __getitem__(self, idx):\n",
        "        item = {key: val[idx] for key, val in self.encodings.items()}\n",
        "        item['labels'] = self.labels[idx]\n",
        "        return item\n",
        "\n",
        "# Create PyTorch Datasets\n",
        "train_dataset = SymptomDataset(train_encodings, train_labels)\n",
        "val_dataset = SymptomDataset(val_encodings, val_labels)\n"
      ],
      "metadata": {
        "id": "uU-J653p0Dhj"
      },
      "execution_count": 7,
      "outputs": []
    },
    {
      "cell_type": "markdown",
      "source": [
        "# Fine-tuning BioBERT with LoRA"
      ],
      "metadata": {
        "id": "8M5A8x1w0FVZ"
      }
    },
    {
      "cell_type": "code",
      "source": [
        "# Fine-Tuning BioBERT\n",
        "training_args = TrainingArguments(\n",
        "    output_dir=\"./results\",\n",
        "    evaluation_strategy=\"epoch\",\n",
        "    logging_strategy=\"steps\",  # Enable logging after a fixed number of steps\n",
        "    logging_steps=10,  # Log training loss every 10 steps\n",
        "    learning_rate=5e-5,\n",
        "    per_device_train_batch_size=32,\n",
        "    per_device_eval_batch_size=128,\n",
        "    num_train_epochs=6,\n",
        "    weight_decay=0.001,\n",
        "    logging_dir=\"./logs\",\n",
        "    save_strategy=\"epoch\",\n",
        "    save_total_limit=2\n",
        ")\n",
        "\n",
        "trainer = Trainer(\n",
        "    model=model,\n",
        "    args=training_args,\n",
        "    train_dataset=train_dataset,\n",
        "    eval_dataset=val_dataset\n",
        ")\n"
      ],
      "metadata": {
        "id": "TNvk1yI60G1E",
        "colab": {
          "base_uri": "https://localhost:8080/"
        },
        "outputId": "5ef3df96-2c4c-4429-e8fa-7e234861633d"
      },
      "execution_count": 8,
      "outputs": [
        {
          "output_type": "stream",
          "name": "stderr",
          "text": [
            "/usr/local/lib/python3.11/dist-packages/transformers/training_args.py:1575: FutureWarning: `evaluation_strategy` is deprecated and will be removed in version 4.46 of 🤗 Transformers. Use `eval_strategy` instead\n",
            "  warnings.warn(\n"
          ]
        }
      ]
    },
    {
      "cell_type": "code",
      "source": [
        "trainer.train()"
      ],
      "metadata": {
        "id": "cbWy5CVq0IvL",
        "colab": {
          "base_uri": "https://localhost:8080/",
          "height": 526
        },
        "outputId": "d2c96483-e39c-42e2-e0fe-18bd4b2e14f1"
      },
      "execution_count": 9,
      "outputs": [
        {
          "output_type": "stream",
          "name": "stderr",
          "text": [
            "\u001b[34m\u001b[1mwandb\u001b[0m: \u001b[33mWARNING\u001b[0m The `run_name` is currently set to the same value as `TrainingArguments.output_dir`. If this was not intended, please specify a different run name by setting the `TrainingArguments.run_name` parameter.\n"
          ]
        },
        {
          "output_type": "display_data",
          "data": {
            "text/plain": [
              "<IPython.core.display.Javascript object>"
            ],
            "application/javascript": [
              "\n",
              "        window._wandbApiKey = new Promise((resolve, reject) => {\n",
              "            function loadScript(url) {\n",
              "            return new Promise(function(resolve, reject) {\n",
              "                let newScript = document.createElement(\"script\");\n",
              "                newScript.onerror = reject;\n",
              "                newScript.onload = resolve;\n",
              "                document.body.appendChild(newScript);\n",
              "                newScript.src = url;\n",
              "            });\n",
              "            }\n",
              "            loadScript(\"https://cdn.jsdelivr.net/npm/postmate/build/postmate.min.js\").then(() => {\n",
              "            const iframe = document.createElement('iframe')\n",
              "            iframe.style.cssText = \"width:0;height:0;border:none\"\n",
              "            document.body.appendChild(iframe)\n",
              "            const handshake = new Postmate({\n",
              "                container: iframe,\n",
              "                url: 'https://wandb.ai/authorize'\n",
              "            });\n",
              "            const timeout = setTimeout(() => reject(\"Couldn't auto authenticate\"), 5000)\n",
              "            handshake.then(function(child) {\n",
              "                child.on('authorize', data => {\n",
              "                    clearTimeout(timeout)\n",
              "                    resolve(data)\n",
              "                });\n",
              "            });\n",
              "            })\n",
              "        });\n",
              "    "
            ]
          },
          "metadata": {}
        },
        {
          "output_type": "stream",
          "name": "stderr",
          "text": [
            "\u001b[34m\u001b[1mwandb\u001b[0m: Logging into wandb.ai. (Learn how to deploy a W&B server locally: https://wandb.me/wandb-server)\n",
            "\u001b[34m\u001b[1mwandb\u001b[0m: You can find your API key in your browser here: https://wandb.ai/authorize\n",
            "wandb: Paste an API key from your profile and hit enter, or press ctrl+c to quit:"
          ]
        },
        {
          "name": "stdout",
          "output_type": "stream",
          "text": [
            " ··········\n"
          ]
        },
        {
          "output_type": "stream",
          "name": "stderr",
          "text": [
            "\u001b[34m\u001b[1mwandb\u001b[0m: Appending key for api.wandb.ai to your netrc file: /root/.netrc\n",
            "\u001b[34m\u001b[1mwandb\u001b[0m: Using wandb-core as the SDK backend.  Please refer to https://wandb.me/wandb-core for more information.\n"
          ]
        },
        {
          "output_type": "display_data",
          "data": {
            "text/plain": [
              "<IPython.core.display.HTML object>"
            ],
            "text/html": [
              "Tracking run with wandb version 0.19.2"
            ]
          },
          "metadata": {}
        },
        {
          "output_type": "display_data",
          "data": {
            "text/plain": [
              "<IPython.core.display.HTML object>"
            ],
            "text/html": [
              "Run data is saved locally in <code>/content/wandb/run-20250124_090949-aufl0jdu</code>"
            ]
          },
          "metadata": {}
        },
        {
          "output_type": "display_data",
          "data": {
            "text/plain": [
              "<IPython.core.display.HTML object>"
            ],
            "text/html": [
              "Syncing run <strong><a href='https://wandb.ai/edmondchongyh-universiti-malaya-students-union/huggingface/runs/aufl0jdu' target=\"_blank\">./results</a></strong> to <a href='https://wandb.ai/edmondchongyh-universiti-malaya-students-union/huggingface' target=\"_blank\">Weights & Biases</a> (<a href='https://wandb.me/developer-guide' target=\"_blank\">docs</a>)<br>"
            ]
          },
          "metadata": {}
        },
        {
          "output_type": "display_data",
          "data": {
            "text/plain": [
              "<IPython.core.display.HTML object>"
            ],
            "text/html": [
              " View project at <a href='https://wandb.ai/edmondchongyh-universiti-malaya-students-union/huggingface' target=\"_blank\">https://wandb.ai/edmondchongyh-universiti-malaya-students-union/huggingface</a>"
            ]
          },
          "metadata": {}
        },
        {
          "output_type": "display_data",
          "data": {
            "text/plain": [
              "<IPython.core.display.HTML object>"
            ],
            "text/html": [
              " View run at <a href='https://wandb.ai/edmondchongyh-universiti-malaya-students-union/huggingface/runs/aufl0jdu' target=\"_blank\">https://wandb.ai/edmondchongyh-universiti-malaya-students-union/huggingface/runs/aufl0jdu</a>"
            ]
          },
          "metadata": {}
        },
        {
          "output_type": "display_data",
          "data": {
            "text/plain": [
              "<IPython.core.display.HTML object>"
            ],
            "text/html": [
              "\n",
              "    <div>\n",
              "      \n",
              "      <progress value='7014' max='7014' style='width:300px; height:20px; vertical-align: middle;'></progress>\n",
              "      [7014/7014 11:12, Epoch 6/6]\n",
              "    </div>\n",
              "    <table border=\"1\" class=\"dataframe\">\n",
              "  <thead>\n",
              " <tr style=\"text-align: left;\">\n",
              "      <th>Epoch</th>\n",
              "      <th>Training Loss</th>\n",
              "      <th>Validation Loss</th>\n",
              "    </tr>\n",
              "  </thead>\n",
              "  <tbody>\n",
              "    <tr>\n",
              "      <td>1</td>\n",
              "      <td>0.036900</td>\n",
              "      <td>0.024992</td>\n",
              "    </tr>\n",
              "    <tr>\n",
              "      <td>2</td>\n",
              "      <td>0.009200</td>\n",
              "      <td>0.017031</td>\n",
              "    </tr>\n",
              "    <tr>\n",
              "      <td>3</td>\n",
              "      <td>0.006200</td>\n",
              "      <td>0.009611</td>\n",
              "    </tr>\n",
              "    <tr>\n",
              "      <td>4</td>\n",
              "      <td>0.020300</td>\n",
              "      <td>0.010083</td>\n",
              "    </tr>\n",
              "    <tr>\n",
              "      <td>5</td>\n",
              "      <td>0.000400</td>\n",
              "      <td>0.005387</td>\n",
              "    </tr>\n",
              "    <tr>\n",
              "      <td>6</td>\n",
              "      <td>0.000300</td>\n",
              "      <td>0.007258</td>\n",
              "    </tr>\n",
              "  </tbody>\n",
              "</table><p>"
            ]
          },
          "metadata": {}
        },
        {
          "output_type": "execute_result",
          "data": {
            "text/plain": [
              "TrainOutput(global_step=7014, training_loss=0.09410825724387395, metrics={'train_runtime': 690.2277, 'train_samples_per_second': 324.971, 'train_steps_per_second': 10.162, 'total_flos': 7726862127638304.0, 'train_loss': 0.09410825724387395, 'epoch': 6.0})"
            ]
          },
          "metadata": {},
          "execution_count": 9
        }
      ]
    },
    {
      "cell_type": "code",
      "source": [
        "# Save Fine-Tuned Model\n",
        "model.save_pretrained(\"/content/drive/MyDrive/P2/T1/Dataset/non_overlapped/LLM + ML/fine_tuned_Biobert\")"
      ],
      "metadata": {
        "id": "Aeyt0bsW0Ok7"
      },
      "execution_count": 10,
      "outputs": []
    },
    {
      "cell_type": "markdown",
      "source": [
        "# Generate ClinicalBERT Embedding for Random Forest"
      ],
      "metadata": {
        "id": "wYtSipsG0hBv"
      }
    },
    {
      "cell_type": "code",
      "source": [
        "# Generate ClinicalBERT Embeddings\n",
        "def generate_embeddings(dataset):\n",
        "    dataloader = torch.utils.data.DataLoader(dataset, batch_size=16)\n",
        "    embeddings = []\n",
        "    model.eval()\n",
        "    with torch.no_grad():\n",
        "        for batch in dataloader:\n",
        "            inputs = {key: batch[key].to(device) for key in ['input_ids', 'attention_mask']}\n",
        "            outputs = model(**inputs)\n",
        "            cls_embedding = outputs.logits.cpu().numpy()  # Extract logits for embedding\n",
        "            embeddings.append(cls_embedding)\n",
        "    return np.vstack(embeddings)\n",
        "\n",
        "print(\"Generating embeddings for training data...\")\n",
        "train_embeddings = generate_embeddings(train_dataset)\n",
        "print(\"Generating embeddings for validation data...\")\n",
        "val_embeddings = generate_embeddings(val_dataset)\n",
        "print(\"Generating embeddings for testing data...\")\n",
        "test_embeddings = generate_embeddings(SymptomDataset(test_encodings, test_labels))"
      ],
      "metadata": {
        "id": "MuGJaJl60jxd",
        "colab": {
          "base_uri": "https://localhost:8080/"
        },
        "outputId": "0c4700cd-d18b-48cd-83eb-c36cd385dbb3"
      },
      "execution_count": 11,
      "outputs": [
        {
          "output_type": "stream",
          "name": "stdout",
          "text": [
            "Generating embeddings for training data...\n",
            "Generating embeddings for validation data...\n",
            "Generating embeddings for testing data...\n"
          ]
        }
      ]
    },
    {
      "cell_type": "markdown",
      "source": [
        "# UMAP (Uniform Manifold Approximation and Projection)"
      ],
      "metadata": {
        "id": "RLTin7ptvxFM"
      }
    },
    {
      "cell_type": "code",
      "source": [
        "!pip install umap-learn"
      ],
      "metadata": {
        "colab": {
          "base_uri": "https://localhost:8080/"
        },
        "id": "kLbcZOMQvyTq",
        "outputId": "db73f572-8f7a-4102-8e3e-201329c76a62"
      },
      "execution_count": 12,
      "outputs": [
        {
          "output_type": "stream",
          "name": "stdout",
          "text": [
            "Collecting umap-learn\n",
            "  Downloading umap_learn-0.5.7-py3-none-any.whl.metadata (21 kB)\n",
            "Requirement already satisfied: numpy>=1.17 in /usr/local/lib/python3.11/dist-packages (from umap-learn) (1.26.4)\n",
            "Requirement already satisfied: scipy>=1.3.1 in /usr/local/lib/python3.11/dist-packages (from umap-learn) (1.13.1)\n",
            "Requirement already satisfied: scikit-learn>=0.22 in /usr/local/lib/python3.11/dist-packages (from umap-learn) (1.6.0)\n",
            "Requirement already satisfied: numba>=0.51.2 in /usr/local/lib/python3.11/dist-packages (from umap-learn) (0.60.0)\n",
            "Collecting pynndescent>=0.5 (from umap-learn)\n",
            "  Downloading pynndescent-0.5.13-py3-none-any.whl.metadata (6.8 kB)\n",
            "Requirement already satisfied: tqdm in /usr/local/lib/python3.11/dist-packages (from umap-learn) (4.67.1)\n",
            "Requirement already satisfied: llvmlite<0.44,>=0.43.0dev0 in /usr/local/lib/python3.11/dist-packages (from numba>=0.51.2->umap-learn) (0.43.0)\n",
            "Requirement already satisfied: joblib>=0.11 in /usr/local/lib/python3.11/dist-packages (from pynndescent>=0.5->umap-learn) (1.4.2)\n",
            "Requirement already satisfied: threadpoolctl>=3.1.0 in /usr/local/lib/python3.11/dist-packages (from scikit-learn>=0.22->umap-learn) (3.5.0)\n",
            "Downloading umap_learn-0.5.7-py3-none-any.whl (88 kB)\n",
            "\u001b[?25l   \u001b[90m━━━━━━━━━━━━━━━━━━━━━━━━━━━━━━━━━━━━━━━━\u001b[0m \u001b[32m0.0/88.8 kB\u001b[0m \u001b[31m?\u001b[0m eta \u001b[36m-:--:--\u001b[0m\r\u001b[2K   \u001b[90m━━━━━━━━━━━━━━━━━━━━━━━━━━━━━━━━━━━━━━━━\u001b[0m \u001b[32m88.8/88.8 kB\u001b[0m \u001b[31m8.1 MB/s\u001b[0m eta \u001b[36m0:00:00\u001b[0m\n",
            "\u001b[?25hDownloading pynndescent-0.5.13-py3-none-any.whl (56 kB)\n",
            "\u001b[?25l   \u001b[90m━━━━━━━━━━━━━━━━━━━━━━━━━━━━━━━━━━━━━━━━\u001b[0m \u001b[32m0.0/56.9 kB\u001b[0m \u001b[31m?\u001b[0m eta \u001b[36m-:--:--\u001b[0m\r\u001b[2K   \u001b[90m━━━━━━━━━━━━━━━━━━━━━━━━━━━━━━━━━━━━━━━━\u001b[0m \u001b[32m56.9/56.9 kB\u001b[0m \u001b[31m5.1 MB/s\u001b[0m eta \u001b[36m0:00:00\u001b[0m\n",
            "\u001b[?25hInstalling collected packages: pynndescent, umap-learn\n",
            "Successfully installed pynndescent-0.5.13 umap-learn-0.5.7\n"
          ]
        }
      ]
    },
    {
      "cell_type": "code",
      "source": [
        "import umap.umap_ as umap\n",
        "import matplotlib.pyplot as plt\n",
        "import numpy as np\n",
        "\n",
        "# Generate test embeddings (ensure this is executed before using UMAP)\n",
        "# test_embeddings should already be generated using your generate_embeddings function.\n",
        "\n",
        "# Convert test labels to NumPy for easier handling\n",
        "labels = test_labels.cpu().numpy()  # Ensure this is defined and matches the test dataset\n",
        "\n",
        "# Reduce dimensions using UMAP\n",
        "print(\"Reducing dimensions using UMAP...\")\n",
        "umap_model = umap.UMAP(n_components=2, random_state=42)\n",
        "reduced_embeddings = umap_model.fit_transform(test_embeddings)\n",
        "\n",
        "# Map numeric labels to disease names\n",
        "disease_names = label_encoder.inverse_transform(labels)  # Map numeric labels to actual disease names\n",
        "\n",
        "# Plot the 2D representation\n",
        "plt.figure(figsize=(12, 10))\n",
        "unique_labels = np.unique(disease_names)\n",
        "\n",
        "for disease in unique_labels:\n",
        "    indices = np.where(disease_names == disease)\n",
        "    plt.scatter(\n",
        "        reduced_embeddings[indices, 0], reduced_embeddings[indices, 1],\n",
        "        label=disease, alpha=0.7\n",
        "    )\n",
        "\n",
        "plt.legend(bbox_to_anchor=(1.05, 1), loc='upper left', fontsize='small')\n",
        "plt.title(\"UMAP Visualization of ClinicalT5 Embeddings on Non-Overlapping\")\n",
        "plt.xlabel(\"UMAP Dimension 1\")\n",
        "plt.ylabel(\"UMAP Dimension 2\")\n",
        "plt.tight_layout()\n",
        "plt.show()\n"
      ],
      "metadata": {
        "colab": {
          "base_uri": "https://localhost:8080/",
          "height": 1000
        },
        "id": "cRnbhg6EvzVP",
        "outputId": "e5a5cabb-e62d-414c-c76e-5e9275d9fc72"
      },
      "execution_count": 13,
      "outputs": [
        {
          "output_type": "stream",
          "name": "stdout",
          "text": [
            "Reducing dimensions using UMAP...\n"
          ]
        },
        {
          "output_type": "stream",
          "name": "stderr",
          "text": [
            "/usr/local/lib/python3.11/dist-packages/sklearn/utils/deprecation.py:151: FutureWarning: 'force_all_finite' was renamed to 'ensure_all_finite' in 1.6 and will be removed in 1.8.\n",
            "  warnings.warn(\n",
            "/usr/local/lib/python3.11/dist-packages/umap/umap_.py:1952: UserWarning: n_jobs value 1 overridden to 1 by setting random_state. Use no seed for parallelism.\n",
            "  warn(\n"
          ]
        },
        {
          "output_type": "display_data",
          "data": {
            "text/plain": [
              "<Figure size 1200x1000 with 1 Axes>"
            ],
            "image/png": "[encoded data removed]"
          },
          "metadata": {}
        }
      ]
    },
    {
      "cell_type": "markdown",
      "source": [
        "# Naive Bayes"
      ],
      "metadata": {
        "id": "1pGLMstX0o8q"
      }
    },
    {
      "cell_type": "code",
      "source": [
        "# Train Naive Bayes\n",
        "nb_model = GaussianNB()\n",
        "nb_model.fit(train_embeddings, train_data['encoded_labels'])\n",
        "\n",
        "# Validate the Model\n",
        "val_preds = nb_model.predict(val_embeddings)\n",
        "val_report = classification_report(val_labels, val_preds, target_names=label_encoder.classes_, output_dict=True)\n",
        "print(\"Validation Report:\")\n",
        "print(pd.DataFrame(val_report))\n",
        "\n",
        "# Test the Model\n",
        "test_preds = nb_model.predict(test_embeddings)\n",
        "test_report = classification_report(test_labels, test_preds, target_names=label_encoder.classes_, output_dict=True)\n",
        "print(\"Test Report:\")\n",
        "print(pd.DataFrame(test_report))"
      ],
      "metadata": {
        "id": "omkCg8wD0lZE",
        "colab": {
          "base_uri": "https://localhost:8080/"
        },
        "outputId": "e920f974-84fb-42c1-a76b-cf5873d45f8f"
      },
      "execution_count": 14,
      "outputs": [
        {
          "output_type": "stream",
          "name": "stdout",
          "text": [
            "Validation Report:\n",
            "           adenocarcinoma    adhesion  affect labile  arthritis  asthma  \\\n",
            "precision             1.0    1.000000            1.0        1.0     1.0   \n",
            "recall                1.0    0.993750            1.0        1.0     1.0   \n",
            "f1-score              1.0    0.996865            1.0        1.0     1.0   \n",
            "support             159.0  160.000000           75.0      123.0    71.0   \n",
            "\n",
            "           benign prostatic hypertrophy  biliary calculus  carcinoma breast  \\\n",
            "precision                           1.0          0.993197               1.0   \n",
            "recall                              1.0          1.000000               1.0   \n",
            "f1-score                            1.0          0.996587               1.0   \n",
            "support                            75.0        146.000000             162.0   \n",
            "\n",
            "           chronic obstructive airway disease   cirrhosis  ...  \\\n",
            "precision                                 1.0    1.000000  ...   \n",
            "recall                                    1.0    0.993827  ...   \n",
            "f1-score                                  1.0    0.996904  ...   \n",
            "support                                 119.0  162.000000  ...   \n",
            "\n",
            "           sickle cell anemia  stenosis aortic valve  tachycardia sinus  \\\n",
            "precision                 1.0                    1.0                1.0   \n",
            "recall                    1.0                    1.0                1.0   \n",
            "f1-score                  1.0                    1.0                1.0   \n",
            "support                 149.0                  146.0              159.0   \n",
            "\n",
            "           thrombocytopaenia  thrombus  tricuspid valve insufficiency  \\\n",
            "precision           0.986486       1.0                            1.0   \n",
            "recall              0.986486       1.0                            1.0   \n",
            "f1-score            0.986486       1.0                            1.0   \n",
            "support            74.000000     148.0                          119.0   \n",
            "\n",
            "           ulcer peptic  accuracy    macro avg  weighted avg  \n",
            "precision           1.0  0.998746     0.998805      0.998753  \n",
            "recall              1.0  0.998746     0.998797      0.998746  \n",
            "f1-score            1.0  0.998746     0.998798      0.998745  \n",
            "support           161.0  0.998746  7974.000000   7974.000000  \n",
            "\n",
            "[4 rows x 62 columns]\n",
            "Test Report:\n",
            "           adenocarcinoma  adhesion  affect labile  arthritis  asthma  \\\n",
            "precision        0.987578       1.0            1.0        1.0     1.0   \n",
            "recall           1.000000       1.0            1.0        1.0     1.0   \n",
            "f1-score         0.993750       1.0            1.0        1.0     1.0   \n",
            "support        159.000000     160.0           75.0      123.0    71.0   \n",
            "\n",
            "           benign prostatic hypertrophy  biliary calculus  carcinoma breast  \\\n",
            "precision                      1.000000               1.0          0.993865   \n",
            "recall                         0.973333               1.0          1.000000   \n",
            "f1-score                       0.986486               1.0          0.996923   \n",
            "support                       75.000000             146.0        162.000000   \n",
            "\n",
            "           chronic obstructive airway disease  cirrhosis  ...  \\\n",
            "precision                                 1.0        1.0  ...   \n",
            "recall                                    1.0        1.0  ...   \n",
            "f1-score                                  1.0        1.0  ...   \n",
            "support                                 119.0      162.0  ...   \n",
            "\n",
            "           sickle cell anemia  stenosis aortic valve  tachycardia sinus  \\\n",
            "precision                 1.0                    1.0                1.0   \n",
            "recall                    1.0                    1.0                1.0   \n",
            "f1-score                  1.0                    1.0                1.0   \n",
            "support                 149.0                  146.0              159.0   \n",
            "\n",
            "           thrombocytopaenia  thrombus  tricuspid valve insufficiency  \\\n",
            "precision           0.986667       1.0                            1.0   \n",
            "recall              1.000000       1.0                            1.0   \n",
            "f1-score            0.993289       1.0                            1.0   \n",
            "support            74.000000     148.0                          119.0   \n",
            "\n",
            "           ulcer peptic  accuracy    macro avg  weighted avg  \n",
            "precision           1.0   0.99837     0.998514      0.998401  \n",
            "recall              1.0   0.99837     0.997804      0.998370  \n",
            "f1-score            1.0   0.99837     0.998143      0.998372  \n",
            "support           161.0   0.99837  7974.000000   7974.000000  \n",
            "\n",
            "[4 rows x 62 columns]\n"
          ]
        }
      ]
    },
    {
      "cell_type": "code",
      "source": [
        "# Save Classification Report to CSV\n",
        "test_report_df = pd.DataFrame(test_report).transpose()\n",
        "test_report_path = \"/content/drive/MyDrive/P2/T1/Dataset/non_overlapped/LLM + ML/Biobert-nb-no-class.csv\"\n",
        "test_report_df.to_csv(test_report_path, index=True)\n",
        "print(f\"Classification report saved to {test_report_path}\")"
      ],
      "metadata": {
        "id": "QPxbI23S0nK7",
        "colab": {
          "base_uri": "https://localhost:8080/"
        },
        "outputId": "5c7fd256-2768-468f-e61e-92c18794d11f"
      },
      "execution_count": 15,
      "outputs": [
        {
          "output_type": "stream",
          "name": "stdout",
          "text": [
            "Classification report saved to /content/drive/MyDrive/P2/T1/Dataset/non_overlapped/LLM + ML/Biobert-nb-no-class.csv\n"
          ]
        }
      ]
    },
    {
      "cell_type": "markdown",
      "source": [
        "# Random Forest"
      ],
      "metadata": {
        "id": "N0pP4bNjYNRf"
      }
    },
    {
      "cell_type": "code",
      "source": [
        "from sklearn.ensemble import RandomForestClassifier\n",
        "# Train Random Forest on Embeddings\n",
        "rf_model = RandomForestClassifier(n_estimators=100, random_state=42)\n",
        "rf_model.fit(train_embeddings, train_data['encoded_labels'])\n",
        "\n",
        "# Validate the Model\n",
        "val_preds = rf_model.predict(val_embeddings)\n",
        "val_report = classification_report(val_labels, val_preds, target_names=label_encoder.classes_, output_dict=True)\n",
        "print(\"Validation Report:\")\n",
        "print(pd.DataFrame(val_report))\n",
        "\n",
        "# Test the Model\n",
        "test_preds = rf_model.predict(test_embeddings)\n",
        "test_report = classification_report(test_labels, test_preds, target_names=label_encoder.classes_, output_dict=True)\n",
        "print(\"Test Report:\")\n",
        "print(pd.DataFrame(test_report))\n"
      ],
      "metadata": {
        "colab": {
          "base_uri": "https://localhost:8080/"
        },
        "id": "fIhomfBaYOig",
        "outputId": "f88a4703-7d63-4aea-8068-d19616b8b56d"
      },
      "execution_count": 16,
      "outputs": [
        {
          "output_type": "stream",
          "name": "stdout",
          "text": [
            "Validation Report:\n",
            "           adenocarcinoma    adhesion  affect labile  arthritis  asthma  \\\n",
            "precision             1.0    1.000000            1.0        1.0     1.0   \n",
            "recall                1.0    0.993750            1.0        1.0     1.0   \n",
            "f1-score              1.0    0.996865            1.0        1.0     1.0   \n",
            "support             159.0  160.000000           75.0      123.0    71.0   \n",
            "\n",
            "           benign prostatic hypertrophy  biliary calculus  carcinoma breast  \\\n",
            "precision                           1.0          0.993197               1.0   \n",
            "recall                              1.0          1.000000               1.0   \n",
            "f1-score                            1.0          0.996587               1.0   \n",
            "support                            75.0        146.000000             162.0   \n",
            "\n",
            "           chronic obstructive airway disease   cirrhosis  ...  \\\n",
            "precision                                 1.0    1.000000  ...   \n",
            "recall                                    1.0    0.993827  ...   \n",
            "f1-score                                  1.0    0.996904  ...   \n",
            "support                                 119.0  162.000000  ...   \n",
            "\n",
            "           sickle cell anemia  stenosis aortic valve  tachycardia sinus  \\\n",
            "precision                 1.0                    1.0                1.0   \n",
            "recall                    1.0                    1.0                1.0   \n",
            "f1-score                  1.0                    1.0                1.0   \n",
            "support                 149.0                  146.0              159.0   \n",
            "\n",
            "           thrombocytopaenia  thrombus  tricuspid valve insufficiency  \\\n",
            "precision           1.000000       1.0                            1.0   \n",
            "recall              0.986486       1.0                            1.0   \n",
            "f1-score            0.993197       1.0                            1.0   \n",
            "support            74.000000     148.0                          119.0   \n",
            "\n",
            "           ulcer peptic  accuracy    macro avg  weighted avg  \n",
            "precision           1.0  0.998871     0.999028      0.998878  \n",
            "recall              1.0  0.998871     0.998914      0.998871  \n",
            "f1-score            1.0  0.998871     0.998967      0.998870  \n",
            "support           161.0  0.998871  7974.000000   7974.000000  \n",
            "\n",
            "[4 rows x 62 columns]\n",
            "Test Report:\n",
            "           adenocarcinoma  adhesion  affect labile  arthritis  asthma  \\\n",
            "precision        0.993750       1.0            1.0        1.0     1.0   \n",
            "recall           1.000000       1.0            1.0        1.0     1.0   \n",
            "f1-score         0.996865       1.0            1.0        1.0     1.0   \n",
            "support        159.000000     160.0           75.0      123.0    71.0   \n",
            "\n",
            "           benign prostatic hypertrophy  biliary calculus  carcinoma breast  \\\n",
            "precision                      1.000000               1.0          0.993865   \n",
            "recall                         0.973333               1.0          1.000000   \n",
            "f1-score                       0.986486               1.0          0.996923   \n",
            "support                       75.000000             146.0        162.000000   \n",
            "\n",
            "           chronic obstructive airway disease  cirrhosis  ...  \\\n",
            "precision                            0.991667        1.0  ...   \n",
            "recall                               1.000000        1.0  ...   \n",
            "f1-score                             0.995816        1.0  ...   \n",
            "support                            119.000000      162.0  ...   \n",
            "\n",
            "           sickle cell anemia  stenosis aortic valve  tachycardia sinus  \\\n",
            "precision                 1.0                    1.0                1.0   \n",
            "recall                    1.0                    1.0                1.0   \n",
            "f1-score                  1.0                    1.0                1.0   \n",
            "support                 149.0                  146.0              159.0   \n",
            "\n",
            "           thrombocytopaenia  thrombus  tricuspid valve insufficiency  \\\n",
            "precision           0.986667       1.0                            1.0   \n",
            "recall              1.000000       1.0                            1.0   \n",
            "f1-score            0.993289       1.0                            1.0   \n",
            "support            74.000000     148.0                          119.0   \n",
            "\n",
            "           ulcer peptic  accuracy    macro avg  weighted avg  \n",
            "precision           1.0   0.99837     0.998419      0.998391  \n",
            "recall              1.0   0.99837     0.997829      0.998370  \n",
            "f1-score            1.0   0.99837     0.998111      0.998370  \n",
            "support           161.0   0.99837  7974.000000   7974.000000  \n",
            "\n",
            "[4 rows x 62 columns]\n"
          ]
        }
      ]
    },
    {
      "cell_type": "code",
      "source": [
        "# Save Classification Report to CSV\n",
        "test_report_df = pd.DataFrame(test_report).transpose()\n",
        "test_report_path = \"/content/drive/MyDrive/P2/T1/Dataset/non_overlapped/LLM + ML/Biobert-rf-no-class.csv\"\n",
        "test_report_df.to_csv(test_report_path, index=True)\n",
        "print(f\"Classification report saved to {test_report_path}\")"
      ],
      "metadata": {
        "colab": {
          "base_uri": "https://localhost:8080/"
        },
        "id": "DMvliuFkYQ5m",
        "outputId": "98381fef-68e5-4c81-f429-1c65e32fe542"
      },
      "execution_count": 17,
      "outputs": [
        {
          "output_type": "stream",
          "name": "stdout",
          "text": [
            "Classification report saved to /content/drive/MyDrive/P2/T1/Dataset/non_overlapped/LLM + ML/Biobert-rf-no-class.csv\n"
          ]
        }
      ]
    },
    {
      "cell_type": "markdown",
      "source": [
        "# Support Vector Classifier"
      ],
      "metadata": {
        "id": "_wRpdsTwYnGG"
      }
    },
    {
      "cell_type": "code",
      "source": [
        "# Train Support Vector Classifier (SVC) on Embeddings\n",
        "from sklearn.svm import SVC\n",
        "\n",
        "svc_model = SVC(kernel='linear', random_state=42)  # You can choose other kernels like 'rbf' or 'poly'\n",
        "svc_model.fit(train_embeddings, train_data['encoded_labels'])\n",
        "\n",
        "# Validate the Model\n",
        "val_preds = svc_model.predict(val_embeddings)\n",
        "val_report = classification_report(val_labels, val_preds, target_names=label_encoder.classes_, output_dict=True)\n",
        "print(\"Validation Report:\")\n",
        "print(pd.DataFrame(val_report))\n",
        "\n",
        "# Test the Model\n",
        "test_preds = svc_model.predict(test_embeddings)\n",
        "test_report = classification_report(test_labels, test_preds, target_names=label_encoder.classes_, output_dict=True)\n",
        "print(\"Test Report:\")\n",
        "print(pd.DataFrame(test_report))\n"
      ],
      "metadata": {
        "colab": {
          "base_uri": "https://localhost:8080/"
        },
        "id": "Uz9L0yEnYoEV",
        "outputId": "9fc0c577-9329-47ab-fc16-f0fcc25591d1"
      },
      "execution_count": 18,
      "outputs": [
        {
          "output_type": "stream",
          "name": "stdout",
          "text": [
            "Validation Report:\n",
            "           adenocarcinoma    adhesion  affect labile  arthritis  asthma  \\\n",
            "precision             1.0    1.000000            1.0        1.0     1.0   \n",
            "recall                1.0    0.993750            1.0        1.0     1.0   \n",
            "f1-score              1.0    0.996865            1.0        1.0     1.0   \n",
            "support             159.0  160.000000           75.0      123.0    71.0   \n",
            "\n",
            "           benign prostatic hypertrophy  biliary calculus  carcinoma breast  \\\n",
            "precision                           1.0          0.986486               1.0   \n",
            "recall                              1.0          1.000000               1.0   \n",
            "f1-score                            1.0          0.993197               1.0   \n",
            "support                            75.0        146.000000             162.0   \n",
            "\n",
            "           chronic obstructive airway disease   cirrhosis  ...  \\\n",
            "precision                                 1.0    1.000000  ...   \n",
            "recall                                    1.0    0.993827  ...   \n",
            "f1-score                                  1.0    0.996904  ...   \n",
            "support                                 119.0  162.000000  ...   \n",
            "\n",
            "           sickle cell anemia  stenosis aortic valve  tachycardia sinus  \\\n",
            "precision                 1.0                    1.0                1.0   \n",
            "recall                    1.0                    1.0                1.0   \n",
            "f1-score                  1.0                    1.0                1.0   \n",
            "support                 149.0                  146.0              159.0   \n",
            "\n",
            "           thrombocytopaenia  thrombus  tricuspid valve insufficiency  \\\n",
            "precision           1.000000       1.0                            1.0   \n",
            "recall              0.986486       1.0                            1.0   \n",
            "f1-score            0.993197       1.0                            1.0   \n",
            "support            74.000000     148.0                          119.0   \n",
            "\n",
            "           ulcer peptic  accuracy    macro avg  weighted avg  \n",
            "precision           1.0  0.998746     0.998923      0.998756  \n",
            "recall              1.0  0.998746     0.998809      0.998746  \n",
            "f1-score            1.0  0.998746     0.998861      0.998745  \n",
            "support           161.0  0.998746  7974.000000   7974.000000  \n",
            "\n",
            "[4 rows x 62 columns]\n",
            "Test Report:\n",
            "           adenocarcinoma  adhesion  affect labile  arthritis  asthma  \\\n",
            "precision             1.0       1.0            1.0        1.0     1.0   \n",
            "recall                1.0       1.0            1.0        1.0     1.0   \n",
            "f1-score              1.0       1.0            1.0        1.0     1.0   \n",
            "support             159.0     160.0           75.0      123.0    71.0   \n",
            "\n",
            "           benign prostatic hypertrophy  biliary calculus  carcinoma breast  \\\n",
            "precision                      1.000000               1.0          0.993865   \n",
            "recall                         0.973333               1.0          1.000000   \n",
            "f1-score                       0.986486               1.0          0.996923   \n",
            "support                       75.000000             146.0        162.000000   \n",
            "\n",
            "           chronic obstructive airway disease  cirrhosis  ...  \\\n",
            "precision                            0.991667        1.0  ...   \n",
            "recall                               1.000000        1.0  ...   \n",
            "f1-score                             0.995816        1.0  ...   \n",
            "support                            119.000000      162.0  ...   \n",
            "\n",
            "           sickle cell anemia  stenosis aortic valve  tachycardia sinus  \\\n",
            "precision                 1.0                    1.0                1.0   \n",
            "recall                    1.0                    1.0                1.0   \n",
            "f1-score                  1.0                    1.0                1.0   \n",
            "support                 149.0                  146.0              159.0   \n",
            "\n",
            "           thrombocytopaenia  thrombus  tricuspid valve insufficiency  \\\n",
            "precision           0.986667       1.0                            1.0   \n",
            "recall              1.000000       1.0                            1.0   \n",
            "f1-score            0.993289       1.0                            1.0   \n",
            "support            74.000000     148.0                          119.0   \n",
            "\n",
            "           ulcer peptic  accuracy    macro avg  weighted avg  \n",
            "precision           1.0  0.998495     0.998525      0.998516  \n",
            "recall              1.0  0.998495     0.997966      0.998495  \n",
            "f1-score            1.0  0.998495     0.998233      0.998496  \n",
            "support           161.0  0.998495  7974.000000   7974.000000  \n",
            "\n",
            "[4 rows x 62 columns]\n"
          ]
        }
      ]
    },
    {
      "cell_type": "code",
      "source": [
        "# Save Classification Report to CSV\n",
        "test_report_df = pd.DataFrame(test_report).transpose()\n",
        "test_report_path = \"/content/drive/MyDrive/P2/T1/Dataset/non_overlapped/LLM + ML/Biobert-svc-no-class.csv\"\n",
        "test_report_df.to_csv(test_report_path, index=True)\n",
        "print(f\"Classification report saved to {test_report_path}\")"
      ],
      "metadata": {
        "colab": {
          "base_uri": "https://localhost:8080/"
        },
        "id": "lidoZSktY4Jb",
        "outputId": "2e7cb27b-4bfd-4606-a80c-096ab16719b3"
      },
      "execution_count": 19,
      "outputs": [
        {
          "output_type": "stream",
          "name": "stdout",
          "text": [
            "Classification report saved to /content/drive/MyDrive/P2/T1/Dataset/non_overlapped/LLM + ML/Biobert-svc-no-class.csv\n"
          ]
        }
      ]
    }
  ]
}
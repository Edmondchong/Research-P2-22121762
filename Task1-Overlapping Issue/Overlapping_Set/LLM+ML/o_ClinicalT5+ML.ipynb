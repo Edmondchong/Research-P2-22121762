{
  "nbformat": 4,
  "nbformat_minor": 0,
  "metadata": {
    "colab": {
      "provenance": [],
      "machine_shape": "hm",
      "gpuType": "A100"
    },
    "kernelspec": {
      "name": "python3",
      "display_name": "Python 3"
    },
    "language_info": {
      "name": "python"
    },
    "accelerator": "GPU",
    "widgets": {
      "application/vnd.jupyter.widget-state+json": {
        "e8c51d9b04c84040969367a3affa1e51": {
          "model_module": "@jupyter-widgets/controls",
          "model_name": "HBoxModel",
          "model_module_version": "1.5.0",
          "state": {
            "_dom_classes": [],
            "_model_module": "@jupyter-widgets/controls",
            "_model_module_version": "1.5.0",
            "_model_name": "HBoxModel",
            "_view_count": null,
            "_view_module": "@jupyter-widgets/controls",
            "_view_module_version": "1.5.0",
            "_view_name": "HBoxView",
            "box_style": "",
            "children": [
              "IPY_MODEL_c78f02ec9a0a470fb773f65d5bb7551f",
              "IPY_MODEL_b32b1617baa24690baf2b05e90d2942a",
              "IPY_MODEL_9444c7c56c3c4e4e8ea7d1ede25c4590"
            ],
            "layout": "IPY_MODEL_dad70ab0c11a4695b64be4c5060680d9"
          }
        },
        "c78f02ec9a0a470fb773f65d5bb7551f": {
          "model_module": "@jupyter-widgets/controls",
          "model_name": "HTMLModel",
          "model_module_version": "1.5.0",
          "state": {
            "_dom_classes": [],
            "_model_module": "@jupyter-widgets/controls",
            "_model_module_version": "1.5.0",
            "_model_name": "HTMLModel",
            "_view_count": null,
            "_view_module": "@jupyter-widgets/controls",
            "_view_module_version": "1.5.0",
            "_view_name": "HTMLView",
            "description": "",
            "description_tooltip": null,
            "layout": "IPY_MODEL_cccc39eb15414fa98e4af0b0ad1d30f2",
            "placeholder": "​",
            "style": "IPY_MODEL_f00e87d78c32429b91f3679c89845fa7",
            "value": "tokenizer_config.json: 100%"
          }
        },
        "b32b1617baa24690baf2b05e90d2942a": {
          "model_module": "@jupyter-widgets/controls",
          "model_name": "FloatProgressModel",
          "model_module_version": "1.5.0",
          "state": {
            "_dom_classes": [],
            "_model_module": "@jupyter-widgets/controls",
            "_model_module_version": "1.5.0",
            "_model_name": "FloatProgressModel",
            "_view_count": null,
            "_view_module": "@jupyter-widgets/controls",
            "_view_module_version": "1.5.0",
            "_view_name": "ProgressView",
            "bar_style": "success",
            "description": "",
            "description_tooltip": null,
            "layout": "IPY_MODEL_40c5a9ee00124e8aadefd2dcd0b3342c",
            "max": 20774,
            "min": 0,
            "orientation": "horizontal",
            "style": "IPY_MODEL_83596f8648fd4e27bbeb655a2b2d5109",
            "value": 20774
          }
        },
        "9444c7c56c3c4e4e8ea7d1ede25c4590": {
          "model_module": "@jupyter-widgets/controls",
          "model_name": "HTMLModel",
          "model_module_version": "1.5.0",
          "state": {
            "_dom_classes": [],
            "_model_module": "@jupyter-widgets/controls",
            "_model_module_version": "1.5.0",
            "_model_name": "HTMLModel",
            "_view_count": null,
            "_view_module": "@jupyter-widgets/controls",
            "_view_module_version": "1.5.0",
            "_view_name": "HTMLView",
            "description": "",
            "description_tooltip": null,
            "layout": "IPY_MODEL_0530c5e88b464699a173dbd4b64deb53",
            "placeholder": "​",
            "style": "IPY_MODEL_f04128c98a6343a49c7922ab6b5dd413",
            "value": " 20.8k/20.8k [00:00&lt;00:00, 1.84MB/s]"
          }
        },
        "dad70ab0c11a4695b64be4c5060680d9": {
          "model_module": "@jupyter-widgets/base",
          "model_name": "LayoutModel",
          "model_module_version": "1.2.0",
          "state": {
            "_model_module": "@jupyter-widgets/base",
            "_model_module_version": "1.2.0",
            "_model_name": "LayoutModel",
            "_view_count": null,
            "_view_module": "@jupyter-widgets/base",
            "_view_module_version": "1.2.0",
            "_view_name": "LayoutView",
            "align_content": null,
            "align_items": null,
            "align_self": null,
            "border": null,
            "bottom": null,
            "display": null,
            "flex": null,
            "flex_flow": null,
            "grid_area": null,
            "grid_auto_columns": null,
            "grid_auto_flow": null,
            "grid_auto_rows": null,
            "grid_column": null,
            "grid_gap": null,
            "grid_row": null,
            "grid_template_areas": null,
            "grid_template_columns": null,
            "grid_template_rows": null,
            "height": null,
            "justify_content": null,
            "justify_items": null,
            "left": null,
            "margin": null,
            "max_height": null,
            "max_width": null,
            "min_height": null,
            "min_width": null,
            "object_fit": null,
            "object_position": null,
            "order": null,
            "overflow": null,
            "overflow_x": null,
            "overflow_y": null,
            "padding": null,
            "right": null,
            "top": null,
            "visibility": null,
            "width": null
          }
        },
        "cccc39eb15414fa98e4af0b0ad1d30f2": {
          "model_module": "@jupyter-widgets/base",
          "model_name": "LayoutModel",
          "model_module_version": "1.2.0",
          "state": {
            "_model_module": "@jupyter-widgets/base",
            "_model_module_version": "1.2.0",
            "_model_name": "LayoutModel",
            "_view_count": null,
            "_view_module": "@jupyter-widgets/base",
            "_view_module_version": "1.2.0",
            "_view_name": "LayoutView",
            "align_content": null,
            "align_items": null,
            "align_self": null,
            "border": null,
            "bottom": null,
            "display": null,
            "flex": null,
            "flex_flow": null,
            "grid_area": null,
            "grid_auto_columns": null,
            "grid_auto_flow": null,
            "grid_auto_rows": null,
            "grid_column": null,
            "grid_gap": null,
            "grid_row": null,
            "grid_template_areas": null,
            "grid_template_columns": null,
            "grid_template_rows": null,
            "height": null,
            "justify_content": null,
            "justify_items": null,
            "left": null,
            "margin": null,
            "max_height": null,
            "max_width": null,
            "min_height": null,
            "min_width": null,
            "object_fit": null,
            "object_position": null,
            "order": null,
            "overflow": null,
            "overflow_x": null,
            "overflow_y": null,
            "padding": null,
            "right": null,
            "top": null,
            "visibility": null,
            "width": null
          }
        },
        "f00e87d78c32429b91f3679c89845fa7": {
          "model_module": "@jupyter-widgets/controls",
          "model_name": "DescriptionStyleModel",
          "model_module_version": "1.5.0",
          "state": {
            "_model_module": "@jupyter-widgets/controls",
            "_model_module_version": "1.5.0",
            "_model_name": "DescriptionStyleModel",
            "_view_count": null,
            "_view_module": "@jupyter-widgets/base",
            "_view_module_version": "1.2.0",
            "_view_name": "StyleView",
            "description_width": ""
          }
        },
        "40c5a9ee00124e8aadefd2dcd0b3342c": {
          "model_module": "@jupyter-widgets/base",
          "model_name": "LayoutModel",
          "model_module_version": "1.2.0",
          "state": {
            "_model_module": "@jupyter-widgets/base",
            "_model_module_version": "1.2.0",
            "_model_name": "LayoutModel",
            "_view_count": null,
            "_view_module": "@jupyter-widgets/base",
            "_view_module_version": "1.2.0",
            "_view_name": "LayoutView",
            "align_content": null,
            "align_items": null,
            "align_self": null,
            "border": null,
            "bottom": null,
            "display": null,
            "flex": null,
            "flex_flow": null,
            "grid_area": null,
            "grid_auto_columns": null,
            "grid_auto_flow": null,
            "grid_auto_rows": null,
            "grid_column": null,
            "grid_gap": null,
            "grid_row": null,
            "grid_template_areas": null,
            "grid_template_columns": null,
            "grid_template_rows": null,
            "height": null,
            "justify_content": null,
            "justify_items": null,
            "left": null,
            "margin": null,
            "max_height": null,
            "max_width": null,
            "min_height": null,
            "min_width": null,
            "object_fit": null,
            "object_position": null,
            "order": null,
            "overflow": null,
            "overflow_x": null,
            "overflow_y": null,
            "padding": null,
            "right": null,
            "top": null,
            "visibility": null,
            "width": null
          }
        },
        "83596f8648fd4e27bbeb655a2b2d5109": {
          "model_module": "@jupyter-widgets/controls",
          "model_name": "ProgressStyleModel",
          "model_module_version": "1.5.0",
          "state": {
            "_model_module": "@jupyter-widgets/controls",
            "_model_module_version": "1.5.0",
            "_model_name": "ProgressStyleModel",
            "_view_count": null,
            "_view_module": "@jupyter-widgets/base",
            "_view_module_version": "1.2.0",
            "_view_name": "StyleView",
            "bar_color": null,
            "description_width": ""
          }
        },
        "0530c5e88b464699a173dbd4b64deb53": {
          "model_module": "@jupyter-widgets/base",
          "model_name": "LayoutModel",
          "model_module_version": "1.2.0",
          "state": {
            "_model_module": "@jupyter-widgets/base",
            "_model_module_version": "1.2.0",
            "_model_name": "LayoutModel",
            "_view_count": null,
            "_view_module": "@jupyter-widgets/base",
            "_view_module_version": "1.2.0",
            "_view_name": "LayoutView",
            "align_content": null,
            "align_items": null,
            "align_self": null,
            "border": null,
            "bottom": null,
            "display": null,
            "flex": null,
            "flex_flow": null,
            "grid_area": null,
            "grid_auto_columns": null,
            "grid_auto_flow": null,
            "grid_auto_rows": null,
            "grid_column": null,
            "grid_gap": null,
            "grid_row": null,
            "grid_template_areas": null,
            "grid_template_columns": null,
            "grid_template_rows": null,
            "height": null,
            "justify_content": null,
            "justify_items": null,
            "left": null,
            "margin": null,
            "max_height": null,
            "max_width": null,
            "min_height": null,
            "min_width": null,
            "object_fit": null,
            "object_position": null,
            "order": null,
            "overflow": null,
            "overflow_x": null,
            "overflow_y": null,
            "padding": null,
            "right": null,
            "top": null,
            "visibility": null,
            "width": null
          }
        },
        "f04128c98a6343a49c7922ab6b5dd413": {
          "model_module": "@jupyter-widgets/controls",
          "model_name": "DescriptionStyleModel",
          "model_module_version": "1.5.0",
          "state": {
            "_model_module": "@jupyter-widgets/controls",
            "_model_module_version": "1.5.0",
            "_model_name": "DescriptionStyleModel",
            "_view_count": null,
            "_view_module": "@jupyter-widgets/base",
            "_view_module_version": "1.2.0",
            "_view_name": "StyleView",
            "description_width": ""
          }
        },
        "e0459b7b28d74f1ea7632b5ef0ed7de6": {
          "model_module": "@jupyter-widgets/controls",
          "model_name": "HBoxModel",
          "model_module_version": "1.5.0",
          "state": {
            "_dom_classes": [],
            "_model_module": "@jupyter-widgets/controls",
            "_model_module_version": "1.5.0",
            "_model_name": "HBoxModel",
            "_view_count": null,
            "_view_module": "@jupyter-widgets/controls",
            "_view_module_version": "1.5.0",
            "_view_name": "HBoxView",
            "box_style": "",
            "children": [
              "IPY_MODEL_8aa801a0045f40019d07b4eec80c7f48",
              "IPY_MODEL_ed189cc513274cc6ae8510cec106c34f",
              "IPY_MODEL_289a344956a645f5b54ea4b9cd8d9fbc"
            ],
            "layout": "IPY_MODEL_63a8c02a98fc4a818ea74a2d8e7b063a"
          }
        },
        "8aa801a0045f40019d07b4eec80c7f48": {
          "model_module": "@jupyter-widgets/controls",
          "model_name": "HTMLModel",
          "model_module_version": "1.5.0",
          "state": {
            "_dom_classes": [],
            "_model_module": "@jupyter-widgets/controls",
            "_model_module_version": "1.5.0",
            "_model_name": "HTMLModel",
            "_view_count": null,
            "_view_module": "@jupyter-widgets/controls",
            "_view_module_version": "1.5.0",
            "_view_name": "HTMLView",
            "description": "",
            "description_tooltip": null,
            "layout": "IPY_MODEL_01ee528ca9104f53989dca18b837c771",
            "placeholder": "​",
            "style": "IPY_MODEL_33aaa2ce36454d339da9fc3f5d8b5c22",
            "value": "tokenizer.json: 100%"
          }
        },
        "ed189cc513274cc6ae8510cec106c34f": {
          "model_module": "@jupyter-widgets/controls",
          "model_name": "FloatProgressModel",
          "model_module_version": "1.5.0",
          "state": {
            "_dom_classes": [],
            "_model_module": "@jupyter-widgets/controls",
            "_model_module_version": "1.5.0",
            "_model_name": "FloatProgressModel",
            "_view_count": null,
            "_view_module": "@jupyter-widgets/controls",
            "_view_module_version": "1.5.0",
            "_view_name": "ProgressView",
            "bar_style": "success",
            "description": "",
            "description_tooltip": null,
            "layout": "IPY_MODEL_8e0f9f2090c34a90b623328e48e070b2",
            "max": 2422289,
            "min": 0,
            "orientation": "horizontal",
            "style": "IPY_MODEL_a6958d80c4b94336a904a3250506f685",
            "value": 2422289
          }
        },
        "289a344956a645f5b54ea4b9cd8d9fbc": {
          "model_module": "@jupyter-widgets/controls",
          "model_name": "HTMLModel",
          "model_module_version": "1.5.0",
          "state": {
            "_dom_classes": [],
            "_model_module": "@jupyter-widgets/controls",
            "_model_module_version": "1.5.0",
            "_model_name": "HTMLModel",
            "_view_count": null,
            "_view_module": "@jupyter-widgets/controls",
            "_view_module_version": "1.5.0",
            "_view_name": "HTMLView",
            "description": "",
            "description_tooltip": null,
            "layout": "IPY_MODEL_56ad0c43813348f0b1b58ce101e57d4c",
            "placeholder": "​",
            "style": "IPY_MODEL_9644071872634c14add38e47b28dbd80",
            "value": " 2.42M/2.42M [00:01&lt;00:00, 2.25MB/s]"
          }
        },
        "63a8c02a98fc4a818ea74a2d8e7b063a": {
          "model_module": "@jupyter-widgets/base",
          "model_name": "LayoutModel",
          "model_module_version": "1.2.0",
          "state": {
            "_model_module": "@jupyter-widgets/base",
            "_model_module_version": "1.2.0",
            "_model_name": "LayoutModel",
            "_view_count": null,
            "_view_module": "@jupyter-widgets/base",
            "_view_module_version": "1.2.0",
            "_view_name": "LayoutView",
            "align_content": null,
            "align_items": null,
            "align_self": null,
            "border": null,
            "bottom": null,
            "display": null,
            "flex": null,
            "flex_flow": null,
            "grid_area": null,
            "grid_auto_columns": null,
            "grid_auto_flow": null,
            "grid_auto_rows": null,
            "grid_column": null,
            "grid_gap": null,
            "grid_row": null,
            "grid_template_areas": null,
            "grid_template_columns": null,
            "grid_template_rows": null,
            "height": null,
            "justify_content": null,
            "justify_items": null,
            "left": null,
            "margin": null,
            "max_height": null,
            "max_width": null,
            "min_height": null,
            "min_width": null,
            "object_fit": null,
            "object_position": null,
            "order": null,
            "overflow": null,
            "overflow_x": null,
            "overflow_y": null,
            "padding": null,
            "right": null,
            "top": null,
            "visibility": null,
            "width": null
          }
        },
        "01ee528ca9104f53989dca18b837c771": {
          "model_module": "@jupyter-widgets/base",
          "model_name": "LayoutModel",
          "model_module_version": "1.2.0",
          "state": {
            "_model_module": "@jupyter-widgets/base",
            "_model_module_version": "1.2.0",
            "_model_name": "LayoutModel",
            "_view_count": null,
            "_view_module": "@jupyter-widgets/base",
            "_view_module_version": "1.2.0",
            "_view_name": "LayoutView",
            "align_content": null,
            "align_items": null,
            "align_self": null,
            "border": null,
            "bottom": null,
            "display": null,
            "flex": null,
            "flex_flow": null,
            "grid_area": null,
            "grid_auto_columns": null,
            "grid_auto_flow": null,
            "grid_auto_rows": null,
            "grid_column": null,
            "grid_gap": null,
            "grid_row": null,
            "grid_template_areas": null,
            "grid_template_columns": null,
            "grid_template_rows": null,
            "height": null,
            "justify_content": null,
            "justify_items": null,
            "left": null,
            "margin": null,
            "max_height": null,
            "max_width": null,
            "min_height": null,
            "min_width": null,
            "object_fit": null,
            "object_position": null,
            "order": null,
            "overflow": null,
            "overflow_x": null,
            "overflow_y": null,
            "padding": null,
            "right": null,
            "top": null,
            "visibility": null,
            "width": null
          }
        },
        "33aaa2ce36454d339da9fc3f5d8b5c22": {
          "model_module": "@jupyter-widgets/controls",
          "model_name": "DescriptionStyleModel",
          "model_module_version": "1.5.0",
          "state": {
            "_model_module": "@jupyter-widgets/controls",
            "_model_module_version": "1.5.0",
            "_model_name": "DescriptionStyleModel",
            "_view_count": null,
            "_view_module": "@jupyter-widgets/base",
            "_view_module_version": "1.2.0",
            "_view_name": "StyleView",
            "description_width": ""
          }
        },
        "8e0f9f2090c34a90b623328e48e070b2": {
          "model_module": "@jupyter-widgets/base",
          "model_name": "LayoutModel",
          "model_module_version": "1.2.0",
          "state": {
            "_model_module": "@jupyter-widgets/base",
            "_model_module_version": "1.2.0",
            "_model_name": "LayoutModel",
            "_view_count": null,
            "_view_module": "@jupyter-widgets/base",
            "_view_module_version": "1.2.0",
            "_view_name": "LayoutView",
            "align_content": null,
            "align_items": null,
            "align_self": null,
            "border": null,
            "bottom": null,
            "display": null,
            "flex": null,
            "flex_flow": null,
            "grid_area": null,
            "grid_auto_columns": null,
            "grid_auto_flow": null,
            "grid_auto_rows": null,
            "grid_column": null,
            "grid_gap": null,
            "grid_row": null,
            "grid_template_areas": null,
            "grid_template_columns": null,
            "grid_template_rows": null,
            "height": null,
            "justify_content": null,
            "justify_items": null,
            "left": null,
            "margin": null,
            "max_height": null,
            "max_width": null,
            "min_height": null,
            "min_width": null,
            "object_fit": null,
            "object_position": null,
            "order": null,
            "overflow": null,
            "overflow_x": null,
            "overflow_y": null,
            "padding": null,
            "right": null,
            "top": null,
            "visibility": null,
            "width": null
          }
        },
        "a6958d80c4b94336a904a3250506f685": {
          "model_module": "@jupyter-widgets/controls",
          "model_name": "ProgressStyleModel",
          "model_module_version": "1.5.0",
          "state": {
            "_model_module": "@jupyter-widgets/controls",
            "_model_module_version": "1.5.0",
            "_model_name": "ProgressStyleModel",
            "_view_count": null,
            "_view_module": "@jupyter-widgets/base",
            "_view_module_version": "1.2.0",
            "_view_name": "StyleView",
            "bar_color": null,
            "description_width": ""
          }
        },
        "56ad0c43813348f0b1b58ce101e57d4c": {
          "model_module": "@jupyter-widgets/base",
          "model_name": "LayoutModel",
          "model_module_version": "1.2.0",
          "state": {
            "_model_module": "@jupyter-widgets/base",
            "_model_module_version": "1.2.0",
            "_model_name": "LayoutModel",
            "_view_count": null,
            "_view_module": "@jupyter-widgets/base",
            "_view_module_version": "1.2.0",
            "_view_name": "LayoutView",
            "align_content": null,
            "align_items": null,
            "align_self": null,
            "border": null,
            "bottom": null,
            "display": null,
            "flex": null,
            "flex_flow": null,
            "grid_area": null,
            "grid_auto_columns": null,
            "grid_auto_flow": null,
            "grid_auto_rows": null,
            "grid_column": null,
            "grid_gap": null,
            "grid_row": null,
            "grid_template_areas": null,
            "grid_template_columns": null,
            "grid_template_rows": null,
            "height": null,
            "justify_content": null,
            "justify_items": null,
            "left": null,
            "margin": null,
            "max_height": null,
            "max_width": null,
            "min_height": null,
            "min_width": null,
            "object_fit": null,
            "object_position": null,
            "order": null,
            "overflow": null,
            "overflow_x": null,
            "overflow_y": null,
            "padding": null,
            "right": null,
            "top": null,
            "visibility": null,
            "width": null
          }
        },
        "9644071872634c14add38e47b28dbd80": {
          "model_module": "@jupyter-widgets/controls",
          "model_name": "DescriptionStyleModel",
          "model_module_version": "1.5.0",
          "state": {
            "_model_module": "@jupyter-widgets/controls",
            "_model_module_version": "1.5.0",
            "_model_name": "DescriptionStyleModel",
            "_view_count": null,
            "_view_module": "@jupyter-widgets/base",
            "_view_module_version": "1.2.0",
            "_view_name": "StyleView",
            "description_width": ""
          }
        },
        "9343f45d36b8413cb91ee0c334d0e04e": {
          "model_module": "@jupyter-widgets/controls",
          "model_name": "HBoxModel",
          "model_module_version": "1.5.0",
          "state": {
            "_dom_classes": [],
            "_model_module": "@jupyter-widgets/controls",
            "_model_module_version": "1.5.0",
            "_model_name": "HBoxModel",
            "_view_count": null,
            "_view_module": "@jupyter-widgets/controls",
            "_view_module_version": "1.5.0",
            "_view_name": "HBoxView",
            "box_style": "",
            "children": [
              "IPY_MODEL_e66b44d44d214602a6e0b4d49455afdd",
              "IPY_MODEL_58b6e8652cd44dd28832ab480048334e",
              "IPY_MODEL_5e2bd0dc2b76445f93a5d013d483935a"
            ],
            "layout": "IPY_MODEL_7b2288cf0ed647ddb33aad96adec6c05"
          }
        },
        "e66b44d44d214602a6e0b4d49455afdd": {
          "model_module": "@jupyter-widgets/controls",
          "model_name": "HTMLModel",
          "model_module_version": "1.5.0",
          "state": {
            "_dom_classes": [],
            "_model_module": "@jupyter-widgets/controls",
            "_model_module_version": "1.5.0",
            "_model_name": "HTMLModel",
            "_view_count": null,
            "_view_module": "@jupyter-widgets/controls",
            "_view_module_version": "1.5.0",
            "_view_name": "HTMLView",
            "description": "",
            "description_tooltip": null,
            "layout": "IPY_MODEL_3ecc592812344cc78bf324e0bc6da400",
            "placeholder": "​",
            "style": "IPY_MODEL_1d4460a528904034887c6fcaf1810ad5",
            "value": "special_tokens_map.json: 100%"
          }
        },
        "58b6e8652cd44dd28832ab480048334e": {
          "model_module": "@jupyter-widgets/controls",
          "model_name": "FloatProgressModel",
          "model_module_version": "1.5.0",
          "state": {
            "_dom_classes": [],
            "_model_module": "@jupyter-widgets/controls",
            "_model_module_version": "1.5.0",
            "_model_name": "FloatProgressModel",
            "_view_count": null,
            "_view_module": "@jupyter-widgets/controls",
            "_view_module_version": "1.5.0",
            "_view_name": "ProgressView",
            "bar_style": "success",
            "description": "",
            "description_tooltip": null,
            "layout": "IPY_MODEL_6e761b05b9b340d39ff66b47703125ed",
            "max": 2201,
            "min": 0,
            "orientation": "horizontal",
            "style": "IPY_MODEL_e9b1ac9cf730499da9a8fd3c37a12175",
            "value": 2201
          }
        },
        "5e2bd0dc2b76445f93a5d013d483935a": {
          "model_module": "@jupyter-widgets/controls",
          "model_name": "HTMLModel",
          "model_module_version": "1.5.0",
          "state": {
            "_dom_classes": [],
            "_model_module": "@jupyter-widgets/controls",
            "_model_module_version": "1.5.0",
            "_model_name": "HTMLModel",
            "_view_count": null,
            "_view_module": "@jupyter-widgets/controls",
            "_view_module_version": "1.5.0",
            "_view_name": "HTMLView",
            "description": "",
            "description_tooltip": null,
            "layout": "IPY_MODEL_02144b9c98db4c54afdc59b84ec673ca",
            "placeholder": "​",
            "style": "IPY_MODEL_6422aedba51141818d149378fe9aa15e",
            "value": " 2.20k/2.20k [00:00&lt;00:00, 190kB/s]"
          }
        },
        "7b2288cf0ed647ddb33aad96adec6c05": {
          "model_module": "@jupyter-widgets/base",
          "model_name": "LayoutModel",
          "model_module_version": "1.2.0",
          "state": {
            "_model_module": "@jupyter-widgets/base",
            "_model_module_version": "1.2.0",
            "_model_name": "LayoutModel",
            "_view_count": null,
            "_view_module": "@jupyter-widgets/base",
            "_view_module_version": "1.2.0",
            "_view_name": "LayoutView",
            "align_content": null,
            "align_items": null,
            "align_self": null,
            "border": null,
            "bottom": null,
            "display": null,
            "flex": null,
            "flex_flow": null,
            "grid_area": null,
            "grid_auto_columns": null,
            "grid_auto_flow": null,
            "grid_auto_rows": null,
            "grid_column": null,
            "grid_gap": null,
            "grid_row": null,
            "grid_template_areas": null,
            "grid_template_columns": null,
            "grid_template_rows": null,
            "height": null,
            "justify_content": null,
            "justify_items": null,
            "left": null,
            "margin": null,
            "max_height": null,
            "max_width": null,
            "min_height": null,
            "min_width": null,
            "object_fit": null,
            "object_position": null,
            "order": null,
            "overflow": null,
            "overflow_x": null,
            "overflow_y": null,
            "padding": null,
            "right": null,
            "top": null,
            "visibility": null,
            "width": null
          }
        },
        "3ecc592812344cc78bf324e0bc6da400": {
          "model_module": "@jupyter-widgets/base",
          "model_name": "LayoutModel",
          "model_module_version": "1.2.0",
          "state": {
            "_model_module": "@jupyter-widgets/base",
            "_model_module_version": "1.2.0",
            "_model_name": "LayoutModel",
            "_view_count": null,
            "_view_module": "@jupyter-widgets/base",
            "_view_module_version": "1.2.0",
            "_view_name": "LayoutView",
            "align_content": null,
            "align_items": null,
            "align_self": null,
            "border": null,
            "bottom": null,
            "display": null,
            "flex": null,
            "flex_flow": null,
            "grid_area": null,
            "grid_auto_columns": null,
            "grid_auto_flow": null,
            "grid_auto_rows": null,
            "grid_column": null,
            "grid_gap": null,
            "grid_row": null,
            "grid_template_areas": null,
            "grid_template_columns": null,
            "grid_template_rows": null,
            "height": null,
            "justify_content": null,
            "justify_items": null,
            "left": null,
            "margin": null,
            "max_height": null,
            "max_width": null,
            "min_height": null,
            "min_width": null,
            "object_fit": null,
            "object_position": null,
            "order": null,
            "overflow": null,
            "overflow_x": null,
            "overflow_y": null,
            "padding": null,
            "right": null,
            "top": null,
            "visibility": null,
            "width": null
          }
        },
        "1d4460a528904034887c6fcaf1810ad5": {
          "model_module": "@jupyter-widgets/controls",
          "model_name": "DescriptionStyleModel",
          "model_module_version": "1.5.0",
          "state": {
            "_model_module": "@jupyter-widgets/controls",
            "_model_module_version": "1.5.0",
            "_model_name": "DescriptionStyleModel",
            "_view_count": null,
            "_view_module": "@jupyter-widgets/base",
            "_view_module_version": "1.2.0",
            "_view_name": "StyleView",
            "description_width": ""
          }
        },
        "6e761b05b9b340d39ff66b47703125ed": {
          "model_module": "@jupyter-widgets/base",
          "model_name": "LayoutModel",
          "model_module_version": "1.2.0",
          "state": {
            "_model_module": "@jupyter-widgets/base",
            "_model_module_version": "1.2.0",
            "_model_name": "LayoutModel",
            "_view_count": null,
            "_view_module": "@jupyter-widgets/base",
            "_view_module_version": "1.2.0",
            "_view_name": "LayoutView",
            "align_content": null,
            "align_items": null,
            "align_self": null,
            "border": null,
            "bottom": null,
            "display": null,
            "flex": null,
            "flex_flow": null,
            "grid_area": null,
            "grid_auto_columns": null,
            "grid_auto_flow": null,
            "grid_auto_rows": null,
            "grid_column": null,
            "grid_gap": null,
            "grid_row": null,
            "grid_template_areas": null,
            "grid_template_columns": null,
            "grid_template_rows": null,
            "height": null,
            "justify_content": null,
            "justify_items": null,
            "left": null,
            "margin": null,
            "max_height": null,
            "max_width": null,
            "min_height": null,
            "min_width": null,
            "object_fit": null,
            "object_position": null,
            "order": null,
            "overflow": null,
            "overflow_x": null,
            "overflow_y": null,
            "padding": null,
            "right": null,
            "top": null,
            "visibility": null,
            "width": null
          }
        },
        "e9b1ac9cf730499da9a8fd3c37a12175": {
          "model_module": "@jupyter-widgets/controls",
          "model_name": "ProgressStyleModel",
          "model_module_version": "1.5.0",
          "state": {
            "_model_module": "@jupyter-widgets/controls",
            "_model_module_version": "1.5.0",
            "_model_name": "ProgressStyleModel",
            "_view_count": null,
            "_view_module": "@jupyter-widgets/base",
            "_view_module_version": "1.2.0",
            "_view_name": "StyleView",
            "bar_color": null,
            "description_width": ""
          }
        },
        "02144b9c98db4c54afdc59b84ec673ca": {
          "model_module": "@jupyter-widgets/base",
          "model_name": "LayoutModel",
          "model_module_version": "1.2.0",
          "state": {
            "_model_module": "@jupyter-widgets/base",
            "_model_module_version": "1.2.0",
            "_model_name": "LayoutModel",
            "_view_count": null,
            "_view_module": "@jupyter-widgets/base",
            "_view_module_version": "1.2.0",
            "_view_name": "LayoutView",
            "align_content": null,
            "align_items": null,
            "align_self": null,
            "border": null,
            "bottom": null,
            "display": null,
            "flex": null,
            "flex_flow": null,
            "grid_area": null,
            "grid_auto_columns": null,
            "grid_auto_flow": null,
            "grid_auto_rows": null,
            "grid_column": null,
            "grid_gap": null,
            "grid_row": null,
            "grid_template_areas": null,
            "grid_template_columns": null,
            "grid_template_rows": null,
            "height": null,
            "justify_content": null,
            "justify_items": null,
            "left": null,
            "margin": null,
            "max_height": null,
            "max_width": null,
            "min_height": null,
            "min_width": null,
            "object_fit": null,
            "object_position": null,
            "order": null,
            "overflow": null,
            "overflow_x": null,
            "overflow_y": null,
            "padding": null,
            "right": null,
            "top": null,
            "visibility": null,
            "width": null
          }
        },
        "6422aedba51141818d149378fe9aa15e": {
          "model_module": "@jupyter-widgets/controls",
          "model_name": "DescriptionStyleModel",
          "model_module_version": "1.5.0",
          "state": {
            "_model_module": "@jupyter-widgets/controls",
            "_model_module_version": "1.5.0",
            "_model_name": "DescriptionStyleModel",
            "_view_count": null,
            "_view_module": "@jupyter-widgets/base",
            "_view_module_version": "1.2.0",
            "_view_name": "StyleView",
            "description_width": ""
          }
        },
        "43bab0caee264efaa307221eaf56c4be": {
          "model_module": "@jupyter-widgets/controls",
          "model_name": "HBoxModel",
          "model_module_version": "1.5.0",
          "state": {
            "_dom_classes": [],
            "_model_module": "@jupyter-widgets/controls",
            "_model_module_version": "1.5.0",
            "_model_name": "HBoxModel",
            "_view_count": null,
            "_view_module": "@jupyter-widgets/controls",
            "_view_module_version": "1.5.0",
            "_view_name": "HBoxView",
            "box_style": "",
            "children": [
              "IPY_MODEL_d79777fe430d44af9ea2a316bccf4a27",
              "IPY_MODEL_3df2ed29a6c24c648ee518672bc804ab",
              "IPY_MODEL_4feada2d7d8b4ce59fcdd2fa63b3b827"
            ],
            "layout": "IPY_MODEL_4741e63b40464b0ab1ee479f2a4ec932"
          }
        },
        "d79777fe430d44af9ea2a316bccf4a27": {
          "model_module": "@jupyter-widgets/controls",
          "model_name": "HTMLModel",
          "model_module_version": "1.5.0",
          "state": {
            "_dom_classes": [],
            "_model_module": "@jupyter-widgets/controls",
            "_model_module_version": "1.5.0",
            "_model_name": "HTMLModel",
            "_view_count": null,
            "_view_module": "@jupyter-widgets/controls",
            "_view_module_version": "1.5.0",
            "_view_name": "HTMLView",
            "description": "",
            "description_tooltip": null,
            "layout": "IPY_MODEL_80e4ea6d606e45309698f1030b48d2ff",
            "placeholder": "​",
            "style": "IPY_MODEL_fe40eb12206b42c294e0fcaef905c0a8",
            "value": "config.json: 100%"
          }
        },
        "3df2ed29a6c24c648ee518672bc804ab": {
          "model_module": "@jupyter-widgets/controls",
          "model_name": "FloatProgressModel",
          "model_module_version": "1.5.0",
          "state": {
            "_dom_classes": [],
            "_model_module": "@jupyter-widgets/controls",
            "_model_module_version": "1.5.0",
            "_model_name": "FloatProgressModel",
            "_view_count": null,
            "_view_module": "@jupyter-widgets/controls",
            "_view_module_version": "1.5.0",
            "_view_name": "ProgressView",
            "bar_style": "success",
            "description": "",
            "description_tooltip": null,
            "layout": "IPY_MODEL_83794d48c9a14777bc473a9eca8294aa",
            "max": 810,
            "min": 0,
            "orientation": "horizontal",
            "style": "IPY_MODEL_10129d700a1c47309256cc8a424bc35b",
            "value": 810
          }
        },
        "4feada2d7d8b4ce59fcdd2fa63b3b827": {
          "model_module": "@jupyter-widgets/controls",
          "model_name": "HTMLModel",
          "model_module_version": "1.5.0",
          "state": {
            "_dom_classes": [],
            "_model_module": "@jupyter-widgets/controls",
            "_model_module_version": "1.5.0",
            "_model_name": "HTMLModel",
            "_view_count": null,
            "_view_module": "@jupyter-widgets/controls",
            "_view_module_version": "1.5.0",
            "_view_name": "HTMLView",
            "description": "",
            "description_tooltip": null,
            "layout": "IPY_MODEL_9c15c73f41b64a0da0e695ebb5c0e4d8",
            "placeholder": "​",
            "style": "IPY_MODEL_ea84909f3dad415780fe04d754bfa727",
            "value": " 810/810 [00:00&lt;00:00, 64.7kB/s]"
          }
        },
        "4741e63b40464b0ab1ee479f2a4ec932": {
          "model_module": "@jupyter-widgets/base",
          "model_name": "LayoutModel",
          "model_module_version": "1.2.0",
          "state": {
            "_model_module": "@jupyter-widgets/base",
            "_model_module_version": "1.2.0",
            "_model_name": "LayoutModel",
            "_view_count": null,
            "_view_module": "@jupyter-widgets/base",
            "_view_module_version": "1.2.0",
            "_view_name": "LayoutView",
            "align_content": null,
            "align_items": null,
            "align_self": null,
            "border": null,
            "bottom": null,
            "display": null,
            "flex": null,
            "flex_flow": null,
            "grid_area": null,
            "grid_auto_columns": null,
            "grid_auto_flow": null,
            "grid_auto_rows": null,
            "grid_column": null,
            "grid_gap": null,
            "grid_row": null,
            "grid_template_areas": null,
            "grid_template_columns": null,
            "grid_template_rows": null,
            "height": null,
            "justify_content": null,
            "justify_items": null,
            "left": null,
            "margin": null,
            "max_height": null,
            "max_width": null,
            "min_height": null,
            "min_width": null,
            "object_fit": null,
            "object_position": null,
            "order": null,
            "overflow": null,
            "overflow_x": null,
            "overflow_y": null,
            "padding": null,
            "right": null,
            "top": null,
            "visibility": null,
            "width": null
          }
        },
        "80e4ea6d606e45309698f1030b48d2ff": {
          "model_module": "@jupyter-widgets/base",
          "model_name": "LayoutModel",
          "model_module_version": "1.2.0",
          "state": {
            "_model_module": "@jupyter-widgets/base",
            "_model_module_version": "1.2.0",
            "_model_name": "LayoutModel",
            "_view_count": null,
            "_view_module": "@jupyter-widgets/base",
            "_view_module_version": "1.2.0",
            "_view_name": "LayoutView",
            "align_content": null,
            "align_items": null,
            "align_self": null,
            "border": null,
            "bottom": null,
            "display": null,
            "flex": null,
            "flex_flow": null,
            "grid_area": null,
            "grid_auto_columns": null,
            "grid_auto_flow": null,
            "grid_auto_rows": null,
            "grid_column": null,
            "grid_gap": null,
            "grid_row": null,
            "grid_template_areas": null,
            "grid_template_columns": null,
            "grid_template_rows": null,
            "height": null,
            "justify_content": null,
            "justify_items": null,
            "left": null,
            "margin": null,
            "max_height": null,
            "max_width": null,
            "min_height": null,
            "min_width": null,
            "object_fit": null,
            "object_position": null,
            "order": null,
            "overflow": null,
            "overflow_x": null,
            "overflow_y": null,
            "padding": null,
            "right": null,
            "top": null,
            "visibility": null,
            "width": null
          }
        },
        "fe40eb12206b42c294e0fcaef905c0a8": {
          "model_module": "@jupyter-widgets/controls",
          "model_name": "DescriptionStyleModel",
          "model_module_version": "1.5.0",
          "state": {
            "_model_module": "@jupyter-widgets/controls",
            "_model_module_version": "1.5.0",
            "_model_name": "DescriptionStyleModel",
            "_view_count": null,
            "_view_module": "@jupyter-widgets/base",
            "_view_module_version": "1.2.0",
            "_view_name": "StyleView",
            "description_width": ""
          }
        },
        "83794d48c9a14777bc473a9eca8294aa": {
          "model_module": "@jupyter-widgets/base",
          "model_name": "LayoutModel",
          "model_module_version": "1.2.0",
          "state": {
            "_model_module": "@jupyter-widgets/base",
            "_model_module_version": "1.2.0",
            "_model_name": "LayoutModel",
            "_view_count": null,
            "_view_module": "@jupyter-widgets/base",
            "_view_module_version": "1.2.0",
            "_view_name": "LayoutView",
            "align_content": null,
            "align_items": null,
            "align_self": null,
            "border": null,
            "bottom": null,
            "display": null,
            "flex": null,
            "flex_flow": null,
            "grid_area": null,
            "grid_auto_columns": null,
            "grid_auto_flow": null,
            "grid_auto_rows": null,
            "grid_column": null,
            "grid_gap": null,
            "grid_row": null,
            "grid_template_areas": null,
            "grid_template_columns": null,
            "grid_template_rows": null,
            "height": null,
            "justify_content": null,
            "justify_items": null,
            "left": null,
            "margin": null,
            "max_height": null,
            "max_width": null,
            "min_height": null,
            "min_width": null,
            "object_fit": null,
            "object_position": null,
            "order": null,
            "overflow": null,
            "overflow_x": null,
            "overflow_y": null,
            "padding": null,
            "right": null,
            "top": null,
            "visibility": null,
            "width": null
          }
        },
        "10129d700a1c47309256cc8a424bc35b": {
          "model_module": "@jupyter-widgets/controls",
          "model_name": "ProgressStyleModel",
          "model_module_version": "1.5.0",
          "state": {
            "_model_module": "@jupyter-widgets/controls",
            "_model_module_version": "1.5.0",
            "_model_name": "ProgressStyleModel",
            "_view_count": null,
            "_view_module": "@jupyter-widgets/base",
            "_view_module_version": "1.2.0",
            "_view_name": "StyleView",
            "bar_color": null,
            "description_width": ""
          }
        },
        "9c15c73f41b64a0da0e695ebb5c0e4d8": {
          "model_module": "@jupyter-widgets/base",
          "model_name": "LayoutModel",
          "model_module_version": "1.2.0",
          "state": {
            "_model_module": "@jupyter-widgets/base",
            "_model_module_version": "1.2.0",
            "_model_name": "LayoutModel",
            "_view_count": null,
            "_view_module": "@jupyter-widgets/base",
            "_view_module_version": "1.2.0",
            "_view_name": "LayoutView",
            "align_content": null,
            "align_items": null,
            "align_self": null,
            "border": null,
            "bottom": null,
            "display": null,
            "flex": null,
            "flex_flow": null,
            "grid_area": null,
            "grid_auto_columns": null,
            "grid_auto_flow": null,
            "grid_auto_rows": null,
            "grid_column": null,
            "grid_gap": null,
            "grid_row": null,
            "grid_template_areas": null,
            "grid_template_columns": null,
            "grid_template_rows": null,
            "height": null,
            "justify_content": null,
            "justify_items": null,
            "left": null,
            "margin": null,
            "max_height": null,
            "max_width": null,
            "min_height": null,
            "min_width": null,
            "object_fit": null,
            "object_position": null,
            "order": null,
            "overflow": null,
            "overflow_x": null,
            "overflow_y": null,
            "padding": null,
            "right": null,
            "top": null,
            "visibility": null,
            "width": null
          }
        },
        "ea84909f3dad415780fe04d754bfa727": {
          "model_module": "@jupyter-widgets/controls",
          "model_name": "DescriptionStyleModel",
          "model_module_version": "1.5.0",
          "state": {
            "_model_module": "@jupyter-widgets/controls",
            "_model_module_version": "1.5.0",
            "_model_name": "DescriptionStyleModel",
            "_view_count": null,
            "_view_module": "@jupyter-widgets/base",
            "_view_module_version": "1.2.0",
            "_view_name": "StyleView",
            "description_width": ""
          }
        },
        "870f8ea2750d408581da34661d1ab294": {
          "model_module": "@jupyter-widgets/controls",
          "model_name": "HBoxModel",
          "model_module_version": "1.5.0",
          "state": {
            "_dom_classes": [],
            "_model_module": "@jupyter-widgets/controls",
            "_model_module_version": "1.5.0",
            "_model_name": "HBoxModel",
            "_view_count": null,
            "_view_module": "@jupyter-widgets/controls",
            "_view_module_version": "1.5.0",
            "_view_name": "HBoxView",
            "box_style": "",
            "children": [
              "IPY_MODEL_87abfcc3c8f04c3780a9779ce70fbd60",
              "IPY_MODEL_e631632d6171486091721f87608da5cf",
              "IPY_MODEL_de01f3828cc041108c9bcde471c20118"
            ],
            "layout": "IPY_MODEL_39387fc8ab5646e2874e3799b51259ac"
          }
        },
        "87abfcc3c8f04c3780a9779ce70fbd60": {
          "model_module": "@jupyter-widgets/controls",
          "model_name": "HTMLModel",
          "model_module_version": "1.5.0",
          "state": {
            "_dom_classes": [],
            "_model_module": "@jupyter-widgets/controls",
            "_model_module_version": "1.5.0",
            "_model_name": "HTMLModel",
            "_view_count": null,
            "_view_module": "@jupyter-widgets/controls",
            "_view_module_version": "1.5.0",
            "_view_name": "HTMLView",
            "description": "",
            "description_tooltip": null,
            "layout": "IPY_MODEL_c085cec42f0e40f1ab567a5e77cb1134",
            "placeholder": "​",
            "style": "IPY_MODEL_aa9c31fe0a2a4bccb8f132618229839f",
            "value": "model.safetensors: 100%"
          }
        },
        "e631632d6171486091721f87608da5cf": {
          "model_module": "@jupyter-widgets/controls",
          "model_name": "FloatProgressModel",
          "model_module_version": "1.5.0",
          "state": {
            "_dom_classes": [],
            "_model_module": "@jupyter-widgets/controls",
            "_model_module_version": "1.5.0",
            "_model_name": "FloatProgressModel",
            "_view_count": null,
            "_view_module": "@jupyter-widgets/controls",
            "_view_module_version": "1.5.0",
            "_view_name": "ProgressView",
            "bar_style": "success",
            "description": "",
            "description_tooltip": null,
            "layout": "IPY_MODEL_847915a2e89c4514a1547bf887877ffe",
            "max": 891644712,
            "min": 0,
            "orientation": "horizontal",
            "style": "IPY_MODEL_19c65c76748d4499a310f41ace454011",
            "value": 891644712
          }
        },
        "de01f3828cc041108c9bcde471c20118": {
          "model_module": "@jupyter-widgets/controls",
          "model_name": "HTMLModel",
          "model_module_version": "1.5.0",
          "state": {
            "_dom_classes": [],
            "_model_module": "@jupyter-widgets/controls",
            "_model_module_version": "1.5.0",
            "_model_name": "HTMLModel",
            "_view_count": null,
            "_view_module": "@jupyter-widgets/controls",
            "_view_module_version": "1.5.0",
            "_view_name": "HTMLView",
            "description": "",
            "description_tooltip": null,
            "layout": "IPY_MODEL_2ecb46dd59e0450198f40fac74203819",
            "placeholder": "​",
            "style": "IPY_MODEL_e1d40077d2db48e094604909442aea4b",
            "value": " 892M/892M [00:21&lt;00:00, 42.6MB/s]"
          }
        },
        "39387fc8ab5646e2874e3799b51259ac": {
          "model_module": "@jupyter-widgets/base",
          "model_name": "LayoutModel",
          "model_module_version": "1.2.0",
          "state": {
            "_model_module": "@jupyter-widgets/base",
            "_model_module_version": "1.2.0",
            "_model_name": "LayoutModel",
            "_view_count": null,
            "_view_module": "@jupyter-widgets/base",
            "_view_module_version": "1.2.0",
            "_view_name": "LayoutView",
            "align_content": null,
            "align_items": null,
            "align_self": null,
            "border": null,
            "bottom": null,
            "display": null,
            "flex": null,
            "flex_flow": null,
            "grid_area": null,
            "grid_auto_columns": null,
            "grid_auto_flow": null,
            "grid_auto_rows": null,
            "grid_column": null,
            "grid_gap": null,
            "grid_row": null,
            "grid_template_areas": null,
            "grid_template_columns": null,
            "grid_template_rows": null,
            "height": null,
            "justify_content": null,
            "justify_items": null,
            "left": null,
            "margin": null,
            "max_height": null,
            "max_width": null,
            "min_height": null,
            "min_width": null,
            "object_fit": null,
            "object_position": null,
            "order": null,
            "overflow": null,
            "overflow_x": null,
            "overflow_y": null,
            "padding": null,
            "right": null,
            "top": null,
            "visibility": null,
            "width": null
          }
        },
        "c085cec42f0e40f1ab567a5e77cb1134": {
          "model_module": "@jupyter-widgets/base",
          "model_name": "LayoutModel",
          "model_module_version": "1.2.0",
          "state": {
            "_model_module": "@jupyter-widgets/base",
            "_model_module_version": "1.2.0",
            "_model_name": "LayoutModel",
            "_view_count": null,
            "_view_module": "@jupyter-widgets/base",
            "_view_module_version": "1.2.0",
            "_view_name": "LayoutView",
            "align_content": null,
            "align_items": null,
            "align_self": null,
            "border": null,
            "bottom": null,
            "display": null,
            "flex": null,
            "flex_flow": null,
            "grid_area": null,
            "grid_auto_columns": null,
            "grid_auto_flow": null,
            "grid_auto_rows": null,
            "grid_column": null,
            "grid_gap": null,
            "grid_row": null,
            "grid_template_areas": null,
            "grid_template_columns": null,
            "grid_template_rows": null,
            "height": null,
            "justify_content": null,
            "justify_items": null,
            "left": null,
            "margin": null,
            "max_height": null,
            "max_width": null,
            "min_height": null,
            "min_width": null,
            "object_fit": null,
            "object_position": null,
            "order": null,
            "overflow": null,
            "overflow_x": null,
            "overflow_y": null,
            "padding": null,
            "right": null,
            "top": null,
            "visibility": null,
            "width": null
          }
        },
        "aa9c31fe0a2a4bccb8f132618229839f": {
          "model_module": "@jupyter-widgets/controls",
          "model_name": "DescriptionStyleModel",
          "model_module_version": "1.5.0",
          "state": {
            "_model_module": "@jupyter-widgets/controls",
            "_model_module_version": "1.5.0",
            "_model_name": "DescriptionStyleModel",
            "_view_count": null,
            "_view_module": "@jupyter-widgets/base",
            "_view_module_version": "1.2.0",
            "_view_name": "StyleView",
            "description_width": ""
          }
        },
        "847915a2e89c4514a1547bf887877ffe": {
          "model_module": "@jupyter-widgets/base",
          "model_name": "LayoutModel",
          "model_module_version": "1.2.0",
          "state": {
            "_model_module": "@jupyter-widgets/base",
            "_model_module_version": "1.2.0",
            "_model_name": "LayoutModel",
            "_view_count": null,
            "_view_module": "@jupyter-widgets/base",
            "_view_module_version": "1.2.0",
            "_view_name": "LayoutView",
            "align_content": null,
            "align_items": null,
            "align_self": null,
            "border": null,
            "bottom": null,
            "display": null,
            "flex": null,
            "flex_flow": null,
            "grid_area": null,
            "grid_auto_columns": null,
            "grid_auto_flow": null,
            "grid_auto_rows": null,
            "grid_column": null,
            "grid_gap": null,
            "grid_row": null,
            "grid_template_areas": null,
            "grid_template_columns": null,
            "grid_template_rows": null,
            "height": null,
            "justify_content": null,
            "justify_items": null,
            "left": null,
            "margin": null,
            "max_height": null,
            "max_width": null,
            "min_height": null,
            "min_width": null,
            "object_fit": null,
            "object_position": null,
            "order": null,
            "overflow": null,
            "overflow_x": null,
            "overflow_y": null,
            "padding": null,
            "right": null,
            "top": null,
            "visibility": null,
            "width": null
          }
        },
        "19c65c76748d4499a310f41ace454011": {
          "model_module": "@jupyter-widgets/controls",
          "model_name": "ProgressStyleModel",
          "model_module_version": "1.5.0",
          "state": {
            "_model_module": "@jupyter-widgets/controls",
            "_model_module_version": "1.5.0",
            "_model_name": "ProgressStyleModel",
            "_view_count": null,
            "_view_module": "@jupyter-widgets/base",
            "_view_module_version": "1.2.0",
            "_view_name": "StyleView",
            "bar_color": null,
            "description_width": ""
          }
        },
        "2ecb46dd59e0450198f40fac74203819": {
          "model_module": "@jupyter-widgets/base",
          "model_name": "LayoutModel",
          "model_module_version": "1.2.0",
          "state": {
            "_model_module": "@jupyter-widgets/base",
            "_model_module_version": "1.2.0",
            "_model_name": "LayoutModel",
            "_view_count": null,
            "_view_module": "@jupyter-widgets/base",
            "_view_module_version": "1.2.0",
            "_view_name": "LayoutView",
            "align_content": null,
            "align_items": null,
            "align_self": null,
            "border": null,
            "bottom": null,
            "display": null,
            "flex": null,
            "flex_flow": null,
            "grid_area": null,
            "grid_auto_columns": null,
            "grid_auto_flow": null,
            "grid_auto_rows": null,
            "grid_column": null,
            "grid_gap": null,
            "grid_row": null,
            "grid_template_areas": null,
            "grid_template_columns": null,
            "grid_template_rows": null,
            "height": null,
            "justify_content": null,
            "justify_items": null,
            "left": null,
            "margin": null,
            "max_height": null,
            "max_width": null,
            "min_height": null,
            "min_width": null,
            "object_fit": null,
            "object_position": null,
            "order": null,
            "overflow": null,
            "overflow_x": null,
            "overflow_y": null,
            "padding": null,
            "right": null,
            "top": null,
            "visibility": null,
            "width": null
          }
        },
        "e1d40077d2db48e094604909442aea4b": {
          "model_module": "@jupyter-widgets/controls",
          "model_name": "DescriptionStyleModel",
          "model_module_version": "1.5.0",
          "state": {
            "_model_module": "@jupyter-widgets/controls",
            "_model_module_version": "1.5.0",
            "_model_name": "DescriptionStyleModel",
            "_view_count": null,
            "_view_module": "@jupyter-widgets/base",
            "_view_module_version": "1.2.0",
            "_view_name": "StyleView",
            "description_width": ""
          }
        },
        "737727103c2f413ebddfe6dd80ba5aaa": {
          "model_module": "@jupyter-widgets/controls",
          "model_name": "HBoxModel",
          "model_module_version": "1.5.0",
          "state": {
            "_dom_classes": [],
            "_model_module": "@jupyter-widgets/controls",
            "_model_module_version": "1.5.0",
            "_model_name": "HBoxModel",
            "_view_count": null,
            "_view_module": "@jupyter-widgets/controls",
            "_view_module_version": "1.5.0",
            "_view_name": "HBoxView",
            "box_style": "",
            "children": [
              "IPY_MODEL_904a1219540e4d9fa15b58c5340bf6c7",
              "IPY_MODEL_ab7074631c6044c6ba70f64fa3d3c6f6",
              "IPY_MODEL_319bcc719bc342a9b1ee67752cad1fbf"
            ],
            "layout": "IPY_MODEL_0e383c85bce0481b80ef5dbbe8cc0a50"
          }
        },
        "904a1219540e4d9fa15b58c5340bf6c7": {
          "model_module": "@jupyter-widgets/controls",
          "model_name": "HTMLModel",
          "model_module_version": "1.5.0",
          "state": {
            "_dom_classes": [],
            "_model_module": "@jupyter-widgets/controls",
            "_model_module_version": "1.5.0",
            "_model_name": "HTMLModel",
            "_view_count": null,
            "_view_module": "@jupyter-widgets/controls",
            "_view_module_version": "1.5.0",
            "_view_name": "HTMLView",
            "description": "",
            "description_tooltip": null,
            "layout": "IPY_MODEL_270c1d7dd6854f9289cc623eeeded368",
            "placeholder": "​",
            "style": "IPY_MODEL_5c58b87539454c8aa82a45537d245688",
            "value": "generation_config.json: 100%"
          }
        },
        "ab7074631c6044c6ba70f64fa3d3c6f6": {
          "model_module": "@jupyter-widgets/controls",
          "model_name": "FloatProgressModel",
          "model_module_version": "1.5.0",
          "state": {
            "_dom_classes": [],
            "_model_module": "@jupyter-widgets/controls",
            "_model_module_version": "1.5.0",
            "_model_name": "FloatProgressModel",
            "_view_count": null,
            "_view_module": "@jupyter-widgets/controls",
            "_view_module_version": "1.5.0",
            "_view_name": "ProgressView",
            "bar_style": "success",
            "description": "",
            "description_tooltip": null,
            "layout": "IPY_MODEL_3bb91009635648f5913de1a827ecfadb",
            "max": 112,
            "min": 0,
            "orientation": "horizontal",
            "style": "IPY_MODEL_045efda86ba24393af1471d10a0d6344",
            "value": 112
          }
        },
        "319bcc719bc342a9b1ee67752cad1fbf": {
          "model_module": "@jupyter-widgets/controls",
          "model_name": "HTMLModel",
          "model_module_version": "1.5.0",
          "state": {
            "_dom_classes": [],
            "_model_module": "@jupyter-widgets/controls",
            "_model_module_version": "1.5.0",
            "_model_name": "HTMLModel",
            "_view_count": null,
            "_view_module": "@jupyter-widgets/controls",
            "_view_module_version": "1.5.0",
            "_view_name": "HTMLView",
            "description": "",
            "description_tooltip": null,
            "layout": "IPY_MODEL_603db9e4a5d3462fb8ff22f02cf4f3a0",
            "placeholder": "​",
            "style": "IPY_MODEL_b53ab81049384382af534870499e6936",
            "value": " 112/112 [00:00&lt;00:00, 9.60kB/s]"
          }
        },
        "0e383c85bce0481b80ef5dbbe8cc0a50": {
          "model_module": "@jupyter-widgets/base",
          "model_name": "LayoutModel",
          "model_module_version": "1.2.0",
          "state": {
            "_model_module": "@jupyter-widgets/base",
            "_model_module_version": "1.2.0",
            "_model_name": "LayoutModel",
            "_view_count": null,
            "_view_module": "@jupyter-widgets/base",
            "_view_module_version": "1.2.0",
            "_view_name": "LayoutView",
            "align_content": null,
            "align_items": null,
            "align_self": null,
            "border": null,
            "bottom": null,
            "display": null,
            "flex": null,
            "flex_flow": null,
            "grid_area": null,
            "grid_auto_columns": null,
            "grid_auto_flow": null,
            "grid_auto_rows": null,
            "grid_column": null,
            "grid_gap": null,
            "grid_row": null,
            "grid_template_areas": null,
            "grid_template_columns": null,
            "grid_template_rows": null,
            "height": null,
            "justify_content": null,
            "justify_items": null,
            "left": null,
            "margin": null,
            "max_height": null,
            "max_width": null,
            "min_height": null,
            "min_width": null,
            "object_fit": null,
            "object_position": null,
            "order": null,
            "overflow": null,
            "overflow_x": null,
            "overflow_y": null,
            "padding": null,
            "right": null,
            "top": null,
            "visibility": null,
            "width": null
          }
        },
        "270c1d7dd6854f9289cc623eeeded368": {
          "model_module": "@jupyter-widgets/base",
          "model_name": "LayoutModel",
          "model_module_version": "1.2.0",
          "state": {
            "_model_module": "@jupyter-widgets/base",
            "_model_module_version": "1.2.0",
            "_model_name": "LayoutModel",
            "_view_count": null,
            "_view_module": "@jupyter-widgets/base",
            "_view_module_version": "1.2.0",
            "_view_name": "LayoutView",
            "align_content": null,
            "align_items": null,
            "align_self": null,
            "border": null,
            "bottom": null,
            "display": null,
            "flex": null,
            "flex_flow": null,
            "grid_area": null,
            "grid_auto_columns": null,
            "grid_auto_flow": null,
            "grid_auto_rows": null,
            "grid_column": null,
            "grid_gap": null,
            "grid_row": null,
            "grid_template_areas": null,
            "grid_template_columns": null,
            "grid_template_rows": null,
            "height": null,
            "justify_content": null,
            "justify_items": null,
            "left": null,
            "margin": null,
            "max_height": null,
            "max_width": null,
            "min_height": null,
            "min_width": null,
            "object_fit": null,
            "object_position": null,
            "order": null,
            "overflow": null,
            "overflow_x": null,
            "overflow_y": null,
            "padding": null,
            "right": null,
            "top": null,
            "visibility": null,
            "width": null
          }
        },
        "5c58b87539454c8aa82a45537d245688": {
          "model_module": "@jupyter-widgets/controls",
          "model_name": "DescriptionStyleModel",
          "model_module_version": "1.5.0",
          "state": {
            "_model_module": "@jupyter-widgets/controls",
            "_model_module_version": "1.5.0",
            "_model_name": "DescriptionStyleModel",
            "_view_count": null,
            "_view_module": "@jupyter-widgets/base",
            "_view_module_version": "1.2.0",
            "_view_name": "StyleView",
            "description_width": ""
          }
        },
        "3bb91009635648f5913de1a827ecfadb": {
          "model_module": "@jupyter-widgets/base",
          "model_name": "LayoutModel",
          "model_module_version": "1.2.0",
          "state": {
            "_model_module": "@jupyter-widgets/base",
            "_model_module_version": "1.2.0",
            "_model_name": "LayoutModel",
            "_view_count": null,
            "_view_module": "@jupyter-widgets/base",
            "_view_module_version": "1.2.0",
            "_view_name": "LayoutView",
            "align_content": null,
            "align_items": null,
            "align_self": null,
            "border": null,
            "bottom": null,
            "display": null,
            "flex": null,
            "flex_flow": null,
            "grid_area": null,
            "grid_auto_columns": null,
            "grid_auto_flow": null,
            "grid_auto_rows": null,
            "grid_column": null,
            "grid_gap": null,
            "grid_row": null,
            "grid_template_areas": null,
            "grid_template_columns": null,
            "grid_template_rows": null,
            "height": null,
            "justify_content": null,
            "justify_items": null,
            "left": null,
            "margin": null,
            "max_height": null,
            "max_width": null,
            "min_height": null,
            "min_width": null,
            "object_fit": null,
            "object_position": null,
            "order": null,
            "overflow": null,
            "overflow_x": null,
            "overflow_y": null,
            "padding": null,
            "right": null,
            "top": null,
            "visibility": null,
            "width": null
          }
        },
        "045efda86ba24393af1471d10a0d6344": {
          "model_module": "@jupyter-widgets/controls",
          "model_name": "ProgressStyleModel",
          "model_module_version": "1.5.0",
          "state": {
            "_model_module": "@jupyter-widgets/controls",
            "_model_module_version": "1.5.0",
            "_model_name": "ProgressStyleModel",
            "_view_count": null,
            "_view_module": "@jupyter-widgets/base",
            "_view_module_version": "1.2.0",
            "_view_name": "StyleView",
            "bar_color": null,
            "description_width": ""
          }
        },
        "603db9e4a5d3462fb8ff22f02cf4f3a0": {
          "model_module": "@jupyter-widgets/base",
          "model_name": "LayoutModel",
          "model_module_version": "1.2.0",
          "state": {
            "_model_module": "@jupyter-widgets/base",
            "_model_module_version": "1.2.0",
            "_model_name": "LayoutModel",
            "_view_count": null,
            "_view_module": "@jupyter-widgets/base",
            "_view_module_version": "1.2.0",
            "_view_name": "LayoutView",
            "align_content": null,
            "align_items": null,
            "align_self": null,
            "border": null,
            "bottom": null,
            "display": null,
            "flex": null,
            "flex_flow": null,
            "grid_area": null,
            "grid_auto_columns": null,
            "grid_auto_flow": null,
            "grid_auto_rows": null,
            "grid_column": null,
            "grid_gap": null,
            "grid_row": null,
            "grid_template_areas": null,
            "grid_template_columns": null,
            "grid_template_rows": null,
            "height": null,
            "justify_content": null,
            "justify_items": null,
            "left": null,
            "margin": null,
            "max_height": null,
            "max_width": null,
            "min_height": null,
            "min_width": null,
            "object_fit": null,
            "object_position": null,
            "order": null,
            "overflow": null,
            "overflow_x": null,
            "overflow_y": null,
            "padding": null,
            "right": null,
            "top": null,
            "visibility": null,
            "width": null
          }
        },
        "b53ab81049384382af534870499e6936": {
          "model_module": "@jupyter-widgets/controls",
          "model_name": "DescriptionStyleModel",
          "model_module_version": "1.5.0",
          "state": {
            "_model_module": "@jupyter-widgets/controls",
            "_model_module_version": "1.5.0",
            "_model_name": "DescriptionStyleModel",
            "_view_count": null,
            "_view_module": "@jupyter-widgets/base",
            "_view_module_version": "1.2.0",
            "_view_name": "StyleView",
            "description_width": ""
          }
        }
      }
    }
  },
  "cells": [
    {
      "cell_type": "code",
      "execution_count": 1,
      "metadata": {
        "colab": {
          "base_uri": "https://localhost:8080/"
        },
        "id": "TuVoU60VxHqB",
        "outputId": "f5eec896-8c05-46ef-a344-5419b70342fc"
      },
      "outputs": [
        {
          "output_type": "stream",
          "name": "stdout",
          "text": [
            "Mounted at /content/drive\n"
          ]
        }
      ],
      "source": [
        "from google.colab import drive\n",
        "drive.mount('/content/drive')"
      ]
    },
    {
      "cell_type": "code",
      "source": [
        "# Install required libraries\n",
        "!pip install transformers scikit-learn pandas torch peft umap-learn"
      ],
      "metadata": {
        "colab": {
          "base_uri": "https://localhost:8080/"
        },
        "id": "jtd9HGd5xxta",
        "outputId": "a087c53a-9114-4d08-b96c-0a5ef33ac44f"
      },
      "execution_count": 2,
      "outputs": [
        {
          "output_type": "stream",
          "name": "stdout",
          "text": [
            "Requirement already satisfied: transformers in /usr/local/lib/python3.11/dist-packages (4.47.1)\n",
            "Requirement already satisfied: scikit-learn in /usr/local/lib/python3.11/dist-packages (1.6.1)\n",
            "Requirement already satisfied: pandas in /usr/local/lib/python3.11/dist-packages (2.2.2)\n",
            "Requirement already satisfied: torch in /usr/local/lib/python3.11/dist-packages (2.5.1+cu121)\n",
            "Requirement already satisfied: peft in /usr/local/lib/python3.11/dist-packages (0.14.0)\n",
            "Collecting umap-learn\n",
            "  Downloading umap_learn-0.5.7-py3-none-any.whl.metadata (21 kB)\n",
            "Requirement already satisfied: filelock in /usr/local/lib/python3.11/dist-packages (from transformers) (3.17.0)\n",
            "Requirement already satisfied: huggingface-hub<1.0,>=0.24.0 in /usr/local/lib/python3.11/dist-packages (from transformers) (0.27.1)\n",
            "Requirement already satisfied: numpy>=1.17 in /usr/local/lib/python3.11/dist-packages (from transformers) (1.26.4)\n",
            "Requirement already satisfied: packaging>=20.0 in /usr/local/lib/python3.11/dist-packages (from transformers) (24.2)\n",
            "Requirement already satisfied: pyyaml>=5.1 in /usr/local/lib/python3.11/dist-packages (from transformers) (6.0.2)\n",
            "Requirement already satisfied: regex!=2019.12.17 in /usr/local/lib/python3.11/dist-packages (from transformers) (2024.11.6)\n",
            "Requirement already satisfied: requests in /usr/local/lib/python3.11/dist-packages (from transformers) (2.32.3)\n",
            "Requirement already satisfied: tokenizers<0.22,>=0.21 in /usr/local/lib/python3.11/dist-packages (from transformers) (0.21.0)\n",
            "Requirement already satisfied: safetensors>=0.4.1 in /usr/local/lib/python3.11/dist-packages (from transformers) (0.5.2)\n",
            "Requirement already satisfied: tqdm>=4.27 in /usr/local/lib/python3.11/dist-packages (from transformers) (4.67.1)\n",
            "Requirement already satisfied: scipy>=1.6.0 in /usr/local/lib/python3.11/dist-packages (from scikit-learn) (1.13.1)\n",
            "Requirement already satisfied: joblib>=1.2.0 in /usr/local/lib/python3.11/dist-packages (from scikit-learn) (1.4.2)\n",
            "Requirement already satisfied: threadpoolctl>=3.1.0 in /usr/local/lib/python3.11/dist-packages (from scikit-learn) (3.5.0)\n",
            "Requirement already satisfied: python-dateutil>=2.8.2 in /usr/local/lib/python3.11/dist-packages (from pandas) (2.8.2)\n",
            "Requirement already satisfied: pytz>=2020.1 in /usr/local/lib/python3.11/dist-packages (from pandas) (2024.2)\n",
            "Requirement already satisfied: tzdata>=2022.7 in /usr/local/lib/python3.11/dist-packages (from pandas) (2025.1)\n",
            "Requirement already satisfied: typing-extensions>=4.8.0 in /usr/local/lib/python3.11/dist-packages (from torch) (4.12.2)\n",
            "Requirement already satisfied: networkx in /usr/local/lib/python3.11/dist-packages (from torch) (3.4.2)\n",
            "Requirement already satisfied: jinja2 in /usr/local/lib/python3.11/dist-packages (from torch) (3.1.5)\n",
            "Requirement already satisfied: fsspec in /usr/local/lib/python3.11/dist-packages (from torch) (2024.10.0)\n",
            "Requirement already satisfied: nvidia-cuda-nvrtc-cu12==12.1.105 in /usr/local/lib/python3.11/dist-packages (from torch) (12.1.105)\n",
            "Requirement already satisfied: nvidia-cuda-runtime-cu12==12.1.105 in /usr/local/lib/python3.11/dist-packages (from torch) (12.1.105)\n",
            "Requirement already satisfied: nvidia-cuda-cupti-cu12==12.1.105 in /usr/local/lib/python3.11/dist-packages (from torch) (12.1.105)\n",
            "Requirement already satisfied: nvidia-cudnn-cu12==9.1.0.70 in /usr/local/lib/python3.11/dist-packages (from torch) (9.1.0.70)\n",
            "Requirement already satisfied: nvidia-cublas-cu12==12.1.3.1 in /usr/local/lib/python3.11/dist-packages (from torch) (12.1.3.1)\n",
            "Requirement already satisfied: nvidia-cufft-cu12==11.0.2.54 in /usr/local/lib/python3.11/dist-packages (from torch) (11.0.2.54)\n",
            "Requirement already satisfied: nvidia-curand-cu12==10.3.2.106 in /usr/local/lib/python3.11/dist-packages (from torch) (10.3.2.106)\n",
            "Requirement already satisfied: nvidia-cusolver-cu12==11.4.5.107 in /usr/local/lib/python3.11/dist-packages (from torch) (11.4.5.107)\n",
            "Requirement already satisfied: nvidia-cusparse-cu12==12.1.0.106 in /usr/local/lib/python3.11/dist-packages (from torch) (12.1.0.106)\n",
            "Requirement already satisfied: nvidia-nccl-cu12==2.21.5 in /usr/local/lib/python3.11/dist-packages (from torch) (2.21.5)\n",
            "Requirement already satisfied: nvidia-nvtx-cu12==12.1.105 in /usr/local/lib/python3.11/dist-packages (from torch) (12.1.105)\n",
            "Requirement already satisfied: triton==3.1.0 in /usr/local/lib/python3.11/dist-packages (from torch) (3.1.0)\n",
            "Requirement already satisfied: sympy==1.13.1 in /usr/local/lib/python3.11/dist-packages (from torch) (1.13.1)\n",
            "Requirement already satisfied: nvidia-nvjitlink-cu12 in /usr/local/lib/python3.11/dist-packages (from nvidia-cusolver-cu12==11.4.5.107->torch) (12.6.85)\n",
            "Requirement already satisfied: mpmath<1.4,>=1.1.0 in /usr/local/lib/python3.11/dist-packages (from sympy==1.13.1->torch) (1.3.0)\n",
            "Requirement already satisfied: psutil in /usr/local/lib/python3.11/dist-packages (from peft) (5.9.5)\n",
            "Requirement already satisfied: accelerate>=0.21.0 in /usr/local/lib/python3.11/dist-packages (from peft) (1.2.1)\n",
            "Requirement already satisfied: numba>=0.51.2 in /usr/local/lib/python3.11/dist-packages (from umap-learn) (0.60.0)\n",
            "Collecting pynndescent>=0.5 (from umap-learn)\n",
            "  Downloading pynndescent-0.5.13-py3-none-any.whl.metadata (6.8 kB)\n",
            "Requirement already satisfied: llvmlite<0.44,>=0.43.0dev0 in /usr/local/lib/python3.11/dist-packages (from numba>=0.51.2->umap-learn) (0.43.0)\n",
            "Requirement already satisfied: six>=1.5 in /usr/local/lib/python3.11/dist-packages (from python-dateutil>=2.8.2->pandas) (1.17.0)\n",
            "Requirement already satisfied: MarkupSafe>=2.0 in /usr/local/lib/python3.11/dist-packages (from jinja2->torch) (3.0.2)\n",
            "Requirement already satisfied: charset-normalizer<4,>=2 in /usr/local/lib/python3.11/dist-packages (from requests->transformers) (3.4.1)\n",
            "Requirement already satisfied: idna<4,>=2.5 in /usr/local/lib/python3.11/dist-packages (from requests->transformers) (3.10)\n",
            "Requirement already satisfied: urllib3<3,>=1.21.1 in /usr/local/lib/python3.11/dist-packages (from requests->transformers) (2.3.0)\n",
            "Requirement already satisfied: certifi>=2017.4.17 in /usr/local/lib/python3.11/dist-packages (from requests->transformers) (2024.12.14)\n",
            "Downloading umap_learn-0.5.7-py3-none-any.whl (88 kB)\n",
            "\u001b[2K   \u001b[90m━━━━━━━━━━━━━━━━━━━━━━━━━━━━━━━━━━━━━━━━\u001b[0m \u001b[32m88.8/88.8 kB\u001b[0m \u001b[31m9.8 MB/s\u001b[0m eta \u001b[36m0:00:00\u001b[0m\n",
            "\u001b[?25hDownloading pynndescent-0.5.13-py3-none-any.whl (56 kB)\n",
            "\u001b[2K   \u001b[90m━━━━━━━━━━━━━━━━━━━━━━━━━━━━━━━━━━━━━━━━\u001b[0m \u001b[32m56.9/56.9 kB\u001b[0m \u001b[31m5.4 MB/s\u001b[0m eta \u001b[36m0:00:00\u001b[0m\n",
            "\u001b[?25hInstalling collected packages: pynndescent, umap-learn\n",
            "Successfully installed pynndescent-0.5.13 umap-learn-0.5.7\n"
          ]
        }
      ]
    },
    {
      "cell_type": "code",
      "source": [
        "import pandas as pd\n",
        "import torch\n",
        "import numpy as np\n",
        "import matplotlib.pyplot as plt\n",
        "import umap.umap_ as umap\n",
        "from sklearn.naive_bayes import GaussianNB\n",
        "from sklearn.ensemble import RandomForestClassifier\n",
        "from sklearn.svm import SVC\n",
        "from sklearn.decomposition import PCA\n",
        "from sklearn.preprocessing import LabelEncoder\n",
        "from sklearn.metrics import classification_report, confusion_matrix, ConfusionMatrixDisplay\n",
        "from transformers import AutoTokenizer, T5ForConditionalGeneration, Trainer, TrainingArguments\n",
        "from peft import LoraConfig, get_peft_model\n",
        "from torch.utils.data import DataLoader, Dataset\n"
      ],
      "metadata": {
        "id": "W0_ArHWXxyCi"
      },
      "execution_count": 3,
      "outputs": []
    },
    {
      "cell_type": "markdown",
      "source": [
        "# Load LLM"
      ],
      "metadata": {
        "id": "s7Dhd5Q9zLLw"
      }
    },
    {
      "cell_type": "code",
      "source": [
        "# Load ClinicalT5 model\n",
        "model_name = \"Shijia/ClinicalT5-base-finetuned-biomedical\"\n",
        "tokenizer = AutoTokenizer.from_pretrained(model_name)\n",
        "model = T5ForConditionalGeneration.from_pretrained(model_name)\n",
        "\n",
        "device = torch.device(\"cuda\" if torch.cuda.is_available() else \"cpu\")\n",
        "model = model.to(device)"
      ],
      "metadata": {
        "id": "cv33Q4XjzNQQ",
        "colab": {
          "base_uri": "https://localhost:8080/",
          "height": 333,
          "referenced_widgets": [
            "e8c51d9b04c84040969367a3affa1e51",
            "c78f02ec9a0a470fb773f65d5bb7551f",
            "b32b1617baa24690baf2b05e90d2942a",
            "9444c7c56c3c4e4e8ea7d1ede25c4590",
            "dad70ab0c11a4695b64be4c5060680d9",
            "cccc39eb15414fa98e4af0b0ad1d30f2",
            "f00e87d78c32429b91f3679c89845fa7",
            "40c5a9ee00124e8aadefd2dcd0b3342c",
            "83596f8648fd4e27bbeb655a2b2d5109",
            "0530c5e88b464699a173dbd4b64deb53",
            "f04128c98a6343a49c7922ab6b5dd413",
            "e0459b7b28d74f1ea7632b5ef0ed7de6",
            "8aa801a0045f40019d07b4eec80c7f48",
            "ed189cc513274cc6ae8510cec106c34f",
            "289a344956a645f5b54ea4b9cd8d9fbc",
            "63a8c02a98fc4a818ea74a2d8e7b063a",
            "01ee528ca9104f53989dca18b837c771",
            "33aaa2ce36454d339da9fc3f5d8b5c22",
            "8e0f9f2090c34a90b623328e48e070b2",
            "a6958d80c4b94336a904a3250506f685",
            "56ad0c43813348f0b1b58ce101e57d4c",
            "9644071872634c14add38e47b28dbd80",
            "9343f45d36b8413cb91ee0c334d0e04e",
            "e66b44d44d214602a6e0b4d49455afdd",
            "58b6e8652cd44dd28832ab480048334e",
            "5e2bd0dc2b76445f93a5d013d483935a",
            "7b2288cf0ed647ddb33aad96adec6c05",
            "3ecc592812344cc78bf324e0bc6da400",
            "1d4460a528904034887c6fcaf1810ad5",
            "6e761b05b9b340d39ff66b47703125ed",
            "e9b1ac9cf730499da9a8fd3c37a12175",
            "02144b9c98db4c54afdc59b84ec673ca",
            "6422aedba51141818d149378fe9aa15e",
            "43bab0caee264efaa307221eaf56c4be",
            "d79777fe430d44af9ea2a316bccf4a27",
            "3df2ed29a6c24c648ee518672bc804ab",
            "4feada2d7d8b4ce59fcdd2fa63b3b827",
            "4741e63b40464b0ab1ee479f2a4ec932",
            "80e4ea6d606e45309698f1030b48d2ff",
            "fe40eb12206b42c294e0fcaef905c0a8",
            "83794d48c9a14777bc473a9eca8294aa",
            "10129d700a1c47309256cc8a424bc35b",
            "9c15c73f41b64a0da0e695ebb5c0e4d8",
            "ea84909f3dad415780fe04d754bfa727",
            "870f8ea2750d408581da34661d1ab294",
            "87abfcc3c8f04c3780a9779ce70fbd60",
            "e631632d6171486091721f87608da5cf",
            "de01f3828cc041108c9bcde471c20118",
            "39387fc8ab5646e2874e3799b51259ac",
            "c085cec42f0e40f1ab567a5e77cb1134",
            "aa9c31fe0a2a4bccb8f132618229839f",
            "847915a2e89c4514a1547bf887877ffe",
            "19c65c76748d4499a310f41ace454011",
            "2ecb46dd59e0450198f40fac74203819",
            "e1d40077d2db48e094604909442aea4b",
            "737727103c2f413ebddfe6dd80ba5aaa",
            "904a1219540e4d9fa15b58c5340bf6c7",
            "ab7074631c6044c6ba70f64fa3d3c6f6",
            "319bcc719bc342a9b1ee67752cad1fbf",
            "0e383c85bce0481b80ef5dbbe8cc0a50",
            "270c1d7dd6854f9289cc623eeeded368",
            "5c58b87539454c8aa82a45537d245688",
            "3bb91009635648f5913de1a827ecfadb",
            "045efda86ba24393af1471d10a0d6344",
            "603db9e4a5d3462fb8ff22f02cf4f3a0",
            "b53ab81049384382af534870499e6936"
          ]
        },
        "outputId": "3bc25a9b-5a42-4d70-a0f3-1a93d6b16ac7"
      },
      "execution_count": 4,
      "outputs": [
        {
          "output_type": "stream",
          "name": "stderr",
          "text": [
            "/usr/local/lib/python3.11/dist-packages/huggingface_hub/utils/_auth.py:94: UserWarning: \n",
            "The secret `HF_TOKEN` does not exist in your Colab secrets.\n",
            "To authenticate with the Hugging Face Hub, create a token in your settings tab (https://huggingface.co/settings/tokens), set it as secret in your Google Colab and restart your session.\n",
            "You will be able to reuse this secret in all of your notebooks.\n",
            "Please note that authentication is recommended but still optional to access public models or datasets.\n",
            "  warnings.warn(\n"
          ]
        },
        {
          "output_type": "display_data",
          "data": {
            "text/plain": [
              "tokenizer_config.json:   0%|          | 0.00/20.8k [00:00<?, ?B/s]"
            ],
            "application/vnd.jupyter.widget-view+json": {
              "version_major": 2,
              "version_minor": 0,
              "model_id": "e8c51d9b04c84040969367a3affa1e51"
            }
          },
          "metadata": {}
        },
        {
          "output_type": "display_data",
          "data": {
            "text/plain": [
              "tokenizer.json:   0%|          | 0.00/2.42M [00:00<?, ?B/s]"
            ],
            "application/vnd.jupyter.widget-view+json": {
              "version_major": 2,
              "version_minor": 0,
              "model_id": "e0459b7b28d74f1ea7632b5ef0ed7de6"
            }
          },
          "metadata": {}
        },
        {
          "output_type": "display_data",
          "data": {
            "text/plain": [
              "special_tokens_map.json:   0%|          | 0.00/2.20k [00:00<?, ?B/s]"
            ],
            "application/vnd.jupyter.widget-view+json": {
              "version_major": 2,
              "version_minor": 0,
              "model_id": "9343f45d36b8413cb91ee0c334d0e04e"
            }
          },
          "metadata": {}
        },
        {
          "output_type": "display_data",
          "data": {
            "text/plain": [
              "config.json:   0%|          | 0.00/810 [00:00<?, ?B/s]"
            ],
            "application/vnd.jupyter.widget-view+json": {
              "version_major": 2,
              "version_minor": 0,
              "model_id": "43bab0caee264efaa307221eaf56c4be"
            }
          },
          "metadata": {}
        },
        {
          "output_type": "display_data",
          "data": {
            "text/plain": [
              "model.safetensors:   0%|          | 0.00/892M [00:00<?, ?B/s]"
            ],
            "application/vnd.jupyter.widget-view+json": {
              "version_major": 2,
              "version_minor": 0,
              "model_id": "870f8ea2750d408581da34661d1ab294"
            }
          },
          "metadata": {}
        },
        {
          "output_type": "display_data",
          "data": {
            "text/plain": [
              "generation_config.json:   0%|          | 0.00/112 [00:00<?, ?B/s]"
            ],
            "application/vnd.jupyter.widget-view+json": {
              "version_major": 2,
              "version_minor": 0,
              "model_id": "737727103c2f413ebddfe6dd80ba5aaa"
            }
          },
          "metadata": {}
        }
      ]
    },
    {
      "cell_type": "markdown",
      "source": [
        "# Load File"
      ],
      "metadata": {
        "id": "N8HNZX3lzOOn"
      }
    },
    {
      "cell_type": "code",
      "source": [
        "# Load Pre-split Datasets\n",
        "train_path = \"/content/drive/MyDrive/P2/T1/Dataset/overlapped/LLM-o-train.csv\"\n",
        "val_path = \"/content/drive/MyDrive/P2/T1/Dataset/overlapped/LLM-o-val.csv\"\n",
        "test_path = \"/content/drive/MyDrive/P2/T1/Dataset/overlapped/LLM-o-test.csv\"\n",
        "\n",
        "train_data = pd.read_csv(train_path)\n",
        "val_data = pd.read_csv(val_path)\n",
        "test_data = pd.read_csv(test_path)"
      ],
      "metadata": {
        "id": "tXl-d7B8zHlf"
      },
      "execution_count": 6,
      "outputs": []
    },
    {
      "cell_type": "code",
      "source": [
        "# Encode Disease Labels\n",
        "label_encoder = LabelEncoder()\n",
        "train_data['disease_label'] = label_encoder.fit_transform(train_data['disease_label'])\n",
        "val_data['disease_label'] = label_encoder.transform(val_data['disease_label'])\n",
        "test_data['disease_label'] = label_encoder.transform(test_data['disease_label'])\n"
      ],
      "metadata": {
        "id": "SO203fezFuuK"
      },
      "execution_count": 7,
      "outputs": []
    },
    {
      "cell_type": "markdown",
      "source": [
        "# LoRA (Low-Rank Adaptation)"
      ],
      "metadata": {
        "id": "-NyDrSxRIra_"
      }
    },
    {
      "cell_type": "code",
      "source": [
        "# Apply LoRA adaptation to ClinicalT5\n",
        "# No LoRA, performance is even better\n",
        "\"\"\"\n",
        "lora_config = LoraConfig(\n",
        "    r=32,\n",
        "    lora_alpha=64,\n",
        "    target_modules=[\n",
        "        \"encoder.block.0.layer.0.SelfAttention.q\",\n",
        "        \"encoder.block.0.layer.0.SelfAttention.v\",\n",
        "        \"encoder.block.1.layer.0.SelfAttention.q\",\n",
        "        \"encoder.block.1.layer.0.SelfAttention.v\",\n",
        "        \"encoder.block.2.layer.0.SelfAttention.q\",\n",
        "        \"encoder.block.2.layer.0.SelfAttention.v\",\n",
        "        \"decoder.block.0.layer.0.SelfAttention.q\",\n",
        "        \"decoder.block.0.layer.0.SelfAttention.v\",\n",
        "        \"decoder.block.1.layer.0.SelfAttention.q\",\n",
        "        \"decoder.block.1.layer.0.SelfAttention.v\",\n",
        "        \"decoder.block.2.layer.0.SelfAttention.q\",\n",
        "        \"decoder.block.2.layer.0.SelfAttention.v\"\n",
        "    ],\n",
        "    lora_dropout=0.2,\n",
        "    task_type=\"SEQ_2_SEQ_LM\"\n",
        ")\n",
        "model = get_peft_model(model, lora_config)\n",
        "print(\"LoRA applied successfully!\")\n",
        "\"\"\""
      ],
      "metadata": {
        "colab": {
          "base_uri": "https://localhost:8080/",
          "height": 104
        },
        "id": "bHD2kpDSItrl",
        "outputId": "7ef764a1-219f-43f0-c1cc-86bb0774b2e1"
      },
      "execution_count": 8,
      "outputs": [
        {
          "output_type": "execute_result",
          "data": {
            "text/plain": [
              "'\\nlora_config = LoraConfig(\\n    r=32,\\n    lora_alpha=64,\\n    target_modules=[\\n        \"encoder.block.0.layer.0.SelfAttention.q\",\\n        \"encoder.block.0.layer.0.SelfAttention.v\",\\n        \"encoder.block.1.layer.0.SelfAttention.q\",\\n        \"encoder.block.1.layer.0.SelfAttention.v\",\\n        \"encoder.block.2.layer.0.SelfAttention.q\",\\n        \"encoder.block.2.layer.0.SelfAttention.v\",\\n        \"decoder.block.0.layer.0.SelfAttention.q\",\\n        \"decoder.block.0.layer.0.SelfAttention.v\",\\n        \"decoder.block.1.layer.0.SelfAttention.q\",\\n        \"decoder.block.1.layer.0.SelfAttention.v\",\\n        \"decoder.block.2.layer.0.SelfAttention.q\",\\n        \"decoder.block.2.layer.0.SelfAttention.v\"\\n    ],\\n    lora_dropout=0.2,\\n    task_type=\"SEQ_2_SEQ_LM\"\\n)\\nmodel = get_peft_model(model, lora_config)\\nprint(\"LoRA applied successfully!\")\\n'"
            ],
            "application/vnd.google.colaboratory.intrinsic+json": {
              "type": "string"
            }
          },
          "metadata": {},
          "execution_count": 8
        }
      ]
    },
    {
      "source": [
        "# Tokenization function\n",
        "def tokenize_texts(texts):\n",
        "    return tokenizer(texts.tolist(), padding=True, truncation=True, max_length=128, return_tensors=\"pt\")\n",
        "\n",
        "# Tokenize dataset\n",
        "train_encodings = tokenize_texts(train_data['symptoms'])\n",
        "val_encodings = tokenize_texts(val_data['symptoms'])\n",
        "train_labels_encodings = tokenize_texts(train_data['disease_label'].astype(str))\n",
        "val_labels_encodings = tokenize_texts(val_data['disease_label'].astype(str))\n",
        "\n",
        "# Dataset class\n",
        "class SymptomDataset(torch.utils.data.Dataset):\n",
        "    def __init__(self, encodings, labels_encodings):\n",
        "        self.encodings = encodings\n",
        "        self.labels_encodings = labels_encodings\n",
        "\n",
        "    def __len__(self):\n",
        "        return len(self.labels_encodings['input_ids'])\n",
        "\n",
        "    def __getitem__(self, idx):\n",
        "        item = {key: val[idx] for key, val in self.encodings.items()}\n",
        "        item['labels'] = self.labels_encodings['input_ids'][idx]\n",
        "        return item\n",
        "\n",
        "train_dataset = SymptomDataset(train_encodings, train_labels_encodings)\n",
        "val_dataset = SymptomDataset(val_encodings, val_labels_encodings)\n"
      ],
      "cell_type": "code",
      "metadata": {
        "id": "EKXZDUMKGxlZ"
      },
      "execution_count": 9,
      "outputs": []
    },
    {
      "cell_type": "markdown",
      "source": [
        "# Fine-tuning ClinicalT5"
      ],
      "metadata": {
        "id": "8M5A8x1w0FVZ"
      }
    },
    {
      "cell_type": "code",
      "source": [
        "# Fine-tuning ClinicalT5\n",
        "training_args = TrainingArguments(\n",
        "    output_dir=\"./results\",\n",
        "    evaluation_strategy=\"epoch\",\n",
        "    learning_rate=5e-5,\n",
        "    per_device_train_batch_size=32,\n",
        "    per_device_eval_batch_size=128,\n",
        "    num_train_epochs=30,\n",
        "    weight_decay=0.01,\n",
        "    gradient_accumulation_steps=4,\n",
        "    save_strategy=\"epoch\",\n",
        "    save_total_limit=2\n",
        ")\n",
        "\n",
        "trainer = Trainer(\n",
        "    model=model,\n",
        "    args=training_args,\n",
        "    train_dataset=train_dataset,\n",
        "    eval_dataset=val_dataset\n",
        ")\n"
      ],
      "metadata": {
        "id": "TNvk1yI60G1E",
        "colab": {
          "base_uri": "https://localhost:8080/"
        },
        "outputId": "fb208089-6e56-46ed-98b6-4d3a6a670f7d"
      },
      "execution_count": 10,
      "outputs": [
        {
          "output_type": "stream",
          "name": "stderr",
          "text": [
            "/usr/local/lib/python3.11/dist-packages/transformers/training_args.py:1575: FutureWarning: `evaluation_strategy` is deprecated and will be removed in version 4.46 of 🤗 Transformers. Use `eval_strategy` instead\n",
            "  warnings.warn(\n"
          ]
        }
      ]
    },
    {
      "cell_type": "code",
      "source": [
        "trainer.train()"
      ],
      "metadata": {
        "id": "cbWy5CVq0IvL",
        "colab": {
          "base_uri": "https://localhost:8080/",
          "height": 1000
        },
        "outputId": "f58e524f-2de4-4e4d-a1b2-cc0aa92fff13"
      },
      "execution_count": 11,
      "outputs": [
        {
          "output_type": "stream",
          "name": "stderr",
          "text": [
            "\u001b[34m\u001b[1mwandb\u001b[0m: \u001b[33mWARNING\u001b[0m The `run_name` is currently set to the same value as `TrainingArguments.output_dir`. If this was not intended, please specify a different run name by setting the `TrainingArguments.run_name` parameter.\n"
          ]
        },
        {
          "output_type": "display_data",
          "data": {
            "text/plain": [
              "<IPython.core.display.Javascript object>"
            ],
            "application/javascript": [
              "\n",
              "        window._wandbApiKey = new Promise((resolve, reject) => {\n",
              "            function loadScript(url) {\n",
              "            return new Promise(function(resolve, reject) {\n",
              "                let newScript = document.createElement(\"script\");\n",
              "                newScript.onerror = reject;\n",
              "                newScript.onload = resolve;\n",
              "                document.body.appendChild(newScript);\n",
              "                newScript.src = url;\n",
              "            });\n",
              "            }\n",
              "            loadScript(\"https://cdn.jsdelivr.net/npm/postmate/build/postmate.min.js\").then(() => {\n",
              "            const iframe = document.createElement('iframe')\n",
              "            iframe.style.cssText = \"width:0;height:0;border:none\"\n",
              "            document.body.appendChild(iframe)\n",
              "            const handshake = new Postmate({\n",
              "                container: iframe,\n",
              "                url: 'https://wandb.ai/authorize'\n",
              "            });\n",
              "            const timeout = setTimeout(() => reject(\"Couldn't auto authenticate\"), 5000)\n",
              "            handshake.then(function(child) {\n",
              "                child.on('authorize', data => {\n",
              "                    clearTimeout(timeout)\n",
              "                    resolve(data)\n",
              "                });\n",
              "            });\n",
              "            })\n",
              "        });\n",
              "    "
            ]
          },
          "metadata": {}
        },
        {
          "output_type": "stream",
          "name": "stderr",
          "text": [
            "\u001b[34m\u001b[1mwandb\u001b[0m: Logging into wandb.ai. (Learn how to deploy a W&B server locally: https://wandb.me/wandb-server)\n",
            "\u001b[34m\u001b[1mwandb\u001b[0m: You can find your API key in your browser here: https://wandb.ai/authorize\n",
            "wandb: Paste an API key from your profile and hit enter, or press ctrl+c to quit:"
          ]
        },
        {
          "name": "stdout",
          "output_type": "stream",
          "text": [
            " ··········\n"
          ]
        },
        {
          "output_type": "stream",
          "name": "stderr",
          "text": [
            "\u001b[34m\u001b[1mwandb\u001b[0m: Appending key for api.wandb.ai to your netrc file: /root/.netrc\n",
            "\u001b[34m\u001b[1mwandb\u001b[0m: Using wandb-core as the SDK backend.  Please refer to https://wandb.me/wandb-core for more information.\n"
          ]
        },
        {
          "output_type": "display_data",
          "data": {
            "text/plain": [
              "<IPython.core.display.HTML object>"
            ],
            "text/html": [
              "Tracking run with wandb version 0.19.4"
            ]
          },
          "metadata": {}
        },
        {
          "output_type": "display_data",
          "data": {
            "text/plain": [
              "<IPython.core.display.HTML object>"
            ],
            "text/html": [
              "Run data is saved locally in <code>/content/wandb/run-20250126_165214-1h6u7ikg</code>"
            ]
          },
          "metadata": {}
        },
        {
          "output_type": "display_data",
          "data": {
            "text/plain": [
              "<IPython.core.display.HTML object>"
            ],
            "text/html": [
              "Syncing run <strong><a href='https://wandb.ai/edmondchongyh-universiti-malaya-students-union/huggingface/runs/1h6u7ikg' target=\"_blank\">./results</a></strong> to <a href='https://wandb.ai/edmondchongyh-universiti-malaya-students-union/huggingface' target=\"_blank\">Weights & Biases</a> (<a href='https://wandb.me/developer-guide' target=\"_blank\">docs</a>)<br>"
            ]
          },
          "metadata": {}
        },
        {
          "output_type": "display_data",
          "data": {
            "text/plain": [
              "<IPython.core.display.HTML object>"
            ],
            "text/html": [
              " View project at <a href='https://wandb.ai/edmondchongyh-universiti-malaya-students-union/huggingface' target=\"_blank\">https://wandb.ai/edmondchongyh-universiti-malaya-students-union/huggingface</a>"
            ]
          },
          "metadata": {}
        },
        {
          "output_type": "display_data",
          "data": {
            "text/plain": [
              "<IPython.core.display.HTML object>"
            ],
            "text/html": [
              " View run at <a href='https://wandb.ai/edmondchongyh-universiti-malaya-students-union/huggingface/runs/1h6u7ikg' target=\"_blank\">https://wandb.ai/edmondchongyh-universiti-malaya-students-union/huggingface/runs/1h6u7ikg</a>"
            ]
          },
          "metadata": {}
        },
        {
          "output_type": "stream",
          "name": "stderr",
          "text": [
            "Passing a tuple of `past_key_values` is deprecated and will be removed in Transformers v4.48.0. You should pass an instance of `EncoderDecoderCache` instead, e.g. `past_key_values=EncoderDecoderCache.from_legacy_cache(past_key_values)`.\n"
          ]
        },
        {
          "output_type": "display_data",
          "data": {
            "text/plain": [
              "<IPython.core.display.HTML object>"
            ],
            "text/html": [
              "\n",
              "    <div>\n",
              "      \n",
              "      <progress value='1590' max='1590' style='width:300px; height:20px; vertical-align: middle;'></progress>\n",
              "      [1590/1590 16:18, Epoch 30/30]\n",
              "    </div>\n",
              "    <table border=\"1\" class=\"dataframe\">\n",
              "  <thead>\n",
              " <tr style=\"text-align: left;\">\n",
              "      <th>Epoch</th>\n",
              "      <th>Training Loss</th>\n",
              "      <th>Validation Loss</th>\n",
              "    </tr>\n",
              "  </thead>\n",
              "  <tbody>\n",
              "    <tr>\n",
              "      <td>1</td>\n",
              "      <td>No log</td>\n",
              "      <td>1.304275</td>\n",
              "    </tr>\n",
              "    <tr>\n",
              "      <td>2</td>\n",
              "      <td>No log</td>\n",
              "      <td>1.132808</td>\n",
              "    </tr>\n",
              "    <tr>\n",
              "      <td>3</td>\n",
              "      <td>No log</td>\n",
              "      <td>0.944849</td>\n",
              "    </tr>\n",
              "    <tr>\n",
              "      <td>4</td>\n",
              "      <td>No log</td>\n",
              "      <td>0.811076</td>\n",
              "    </tr>\n",
              "    <tr>\n",
              "      <td>5</td>\n",
              "      <td>No log</td>\n",
              "      <td>0.753371</td>\n",
              "    </tr>\n",
              "    <tr>\n",
              "      <td>6</td>\n",
              "      <td>No log</td>\n",
              "      <td>0.698859</td>\n",
              "    </tr>\n",
              "    <tr>\n",
              "      <td>7</td>\n",
              "      <td>No log</td>\n",
              "      <td>0.649047</td>\n",
              "    </tr>\n",
              "    <tr>\n",
              "      <td>8</td>\n",
              "      <td>No log</td>\n",
              "      <td>0.633790</td>\n",
              "    </tr>\n",
              "    <tr>\n",
              "      <td>9</td>\n",
              "      <td>No log</td>\n",
              "      <td>0.609539</td>\n",
              "    </tr>\n",
              "    <tr>\n",
              "      <td>10</td>\n",
              "      <td>4.923900</td>\n",
              "      <td>0.599241</td>\n",
              "    </tr>\n",
              "    <tr>\n",
              "      <td>11</td>\n",
              "      <td>4.923900</td>\n",
              "      <td>0.587926</td>\n",
              "    </tr>\n",
              "    <tr>\n",
              "      <td>12</td>\n",
              "      <td>4.923900</td>\n",
              "      <td>0.570120</td>\n",
              "    </tr>\n",
              "    <tr>\n",
              "      <td>13</td>\n",
              "      <td>4.923900</td>\n",
              "      <td>0.556677</td>\n",
              "    </tr>\n",
              "    <tr>\n",
              "      <td>14</td>\n",
              "      <td>4.923900</td>\n",
              "      <td>0.547094</td>\n",
              "    </tr>\n",
              "    <tr>\n",
              "      <td>15</td>\n",
              "      <td>4.923900</td>\n",
              "      <td>0.537539</td>\n",
              "    </tr>\n",
              "    <tr>\n",
              "      <td>16</td>\n",
              "      <td>4.923900</td>\n",
              "      <td>0.534271</td>\n",
              "    </tr>\n",
              "    <tr>\n",
              "      <td>17</td>\n",
              "      <td>4.923900</td>\n",
              "      <td>0.533554</td>\n",
              "    </tr>\n",
              "    <tr>\n",
              "      <td>18</td>\n",
              "      <td>4.923900</td>\n",
              "      <td>0.522687</td>\n",
              "    </tr>\n",
              "    <tr>\n",
              "      <td>19</td>\n",
              "      <td>2.235400</td>\n",
              "      <td>0.515402</td>\n",
              "    </tr>\n",
              "    <tr>\n",
              "      <td>20</td>\n",
              "      <td>2.235400</td>\n",
              "      <td>0.517425</td>\n",
              "    </tr>\n",
              "    <tr>\n",
              "      <td>21</td>\n",
              "      <td>2.235400</td>\n",
              "      <td>0.514038</td>\n",
              "    </tr>\n",
              "    <tr>\n",
              "      <td>22</td>\n",
              "      <td>2.235400</td>\n",
              "      <td>0.515549</td>\n",
              "    </tr>\n",
              "    <tr>\n",
              "      <td>23</td>\n",
              "      <td>2.235400</td>\n",
              "      <td>0.512874</td>\n",
              "    </tr>\n",
              "    <tr>\n",
              "      <td>24</td>\n",
              "      <td>2.235400</td>\n",
              "      <td>0.510604</td>\n",
              "    </tr>\n",
              "    <tr>\n",
              "      <td>25</td>\n",
              "      <td>2.235400</td>\n",
              "      <td>0.510882</td>\n",
              "    </tr>\n",
              "    <tr>\n",
              "      <td>26</td>\n",
              "      <td>2.235400</td>\n",
              "      <td>0.510693</td>\n",
              "    </tr>\n",
              "    <tr>\n",
              "      <td>27</td>\n",
              "      <td>2.235400</td>\n",
              "      <td>0.507868</td>\n",
              "    </tr>\n",
              "    <tr>\n",
              "      <td>28</td>\n",
              "      <td>2.235400</td>\n",
              "      <td>0.507191</td>\n",
              "    </tr>\n",
              "    <tr>\n",
              "      <td>29</td>\n",
              "      <td>2.008700</td>\n",
              "      <td>0.506725</td>\n",
              "    </tr>\n",
              "    <tr>\n",
              "      <td>30</td>\n",
              "      <td>2.008700</td>\n",
              "      <td>0.506428</td>\n",
              "    </tr>\n",
              "  </tbody>\n",
              "</table><p>"
            ]
          },
          "metadata": {}
        },
        {
          "output_type": "execute_result",
          "data": {
            "text/plain": [
              "TrainOutput(global_step=1590, training_loss=2.9929910431867874, metrics={'train_runtime': 1000.5071, 'train_samples_per_second': 203.297, 'train_steps_per_second': 1.589, 'total_flos': 1.1853983812608e+16, 'train_loss': 2.9929910431867874, 'epoch': 30.0})"
            ]
          },
          "metadata": {},
          "execution_count": 11
        }
      ]
    },
    {
      "cell_type": "markdown",
      "source": [
        "# Generate ClinicalT5 Embedding for MLs"
      ],
      "metadata": {
        "id": "wYtSipsG0hBv"
      }
    },
    {
      "cell_type": "code",
      "source": [
        "# Inference function\n",
        "def predict_disease(symptoms):\n",
        "    input_text = \"predict disease: \" + symptoms\n",
        "    inputs = tokenizer(input_text, return_tensors=\"pt\", truncation=True, padding=True, max_length=128).to(device)\n",
        "    with torch.no_grad():\n",
        "        output = model.generate(**inputs)\n",
        "    return tokenizer.decode(output[0], skip_special_tokens=True)\n",
        "\n",
        "# Generate embeddings\n",
        "def generate_t5_embeddings(data, column, batch_size=16):\n",
        "    dataset = [text for text in data[column].tolist()]\n",
        "    all_embeddings = []\n",
        "\n",
        "    for i in range(0, len(dataset), batch_size):\n",
        "        batch = dataset[i:i+batch_size]\n",
        "        inputs = tokenizer(batch, return_tensors=\"pt\", padding=True, truncation=True, max_length=128).to(device)\n",
        "        with torch.no_grad():\n",
        "            encoder_outputs = model.encoder(**inputs)\n",
        "            embeddings = encoder_outputs.last_hidden_state.mean(dim=1).cpu().numpy()\n",
        "            all_embeddings.extend(embeddings)\n",
        "\n",
        "    return np.array(all_embeddings)\n",
        "\n",
        "train_embeddings = generate_t5_embeddings(train_data, \"symptoms\")\n",
        "val_embeddings = generate_t5_embeddings(val_data, \"symptoms\")\n",
        "test_embeddings = generate_t5_embeddings(test_data, \"symptoms\")\n",
        "\n",
        "# Apply PCA before ML classification\n",
        "pca = PCA(n_components=50)\n",
        "train_embeddings_pca = pca.fit_transform(train_embeddings)\n",
        "val_embeddings_pca = pca.transform(val_embeddings)\n",
        "test_embeddings_pca = pca.transform(test_embeddings)\n"
      ],
      "metadata": {
        "id": "IMrafr0yYDCK"
      },
      "execution_count": 12,
      "outputs": []
    },
    {
      "cell_type": "markdown",
      "source": [
        "# UMAP (Uniform Manifold Approximation and Projection)\n",
        "\n"
      ],
      "metadata": {
        "id": "EVf_DuQeWcmj"
      }
    },
    {
      "cell_type": "code",
      "source": [
        "import umap.umap_ as umap\n",
        "import matplotlib.pyplot as plt\n",
        "import numpy as np\n",
        "\n",
        "# Generate test embeddings (ensure this is executed before using UMAP)\n",
        "# test_embeddings should already be generated using your generate_embeddings function.\n",
        "test_labels = torch.tensor(test_data['disease_label'].values, device=device)\n",
        "\n",
        "# Convert test labels to NumPy for easier handling\n",
        "labels = test_labels.cpu().numpy()  # Ensure this is defined and matches the test dataset\n",
        "\n",
        "# Reduce dimensions using UMAP\n",
        "print(\"Reducing dimensions using UMAP...\")\n",
        "umap_model = umap.UMAP(n_components=2, random_state=42)\n",
        "reduced_embeddings = umap_model.fit_transform(test_embeddings)\n",
        "\n",
        "# Map numeric labels to disease names\n",
        "disease_names = label_encoder.inverse_transform(labels)  # Map numeric labels to actual disease names\n",
        "\n",
        "# Plot the 2D representation\n",
        "plt.figure(figsize=(12, 10))\n",
        "unique_labels = np.unique(disease_names)\n",
        "\n",
        "for disease in unique_labels:\n",
        "    indices = np.where(disease_names == disease)\n",
        "    plt.scatter(\n",
        "        reduced_embeddings[indices, 0], reduced_embeddings[indices, 1],\n",
        "        label=disease, alpha=0.7\n",
        "    )\n",
        "\n",
        "plt.legend(bbox_to_anchor=(1.05, 1), loc='upper left', fontsize='small')\n",
        "plt.title(\"UMAP Visualization of ClinicalT5 Embeddings\")\n",
        "plt.xlabel(\"UMAP Dimension 1\")\n",
        "plt.ylabel(\"UMAP Dimension 2\")\n",
        "plt.tight_layout()\n",
        "plt.show()\n"
      ],
      "metadata": {
        "id": "GLvVvAa-Wdqw",
        "colab": {
          "base_uri": "https://localhost:8080/",
          "height": 1000
        },
        "outputId": "da8ef3a0-c842-41a2-bab7-b5aa9675ecbc"
      },
      "execution_count": 13,
      "outputs": [
        {
          "output_type": "stream",
          "name": "stdout",
          "text": [
            "Reducing dimensions using UMAP...\n"
          ]
        },
        {
          "output_type": "stream",
          "name": "stderr",
          "text": [
            "/usr/local/lib/python3.11/dist-packages/sklearn/utils/deprecation.py:151: FutureWarning: 'force_all_finite' was renamed to 'ensure_all_finite' in 1.6 and will be removed in 1.8.\n",
            "  warnings.warn(\n",
            "/usr/local/lib/python3.11/dist-packages/umap/umap_.py:1952: UserWarning: n_jobs value 1 overridden to 1 by setting random_state. Use no seed for parallelism.\n",
            "  warn(\n"
          ]
        },
        {
          "output_type": "display_data",
          "data": {
            "text/plain": [
              "<Figure size 1200x1000 with 1 Axes>"
            ],
            "image/png": "[encoded data removed]"
          },
          "metadata": {}
        }
      ]
    },
    {
      "cell_type": "markdown",
      "source": [
        "# Naive Bayes"
      ],
      "metadata": {
        "id": "1pGLMstX0o8q"
      }
    },
    {
      "source": [
        "# Train Naive Bayes\n",
        "nb_model = GaussianNB()\n",
        "nb_model.fit(train_embeddings, train_data['disease_label']) # Change 'encoded_labels' to 'disease_label'\n",
        "\n",
        "# Validate the Model\n",
        "val_preds = nb_model.predict(val_embeddings)\n",
        "val_report = classification_report(val_data['disease_label'], val_preds, target_names=label_encoder.classes_, output_dict=True) # Change val_labels to val_data['disease_label']\n",
        "print(\"Validation Report:\")\n",
        "print(pd.DataFrame(val_report))\n",
        "\n",
        "# Test the Model\n",
        "test_preds = nb_model.predict(test_embeddings)\n",
        "test_report = classification_report(test_data['disease_label'], test_preds, target_names=label_encoder.classes_, output_dict=True) # Change test_labels to test_data['disease_label']\n",
        "print(\"Test Report:\")\n",
        "print(pd.DataFrame(test_report))"
      ],
      "cell_type": "code",
      "metadata": {
        "id": "28zwdIC7tcN2",
        "colab": {
          "base_uri": "https://localhost:8080/"
        },
        "outputId": "66c976e1-a02b-4d09-c545-9cd61caecbe8"
      },
      "execution_count": 14,
      "outputs": [
        {
          "output_type": "stream",
          "name": "stdout",
          "text": [
            "Validation Report:\n",
            "           adenocarcinoma  adhesion  affect labile  arthritis     asthma  \\\n",
            "precision        0.500000  1.000000            0.0   0.227273   0.428571   \n",
            "recall           1.000000  0.500000            0.0   0.625000   1.000000   \n",
            "f1-score         0.666667  0.666667            0.0   0.333333   0.600000   \n",
            "support         12.000000  8.000000            4.0   8.000000  12.000000   \n",
            "\n",
            "           benign prostatic hypertrophy  biliary calculus  carcinoma breast  \\\n",
            "precision                           0.0          0.500000          0.454545   \n",
            "recall                              0.0          0.083333          0.625000   \n",
            "f1-score                            0.0          0.142857          0.526316   \n",
            "support                             4.0         48.000000          8.000000   \n",
            "\n",
            "           chronic obstructive airway disease  cirrhosis  ...  pyelonephritis  \\\n",
            "precision                            0.500000   0.500000  ...        0.384615   \n",
            "recall                               0.200000   1.000000  ...        0.375000   \n",
            "f1-score                             0.285714   0.666667  ...        0.379747   \n",
            "support                             20.000000   8.000000  ...       40.000000   \n",
            "\n",
            "           schizophrenia  sickle cell anemia  stenosis aortic valve  \\\n",
            "precision            0.0            0.400000               0.238806   \n",
            "recall               0.0            0.666667               0.666667   \n",
            "f1-score             0.0            0.500000               0.351648   \n",
            "support              8.0           12.000000              24.000000   \n",
            "\n",
            "           tachycardia sinus   thrombus  tricuspid valve insufficiency  \\\n",
            "precision           0.130435   0.181818                            0.0   \n",
            "recall              0.375000   0.666667                            0.0   \n",
            "f1-score            0.193548   0.285714                            0.0   \n",
            "support             8.000000  12.000000                            8.0   \n",
            "\n",
            "           accuracy   macro avg  weighted avg  \n",
            "precision  0.356459    0.291293      0.356798  \n",
            "recall     0.356459    0.357830      0.356459  \n",
            "f1-score   0.356459    0.281447      0.308836  \n",
            "support    0.356459  836.000000    836.000000  \n",
            "\n",
            "[4 rows x 51 columns]\n",
            "Test Report:\n",
            "           adenocarcinoma  adhesion  affect labile  arthritis     asthma  \\\n",
            "precision        0.400000  0.117647            0.0        0.0   0.387097   \n",
            "recall           0.666667  0.500000            0.0        0.0   1.000000   \n",
            "f1-score         0.500000  0.190476            0.0        0.0   0.558140   \n",
            "support         12.000000  8.000000            4.0        8.0  12.000000   \n",
            "\n",
            "           benign prostatic hypertrophy  biliary calculus  carcinoma breast  \\\n",
            "precision                           0.0          0.500000               0.0   \n",
            "recall                              0.0          0.083333               0.0   \n",
            "f1-score                            0.0          0.142857               0.0   \n",
            "support                             4.0         48.000000               8.0   \n",
            "\n",
            "           chronic obstructive airway disease  cirrhosis  ...  pyelonephritis  \\\n",
            "precision                            0.500000   0.400000  ...        0.389831   \n",
            "recall                               0.200000   0.500000  ...        0.522727   \n",
            "f1-score                             0.285714   0.444444  ...        0.446602   \n",
            "support                             20.000000  16.000000  ...       44.000000   \n",
            "\n",
            "           schizophrenia  sickle cell anemia  stenosis aortic valve  \\\n",
            "precision            0.0                 0.0                    0.5   \n",
            "recall               0.0                 0.0                    0.5   \n",
            "f1-score             0.0                 0.0                    0.5   \n",
            "support              8.0                 4.0                   16.0   \n",
            "\n",
            "           tachycardia sinus   thrombus  tricuspid valve insufficiency  \\\n",
            "precision                0.0   0.500000                       0.100000   \n",
            "recall                   0.0   0.333333                       0.333333   \n",
            "f1-score                 0.0   0.400000                       0.153846   \n",
            "support                 12.0  12.000000                      12.000000   \n",
            "\n",
            "           accuracy   macro avg  weighted avg  \n",
            "precision  0.362385    0.292480      0.357975  \n",
            "recall     0.362385    0.368833      0.362385  \n",
            "f1-score   0.362385    0.290745      0.309274  \n",
            "support    0.362385  872.000000    872.000000  \n",
            "\n",
            "[4 rows x 51 columns]\n"
          ]
        },
        {
          "output_type": "stream",
          "name": "stderr",
          "text": [
            "/usr/local/lib/python3.11/dist-packages/sklearn/metrics/_classification.py:1565: UndefinedMetricWarning: Precision is ill-defined and being set to 0.0 in labels with no predicted samples. Use `zero_division` parameter to control this behavior.\n",
            "  _warn_prf(average, modifier, f\"{metric.capitalize()} is\", len(result))\n",
            "/usr/local/lib/python3.11/dist-packages/sklearn/metrics/_classification.py:1565: UndefinedMetricWarning: Precision is ill-defined and being set to 0.0 in labels with no predicted samples. Use `zero_division` parameter to control this behavior.\n",
            "  _warn_prf(average, modifier, f\"{metric.capitalize()} is\", len(result))\n",
            "/usr/local/lib/python3.11/dist-packages/sklearn/metrics/_classification.py:1565: UndefinedMetricWarning: Precision is ill-defined and being set to 0.0 in labels with no predicted samples. Use `zero_division` parameter to control this behavior.\n",
            "  _warn_prf(average, modifier, f\"{metric.capitalize()} is\", len(result))\n",
            "/usr/local/lib/python3.11/dist-packages/sklearn/metrics/_classification.py:1565: UndefinedMetricWarning: Precision is ill-defined and being set to 0.0 in labels with no predicted samples. Use `zero_division` parameter to control this behavior.\n",
            "  _warn_prf(average, modifier, f\"{metric.capitalize()} is\", len(result))\n",
            "/usr/local/lib/python3.11/dist-packages/sklearn/metrics/_classification.py:1565: UndefinedMetricWarning: Precision is ill-defined and being set to 0.0 in labels with no predicted samples. Use `zero_division` parameter to control this behavior.\n",
            "  _warn_prf(average, modifier, f\"{metric.capitalize()} is\", len(result))\n",
            "/usr/local/lib/python3.11/dist-packages/sklearn/metrics/_classification.py:1565: UndefinedMetricWarning: Precision is ill-defined and being set to 0.0 in labels with no predicted samples. Use `zero_division` parameter to control this behavior.\n",
            "  _warn_prf(average, modifier, f\"{metric.capitalize()} is\", len(result))\n"
          ]
        }
      ]
    },
    {
      "cell_type": "code",
      "source": [
        "# Save Classification Report to CSV\n",
        "test_report_df = pd.DataFrame(test_report).transpose()\n",
        "test_report_path = \"/content/drive/MyDrive/P2/T1/Dataset/overlapped/LLM + ML/clinicalT5-nb-o-class.csv\"\n",
        "test_report_df.to_csv(test_report_path, index=True)\n",
        "print(f\"Classification report saved to {test_report_path}\")"
      ],
      "metadata": {
        "id": "QPxbI23S0nK7",
        "colab": {
          "base_uri": "https://localhost:8080/"
        },
        "outputId": "7d731403-5264-4dee-fdc1-34e0c1ab40b2"
      },
      "execution_count": 15,
      "outputs": [
        {
          "output_type": "stream",
          "name": "stdout",
          "text": [
            "Classification report saved to /content/drive/MyDrive/P2/T1/Dataset/overlapped/LLM + ML/clinicalT5-nb-o-class.csv\n"
          ]
        }
      ]
    },
    {
      "cell_type": "markdown",
      "source": [
        "# Random Forest"
      ],
      "metadata": {
        "id": "N0pP4bNjYNRf"
      }
    },
    {
      "cell_type": "code",
      "source": [
        "from sklearn.ensemble import RandomForestClassifier\n",
        "\n",
        "# Train Random Forest on Embeddings\n",
        "rf_model = RandomForestClassifier(n_estimators=100, random_state=42)\n",
        "rf_model.fit(train_embeddings, train_data['disease_label'])\n",
        "\n",
        "# Validate the Model\n",
        "val_preds = rf_model.predict(val_embeddings)\n",
        "val_report = classification_report(val_data['disease_label'], val_preds, target_names=label_encoder.classes_, output_dict=True) # Make sure val_labels is defined and contains the validation labels\n",
        "print(\"Validation Report:\")\n",
        "print(pd.DataFrame(val_report))\n",
        "\n",
        "# Test the Model\n",
        "test_preds = rf_model.predict(test_embeddings)\n",
        "test_report = classification_report(test_data['disease_label'], test_preds, target_names=label_encoder.classes_, output_dict=True) # Make sure test_labels is defined and contains the test labels\n",
        "print(\"Test Report:\")\n",
        "print(pd.DataFrame(test_report))\n"
      ],
      "metadata": {
        "id": "fIhomfBaYOig",
        "colab": {
          "base_uri": "https://localhost:8080/"
        },
        "outputId": "8a8e5052-d0f5-421d-cd90-f22e6d2665c9"
      },
      "execution_count": 16,
      "outputs": [
        {
          "output_type": "stream",
          "name": "stdout",
          "text": [
            "Validation Report:\n",
            "           adenocarcinoma  adhesion  affect labile  arthritis     asthma  \\\n",
            "precision        0.461538       0.0            0.0   0.666667   0.444444   \n",
            "recall           0.500000       0.0            0.0   0.500000   0.333333   \n",
            "f1-score         0.480000       0.0            0.0   0.571429   0.380952   \n",
            "support         12.000000       8.0            4.0   8.000000  12.000000   \n",
            "\n",
            "           benign prostatic hypertrophy  biliary calculus  carcinoma breast  \\\n",
            "precision                           0.0          0.526316          0.533333   \n",
            "recall                              0.0          0.208333          1.000000   \n",
            "f1-score                            0.0          0.298507          0.695652   \n",
            "support                             4.0         48.000000          8.000000   \n",
            "\n",
            "           chronic obstructive airway disease  cirrhosis  ...  pyelonephritis  \\\n",
            "precision                            0.416667   0.500000  ...        0.424242   \n",
            "recall                               0.750000   1.000000  ...        0.350000   \n",
            "f1-score                             0.535714   0.666667  ...        0.383562   \n",
            "support                             20.000000   8.000000  ...       40.000000   \n",
            "\n",
            "           schizophrenia  sickle cell anemia  stenosis aortic valve  \\\n",
            "precision            0.0            0.333333               0.222222   \n",
            "recall               0.0            0.500000               0.250000   \n",
            "f1-score             0.0            0.400000               0.235294   \n",
            "support              8.0           12.000000              24.000000   \n",
            "\n",
            "           tachycardia sinus  thrombus  tricuspid valve insufficiency  \\\n",
            "precision                0.0       0.5                       0.300000   \n",
            "recall                   0.0       0.5                       0.375000   \n",
            "f1-score                 0.0       0.5                       0.333333   \n",
            "support                  8.0      12.0                       8.000000   \n",
            "\n",
            "           accuracy   macro avg  weighted avg  \n",
            "precision  0.380383    0.338027      0.385155  \n",
            "recall     0.380383    0.332198      0.380383  \n",
            "f1-score   0.380383    0.293856      0.343911  \n",
            "support    0.380383  836.000000    836.000000  \n",
            "\n",
            "[4 rows x 51 columns]\n",
            "Test Report:\n",
            "           adenocarcinoma  adhesion  affect labile  arthritis     asthma  \\\n",
            "precision        0.333333  0.235294            0.0   0.285714   0.500000   \n",
            "recall           0.333333  0.500000            0.0   0.500000   0.416667   \n",
            "f1-score         0.333333  0.320000            0.0   0.363636   0.454545   \n",
            "support         12.000000  8.000000            4.0   8.000000  12.000000   \n",
            "\n",
            "           benign prostatic hypertrophy  biliary calculus  carcinoma breast  \\\n",
            "precision                           0.0          0.419355               0.5   \n",
            "recall                              0.0          0.541667               0.5   \n",
            "f1-score                            0.0          0.472727               0.5   \n",
            "support                             4.0         48.000000               8.0   \n",
            "\n",
            "           chronic obstructive airway disease  cirrhosis  ...  pyelonephritis  \\\n",
            "precision                            0.394737   0.400000  ...        0.448276   \n",
            "recall                               0.750000   0.500000  ...        0.590909   \n",
            "f1-score                             0.517241   0.444444  ...        0.509804   \n",
            "support                             20.000000  16.000000  ...       44.000000   \n",
            "\n",
            "           schizophrenia  sickle cell anemia  stenosis aortic valve  \\\n",
            "precision            0.0                 0.0               0.333333   \n",
            "recall               0.0                 0.0               0.375000   \n",
            "f1-score             0.0                 0.0               0.352941   \n",
            "support              8.0                 4.0              16.000000   \n",
            "\n",
            "           tachycardia sinus   thrombus  tricuspid valve insufficiency  \\\n",
            "precision                0.0   1.000000                       0.086957   \n",
            "recall                   0.0   0.083333                       0.166667   \n",
            "f1-score                 0.0   0.153846                       0.114286   \n",
            "support                 12.0  12.000000                      12.000000   \n",
            "\n",
            "           accuracy   macro avg  weighted avg  \n",
            "precision  0.373853    0.312164      0.364327  \n",
            "recall     0.373853    0.304859      0.373853  \n",
            "f1-score   0.373853    0.275518      0.341734  \n",
            "support    0.373853  872.000000    872.000000  \n",
            "\n",
            "[4 rows x 51 columns]\n"
          ]
        },
        {
          "output_type": "stream",
          "name": "stderr",
          "text": [
            "/usr/local/lib/python3.11/dist-packages/sklearn/metrics/_classification.py:1565: UndefinedMetricWarning: Precision is ill-defined and being set to 0.0 in labels with no predicted samples. Use `zero_division` parameter to control this behavior.\n",
            "  _warn_prf(average, modifier, f\"{metric.capitalize()} is\", len(result))\n",
            "/usr/local/lib/python3.11/dist-packages/sklearn/metrics/_classification.py:1565: UndefinedMetricWarning: Precision is ill-defined and being set to 0.0 in labels with no predicted samples. Use `zero_division` parameter to control this behavior.\n",
            "  _warn_prf(average, modifier, f\"{metric.capitalize()} is\", len(result))\n",
            "/usr/local/lib/python3.11/dist-packages/sklearn/metrics/_classification.py:1565: UndefinedMetricWarning: Precision is ill-defined and being set to 0.0 in labels with no predicted samples. Use `zero_division` parameter to control this behavior.\n",
            "  _warn_prf(average, modifier, f\"{metric.capitalize()} is\", len(result))\n",
            "/usr/local/lib/python3.11/dist-packages/sklearn/metrics/_classification.py:1565: UndefinedMetricWarning: Precision is ill-defined and being set to 0.0 in labels with no predicted samples. Use `zero_division` parameter to control this behavior.\n",
            "  _warn_prf(average, modifier, f\"{metric.capitalize()} is\", len(result))\n",
            "/usr/local/lib/python3.11/dist-packages/sklearn/metrics/_classification.py:1565: UndefinedMetricWarning: Precision is ill-defined and being set to 0.0 in labels with no predicted samples. Use `zero_division` parameter to control this behavior.\n",
            "  _warn_prf(average, modifier, f\"{metric.capitalize()} is\", len(result))\n",
            "/usr/local/lib/python3.11/dist-packages/sklearn/metrics/_classification.py:1565: UndefinedMetricWarning: Precision is ill-defined and being set to 0.0 in labels with no predicted samples. Use `zero_division` parameter to control this behavior.\n",
            "  _warn_prf(average, modifier, f\"{metric.capitalize()} is\", len(result))\n"
          ]
        }
      ]
    },
    {
      "cell_type": "code",
      "source": [
        "# Save Classification Report to CSV\n",
        "test_report_df = pd.DataFrame(test_report).transpose()\n",
        "test_report_path = \"/content/drive/MyDrive/P2/T1/Dataset/overlapped/LLM + ML/clinicalT5-rf-o-class.csv\"\n",
        "test_report_df.to_csv(test_report_path, index=True)\n",
        "print(f\"Classification report saved to {test_report_path}\")"
      ],
      "metadata": {
        "id": "DMvliuFkYQ5m",
        "colab": {
          "base_uri": "https://localhost:8080/"
        },
        "outputId": "fbca0938-5d9a-4758-e04d-16cea1ffc1d4"
      },
      "execution_count": 17,
      "outputs": [
        {
          "output_type": "stream",
          "name": "stdout",
          "text": [
            "Classification report saved to /content/drive/MyDrive/P2/T1/Dataset/overlapped/LLM + ML/clinicalT5-rf-o-class.csv\n"
          ]
        }
      ]
    },
    {
      "cell_type": "markdown",
      "source": [
        "# Support Vector Classifier"
      ],
      "metadata": {
        "id": "_wRpdsTwYnGG"
      }
    },
    {
      "cell_type": "code",
      "source": [
        "# Train Support Vector Classifier (SVC) on Embeddings\n",
        "from sklearn.svm import SVC\n",
        "\n",
        "svc_model = SVC(kernel='linear', random_state=42)\n",
        "svc_model.fit(train_embeddings, train_data['disease_label'])\n",
        "\n",
        "# Validate the Model\n",
        "val_preds = svc_model.predict(val_embeddings)\n",
        "val_report = classification_report(val_data['disease_label'], val_preds, target_names=label_encoder.classes_, output_dict=True)\n",
        "print(\"Validation Report:\")\n",
        "print(pd.DataFrame(val_report))\n",
        "\n",
        "# Test the Model\n",
        "test_preds = svc_model.predict(test_embeddings)\n",
        "test_report = classification_report(test_data['disease_label'], test_preds, target_names=label_encoder.classes_, output_dict=True)\n",
        "print(\"Test Report:\")\n",
        "print(pd.DataFrame(test_report))\n"
      ],
      "metadata": {
        "id": "Uz9L0yEnYoEV",
        "colab": {
          "base_uri": "https://localhost:8080/"
        },
        "outputId": "cf15d91b-baa0-4f2e-834c-da5992a72592"
      },
      "execution_count": 18,
      "outputs": [
        {
          "output_type": "stream",
          "name": "stderr",
          "text": [
            "/usr/local/lib/python3.11/dist-packages/sklearn/metrics/_classification.py:1565: UndefinedMetricWarning: Precision is ill-defined and being set to 0.0 in labels with no predicted samples. Use `zero_division` parameter to control this behavior.\n",
            "  _warn_prf(average, modifier, f\"{metric.capitalize()} is\", len(result))\n",
            "/usr/local/lib/python3.11/dist-packages/sklearn/metrics/_classification.py:1565: UndefinedMetricWarning: Precision is ill-defined and being set to 0.0 in labels with no predicted samples. Use `zero_division` parameter to control this behavior.\n",
            "  _warn_prf(average, modifier, f\"{metric.capitalize()} is\", len(result))\n",
            "/usr/local/lib/python3.11/dist-packages/sklearn/metrics/_classification.py:1565: UndefinedMetricWarning: Precision is ill-defined and being set to 0.0 in labels with no predicted samples. Use `zero_division` parameter to control this behavior.\n",
            "  _warn_prf(average, modifier, f\"{metric.capitalize()} is\", len(result))\n"
          ]
        },
        {
          "output_type": "stream",
          "name": "stdout",
          "text": [
            "Validation Report:\n",
            "           adenocarcinoma  adhesion  affect labile  arthritis     asthma  \\\n",
            "precision        0.500000       0.0            0.0   0.428571   0.571429   \n",
            "recall           1.000000       0.0            0.0   0.750000   0.666667   \n",
            "f1-score         0.666667       0.0            0.0   0.545455   0.615385   \n",
            "support         12.000000       8.0            4.0   8.000000  12.000000   \n",
            "\n",
            "           benign prostatic hypertrophy  biliary calculus  carcinoma breast  \\\n",
            "precision                           0.0          0.382979               0.0   \n",
            "recall                              0.0          0.375000               0.0   \n",
            "f1-score                            0.0          0.378947               0.0   \n",
            "support                             4.0         48.000000               8.0   \n",
            "\n",
            "           chronic obstructive airway disease  cirrhosis  ...  pyelonephritis  \\\n",
            "precision                            0.428571   0.500000  ...        0.468750   \n",
            "recall                               0.450000   1.000000  ...        0.375000   \n",
            "f1-score                             0.439024   0.666667  ...        0.416667   \n",
            "support                             20.000000   8.000000  ...       40.000000   \n",
            "\n",
            "           schizophrenia  sickle cell anemia  stenosis aortic valve  \\\n",
            "precision            0.0            0.312500               0.466667   \n",
            "recall               0.0            0.416667               0.291667   \n",
            "f1-score             0.0            0.357143               0.358974   \n",
            "support              8.0           12.000000              24.000000   \n",
            "\n",
            "           tachycardia sinus  thrombus  tricuspid valve insufficiency  \\\n",
            "precision                0.0       0.5                       0.400000   \n",
            "recall                   0.0       0.5                       0.500000   \n",
            "f1-score                 0.0       0.5                       0.444444   \n",
            "support                  8.0      12.0                       8.000000   \n",
            "\n",
            "           accuracy   macro avg  weighted avg  \n",
            "precision  0.406699    0.329332      0.372199  \n",
            "recall     0.406699    0.369482      0.406699  \n",
            "f1-score   0.406699    0.324918      0.370696  \n",
            "support    0.406699  836.000000    836.000000  \n",
            "\n",
            "[4 rows x 51 columns]\n",
            "Test Report:\n",
            "           adenocarcinoma  adhesion  affect labile  arthritis     asthma  \\\n",
            "precision        0.146341  0.222222            0.0   0.444444   0.529412   \n",
            "recall           0.500000  0.250000            0.0   0.500000   0.750000   \n",
            "f1-score         0.226415  0.235294            0.0   0.470588   0.620690   \n",
            "support         12.000000  8.000000            4.0   8.000000  12.000000   \n",
            "\n",
            "           benign prostatic hypertrophy  biliary calculus  carcinoma breast  \\\n",
            "precision                           0.0          0.440678               0.0   \n",
            "recall                              0.0          0.541667               0.0   \n",
            "f1-score                            0.0          0.485981               0.0   \n",
            "support                             4.0         48.000000               8.0   \n",
            "\n",
            "           chronic obstructive airway disease  cirrhosis  ...  pyelonephritis  \\\n",
            "precision                            0.416667   0.500000  ...        0.431818   \n",
            "recall                               0.250000   0.250000  ...        0.431818   \n",
            "f1-score                             0.312500   0.333333  ...        0.431818   \n",
            "support                             20.000000  16.000000  ...       44.000000   \n",
            "\n",
            "           schizophrenia  sickle cell anemia  stenosis aortic valve  \\\n",
            "precision            0.0                 0.0               0.500000   \n",
            "recall               0.0                 0.0               0.437500   \n",
            "f1-score             0.0                 0.0               0.466667   \n",
            "support              8.0                 4.0              16.000000   \n",
            "\n",
            "           tachycardia sinus   thrombus  tricuspid valve insufficiency  \\\n",
            "precision                0.0   0.500000                       0.200000   \n",
            "recall                   0.0   0.333333                       0.333333   \n",
            "f1-score                 0.0   0.400000                       0.250000   \n",
            "support                 12.0  12.000000                      12.000000   \n",
            "\n",
            "           accuracy   macro avg  weighted avg  \n",
            "precision  0.373853    0.342954      0.382981  \n",
            "recall     0.373853    0.332192      0.373853  \n",
            "f1-score   0.373853    0.314193      0.356761  \n",
            "support    0.373853  872.000000    872.000000  \n",
            "\n",
            "[4 rows x 51 columns]\n"
          ]
        },
        {
          "output_type": "stream",
          "name": "stderr",
          "text": [
            "/usr/local/lib/python3.11/dist-packages/sklearn/metrics/_classification.py:1565: UndefinedMetricWarning: Precision is ill-defined and being set to 0.0 in labels with no predicted samples. Use `zero_division` parameter to control this behavior.\n",
            "  _warn_prf(average, modifier, f\"{metric.capitalize()} is\", len(result))\n",
            "/usr/local/lib/python3.11/dist-packages/sklearn/metrics/_classification.py:1565: UndefinedMetricWarning: Precision is ill-defined and being set to 0.0 in labels with no predicted samples. Use `zero_division` parameter to control this behavior.\n",
            "  _warn_prf(average, modifier, f\"{metric.capitalize()} is\", len(result))\n",
            "/usr/local/lib/python3.11/dist-packages/sklearn/metrics/_classification.py:1565: UndefinedMetricWarning: Precision is ill-defined and being set to 0.0 in labels with no predicted samples. Use `zero_division` parameter to control this behavior.\n",
            "  _warn_prf(average, modifier, f\"{metric.capitalize()} is\", len(result))\n"
          ]
        }
      ]
    },
    {
      "cell_type": "code",
      "source": [
        "# Save Classification Report to CSV\n",
        "test_report_df = pd.DataFrame(test_report).transpose()\n",
        "test_report_path = \"/content/drive/MyDrive/P2/T1/Dataset/overlapped/LLM + ML/clinicalT5-svc-o-class.csv\"\n",
        "test_report_df.to_csv(test_report_path, index=True)\n",
        "print(f\"Classification report saved to {test_report_path}\")"
      ],
      "metadata": {
        "id": "lidoZSktY4Jb",
        "colab": {
          "base_uri": "https://localhost:8080/"
        },
        "outputId": "c511647c-5f70-4399-cbde-068df61bbf77"
      },
      "execution_count": 19,
      "outputs": [
        {
          "output_type": "stream",
          "name": "stdout",
          "text": [
            "Classification report saved to /content/drive/MyDrive/P2/T1/Dataset/overlapped/LLM + ML/clinicalT5-svc-o-class.csv\n"
          ]
        }
      ]
    }
  ]
}
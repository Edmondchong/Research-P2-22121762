{
 "cells": [
  {
   "cell_type": "code",
   "execution_count": null,
   "metadata": {
    "colab": {
     "base_uri": "https://localhost:8080/"
    },
    "executionInfo": {
     "elapsed": 16498,
     "status": "ok",
     "timestamp": 1737642686218,
     "user": {
      "displayName": "Edmond Chong",
      "userId": "00827124523005702132"
     },
     "user_tz": -480
    },
    "id": "TuVoU60VxHqB",
    "outputId": "52253090-802c-4727-fb60-24dfdd58d748"
   },
   "outputs": [
    {
     "name": "stdout",
     "output_type": "stream",
     "text": [
      "Mounted at /content/drive\n"
     ]
    }
   ],
   "source": [
    "from google.colab import drive\n",
    "drive.mount('/content/drive')"
   ]
  },
  {
   "cell_type": "code",
   "execution_count": null,
   "metadata": {
    "colab": {
     "base_uri": "https://localhost:8080/"
    },
    "executionInfo": {
     "elapsed": 2844,
     "status": "ok",
     "timestamp": 1737642693810,
     "user": {
      "displayName": "Edmond Chong",
      "userId": "00827124523005702132"
     },
     "user_tz": -480
    },
    "id": "jtd9HGd5xxta",
    "outputId": "338b6383-97e3-49c2-efe8-354480c6e023"
   },
   "outputs": [
    {
     "name": "stdout",
     "output_type": "stream",
     "text": [
      "Requirement already satisfied: transformers in /usr/local/lib/python3.11/dist-packages (4.47.1)\n",
      "Requirement already satisfied: scikit-learn in /usr/local/lib/python3.11/dist-packages (1.6.0)\n",
      "Requirement already satisfied: pandas in /usr/local/lib/python3.11/dist-packages (2.2.2)\n",
      "Requirement already satisfied: torch in /usr/local/lib/python3.11/dist-packages (2.5.1+cu121)\n",
      "Requirement already satisfied: filelock in /usr/local/lib/python3.11/dist-packages (from transformers) (3.16.1)\n",
      "Requirement already satisfied: huggingface-hub<1.0,>=0.24.0 in /usr/local/lib/python3.11/dist-packages (from transformers) (0.27.1)\n",
      "Requirement already satisfied: numpy>=1.17 in /usr/local/lib/python3.11/dist-packages (from transformers) (1.26.4)\n",
      "Requirement already satisfied: packaging>=20.0 in /usr/local/lib/python3.11/dist-packages (from transformers) (24.2)\n",
      "Requirement already satisfied: pyyaml>=5.1 in /usr/local/lib/python3.11/dist-packages (from transformers) (6.0.2)\n",
      "Requirement already satisfied: regex!=2019.12.17 in /usr/local/lib/python3.11/dist-packages (from transformers) (2024.11.6)\n",
      "Requirement already satisfied: requests in /usr/local/lib/python3.11/dist-packages (from transformers) (2.32.3)\n",
      "Requirement already satisfied: tokenizers<0.22,>=0.21 in /usr/local/lib/python3.11/dist-packages (from transformers) (0.21.0)\n",
      "Requirement already satisfied: safetensors>=0.4.1 in /usr/local/lib/python3.11/dist-packages (from transformers) (0.5.2)\n",
      "Requirement already satisfied: tqdm>=4.27 in /usr/local/lib/python3.11/dist-packages (from transformers) (4.67.1)\n",
      "Requirement already satisfied: scipy>=1.6.0 in /usr/local/lib/python3.11/dist-packages (from scikit-learn) (1.13.1)\n",
      "Requirement already satisfied: joblib>=1.2.0 in /usr/local/lib/python3.11/dist-packages (from scikit-learn) (1.4.2)\n",
      "Requirement already satisfied: threadpoolctl>=3.1.0 in /usr/local/lib/python3.11/dist-packages (from scikit-learn) (3.5.0)\n",
      "Requirement already satisfied: python-dateutil>=2.8.2 in /usr/local/lib/python3.11/dist-packages (from pandas) (2.8.2)\n",
      "Requirement already satisfied: pytz>=2020.1 in /usr/local/lib/python3.11/dist-packages (from pandas) (2024.2)\n",
      "Requirement already satisfied: tzdata>=2022.7 in /usr/local/lib/python3.11/dist-packages (from pandas) (2024.2)\n",
      "Requirement already satisfied: typing-extensions>=4.8.0 in /usr/local/lib/python3.11/dist-packages (from torch) (4.12.2)\n",
      "Requirement already satisfied: networkx in /usr/local/lib/python3.11/dist-packages (from torch) (3.4.2)\n",
      "Requirement already satisfied: jinja2 in /usr/local/lib/python3.11/dist-packages (from torch) (3.1.5)\n",
      "Requirement already satisfied: fsspec in /usr/local/lib/python3.11/dist-packages (from torch) (2024.10.0)\n",
      "Requirement already satisfied: nvidia-cuda-nvrtc-cu12==12.1.105 in /usr/local/lib/python3.11/dist-packages (from torch) (12.1.105)\n",
      "Requirement already satisfied: nvidia-cuda-runtime-cu12==12.1.105 in /usr/local/lib/python3.11/dist-packages (from torch) (12.1.105)\n",
      "Requirement already satisfied: nvidia-cuda-cupti-cu12==12.1.105 in /usr/local/lib/python3.11/dist-packages (from torch) (12.1.105)\n",
      "Requirement already satisfied: nvidia-cudnn-cu12==9.1.0.70 in /usr/local/lib/python3.11/dist-packages (from torch) (9.1.0.70)\n",
      "Requirement already satisfied: nvidia-cublas-cu12==12.1.3.1 in /usr/local/lib/python3.11/dist-packages (from torch) (12.1.3.1)\n",
      "Requirement already satisfied: nvidia-cufft-cu12==11.0.2.54 in /usr/local/lib/python3.11/dist-packages (from torch) (11.0.2.54)\n",
      "Requirement already satisfied: nvidia-curand-cu12==10.3.2.106 in /usr/local/lib/python3.11/dist-packages (from torch) (10.3.2.106)\n",
      "Requirement already satisfied: nvidia-cusolver-cu12==11.4.5.107 in /usr/local/lib/python3.11/dist-packages (from torch) (11.4.5.107)\n",
      "Requirement already satisfied: nvidia-cusparse-cu12==12.1.0.106 in /usr/local/lib/python3.11/dist-packages (from torch) (12.1.0.106)\n",
      "Requirement already satisfied: nvidia-nccl-cu12==2.21.5 in /usr/local/lib/python3.11/dist-packages (from torch) (2.21.5)\n",
      "Requirement already satisfied: nvidia-nvtx-cu12==12.1.105 in /usr/local/lib/python3.11/dist-packages (from torch) (12.1.105)\n",
      "Requirement already satisfied: triton==3.1.0 in /usr/local/lib/python3.11/dist-packages (from torch) (3.1.0)\n",
      "Requirement already satisfied: sympy==1.13.1 in /usr/local/lib/python3.11/dist-packages (from torch) (1.13.1)\n",
      "Requirement already satisfied: nvidia-nvjitlink-cu12 in /usr/local/lib/python3.11/dist-packages (from nvidia-cusolver-cu12==11.4.5.107->torch) (12.6.85)\n",
      "Requirement already satisfied: mpmath<1.4,>=1.1.0 in /usr/local/lib/python3.11/dist-packages (from sympy==1.13.1->torch) (1.3.0)\n",
      "Requirement already satisfied: six>=1.5 in /usr/local/lib/python3.11/dist-packages (from python-dateutil>=2.8.2->pandas) (1.17.0)\n",
      "Requirement already satisfied: MarkupSafe>=2.0 in /usr/local/lib/python3.11/dist-packages (from jinja2->torch) (3.0.2)\n",
      "Requirement already satisfied: charset-normalizer<4,>=2 in /usr/local/lib/python3.11/dist-packages (from requests->transformers) (3.4.1)\n",
      "Requirement already satisfied: idna<4,>=2.5 in /usr/local/lib/python3.11/dist-packages (from requests->transformers) (3.10)\n",
      "Requirement already satisfied: urllib3<3,>=1.21.1 in /usr/local/lib/python3.11/dist-packages (from requests->transformers) (2.3.0)\n",
      "Requirement already satisfied: certifi>=2017.4.17 in /usr/local/lib/python3.11/dist-packages (from requests->transformers) (2024.12.14)\n"
     ]
    }
   ],
   "source": [
    "# Install Required Libraries\n",
    "!pip install transformers scikit-learn pandas torch"
   ]
  },
  {
   "cell_type": "code",
   "execution_count": null,
   "metadata": {
    "id": "W0_ArHWXxyCi"
   },
   "outputs": [],
   "source": [
    "import pandas as pd\n",
    "import torch\n",
    "import numpy as np\n",
    "from transformers import AutoTokenizer, AutoModelForSequenceClassification, Trainer, TrainingArguments\n",
    "from sklearn.ensemble import RandomForestClassifier\n",
    "from sklearn.metrics import classification_report\n",
    "from sklearn.preprocessing import LabelEncoder\n",
    "from sklearn.naive_bayes import GaussianNB"
   ]
  },
  {
   "cell_type": "markdown",
   "metadata": {
    "id": "s7Dhd5Q9zLLw"
   },
   "source": [
    "# Load LLM"
   ]
  },
  {
   "cell_type": "code",
   "execution_count": null,
   "metadata": {
    "colab": {
     "base_uri": "https://localhost:8080/",
     "height": 272,
     "referenced_widgets": [
      "b4a9fbfbf3b34c52b45ad8df757c7437",
      "17f98f6e3dc8477f9c2e733db7063c04",
      "b6d4e6aa07a54b43828086edd368ad42",
      "e6748dfb6e6c42939e6eb60bde0bb412",
      "4053d749b05b46ce8c4dd67bcebd5614",
      "beae674f60dd46928ce22ac407f4ff43",
      "57774700ec674f3e830a16587cfbb681",
      "f0700f934e4049938252909d7f927a7f",
      "6c378c44ec7f42e5a0e1cd3a75cf3b30",
      "ae4e93e6ac03470c984fdd68cc3ea526",
      "6d33382dd00046119bc62e6d18ba665c",
      "08d6576592474610867826b0f50812e7",
      "d69d6aa0106b425e8c0b436deeec52ef",
      "553a8627952f48209272949473472a29",
      "57f677f6c7cf4c6b88f8c3c46afc0dfd",
      "9daa599052f54f93a7be8bdd00deea4d",
      "1bf52b5a0ad94c7c89bc1112be6fad0b",
      "35837cf76c2a41879ed42f2b213d99ab",
      "7f51e0f32b3440e39a73e903b60d1e8f",
      "628256c7b16d46a6b5d839b3c56186c0",
      "2769eb5b5fa447488b04c0ed2fa84726",
      "7f9e7b9c9cb4410389480d9c8f7d960e",
      "f33e39cf4d85422a941dbf4ae4f67b62",
      "7a17747f25624ce284d674bc281edca3",
      "74f07774a9844a2398df8b5df26e0d95",
      "d5665a1037944d1588a2693ae83f479e",
      "24ae40ea52bb40c2b5cfb9e38b61087a",
      "16bb3ba7b4914920b562634d629dc326",
      "7417529c4c4241f9909982cab6daf524",
      "078f1cf7ca4a438f9792a3124071afe6",
      "d64010f030d34d12b84ffa1ecc09a170",
      "84109d59abda44e090b6677421c7a694",
      "70c4edadcd1d4b8ca3015957c26e3955"
     ]
    },
    "executionInfo": {
     "elapsed": 11161,
     "status": "ok",
     "timestamp": 1737642722931,
     "user": {
      "displayName": "Edmond Chong",
      "userId": "00827124523005702132"
     },
     "user_tz": -480
    },
    "id": "cv33Q4XjzNQQ",
    "outputId": "239b39ae-564e-4ceb-f747-780d579bfb67"
   },
   "outputs": [
    {
     "name": "stderr",
     "output_type": "stream",
     "text": [
      "/usr/local/lib/python3.11/dist-packages/huggingface_hub/utils/_auth.py:94: UserWarning: \n",
      "The secret `HF_TOKEN` does not exist in your Colab secrets.\n",
      "To authenticate with the Hugging Face Hub, create a token in your settings tab (https://huggingface.co/settings/tokens), set it as secret in your Google Colab and restart your session.\n",
      "You will be able to reuse this secret in all of your notebooks.\n",
      "Please note that authentication is recommended but still optional to access public models or datasets.\n",
      "  warnings.warn(\n"
     ]
    },
    {
     "data": {
      "application/vnd.jupyter.widget-view+json": {
       "model_id": "b4a9fbfbf3b34c52b45ad8df757c7437",
       "version_major": 2,
       "version_minor": 0
      },
      "text/plain": [
       "config.json:   0%|          | 0.00/313 [00:00<?, ?B/s]"
      ]
     },
     "metadata": {},
     "output_type": "display_data"
    },
    {
     "data": {
      "application/vnd.jupyter.widget-view+json": {
       "model_id": "08d6576592474610867826b0f50812e7",
       "version_major": 2,
       "version_minor": 0
      },
      "text/plain": [
       "vocab.txt:   0%|          | 0.00/213k [00:00<?, ?B/s]"
      ]
     },
     "metadata": {},
     "output_type": "display_data"
    },
    {
     "data": {
      "application/vnd.jupyter.widget-view+json": {
       "model_id": "f33e39cf4d85422a941dbf4ae4f67b62",
       "version_major": 2,
       "version_minor": 0
      },
      "text/plain": [
       "pytorch_model.bin:   0%|          | 0.00/436M [00:00<?, ?B/s]"
      ]
     },
     "metadata": {},
     "output_type": "display_data"
    },
    {
     "name": "stderr",
     "output_type": "stream",
     "text": [
      "Some weights of BertForSequenceClassification were not initialized from the model checkpoint at dmis-lab/biobert-base-cased-v1.1 and are newly initialized: ['classifier.bias', 'classifier.weight']\n",
      "You should probably TRAIN this model on a down-stream task to be able to use it for predictions and inference.\n"
     ]
    }
   ],
   "source": [
    "# Load LLM\n",
    "model_name = \"dmis-lab/biobert-base-cased-v1.1\"\n",
    "tokenizer = AutoTokenizer.from_pretrained(model_name)\n",
    "model = AutoModelForSequenceClassification.from_pretrained(model_name, num_labels=48)  # Placeholder for `num_labels`\n",
    "\n",
    "# GPU Check\n",
    "device = torch.device(\"cuda\" if torch.cuda.is_available() else \"cpu\")\n",
    "model = model.to(device)"
   ]
  },
  {
   "cell_type": "markdown",
   "metadata": {
    "id": "N8HNZX3lzOOn"
   },
   "source": [
    "# Load File"
   ]
  },
  {
   "cell_type": "code",
   "execution_count": null,
   "metadata": {
    "id": "tXl-d7B8zHlf"
   },
   "outputs": [],
   "source": [
    "# Load Pre-split Datasets\n",
    "train_path = \"/content/drive/MyDrive/P2/T1/Dataset/overlapped/LLM_o_train.csv\"\n",
    "val_path = \"/content/drive/MyDrive/P2/T1/Dataset/overlapped/LLM_o_val.csv\"\n",
    "test_path = \"/content/drive/MyDrive/P2/T1/Dataset/overlapped/LLM_o_test.csv\"\n",
    "\n",
    "train_data = pd.read_csv(train_path)\n",
    "val_data = pd.read_csv(val_path)\n",
    "test_data = pd.read_csv(test_path)"
   ]
  },
  {
   "cell_type": "code",
   "execution_count": null,
   "metadata": {
    "id": "SO203fezFuuK"
   },
   "outputs": [],
   "source": [
    "# Encode Disease Labels\n",
    "label_encoder = LabelEncoder()\n",
    "train_data['encoded_labels'] = label_encoder.fit_transform(train_data['disease_label'])\n",
    "val_data['encoded_labels'] = label_encoder.transform(val_data['disease_label'])\n",
    "test_data['encoded_labels'] = label_encoder.transform(test_data['disease_label'])\n",
    "\n",
    "num_classes = len(label_encoder.classes_)\n",
    "\n",
    "# Update BioBERT Model for Classification\n",
    "model.num_labels = num_classes  # Update number of labels"
   ]
  },
  {
   "cell_type": "markdown",
   "metadata": {
    "id": "fFHP5ahu0CBT"
   },
   "source": [
    "# Tokenize Symptoms"
   ]
  },
  {
   "cell_type": "code",
   "execution_count": null,
   "metadata": {
    "id": "uU-J653p0Dhj"
   },
   "outputs": [],
   "source": [
    "# Tokenize Symptoms\n",
    "def tokenize_texts(texts):\n",
    "    return tokenizer(texts.tolist(), padding=True, truncation=True, max_length=128, return_tensors=\"pt\")\n",
    "\n",
    "train_encodings = tokenize_texts(train_data['symptoms'])\n",
    "val_encodings = tokenize_texts(val_data['symptoms'])\n",
    "test_encodings = tokenize_texts(test_data['symptoms'])\n",
    "\n",
    "# Convert labels to tensors\n",
    "train_labels = torch.tensor(train_data['encoded_labels'].tolist())\n",
    "val_labels = torch.tensor(val_data['encoded_labels'].tolist())\n",
    "test_labels = torch.tensor(test_data['encoded_labels'].tolist())\n",
    "\n",
    "# Dataset Class for Fine-Tuning\n",
    "class SymptomDataset(torch.utils.data.Dataset):\n",
    "    def __init__(self, encodings, labels):\n",
    "        self.encodings = encodings\n",
    "        self.labels = labels\n",
    "\n",
    "    def __len__(self):\n",
    "        return len(self.labels)\n",
    "\n",
    "    def __getitem__(self, idx):\n",
    "        item = {key: val[idx] for key, val in self.encodings.items()}\n",
    "        item['labels'] = self.labels[idx]\n",
    "        return item\n",
    "\n",
    "# Create PyTorch Datasets\n",
    "train_dataset = SymptomDataset(train_encodings, train_labels)\n",
    "val_dataset = SymptomDataset(val_encodings, val_labels)\n"
   ]
  },
  {
   "cell_type": "markdown",
   "metadata": {
    "id": "8M5A8x1w0FVZ"
   },
   "source": [
    "# Fine-tuning BioBERT with LoRA"
   ]
  },
  {
   "cell_type": "code",
   "execution_count": null,
   "metadata": {
    "colab": {
     "base_uri": "https://localhost:8080/"
    },
    "executionInfo": {
     "elapsed": 2686,
     "status": "ok",
     "timestamp": 1737642730370,
     "user": {
      "displayName": "Edmond Chong",
      "userId": "00827124523005702132"
     },
     "user_tz": -480
    },
    "id": "TNvk1yI60G1E",
    "outputId": "b84ddce9-eb3e-499f-f8e5-a1ae6373e6b4"
   },
   "outputs": [
    {
     "name": "stderr",
     "output_type": "stream",
     "text": [
      "/usr/local/lib/python3.11/dist-packages/transformers/training_args.py:1575: FutureWarning: `evaluation_strategy` is deprecated and will be removed in version 4.46 of 🤗 Transformers. Use `eval_strategy` instead\n",
      "  warnings.warn(\n"
     ]
    }
   ],
   "source": [
    "# Fine-Tuning BioBERT\n",
    "training_args = TrainingArguments(\n",
    "    output_dir=\"./results\",\n",
    "    evaluation_strategy=\"epoch\",\n",
    "    logging_strategy=\"steps\",  # Enable logging after a fixed number of steps\n",
    "    logging_steps= 10,  # Log training loss every 10 steps\n",
    "    learning_rate= 2e-5,\n",
    "    per_device_train_batch_size=16,\n",
    "    per_device_eval_batch_size=128,\n",
    "    num_train_epochs = 25,\n",
    "    weight_decay=0.001,\n",
    "    logging_dir=\"./logs\",\n",
    "    save_strategy=\"epoch\",\n",
    "    save_total_limit=2\n",
    ")\n",
    "\n",
    "trainer = Trainer(\n",
    "    model=model,\n",
    "    args=training_args,\n",
    "    train_dataset=train_dataset,\n",
    "    eval_dataset=val_dataset\n",
    ")"
   ]
  },
  {
   "cell_type": "code",
   "execution_count": null,
   "metadata": {
    "colab": {
     "base_uri": "https://localhost:8080/",
     "height": 1000
    },
    "executionInfo": {
     "elapsed": 209074,
     "status": "ok",
     "timestamp": 1737642939441,
     "user": {
      "displayName": "Edmond Chong",
      "userId": "00827124523005702132"
     },
     "user_tz": -480
    },
    "id": "cbWy5CVq0IvL",
    "outputId": "81d35f43-60e3-4549-ba1d-8d14cacba53e"
   },
   "outputs": [
    {
     "name": "stderr",
     "output_type": "stream",
     "text": [
      "\u001b[34m\u001b[1mwandb\u001b[0m: \u001b[33mWARNING\u001b[0m The `run_name` is currently set to the same value as `TrainingArguments.output_dir`. If this was not intended, please specify a different run name by setting the `TrainingArguments.run_name` parameter.\n"
     ]
    },
    {
     "data": {
      "application/javascript": "\n        window._wandbApiKey = new Promise((resolve, reject) => {\n            function loadScript(url) {\n            return new Promise(function(resolve, reject) {\n                let newScript = document.createElement(\"script\");\n                newScript.onerror = reject;\n                newScript.onload = resolve;\n                document.body.appendChild(newScript);\n                newScript.src = url;\n            });\n            }\n            loadScript(\"https://cdn.jsdelivr.net/npm/postmate/build/postmate.min.js\").then(() => {\n            const iframe = document.createElement('iframe')\n            iframe.style.cssText = \"width:0;height:0;border:none\"\n            document.body.appendChild(iframe)\n            const handshake = new Postmate({\n                container: iframe,\n                url: 'https://wandb.ai/authorize'\n            });\n            const timeout = setTimeout(() => reject(\"Couldn't auto authenticate\"), 5000)\n            handshake.then(function(child) {\n                child.on('authorize', data => {\n                    clearTimeout(timeout)\n                    resolve(data)\n                });\n            });\n            })\n        });\n    ",
      "text/plain": [
       "<IPython.core.display.Javascript object>"
      ]
     },
     "metadata": {},
     "output_type": "display_data"
    },
    {
     "name": "stderr",
     "output_type": "stream",
     "text": [
      "\u001b[34m\u001b[1mwandb\u001b[0m: Logging into wandb.ai. (Learn how to deploy a W&B server locally: https://wandb.me/wandb-server)\n",
      "\u001b[34m\u001b[1mwandb\u001b[0m: You can find your API key in your browser here: https://wandb.ai/authorize\n",
      "wandb: Paste an API key from your profile and hit enter, or press ctrl+c to quit:"
     ]
    },
    {
     "name": "stdout",
     "output_type": "stream",
     "text": [
      " ··········\n"
     ]
    },
    {
     "name": "stderr",
     "output_type": "stream",
     "text": [
      "\u001b[34m\u001b[1mwandb\u001b[0m: Appending key for api.wandb.ai to your netrc file: /root/.netrc\n",
      "\u001b[34m\u001b[1mwandb\u001b[0m: Using wandb-core as the SDK backend.  Please refer to https://wandb.me/wandb-core for more information.\n"
     ]
    },
    {
     "data": {
      "text/html": [
       "Tracking run with wandb version 0.19.2"
      ],
      "text/plain": [
       "<IPython.core.display.HTML object>"
      ]
     },
     "metadata": {},
     "output_type": "display_data"
    },
    {
     "data": {
      "text/html": [
       "Run data is saved locally in <code>/content/wandb/run-20250123_143231-mjb6x35z</code>"
      ],
      "text/plain": [
       "<IPython.core.display.HTML object>"
      ]
     },
     "metadata": {},
     "output_type": "display_data"
    },
    {
     "data": {
      "text/html": [
       "Syncing run <strong><a href='https://wandb.ai/edmondchongyh-universiti-malaya-students-union/huggingface/runs/mjb6x35z' target=\"_blank\">./results</a></strong> to <a href='https://wandb.ai/edmondchongyh-universiti-malaya-students-union/huggingface' target=\"_blank\">Weights & Biases</a> (<a href='https://wandb.me/developer-guide' target=\"_blank\">docs</a>)<br>"
      ],
      "text/plain": [
       "<IPython.core.display.HTML object>"
      ]
     },
     "metadata": {},
     "output_type": "display_data"
    },
    {
     "data": {
      "text/html": [
       " View project at <a href='https://wandb.ai/edmondchongyh-universiti-malaya-students-union/huggingface' target=\"_blank\">https://wandb.ai/edmondchongyh-universiti-malaya-students-union/huggingface</a>"
      ],
      "text/plain": [
       "<IPython.core.display.HTML object>"
      ]
     },
     "metadata": {},
     "output_type": "display_data"
    },
    {
     "data": {
      "text/html": [
       " View run at <a href='https://wandb.ai/edmondchongyh-universiti-malaya-students-union/huggingface/runs/mjb6x35z' target=\"_blank\">https://wandb.ai/edmondchongyh-universiti-malaya-students-union/huggingface/runs/mjb6x35z</a>"
      ],
      "text/plain": [
       "<IPython.core.display.HTML object>"
      ]
     },
     "metadata": {},
     "output_type": "display_data"
    },
    {
     "data": {
      "text/html": [
       "\n",
       "    <div>\n",
       "      \n",
       "      <progress value='2650' max='2650' style='width:300px; height:20px; vertical-align: middle;'></progress>\n",
       "      [2650/2650 03:01, Epoch 25/25]\n",
       "    </div>\n",
       "    <table border=\"1\" class=\"dataframe\">\n",
       "  <thead>\n",
       " <tr style=\"text-align: left;\">\n",
       "      <th>Epoch</th>\n",
       "      <th>Training Loss</th>\n",
       "      <th>Validation Loss</th>\n",
       "    </tr>\n",
       "  </thead>\n",
       "  <tbody>\n",
       "    <tr>\n",
       "      <td>1</td>\n",
       "      <td>3.401900</td>\n",
       "      <td>3.156828</td>\n",
       "    </tr>\n",
       "    <tr>\n",
       "      <td>2</td>\n",
       "      <td>2.885600</td>\n",
       "      <td>2.648679</td>\n",
       "    </tr>\n",
       "    <tr>\n",
       "      <td>3</td>\n",
       "      <td>2.461800</td>\n",
       "      <td>2.343923</td>\n",
       "    </tr>\n",
       "    <tr>\n",
       "      <td>4</td>\n",
       "      <td>2.216300</td>\n",
       "      <td>2.154610</td>\n",
       "    </tr>\n",
       "    <tr>\n",
       "      <td>5</td>\n",
       "      <td>2.029500</td>\n",
       "      <td>2.044951</td>\n",
       "    </tr>\n",
       "    <tr>\n",
       "      <td>6</td>\n",
       "      <td>1.882700</td>\n",
       "      <td>1.958674</td>\n",
       "    </tr>\n",
       "    <tr>\n",
       "      <td>7</td>\n",
       "      <td>1.926400</td>\n",
       "      <td>1.881626</td>\n",
       "    </tr>\n",
       "    <tr>\n",
       "      <td>8</td>\n",
       "      <td>1.872600</td>\n",
       "      <td>1.829073</td>\n",
       "    </tr>\n",
       "    <tr>\n",
       "      <td>9</td>\n",
       "      <td>1.776100</td>\n",
       "      <td>1.780606</td>\n",
       "    </tr>\n",
       "    <tr>\n",
       "      <td>10</td>\n",
       "      <td>1.721400</td>\n",
       "      <td>1.758161</td>\n",
       "    </tr>\n",
       "    <tr>\n",
       "      <td>11</td>\n",
       "      <td>1.836000</td>\n",
       "      <td>1.718022</td>\n",
       "    </tr>\n",
       "    <tr>\n",
       "      <td>12</td>\n",
       "      <td>1.806400</td>\n",
       "      <td>1.709622</td>\n",
       "    </tr>\n",
       "    <tr>\n",
       "      <td>13</td>\n",
       "      <td>1.719500</td>\n",
       "      <td>1.672249</td>\n",
       "    </tr>\n",
       "    <tr>\n",
       "      <td>14</td>\n",
       "      <td>1.544100</td>\n",
       "      <td>1.637921</td>\n",
       "    </tr>\n",
       "    <tr>\n",
       "      <td>15</td>\n",
       "      <td>1.508300</td>\n",
       "      <td>1.614860</td>\n",
       "    </tr>\n",
       "    <tr>\n",
       "      <td>16</td>\n",
       "      <td>1.514400</td>\n",
       "      <td>1.605015</td>\n",
       "    </tr>\n",
       "    <tr>\n",
       "      <td>17</td>\n",
       "      <td>1.526800</td>\n",
       "      <td>1.583910</td>\n",
       "    </tr>\n",
       "    <tr>\n",
       "      <td>18</td>\n",
       "      <td>1.450600</td>\n",
       "      <td>1.585942</td>\n",
       "    </tr>\n",
       "    <tr>\n",
       "      <td>19</td>\n",
       "      <td>1.488600</td>\n",
       "      <td>1.560049</td>\n",
       "    </tr>\n",
       "    <tr>\n",
       "      <td>20</td>\n",
       "      <td>1.530700</td>\n",
       "      <td>1.558230</td>\n",
       "    </tr>\n",
       "    <tr>\n",
       "      <td>21</td>\n",
       "      <td>1.422200</td>\n",
       "      <td>1.549509</td>\n",
       "    </tr>\n",
       "    <tr>\n",
       "      <td>22</td>\n",
       "      <td>1.419100</td>\n",
       "      <td>1.545095</td>\n",
       "    </tr>\n",
       "    <tr>\n",
       "      <td>23</td>\n",
       "      <td>1.425900</td>\n",
       "      <td>1.539025</td>\n",
       "    </tr>\n",
       "    <tr>\n",
       "      <td>24</td>\n",
       "      <td>1.351100</td>\n",
       "      <td>1.534621</td>\n",
       "    </tr>\n",
       "    <tr>\n",
       "      <td>25</td>\n",
       "      <td>1.238000</td>\n",
       "      <td>1.534714</td>\n",
       "    </tr>\n",
       "  </tbody>\n",
       "</table><p>"
      ],
      "text/plain": [
       "<IPython.core.display.HTML object>"
      ]
     },
     "metadata": {},
     "output_type": "display_data"
    },
    {
     "data": {
      "text/plain": [
       "TrainOutput(global_step=2650, training_loss=1.8021016520374227, metrics={'train_runtime': 208.0314, 'train_samples_per_second': 203.695, 'train_steps_per_second': 12.738, 'total_flos': 1002111421032000.0, 'train_loss': 1.8021016520374227, 'epoch': 25.0})"
      ]
     },
     "execution_count": 10,
     "metadata": {},
     "output_type": "execute_result"
    }
   ],
   "source": [
    "trainer.train()"
   ]
  },
  {
   "cell_type": "code",
   "execution_count": null,
   "metadata": {
    "id": "Aeyt0bsW0Ok7"
   },
   "outputs": [],
   "source": [
    "# Save Fine-Tuned Model\n",
    "model.save_pretrained(\"/content/drive/MyDrive/P2/T1/Dataset/combined/LLM+ML/fine_tuned_biobert\")"
   ]
  },
  {
   "cell_type": "markdown",
   "metadata": {
    "id": "wYtSipsG0hBv"
   },
   "source": [
    "# Generate BioBERT Embedding for Random Forest"
   ]
  },
  {
   "cell_type": "code",
   "execution_count": null,
   "metadata": {
    "colab": {
     "base_uri": "https://localhost:8080/"
    },
    "executionInfo": {
     "elapsed": 1490,
     "status": "ok",
     "timestamp": 1737642957418,
     "user": {
      "displayName": "Edmond Chong",
      "userId": "00827124523005702132"
     },
     "user_tz": -480
    },
    "id": "MuGJaJl60jxd",
    "outputId": "6598c0d7-edda-4ad3-dfcb-56d5c955f906"
   },
   "outputs": [
    {
     "name": "stdout",
     "output_type": "stream",
     "text": [
      "Generating embeddings for training data...\n",
      "Generating embeddings for validation data...\n",
      "Generating embeddings for testing data...\n"
     ]
    }
   ],
   "source": [
    "# Generate BioBERT Embeddings\n",
    "def generate_embeddings(dataset):\n",
    "    dataloader = torch.utils.data.DataLoader(dataset, batch_size=16)\n",
    "    embeddings = []\n",
    "    model.eval()\n",
    "    with torch.no_grad():\n",
    "        for batch in dataloader:\n",
    "            inputs = {key: batch[key].to(device) for key in ['input_ids', 'attention_mask']}\n",
    "            outputs = model(**inputs)\n",
    "            cls_embedding = outputs.logits.cpu().numpy()  # Extract logits for embedding\n",
    "            embeddings.append(cls_embedding)\n",
    "    return np.vstack(embeddings)\n",
    "\n",
    "print(\"Generating embeddings for training data...\")\n",
    "train_embeddings = generate_embeddings(train_dataset)\n",
    "print(\"Generating embeddings for validation data...\")\n",
    "val_embeddings = generate_embeddings(val_dataset)\n",
    "print(\"Generating embeddings for testing data...\")\n",
    "test_embeddings = generate_embeddings(SymptomDataset(test_encodings, test_labels))\n"
   ]
  },
  {
   "cell_type": "markdown",
   "metadata": {
    "id": "rtH47jHAGMZa"
   },
   "source": [
    "# UMAP (Uniform Manifold Approximation and Projection)"
   ]
  },
  {
   "cell_type": "code",
   "execution_count": null,
   "metadata": {
    "colab": {
     "base_uri": "https://localhost:8080/"
    },
    "executionInfo": {
     "elapsed": 2403,
     "status": "ok",
     "timestamp": 1737642959819,
     "user": {
      "displayName": "Edmond Chong",
      "userId": "00827124523005702132"
     },
     "user_tz": -480
    },
    "id": "czIVzTaXGPeA",
    "outputId": "28eb80d9-ebdd-4dc9-da25-7cb6d9e01b85"
   },
   "outputs": [
    {
     "name": "stdout",
     "output_type": "stream",
     "text": [
      "Collecting umap-learn\n",
      "  Downloading umap_learn-0.5.7-py3-none-any.whl.metadata (21 kB)\n",
      "Requirement already satisfied: numpy>=1.17 in /usr/local/lib/python3.11/dist-packages (from umap-learn) (1.26.4)\n",
      "Requirement already satisfied: scipy>=1.3.1 in /usr/local/lib/python3.11/dist-packages (from umap-learn) (1.13.1)\n",
      "Requirement already satisfied: scikit-learn>=0.22 in /usr/local/lib/python3.11/dist-packages (from umap-learn) (1.6.0)\n",
      "Requirement already satisfied: numba>=0.51.2 in /usr/local/lib/python3.11/dist-packages (from umap-learn) (0.60.0)\n",
      "Collecting pynndescent>=0.5 (from umap-learn)\n",
      "  Downloading pynndescent-0.5.13-py3-none-any.whl.metadata (6.8 kB)\n",
      "Requirement already satisfied: tqdm in /usr/local/lib/python3.11/dist-packages (from umap-learn) (4.67.1)\n",
      "Requirement already satisfied: llvmlite<0.44,>=0.43.0dev0 in /usr/local/lib/python3.11/dist-packages (from numba>=0.51.2->umap-learn) (0.43.0)\n",
      "Requirement already satisfied: joblib>=0.11 in /usr/local/lib/python3.11/dist-packages (from pynndescent>=0.5->umap-learn) (1.4.2)\n",
      "Requirement already satisfied: threadpoolctl>=3.1.0 in /usr/local/lib/python3.11/dist-packages (from scikit-learn>=0.22->umap-learn) (3.5.0)\n",
      "Downloading umap_learn-0.5.7-py3-none-any.whl (88 kB)\n",
      "\u001b[2K   \u001b[90m━━━━━━━━━━━━━━━━━━━━━━━━━━━━━━━━━━━━━━━━\u001b[0m \u001b[32m88.8/88.8 kB\u001b[0m \u001b[31m8.5 MB/s\u001b[0m eta \u001b[36m0:00:00\u001b[0m\n",
      "\u001b[?25hDownloading pynndescent-0.5.13-py3-none-any.whl (56 kB)\n",
      "\u001b[2K   \u001b[90m━━━━━━━━━━━━━━━━━━━━━━━━━━━━━━━━━━━━━━━━\u001b[0m \u001b[32m56.9/56.9 kB\u001b[0m \u001b[31m6.2 MB/s\u001b[0m eta \u001b[36m0:00:00\u001b[0m\n",
      "\u001b[?25hInstalling collected packages: pynndescent, umap-learn\n",
      "Successfully installed pynndescent-0.5.13 umap-learn-0.5.7\n"
     ]
    }
   ],
   "source": [
    "!pip install umap-learn"
   ]
  },
  {
   "cell_type": "code",
   "execution_count": null,
   "metadata": {
    "colab": {
     "base_uri": "https://localhost:8080/",
     "height": 1000
    },
    "executionInfo": {
     "elapsed": 24189,
     "status": "ok",
     "timestamp": 1737642984005,
     "user": {
      "displayName": "Edmond Chong",
      "userId": "00827124523005702132"
     },
     "user_tz": -480
    },
    "id": "2_8KJeGcGQSO",
    "outputId": "733d519c-2790-4a32-a6d5-765d21277c98"
   },
   "outputs": [
    {
     "name": "stdout",
     "output_type": "stream",
     "text": [
      "Reducing dimensions using UMAP...\n"
     ]
    },
    {
     "name": "stderr",
     "output_type": "stream",
     "text": [
      "/usr/local/lib/python3.11/dist-packages/sklearn/utils/deprecation.py:151: FutureWarning: 'force_all_finite' was renamed to 'ensure_all_finite' in 1.6 and will be removed in 1.8.\n",
      "  warnings.warn(\n",
      "/usr/local/lib/python3.11/dist-packages/umap/umap_.py:1952: UserWarning: n_jobs value 1 overridden to 1 by setting random_state. Use no seed for parallelism.\n",
      "  warn(\n"
     ]
    },
    {
     "data": {
      "image/png": "[encoded data removed]",
      "text/plain": [
       "<Figure size 1200x1000 with 1 Axes>"
      ]
     },
     "metadata": {},
     "output_type": "display_data"
    }
   ],
   "source": [
    "import umap.umap_ as umap\n",
    "import matplotlib.pyplot as plt\n",
    "import numpy as np\n",
    "\n",
    "# Generate test embeddings (ensure this is executed before using UMAP)\n",
    "# test_embeddings should already be generated using your generate_embeddings function.\n",
    "\n",
    "# Convert test labels to NumPy for easier handling\n",
    "labels = test_labels.cpu().numpy()  # Ensure this is defined and matches the test dataset\n",
    "\n",
    "# Reduce dimensions using UMAP\n",
    "print(\"Reducing dimensions using UMAP...\")\n",
    "umap_model = umap.UMAP(n_components=2, random_state=42)\n",
    "reduced_embeddings = umap_model.fit_transform(test_embeddings)\n",
    "\n",
    "# Map numeric labels to disease names\n",
    "disease_names = label_encoder.inverse_transform(labels)  # Map numeric labels to actual disease names\n",
    "\n",
    "# Plot the 2D representation\n",
    "plt.figure(figsize=(12, 10))\n",
    "unique_labels = np.unique(disease_names)\n",
    "\n",
    "for disease in unique_labels:\n",
    "    indices = np.where(disease_names == disease)\n",
    "    plt.scatter(\n",
    "        reduced_embeddings[indices, 0], reduced_embeddings[indices, 1],\n",
    "        label=disease, alpha=0.7\n",
    "    )\n",
    "\n",
    "plt.legend(bbox_to_anchor=(1.05, 1), loc='upper left', fontsize='small')\n",
    "plt.title(\"UMAP Visualization of ClinicalT5 Embeddings on Overlapping\")\n",
    "plt.xlabel(\"UMAP Dimension 1\")\n",
    "plt.ylabel(\"UMAP Dimension 2\")\n",
    "plt.tight_layout()\n",
    "plt.show()\n"
   ]
  },
  {
   "cell_type": "markdown",
   "metadata": {
    "id": "us06ti3bTNgj"
   },
   "source": [
    "# Naive Bayes"
   ]
  },
  {
   "cell_type": "code",
   "execution_count": null,
   "metadata": {
    "colab": {
     "base_uri": "https://localhost:8080/"
    },
    "executionInfo": {
     "elapsed": 6,
     "status": "ok",
     "timestamp": 1737642984005,
     "user": {
      "displayName": "Edmond Chong",
      "userId": "00827124523005702132"
     },
     "user_tz": -480
    },
    "id": "T9Z3mn9hTOr4",
    "outputId": "eaeddbeb-a44f-4388-e8d2-3e48e3ecb194"
   },
   "outputs": [
    {
     "name": "stdout",
     "output_type": "stream",
     "text": [
      "Validation Report:\n",
      "           adenocarcinoma  adhesion  affect labile  arthritis    asthma  \\\n",
      "precision        0.500000       0.0       0.333333   0.400000  0.500000   \n",
      "recall           1.000000       0.0       1.000000   1.000000  0.666667   \n",
      "f1-score         0.666667       0.0       0.500000   0.571429  0.571429   \n",
      "support          3.000000       2.0       1.000000   2.000000  3.000000   \n",
      "\n",
      "           benign prostatic hypertrophy  biliary calculus  carcinoma breast  \\\n",
      "precision                           0.0          0.500000               0.0   \n",
      "recall                              0.0          0.083333               0.0   \n",
      "f1-score                            0.0          0.142857               0.0   \n",
      "support                             1.0         12.000000               2.0   \n",
      "\n",
      "           chronic obstructive airway disease  cirrhosis  ...  pyelonephritis  \\\n",
      "precision                            0.333333   0.500000  ...        0.352941   \n",
      "recall                               0.200000   1.000000  ...        0.600000   \n",
      "f1-score                             0.250000   0.666667  ...        0.444444   \n",
      "support                              5.000000   2.000000  ...       10.000000   \n",
      "\n",
      "           schizophrenia  sickle cell anemia  stenosis aortic valve  \\\n",
      "precision            0.0            0.333333               0.333333   \n",
      "recall               0.0            0.333333               0.666667   \n",
      "f1-score             0.0            0.333333               0.444444   \n",
      "support              2.0            3.000000               6.000000   \n",
      "\n",
      "           tachycardia sinus  thrombus  tricuspid valve insufficiency  \\\n",
      "precision                0.0  0.500000                            0.0   \n",
      "recall                   0.0  0.666667                            0.0   \n",
      "f1-score                 0.0  0.571429                            0.0   \n",
      "support                  2.0  3.000000                            2.0   \n",
      "\n",
      "           accuracy   macro avg  weighted avg  \n",
      "precision  0.392344    0.341176      0.405642  \n",
      "recall     0.392344    0.393026      0.392344  \n",
      "f1-score   0.392344    0.322255      0.345952  \n",
      "support    0.392344  209.000000    209.000000  \n",
      "\n",
      "[4 rows x 51 columns]\n",
      "Test Report:\n",
      "           adenocarcinoma  adhesion  affect labile  arthritis    asthma  \\\n",
      "precision        0.500000       0.0            0.0   0.333333  0.500000   \n",
      "recall           0.333333       0.0            0.0   0.500000  1.000000   \n",
      "f1-score         0.400000       0.0            0.0   0.400000  0.666667   \n",
      "support          3.000000       2.0            1.0   2.000000  3.000000   \n",
      "\n",
      "           benign prostatic hypertrophy  biliary calculus  carcinoma breast  \\\n",
      "precision                           0.0               0.0               0.5   \n",
      "recall                              0.0               0.0               0.5   \n",
      "f1-score                            0.0               0.0               0.5   \n",
      "support                             1.0              12.0               2.0   \n",
      "\n",
      "           chronic obstructive airway disease  cirrhosis  ...  pyelonephritis  \\\n",
      "precision                                 0.0        0.0  ...        0.384615   \n",
      "recall                                    0.0        0.0  ...        0.454545   \n",
      "f1-score                                  0.0        0.0  ...        0.416667   \n",
      "support                                   5.0        4.0  ...       11.000000   \n",
      "\n",
      "           schizophrenia  sickle cell anemia  stenosis aortic valve  \\\n",
      "precision       0.250000                 0.0                    0.5   \n",
      "recall          0.500000                 0.0                    0.5   \n",
      "f1-score        0.333333                 0.0                    0.5   \n",
      "support         2.000000                 1.0                    4.0   \n",
      "\n",
      "           tachycardia sinus  thrombus  tricuspid valve insufficiency  \\\n",
      "precision                0.0  0.500000                       0.142857   \n",
      "recall                   0.0  0.333333                       0.666667   \n",
      "f1-score                 0.0  0.400000                       0.235294   \n",
      "support                  3.0  3.000000                       3.000000   \n",
      "\n",
      "           accuracy   macro avg  weighted avg  \n",
      "precision  0.380734    0.316947      0.340933  \n",
      "recall     0.380734    0.377287      0.380734  \n",
      "f1-score   0.380734    0.321687      0.326625  \n",
      "support    0.380734  218.000000    218.000000  \n",
      "\n",
      "[4 rows x 51 columns]\n",
      "Classification report saved to /content/drive/MyDrive/P2/T1/Dataset/overlapped/LLM + ML/biobert-nb-o-class.csv\n"
     ]
    },
    {
     "name": "stderr",
     "output_type": "stream",
     "text": [
      "/usr/local/lib/python3.11/dist-packages/sklearn/metrics/_classification.py:1565: UndefinedMetricWarning: Precision is ill-defined and being set to 0.0 in labels with no predicted samples. Use `zero_division` parameter to control this behavior.\n",
      "  _warn_prf(average, modifier, f\"{metric.capitalize()} is\", len(result))\n",
      "/usr/local/lib/python3.11/dist-packages/sklearn/metrics/_classification.py:1565: UndefinedMetricWarning: Precision is ill-defined and being set to 0.0 in labels with no predicted samples. Use `zero_division` parameter to control this behavior.\n",
      "  _warn_prf(average, modifier, f\"{metric.capitalize()} is\", len(result))\n",
      "/usr/local/lib/python3.11/dist-packages/sklearn/metrics/_classification.py:1565: UndefinedMetricWarning: Precision is ill-defined and being set to 0.0 in labels with no predicted samples. Use `zero_division` parameter to control this behavior.\n",
      "  _warn_prf(average, modifier, f\"{metric.capitalize()} is\", len(result))\n",
      "/usr/local/lib/python3.11/dist-packages/sklearn/metrics/_classification.py:1565: UndefinedMetricWarning: Precision is ill-defined and being set to 0.0 in labels with no predicted samples. Use `zero_division` parameter to control this behavior.\n",
      "  _warn_prf(average, modifier, f\"{metric.capitalize()} is\", len(result))\n",
      "/usr/local/lib/python3.11/dist-packages/sklearn/metrics/_classification.py:1565: UndefinedMetricWarning: Precision is ill-defined and being set to 0.0 in labels with no predicted samples. Use `zero_division` parameter to control this behavior.\n",
      "  _warn_prf(average, modifier, f\"{metric.capitalize()} is\", len(result))\n",
      "/usr/local/lib/python3.11/dist-packages/sklearn/metrics/_classification.py:1565: UndefinedMetricWarning: Precision is ill-defined and being set to 0.0 in labels with no predicted samples. Use `zero_division` parameter to control this behavior.\n",
      "  _warn_prf(average, modifier, f\"{metric.capitalize()} is\", len(result))\n"
     ]
    }
   ],
   "source": [
    "# Train Naive Bayes\n",
    "nb_model = GaussianNB()\n",
    "nb_model.fit(train_embeddings, train_data['encoded_labels'])\n",
    "\n",
    "# Validate the Model\n",
    "val_preds = nb_model.predict(val_embeddings)\n",
    "val_report = classification_report(val_labels, val_preds, target_names=label_encoder.classes_, output_dict=True)\n",
    "print(\"Validation Report:\")\n",
    "print(pd.DataFrame(val_report))\n",
    "\n",
    "# Test the Model\n",
    "test_preds = nb_model.predict(test_embeddings)\n",
    "test_report = classification_report(test_labels, test_preds, target_names=label_encoder.classes_, output_dict=True)\n",
    "print(\"Test Report:\")\n",
    "print(pd.DataFrame(test_report))\n",
    "\n",
    "# Save Classification Report to CSV\n",
    "test_report_df = pd.DataFrame(test_report).transpose()\n",
    "test_report_path = \"/content/drive/MyDrive/P2/T1/Dataset/overlapped/LLM + ML/biobert-nb-o-class.csv\"\n",
    "test_report_df.to_csv(test_report_path, index=True)\n",
    "print(f\"Classification report saved to {test_report_path}\")"
   ]
  },
  {
   "cell_type": "markdown",
   "metadata": {
    "id": "1pGLMstX0o8q"
   },
   "source": [
    "# Random Forest"
   ]
  },
  {
   "cell_type": "code",
   "execution_count": null,
   "metadata": {
    "colab": {
     "base_uri": "https://localhost:8080/"
    },
    "executionInfo": {
     "elapsed": 837,
     "status": "ok",
     "timestamp": 1737642984837,
     "user": {
      "displayName": "Edmond Chong",
      "userId": "00827124523005702132"
     },
     "user_tz": -480
    },
    "id": "omkCg8wD0lZE",
    "outputId": "5144c019-c165-4d74-c53f-f9390d7b514e"
   },
   "outputs": [
    {
     "name": "stdout",
     "output_type": "stream",
     "text": [
      "Validation Report:\n",
      "           adenocarcinoma  adhesion  affect labile  arthritis    asthma  \\\n",
      "precision        0.500000  0.333333            0.0   0.400000  0.500000   \n",
      "recall           0.666667  0.500000            0.0   1.000000  0.666667   \n",
      "f1-score         0.571429  0.400000            0.0   0.571429  0.571429   \n",
      "support          3.000000  2.000000            1.0   2.000000  3.000000   \n",
      "\n",
      "           benign prostatic hypertrophy  biliary calculus  carcinoma breast  \\\n",
      "precision                           0.0          0.500000               0.5   \n",
      "recall                              0.0          0.166667               0.5   \n",
      "f1-score                            0.0          0.250000               0.5   \n",
      "support                             1.0         12.000000               2.0   \n",
      "\n",
      "           chronic obstructive airway disease  cirrhosis  ...  pyelonephritis  \\\n",
      "precision                            0.428571        0.5  ...        0.428571   \n",
      "recall                               0.600000        0.5  ...        0.300000   \n",
      "f1-score                             0.500000        0.5  ...        0.352941   \n",
      "support                              5.000000        2.0  ...       10.000000   \n",
      "\n",
      "           schizophrenia  sickle cell anemia  stenosis aortic valve  \\\n",
      "precision            0.0            0.333333               0.266667   \n",
      "recall               0.0            0.333333               0.666667   \n",
      "f1-score             0.0            0.333333               0.380952   \n",
      "support              2.0            3.000000               6.000000   \n",
      "\n",
      "           tachycardia sinus  thrombus  tricuspid valve insufficiency  \\\n",
      "precision                0.0  0.500000                            0.0   \n",
      "recall                   0.0  0.333333                            0.0   \n",
      "f1-score                 0.0  0.400000                            0.0   \n",
      "support                  2.0  3.000000                            2.0   \n",
      "\n",
      "           accuracy   macro avg  weighted avg  \n",
      "precision  0.392344    0.315880      0.368754  \n",
      "recall     0.392344    0.361690      0.392344  \n",
      "f1-score   0.392344    0.312445      0.353130  \n",
      "support    0.392344  209.000000    209.000000  \n",
      "\n",
      "[4 rows x 51 columns]\n",
      "Test Report:\n",
      "           adenocarcinoma  adhesion  affect labile  arthritis    asthma  \\\n",
      "precision             0.0       0.0            0.0        0.0  0.500000   \n",
      "recall                0.0       0.0            0.0        0.0  0.333333   \n",
      "f1-score              0.0       0.0            0.0        0.0  0.400000   \n",
      "support               3.0       2.0            1.0        2.0  3.000000   \n",
      "\n",
      "           benign prostatic hypertrophy  biliary calculus  carcinoma breast  \\\n",
      "precision                           0.0          0.461538               0.0   \n",
      "recall                              0.0          0.500000               0.0   \n",
      "f1-score                            0.0          0.480000               0.0   \n",
      "support                             1.0         12.000000               2.0   \n",
      "\n",
      "           chronic obstructive airway disease  cirrhosis  ...  pyelonephritis  \\\n",
      "precision                            0.444444   0.400000  ...        0.400000   \n",
      "recall                               0.800000   0.500000  ...        0.181818   \n",
      "f1-score                             0.571429   0.444444  ...        0.250000   \n",
      "support                              5.000000   4.000000  ...       11.000000   \n",
      "\n",
      "           schizophrenia  sickle cell anemia  stenosis aortic valve  \\\n",
      "precision       0.250000                 0.0               0.500000   \n",
      "recall          0.500000                 0.0               0.250000   \n",
      "f1-score        0.333333                 0.0               0.333333   \n",
      "support         2.000000                 1.0               4.000000   \n",
      "\n",
      "           tachycardia sinus  thrombus  tricuspid valve insufficiency  \\\n",
      "precision                0.0  0.500000                       0.142857   \n",
      "recall                   0.0  0.333333                       0.666667   \n",
      "f1-score                 0.0  0.400000                       0.235294   \n",
      "support                  3.0  3.000000                       3.000000   \n",
      "\n",
      "           accuracy   macro avg  weighted avg  \n",
      "precision  0.380734    0.296542      0.361352  \n",
      "recall     0.380734    0.335215      0.380734  \n",
      "f1-score   0.380734    0.294135      0.353041  \n",
      "support    0.380734  218.000000    218.000000  \n",
      "\n",
      "[4 rows x 51 columns]\n"
     ]
    },
    {
     "name": "stderr",
     "output_type": "stream",
     "text": [
      "/usr/local/lib/python3.11/dist-packages/sklearn/metrics/_classification.py:1565: UndefinedMetricWarning: Precision is ill-defined and being set to 0.0 in labels with no predicted samples. Use `zero_division` parameter to control this behavior.\n",
      "  _warn_prf(average, modifier, f\"{metric.capitalize()} is\", len(result))\n",
      "/usr/local/lib/python3.11/dist-packages/sklearn/metrics/_classification.py:1565: UndefinedMetricWarning: Precision is ill-defined and being set to 0.0 in labels with no predicted samples. Use `zero_division` parameter to control this behavior.\n",
      "  _warn_prf(average, modifier, f\"{metric.capitalize()} is\", len(result))\n",
      "/usr/local/lib/python3.11/dist-packages/sklearn/metrics/_classification.py:1565: UndefinedMetricWarning: Precision is ill-defined and being set to 0.0 in labels with no predicted samples. Use `zero_division` parameter to control this behavior.\n",
      "  _warn_prf(average, modifier, f\"{metric.capitalize()} is\", len(result))\n",
      "/usr/local/lib/python3.11/dist-packages/sklearn/metrics/_classification.py:1565: UndefinedMetricWarning: Precision is ill-defined and being set to 0.0 in labels with no predicted samples. Use `zero_division` parameter to control this behavior.\n",
      "  _warn_prf(average, modifier, f\"{metric.capitalize()} is\", len(result))\n",
      "/usr/local/lib/python3.11/dist-packages/sklearn/metrics/_classification.py:1565: UndefinedMetricWarning: Precision is ill-defined and being set to 0.0 in labels with no predicted samples. Use `zero_division` parameter to control this behavior.\n",
      "  _warn_prf(average, modifier, f\"{metric.capitalize()} is\", len(result))\n",
      "/usr/local/lib/python3.11/dist-packages/sklearn/metrics/_classification.py:1565: UndefinedMetricWarning: Precision is ill-defined and being set to 0.0 in labels with no predicted samples. Use `zero_division` parameter to control this behavior.\n",
      "  _warn_prf(average, modifier, f\"{metric.capitalize()} is\", len(result))\n"
     ]
    }
   ],
   "source": [
    "# Train Random Forest on Embeddings\n",
    "rf_model = RandomForestClassifier(n_estimators=100, random_state=42)\n",
    "rf_model.fit(train_embeddings, train_data['encoded_labels'])\n",
    "\n",
    "# Validate the Model\n",
    "val_preds = rf_model.predict(val_embeddings)\n",
    "val_report = classification_report(val_labels, val_preds, target_names=label_encoder.classes_, output_dict=True)\n",
    "print(\"Validation Report:\")\n",
    "print(pd.DataFrame(val_report))\n",
    "\n",
    "# Test the Model\n",
    "test_preds = rf_model.predict(test_embeddings)\n",
    "test_report = classification_report(test_labels, test_preds, target_names=label_encoder.classes_, output_dict=True)\n",
    "print(\"Test Report:\")\n",
    "print(pd.DataFrame(test_report))\n"
   ]
  },
  {
   "cell_type": "code",
   "execution_count": null,
   "metadata": {
    "colab": {
     "base_uri": "https://localhost:8080/"
    },
    "executionInfo": {
     "elapsed": 12,
     "status": "ok",
     "timestamp": 1737642984837,
     "user": {
      "displayName": "Edmond Chong",
      "userId": "00827124523005702132"
     },
     "user_tz": -480
    },
    "id": "QPxbI23S0nK7",
    "outputId": "8e9a1c5d-c3e8-435c-c086-ec788d89497d"
   },
   "outputs": [
    {
     "name": "stdout",
     "output_type": "stream",
     "text": [
      "Classification report saved to /content/drive/MyDrive/P2/T1/Dataset/overlapped/LLM + ML/biobert-rf-o-class.csv\n"
     ]
    }
   ],
   "source": [
    "# Save Classification Report to CSV\n",
    "test_report_df = pd.DataFrame(test_report).transpose()\n",
    "test_report_path = \"/content/drive/MyDrive/P2/T1/Dataset/overlapped/LLM + ML/biobert-rf-o-class.csv\"\n",
    "test_report_df.to_csv(test_report_path, index=True)\n",
    "print(f\"Classification report saved to {test_report_path}\")"
   ]
  },
  {
   "cell_type": "markdown",
   "metadata": {
    "id": "yA9I1QnQTYjq"
   },
   "source": [
    "# Support Vector Classifier"
   ]
  },
  {
   "cell_type": "code",
   "execution_count": null,
   "metadata": {
    "colab": {
     "base_uri": "https://localhost:8080/"
    },
    "executionInfo": {
     "elapsed": 10,
     "status": "ok",
     "timestamp": 1737642984838,
     "user": {
      "displayName": "Edmond Chong",
      "userId": "00827124523005702132"
     },
     "user_tz": -480
    },
    "id": "pGEvCsXNTaIo",
    "outputId": "b3bdb9be-4706-49bd-abd2-3b1f5f6657d4"
   },
   "outputs": [
    {
     "name": "stderr",
     "output_type": "stream",
     "text": [
      "/usr/local/lib/python3.11/dist-packages/sklearn/metrics/_classification.py:1565: UndefinedMetricWarning: Precision is ill-defined and being set to 0.0 in labels with no predicted samples. Use `zero_division` parameter to control this behavior.\n",
      "  _warn_prf(average, modifier, f\"{metric.capitalize()} is\", len(result))\n",
      "/usr/local/lib/python3.11/dist-packages/sklearn/metrics/_classification.py:1565: UndefinedMetricWarning: Precision is ill-defined and being set to 0.0 in labels with no predicted samples. Use `zero_division` parameter to control this behavior.\n",
      "  _warn_prf(average, modifier, f\"{metric.capitalize()} is\", len(result))\n",
      "/usr/local/lib/python3.11/dist-packages/sklearn/metrics/_classification.py:1565: UndefinedMetricWarning: Precision is ill-defined and being set to 0.0 in labels with no predicted samples. Use `zero_division` parameter to control this behavior.\n",
      "  _warn_prf(average, modifier, f\"{metric.capitalize()} is\", len(result))\n"
     ]
    },
    {
     "name": "stdout",
     "output_type": "stream",
     "text": [
      "Validation Report:\n",
      "           adenocarcinoma  adhesion  affect labile  arthritis  asthma  \\\n",
      "precision        0.500000       0.0            0.0   0.333333     0.0   \n",
      "recall           1.000000       0.0            0.0   0.500000     0.0   \n",
      "f1-score         0.666667       0.0            0.0   0.400000     0.0   \n",
      "support          3.000000       2.0            1.0   2.000000     3.0   \n",
      "\n",
      "           benign prostatic hypertrophy  biliary calculus  carcinoma breast  \\\n",
      "precision                           0.0          0.500000               0.0   \n",
      "recall                              0.0          0.166667               0.0   \n",
      "f1-score                            0.0          0.250000               0.0   \n",
      "support                             1.0         12.000000               2.0   \n",
      "\n",
      "           chronic obstructive airway disease  cirrhosis  ...  pyelonephritis  \\\n",
      "precision                            0.454545   0.500000  ...        0.357143   \n",
      "recall                               1.000000   1.000000  ...        0.500000   \n",
      "f1-score                             0.625000   0.666667  ...        0.416667   \n",
      "support                              5.000000   2.000000  ...       10.000000   \n",
      "\n",
      "           schizophrenia  sickle cell anemia  stenosis aortic valve  \\\n",
      "precision            0.0            0.500000               0.315789   \n",
      "recall               0.0            0.333333               1.000000   \n",
      "f1-score             0.0            0.400000               0.480000   \n",
      "support              2.0            3.000000               6.000000   \n",
      "\n",
      "           tachycardia sinus  thrombus  tricuspid valve insufficiency  \\\n",
      "precision                0.0  0.500000                            0.0   \n",
      "recall                   0.0  0.333333                            0.0   \n",
      "f1-score                 0.0  0.400000                            0.0   \n",
      "support                  2.0  3.000000                            2.0   \n",
      "\n",
      "           accuracy   macro avg  weighted avg  \n",
      "precision  0.406699    0.316650      0.368992  \n",
      "recall     0.406699    0.359462      0.406699  \n",
      "f1-score   0.406699    0.306810      0.348412  \n",
      "support    0.406699  209.000000    209.000000  \n",
      "\n",
      "[4 rows x 51 columns]\n",
      "Test Report:\n",
      "           adenocarcinoma  adhesion  affect labile  arthritis  asthma  \\\n",
      "precision        0.500000       0.0            0.0   0.400000     0.0   \n",
      "recall           0.333333       0.0            0.0   1.000000     0.0   \n",
      "f1-score         0.400000       0.0            0.0   0.571429     0.0   \n",
      "support          3.000000       2.0            1.0   2.000000     3.0   \n",
      "\n",
      "           benign prostatic hypertrophy  biliary calculus  carcinoma breast  \\\n",
      "precision                           0.0          0.444444               0.5   \n",
      "recall                              0.0          0.333333               0.5   \n",
      "f1-score                            0.0          0.380952               0.5   \n",
      "support                             1.0         12.000000               2.0   \n",
      "\n",
      "           chronic obstructive airway disease  cirrhosis  ...  pyelonephritis  \\\n",
      "precision                            0.454545        0.0  ...        0.285714   \n",
      "recall                               1.000000        0.0  ...        0.363636   \n",
      "f1-score                             0.625000        0.0  ...        0.320000   \n",
      "support                              5.000000        4.0  ...       11.000000   \n",
      "\n",
      "           schizophrenia  sickle cell anemia  stenosis aortic valve  \\\n",
      "precision       0.250000                 0.0               0.500000   \n",
      "recall          0.500000                 0.0               0.250000   \n",
      "f1-score        0.333333                 0.0               0.333333   \n",
      "support         2.000000                 1.0               4.000000   \n",
      "\n",
      "           tachycardia sinus  thrombus  tricuspid valve insufficiency  \\\n",
      "precision                0.0  0.500000                       0.142857   \n",
      "recall                   0.0  0.666667                       0.666667   \n",
      "f1-score                 0.0  0.571429                       0.235294   \n",
      "support                  3.0  3.000000                       3.000000   \n",
      "\n",
      "           accuracy   macro avg  weighted avg  \n",
      "precision  0.394495    0.286338      0.354051  \n",
      "recall     0.394495    0.356452      0.394495  \n",
      "f1-score   0.394495    0.291231      0.335349  \n",
      "support    0.394495  218.000000    218.000000  \n",
      "\n",
      "[4 rows x 51 columns]\n"
     ]
    },
    {
     "name": "stderr",
     "output_type": "stream",
     "text": [
      "/usr/local/lib/python3.11/dist-packages/sklearn/metrics/_classification.py:1565: UndefinedMetricWarning: Precision is ill-defined and being set to 0.0 in labels with no predicted samples. Use `zero_division` parameter to control this behavior.\n",
      "  _warn_prf(average, modifier, f\"{metric.capitalize()} is\", len(result))\n",
      "/usr/local/lib/python3.11/dist-packages/sklearn/metrics/_classification.py:1565: UndefinedMetricWarning: Precision is ill-defined and being set to 0.0 in labels with no predicted samples. Use `zero_division` parameter to control this behavior.\n",
      "  _warn_prf(average, modifier, f\"{metric.capitalize()} is\", len(result))\n",
      "/usr/local/lib/python3.11/dist-packages/sklearn/metrics/_classification.py:1565: UndefinedMetricWarning: Precision is ill-defined and being set to 0.0 in labels with no predicted samples. Use `zero_division` parameter to control this behavior.\n",
      "  _warn_prf(average, modifier, f\"{metric.capitalize()} is\", len(result))\n"
     ]
    }
   ],
   "source": [
    "# Train Support Vector Classifier (SVC) on Embeddings\n",
    "from sklearn.svm import SVC\n",
    "\n",
    "svc_model = SVC(kernel='linear', random_state=42)  # You can choose other kernels like 'rbf' or 'poly'\n",
    "svc_model.fit(train_embeddings, train_data['encoded_labels'])\n",
    "\n",
    "# Validate the Model\n",
    "val_preds = svc_model.predict(val_embeddings)\n",
    "val_report = classification_report(val_labels, val_preds, target_names=label_encoder.classes_, output_dict=True)\n",
    "print(\"Validation Report:\")\n",
    "print(pd.DataFrame(val_report))\n",
    "\n",
    "# Test the Model\n",
    "test_preds = svc_model.predict(test_embeddings)\n",
    "test_report = classification_report(test_labels, test_preds, target_names=label_encoder.classes_, output_dict=True)\n",
    "print(\"Test Report:\")\n",
    "print(pd.DataFrame(test_report))\n"
   ]
  },
  {
   "cell_type": "code",
   "execution_count": null,
   "metadata": {
    "colab": {
     "base_uri": "https://localhost:8080/"
    },
    "executionInfo": {
     "elapsed": 8,
     "status": "ok",
     "timestamp": 1737642984838,
     "user": {
      "displayName": "Edmond Chong",
      "userId": "00827124523005702132"
     },
     "user_tz": -480
    },
    "id": "QDrG9fITTa73",
    "outputId": "f8b69f74-17a1-4962-ad5d-08a486abcf08"
   },
   "outputs": [
    {
     "name": "stdout",
     "output_type": "stream",
     "text": [
      "Classification report saved to /content/drive/MyDrive/P2/T1/Dataset/overlapped/LLM + ML/biobert-svc-o-class.csv\n"
     ]
    }
   ],
   "source": [
    "# Save Classification Report to CSV\n",
    "test_report_df = pd.DataFrame(test_report).transpose()\n",
    "test_report_path = \"/content/drive/MyDrive/P2/T1/Dataset/overlapped/LLM + ML/biobert-svc-o-class.csv\"\n",
    "test_report_df.to_csv(test_report_path, index=True)\n",
    "print(f\"Classification report saved to {test_report_path}\")"
   ]
  }
 ],
 "metadata": {
  "accelerator": "GPU",
  "colab": {
   "authorship_tag": "ABX9TyPT1HmmNENzkX7oyYmAO4aL",
   "gpuType": "A100",
   "machine_shape": "hm",
   "provenance": []
  },
  "kernelspec": {
   "display_name": "Python 3",
   "name": "python3"
  },
  "language_info": {
   "name": "python"
  },
  "widgets": {
   "application/vnd.jupyter.widget-state+json": {
    "078f1cf7ca4a438f9792a3124071afe6": {
     "model_module": "@jupyter-widgets/base",
     "model_module_version": "1.2.0",
     "model_name": "LayoutModel",
     "state": {
      "_model_module": "@jupyter-widgets/base",
      "_model_module_version": "1.2.0",
      "_model_name": "LayoutModel",
      "_view_count": null,
      "_view_module": "@jupyter-widgets/base",
      "_view_module_version": "1.2.0",
      "_view_name": "LayoutView",
      "align_content": null,
      "align_items": null,
      "align_self": null,
      "border": null,
      "bottom": null,
      "display": null,
      "flex": null,
      "flex_flow": null,
      "grid_area": null,
      "grid_auto_columns": null,
      "grid_auto_flow": null,
      "grid_auto_rows": null,
      "grid_column": null,
      "grid_gap": null,
      "grid_row": null,
      "grid_template_areas": null,
      "grid_template_columns": null,
      "grid_template_rows": null,
      "height": null,
      "justify_content": null,
      "justify_items": null,
      "left": null,
      "margin": null,
      "max_height": null,
      "max_width": null,
      "min_height": null,
      "min_width": null,
      "object_fit": null,
      "object_position": null,
      "order": null,
      "overflow": null,
      "overflow_x": null,
      "overflow_y": null,
      "padding": null,
      "right": null,
      "top": null,
      "visibility": null,
      "width": null
     }
    },
    "08d6576592474610867826b0f50812e7": {
     "model_module": "@jupyter-widgets/controls",
     "model_module_version": "1.5.0",
     "model_name": "HBoxModel",
     "state": {
      "_dom_classes": [],
      "_model_module": "@jupyter-widgets/controls",
      "_model_module_version": "1.5.0",
      "_model_name": "HBoxModel",
      "_view_count": null,
      "_view_module": "@jupyter-widgets/controls",
      "_view_module_version": "1.5.0",
      "_view_name": "HBoxView",
      "box_style": "",
      "children": [
       "IPY_MODEL_d69d6aa0106b425e8c0b436deeec52ef",
       "IPY_MODEL_553a8627952f48209272949473472a29",
       "IPY_MODEL_57f677f6c7cf4c6b88f8c3c46afc0dfd"
      ],
      "layout": "IPY_MODEL_9daa599052f54f93a7be8bdd00deea4d"
     }
    },
    "16bb3ba7b4914920b562634d629dc326": {
     "model_module": "@jupyter-widgets/base",
     "model_module_version": "1.2.0",
     "model_name": "LayoutModel",
     "state": {
      "_model_module": "@jupyter-widgets/base",
      "_model_module_version": "1.2.0",
      "_model_name": "LayoutModel",
      "_view_count": null,
      "_view_module": "@jupyter-widgets/base",
      "_view_module_version": "1.2.0",
      "_view_name": "LayoutView",
      "align_content": null,
      "align_items": null,
      "align_self": null,
      "border": null,
      "bottom": null,
      "display": null,
      "flex": null,
      "flex_flow": null,
      "grid_area": null,
      "grid_auto_columns": null,
      "grid_auto_flow": null,
      "grid_auto_rows": null,
      "grid_column": null,
      "grid_gap": null,
      "grid_row": null,
      "grid_template_areas": null,
      "grid_template_columns": null,
      "grid_template_rows": null,
      "height": null,
      "justify_content": null,
      "justify_items": null,
      "left": null,
      "margin": null,
      "max_height": null,
      "max_width": null,
      "min_height": null,
      "min_width": null,
      "object_fit": null,
      "object_position": null,
      "order": null,
      "overflow": null,
      "overflow_x": null,
      "overflow_y": null,
      "padding": null,
      "right": null,
      "top": null,
      "visibility": null,
      "width": null
     }
    },
    "17f98f6e3dc8477f9c2e733db7063c04": {
     "model_module": "@jupyter-widgets/controls",
     "model_module_version": "1.5.0",
     "model_name": "HTMLModel",
     "state": {
      "_dom_classes": [],
      "_model_module": "@jupyter-widgets/controls",
      "_model_module_version": "1.5.0",
      "_model_name": "HTMLModel",
      "_view_count": null,
      "_view_module": "@jupyter-widgets/controls",
      "_view_module_version": "1.5.0",
      "_view_name": "HTMLView",
      "description": "",
      "description_tooltip": null,
      "layout": "IPY_MODEL_beae674f60dd46928ce22ac407f4ff43",
      "placeholder": "​",
      "style": "IPY_MODEL_57774700ec674f3e830a16587cfbb681",
      "value": "config.json: 100%"
     }
    },
    "1bf52b5a0ad94c7c89bc1112be6fad0b": {
     "model_module": "@jupyter-widgets/base",
     "model_module_version": "1.2.0",
     "model_name": "LayoutModel",
     "state": {
      "_model_module": "@jupyter-widgets/base",
      "_model_module_version": "1.2.0",
      "_model_name": "LayoutModel",
      "_view_count": null,
      "_view_module": "@jupyter-widgets/base",
      "_view_module_version": "1.2.0",
      "_view_name": "LayoutView",
      "align_content": null,
      "align_items": null,
      "align_self": null,
      "border": null,
      "bottom": null,
      "display": null,
      "flex": null,
      "flex_flow": null,
      "grid_area": null,
      "grid_auto_columns": null,
      "grid_auto_flow": null,
      "grid_auto_rows": null,
      "grid_column": null,
      "grid_gap": null,
      "grid_row": null,
      "grid_template_areas": null,
      "grid_template_columns": null,
      "grid_template_rows": null,
      "height": null,
      "justify_content": null,
      "justify_items": null,
      "left": null,
      "margin": null,
      "max_height": null,
      "max_width": null,
      "min_height": null,
      "min_width": null,
      "object_fit": null,
      "object_position": null,
      "order": null,
      "overflow": null,
      "overflow_x": null,
      "overflow_y": null,
      "padding": null,
      "right": null,
      "top": null,
      "visibility": null,
      "width": null
     }
    },
    "24ae40ea52bb40c2b5cfb9e38b61087a": {
     "model_module": "@jupyter-widgets/base",
     "model_module_version": "1.2.0",
     "model_name": "LayoutModel",
     "state": {
      "_model_module": "@jupyter-widgets/base",
      "_model_module_version": "1.2.0",
      "_model_name": "LayoutModel",
      "_view_count": null,
      "_view_module": "@jupyter-widgets/base",
      "_view_module_version": "1.2.0",
      "_view_name": "LayoutView",
      "align_content": null,
      "align_items": null,
      "align_self": null,
      "border": null,
      "bottom": null,
      "display": null,
      "flex": null,
      "flex_flow": null,
      "grid_area": null,
      "grid_auto_columns": null,
      "grid_auto_flow": null,
      "grid_auto_rows": null,
      "grid_column": null,
      "grid_gap": null,
      "grid_row": null,
      "grid_template_areas": null,
      "grid_template_columns": null,
      "grid_template_rows": null,
      "height": null,
      "justify_content": null,
      "justify_items": null,
      "left": null,
      "margin": null,
      "max_height": null,
      "max_width": null,
      "min_height": null,
      "min_width": null,
      "object_fit": null,
      "object_position": null,
      "order": null,
      "overflow": null,
      "overflow_x": null,
      "overflow_y": null,
      "padding": null,
      "right": null,
      "top": null,
      "visibility": null,
      "width": null
     }
    },
    "2769eb5b5fa447488b04c0ed2fa84726": {
     "model_module": "@jupyter-widgets/base",
     "model_module_version": "1.2.0",
     "model_name": "LayoutModel",
     "state": {
      "_model_module": "@jupyter-widgets/base",
      "_model_module_version": "1.2.0",
      "_model_name": "LayoutModel",
      "_view_count": null,
      "_view_module": "@jupyter-widgets/base",
      "_view_module_version": "1.2.0",
      "_view_name": "LayoutView",
      "align_content": null,
      "align_items": null,
      "align_self": null,
      "border": null,
      "bottom": null,
      "display": null,
      "flex": null,
      "flex_flow": null,
      "grid_area": null,
      "grid_auto_columns": null,
      "grid_auto_flow": null,
      "grid_auto_rows": null,
      "grid_column": null,
      "grid_gap": null,
      "grid_row": null,
      "grid_template_areas": null,
      "grid_template_columns": null,
      "grid_template_rows": null,
      "height": null,
      "justify_content": null,
      "justify_items": null,
      "left": null,
      "margin": null,
      "max_height": null,
      "max_width": null,
      "min_height": null,
      "min_width": null,
      "object_fit": null,
      "object_position": null,
      "order": null,
      "overflow": null,
      "overflow_x": null,
      "overflow_y": null,
      "padding": null,
      "right": null,
      "top": null,
      "visibility": null,
      "width": null
     }
    },
    "35837cf76c2a41879ed42f2b213d99ab": {
     "model_module": "@jupyter-widgets/controls",
     "model_module_version": "1.5.0",
     "model_name": "DescriptionStyleModel",
     "state": {
      "_model_module": "@jupyter-widgets/controls",
      "_model_module_version": "1.5.0",
      "_model_name": "DescriptionStyleModel",
      "_view_count": null,
      "_view_module": "@jupyter-widgets/base",
      "_view_module_version": "1.2.0",
      "_view_name": "StyleView",
      "description_width": ""
     }
    },
    "4053d749b05b46ce8c4dd67bcebd5614": {
     "model_module": "@jupyter-widgets/base",
     "model_module_version": "1.2.0",
     "model_name": "LayoutModel",
     "state": {
      "_model_module": "@jupyter-widgets/base",
      "_model_module_version": "1.2.0",
      "_model_name": "LayoutModel",
      "_view_count": null,
      "_view_module": "@jupyter-widgets/base",
      "_view_module_version": "1.2.0",
      "_view_name": "LayoutView",
      "align_content": null,
      "align_items": null,
      "align_self": null,
      "border": null,
      "bottom": null,
      "display": null,
      "flex": null,
      "flex_flow": null,
      "grid_area": null,
      "grid_auto_columns": null,
      "grid_auto_flow": null,
      "grid_auto_rows": null,
      "grid_column": null,
      "grid_gap": null,
      "grid_row": null,
      "grid_template_areas": null,
      "grid_template_columns": null,
      "grid_template_rows": null,
      "height": null,
      "justify_content": null,
      "justify_items": null,
      "left": null,
      "margin": null,
      "max_height": null,
      "max_width": null,
      "min_height": null,
      "min_width": null,
      "object_fit": null,
      "object_position": null,
      "order": null,
      "overflow": null,
      "overflow_x": null,
      "overflow_y": null,
      "padding": null,
      "right": null,
      "top": null,
      "visibility": null,
      "width": null
     }
    },
    "553a8627952f48209272949473472a29": {
     "model_module": "@jupyter-widgets/controls",
     "model_module_version": "1.5.0",
     "model_name": "FloatProgressModel",
     "state": {
      "_dom_classes": [],
      "_model_module": "@jupyter-widgets/controls",
      "_model_module_version": "1.5.0",
      "_model_name": "FloatProgressModel",
      "_view_count": null,
      "_view_module": "@jupyter-widgets/controls",
      "_view_module_version": "1.5.0",
      "_view_name": "ProgressView",
      "bar_style": "success",
      "description": "",
      "description_tooltip": null,
      "layout": "IPY_MODEL_7f51e0f32b3440e39a73e903b60d1e8f",
      "max": 213450,
      "min": 0,
      "orientation": "horizontal",
      "style": "IPY_MODEL_628256c7b16d46a6b5d839b3c56186c0",
      "value": 213450
     }
    },
    "57774700ec674f3e830a16587cfbb681": {
     "model_module": "@jupyter-widgets/controls",
     "model_module_version": "1.5.0",
     "model_name": "DescriptionStyleModel",
     "state": {
      "_model_module": "@jupyter-widgets/controls",
      "_model_module_version": "1.5.0",
      "_model_name": "DescriptionStyleModel",
      "_view_count": null,
      "_view_module": "@jupyter-widgets/base",
      "_view_module_version": "1.2.0",
      "_view_name": "StyleView",
      "description_width": ""
     }
    },
    "57f677f6c7cf4c6b88f8c3c46afc0dfd": {
     "model_module": "@jupyter-widgets/controls",
     "model_module_version": "1.5.0",
     "model_name": "HTMLModel",
     "state": {
      "_dom_classes": [],
      "_model_module": "@jupyter-widgets/controls",
      "_model_module_version": "1.5.0",
      "_model_name": "HTMLModel",
      "_view_count": null,
      "_view_module": "@jupyter-widgets/controls",
      "_view_module_version": "1.5.0",
      "_view_name": "HTMLView",
      "description": "",
      "description_tooltip": null,
      "layout": "IPY_MODEL_2769eb5b5fa447488b04c0ed2fa84726",
      "placeholder": "​",
      "style": "IPY_MODEL_7f9e7b9c9cb4410389480d9c8f7d960e",
      "value": " 213k/213k [00:00&lt;00:00, 923kB/s]"
     }
    },
    "628256c7b16d46a6b5d839b3c56186c0": {
     "model_module": "@jupyter-widgets/controls",
     "model_module_version": "1.5.0",
     "model_name": "ProgressStyleModel",
     "state": {
      "_model_module": "@jupyter-widgets/controls",
      "_model_module_version": "1.5.0",
      "_model_name": "ProgressStyleModel",
      "_view_count": null,
      "_view_module": "@jupyter-widgets/base",
      "_view_module_version": "1.2.0",
      "_view_name": "StyleView",
      "bar_color": null,
      "description_width": ""
     }
    },
    "6c378c44ec7f42e5a0e1cd3a75cf3b30": {
     "model_module": "@jupyter-widgets/controls",
     "model_module_version": "1.5.0",
     "model_name": "ProgressStyleModel",
     "state": {
      "_model_module": "@jupyter-widgets/controls",
      "_model_module_version": "1.5.0",
      "_model_name": "ProgressStyleModel",
      "_view_count": null,
      "_view_module": "@jupyter-widgets/base",
      "_view_module_version": "1.2.0",
      "_view_name": "StyleView",
      "bar_color": null,
      "description_width": ""
     }
    },
    "6d33382dd00046119bc62e6d18ba665c": {
     "model_module": "@jupyter-widgets/controls",
     "model_module_version": "1.5.0",
     "model_name": "DescriptionStyleModel",
     "state": {
      "_model_module": "@jupyter-widgets/controls",
      "_model_module_version": "1.5.0",
      "_model_name": "DescriptionStyleModel",
      "_view_count": null,
      "_view_module": "@jupyter-widgets/base",
      "_view_module_version": "1.2.0",
      "_view_name": "StyleView",
      "description_width": ""
     }
    },
    "70c4edadcd1d4b8ca3015957c26e3955": {
     "model_module": "@jupyter-widgets/controls",
     "model_module_version": "1.5.0",
     "model_name": "DescriptionStyleModel",
     "state": {
      "_model_module": "@jupyter-widgets/controls",
      "_model_module_version": "1.5.0",
      "_model_name": "DescriptionStyleModel",
      "_view_count": null,
      "_view_module": "@jupyter-widgets/base",
      "_view_module_version": "1.2.0",
      "_view_name": "StyleView",
      "description_width": ""
     }
    },
    "7417529c4c4241f9909982cab6daf524": {
     "model_module": "@jupyter-widgets/controls",
     "model_module_version": "1.5.0",
     "model_name": "DescriptionStyleModel",
     "state": {
      "_model_module": "@jupyter-widgets/controls",
      "_model_module_version": "1.5.0",
      "_model_name": "DescriptionStyleModel",
      "_view_count": null,
      "_view_module": "@jupyter-widgets/base",
      "_view_module_version": "1.2.0",
      "_view_name": "StyleView",
      "description_width": ""
     }
    },
    "74f07774a9844a2398df8b5df26e0d95": {
     "model_module": "@jupyter-widgets/controls",
     "model_module_version": "1.5.0",
     "model_name": "FloatProgressModel",
     "state": {
      "_dom_classes": [],
      "_model_module": "@jupyter-widgets/controls",
      "_model_module_version": "1.5.0",
      "_model_name": "FloatProgressModel",
      "_view_count": null,
      "_view_module": "@jupyter-widgets/controls",
      "_view_module_version": "1.5.0",
      "_view_name": "ProgressView",
      "bar_style": "success",
      "description": "",
      "description_tooltip": null,
      "layout": "IPY_MODEL_078f1cf7ca4a438f9792a3124071afe6",
      "max": 435780550,
      "min": 0,
      "orientation": "horizontal",
      "style": "IPY_MODEL_d64010f030d34d12b84ffa1ecc09a170",
      "value": 435780550
     }
    },
    "7a17747f25624ce284d674bc281edca3": {
     "model_module": "@jupyter-widgets/controls",
     "model_module_version": "1.5.0",
     "model_name": "HTMLModel",
     "state": {
      "_dom_classes": [],
      "_model_module": "@jupyter-widgets/controls",
      "_model_module_version": "1.5.0",
      "_model_name": "HTMLModel",
      "_view_count": null,
      "_view_module": "@jupyter-widgets/controls",
      "_view_module_version": "1.5.0",
      "_view_name": "HTMLView",
      "description": "",
      "description_tooltip": null,
      "layout": "IPY_MODEL_16bb3ba7b4914920b562634d629dc326",
      "placeholder": "​",
      "style": "IPY_MODEL_7417529c4c4241f9909982cab6daf524",
      "value": "pytorch_model.bin: 100%"
     }
    },
    "7f51e0f32b3440e39a73e903b60d1e8f": {
     "model_module": "@jupyter-widgets/base",
     "model_module_version": "1.2.0",
     "model_name": "LayoutModel",
     "state": {
      "_model_module": "@jupyter-widgets/base",
      "_model_module_version": "1.2.0",
      "_model_name": "LayoutModel",
      "_view_count": null,
      "_view_module": "@jupyter-widgets/base",
      "_view_module_version": "1.2.0",
      "_view_name": "LayoutView",
      "align_content": null,
      "align_items": null,
      "align_self": null,
      "border": null,
      "bottom": null,
      "display": null,
      "flex": null,
      "flex_flow": null,
      "grid_area": null,
      "grid_auto_columns": null,
      "grid_auto_flow": null,
      "grid_auto_rows": null,
      "grid_column": null,
      "grid_gap": null,
      "grid_row": null,
      "grid_template_areas": null,
      "grid_template_columns": null,
      "grid_template_rows": null,
      "height": null,
      "justify_content": null,
      "justify_items": null,
      "left": null,
      "margin": null,
      "max_height": null,
      "max_width": null,
      "min_height": null,
      "min_width": null,
      "object_fit": null,
      "object_position": null,
      "order": null,
      "overflow": null,
      "overflow_x": null,
      "overflow_y": null,
      "padding": null,
      "right": null,
      "top": null,
      "visibility": null,
      "width": null
     }
    },
    "7f9e7b9c9cb4410389480d9c8f7d960e": {
     "model_module": "@jupyter-widgets/controls",
     "model_module_version": "1.5.0",
     "model_name": "DescriptionStyleModel",
     "state": {
      "_model_module": "@jupyter-widgets/controls",
      "_model_module_version": "1.5.0",
      "_model_name": "DescriptionStyleModel",
      "_view_count": null,
      "_view_module": "@jupyter-widgets/base",
      "_view_module_version": "1.2.0",
      "_view_name": "StyleView",
      "description_width": ""
     }
    },
    "84109d59abda44e090b6677421c7a694": {
     "model_module": "@jupyter-widgets/base",
     "model_module_version": "1.2.0",
     "model_name": "LayoutModel",
     "state": {
      "_model_module": "@jupyter-widgets/base",
      "_model_module_version": "1.2.0",
      "_model_name": "LayoutModel",
      "_view_count": null,
      "_view_module": "@jupyter-widgets/base",
      "_view_module_version": "1.2.0",
      "_view_name": "LayoutView",
      "align_content": null,
      "align_items": null,
      "align_self": null,
      "border": null,
      "bottom": null,
      "display": null,
      "flex": null,
      "flex_flow": null,
      "grid_area": null,
      "grid_auto_columns": null,
      "grid_auto_flow": null,
      "grid_auto_rows": null,
      "grid_column": null,
      "grid_gap": null,
      "grid_row": null,
      "grid_template_areas": null,
      "grid_template_columns": null,
      "grid_template_rows": null,
      "height": null,
      "justify_content": null,
      "justify_items": null,
      "left": null,
      "margin": null,
      "max_height": null,
      "max_width": null,
      "min_height": null,
      "min_width": null,
      "object_fit": null,
      "object_position": null,
      "order": null,
      "overflow": null,
      "overflow_x": null,
      "overflow_y": null,
      "padding": null,
      "right": null,
      "top": null,
      "visibility": null,
      "width": null
     }
    },
    "9daa599052f54f93a7be8bdd00deea4d": {
     "model_module": "@jupyter-widgets/base",
     "model_module_version": "1.2.0",
     "model_name": "LayoutModel",
     "state": {
      "_model_module": "@jupyter-widgets/base",
      "_model_module_version": "1.2.0",
      "_model_name": "LayoutModel",
      "_view_count": null,
      "_view_module": "@jupyter-widgets/base",
      "_view_module_version": "1.2.0",
      "_view_name": "LayoutView",
      "align_content": null,
      "align_items": null,
      "align_self": null,
      "border": null,
      "bottom": null,
      "display": null,
      "flex": null,
      "flex_flow": null,
      "grid_area": null,
      "grid_auto_columns": null,
      "grid_auto_flow": null,
      "grid_auto_rows": null,
      "grid_column": null,
      "grid_gap": null,
      "grid_row": null,
      "grid_template_areas": null,
      "grid_template_columns": null,
      "grid_template_rows": null,
      "height": null,
      "justify_content": null,
      "justify_items": null,
      "left": null,
      "margin": null,
      "max_height": null,
      "max_width": null,
      "min_height": null,
      "min_width": null,
      "object_fit": null,
      "object_position": null,
      "order": null,
      "overflow": null,
      "overflow_x": null,
      "overflow_y": null,
      "padding": null,
      "right": null,
      "top": null,
      "visibility": null,
      "width": null
     }
    },
    "ae4e93e6ac03470c984fdd68cc3ea526": {
     "model_module": "@jupyter-widgets/base",
     "model_module_version": "1.2.0",
     "model_name": "LayoutModel",
     "state": {
      "_model_module": "@jupyter-widgets/base",
      "_model_module_version": "1.2.0",
      "_model_name": "LayoutModel",
      "_view_count": null,
      "_view_module": "@jupyter-widgets/base",
      "_view_module_version": "1.2.0",
      "_view_name": "LayoutView",
      "align_content": null,
      "align_items": null,
      "align_self": null,
      "border": null,
      "bottom": null,
      "display": null,
      "flex": null,
      "flex_flow": null,
      "grid_area": null,
      "grid_auto_columns": null,
      "grid_auto_flow": null,
      "grid_auto_rows": null,
      "grid_column": null,
      "grid_gap": null,
      "grid_row": null,
      "grid_template_areas": null,
      "grid_template_columns": null,
      "grid_template_rows": null,
      "height": null,
      "justify_content": null,
      "justify_items": null,
      "left": null,
      "margin": null,
      "max_height": null,
      "max_width": null,
      "min_height": null,
      "min_width": null,
      "object_fit": null,
      "object_position": null,
      "order": null,
      "overflow": null,
      "overflow_x": null,
      "overflow_y": null,
      "padding": null,
      "right": null,
      "top": null,
      "visibility": null,
      "width": null
     }
    },
    "b4a9fbfbf3b34c52b45ad8df757c7437": {
     "model_module": "@jupyter-widgets/controls",
     "model_module_version": "1.5.0",
     "model_name": "HBoxModel",
     "state": {
      "_dom_classes": [],
      "_model_module": "@jupyter-widgets/controls",
      "_model_module_version": "1.5.0",
      "_model_name": "HBoxModel",
      "_view_count": null,
      "_view_module": "@jupyter-widgets/controls",
      "_view_module_version": "1.5.0",
      "_view_name": "HBoxView",
      "box_style": "",
      "children": [
       "IPY_MODEL_17f98f6e3dc8477f9c2e733db7063c04",
       "IPY_MODEL_b6d4e6aa07a54b43828086edd368ad42",
       "IPY_MODEL_e6748dfb6e6c42939e6eb60bde0bb412"
      ],
      "layout": "IPY_MODEL_4053d749b05b46ce8c4dd67bcebd5614"
     }
    },
    "b6d4e6aa07a54b43828086edd368ad42": {
     "model_module": "@jupyter-widgets/controls",
     "model_module_version": "1.5.0",
     "model_name": "FloatProgressModel",
     "state": {
      "_dom_classes": [],
      "_model_module": "@jupyter-widgets/controls",
      "_model_module_version": "1.5.0",
      "_model_name": "FloatProgressModel",
      "_view_count": null,
      "_view_module": "@jupyter-widgets/controls",
      "_view_module_version": "1.5.0",
      "_view_name": "ProgressView",
      "bar_style": "success",
      "description": "",
      "description_tooltip": null,
      "layout": "IPY_MODEL_f0700f934e4049938252909d7f927a7f",
      "max": 313,
      "min": 0,
      "orientation": "horizontal",
      "style": "IPY_MODEL_6c378c44ec7f42e5a0e1cd3a75cf3b30",
      "value": 313
     }
    },
    "beae674f60dd46928ce22ac407f4ff43": {
     "model_module": "@jupyter-widgets/base",
     "model_module_version": "1.2.0",
     "model_name": "LayoutModel",
     "state": {
      "_model_module": "@jupyter-widgets/base",
      "_model_module_version": "1.2.0",
      "_model_name": "LayoutModel",
      "_view_count": null,
      "_view_module": "@jupyter-widgets/base",
      "_view_module_version": "1.2.0",
      "_view_name": "LayoutView",
      "align_content": null,
      "align_items": null,
      "align_self": null,
      "border": null,
      "bottom": null,
      "display": null,
      "flex": null,
      "flex_flow": null,
      "grid_area": null,
      "grid_auto_columns": null,
      "grid_auto_flow": null,
      "grid_auto_rows": null,
      "grid_column": null,
      "grid_gap": null,
      "grid_row": null,
      "grid_template_areas": null,
      "grid_template_columns": null,
      "grid_template_rows": null,
      "height": null,
      "justify_content": null,
      "justify_items": null,
      "left": null,
      "margin": null,
      "max_height": null,
      "max_width": null,
      "min_height": null,
      "min_width": null,
      "object_fit": null,
      "object_position": null,
      "order": null,
      "overflow": null,
      "overflow_x": null,
      "overflow_y": null,
      "padding": null,
      "right": null,
      "top": null,
      "visibility": null,
      "width": null
     }
    },
    "d5665a1037944d1588a2693ae83f479e": {
     "model_module": "@jupyter-widgets/controls",
     "model_module_version": "1.5.0",
     "model_name": "HTMLModel",
     "state": {
      "_dom_classes": [],
      "_model_module": "@jupyter-widgets/controls",
      "_model_module_version": "1.5.0",
      "_model_name": "HTMLModel",
      "_view_count": null,
      "_view_module": "@jupyter-widgets/controls",
      "_view_module_version": "1.5.0",
      "_view_name": "HTMLView",
      "description": "",
      "description_tooltip": null,
      "layout": "IPY_MODEL_84109d59abda44e090b6677421c7a694",
      "placeholder": "​",
      "style": "IPY_MODEL_70c4edadcd1d4b8ca3015957c26e3955",
      "value": " 436M/436M [00:03&lt;00:00, 131MB/s]"
     }
    },
    "d64010f030d34d12b84ffa1ecc09a170": {
     "model_module": "@jupyter-widgets/controls",
     "model_module_version": "1.5.0",
     "model_name": "ProgressStyleModel",
     "state": {
      "_model_module": "@jupyter-widgets/controls",
      "_model_module_version": "1.5.0",
      "_model_name": "ProgressStyleModel",
      "_view_count": null,
      "_view_module": "@jupyter-widgets/base",
      "_view_module_version": "1.2.0",
      "_view_name": "StyleView",
      "bar_color": null,
      "description_width": ""
     }
    },
    "d69d6aa0106b425e8c0b436deeec52ef": {
     "model_module": "@jupyter-widgets/controls",
     "model_module_version": "1.5.0",
     "model_name": "HTMLModel",
     "state": {
      "_dom_classes": [],
      "_model_module": "@jupyter-widgets/controls",
      "_model_module_version": "1.5.0",
      "_model_name": "HTMLModel",
      "_view_count": null,
      "_view_module": "@jupyter-widgets/controls",
      "_view_module_version": "1.5.0",
      "_view_name": "HTMLView",
      "description": "",
      "description_tooltip": null,
      "layout": "IPY_MODEL_1bf52b5a0ad94c7c89bc1112be6fad0b",
      "placeholder": "​",
      "style": "IPY_MODEL_35837cf76c2a41879ed42f2b213d99ab",
      "value": "vocab.txt: 100%"
     }
    },
    "e6748dfb6e6c42939e6eb60bde0bb412": {
     "model_module": "@jupyter-widgets/controls",
     "model_module_version": "1.5.0",
     "model_name": "HTMLModel",
     "state": {
      "_dom_classes": [],
      "_model_module": "@jupyter-widgets/controls",
      "_model_module_version": "1.5.0",
      "_model_name": "HTMLModel",
      "_view_count": null,
      "_view_module": "@jupyter-widgets/controls",
      "_view_module_version": "1.5.0",
      "_view_name": "HTMLView",
      "description": "",
      "description_tooltip": null,
      "layout": "IPY_MODEL_ae4e93e6ac03470c984fdd68cc3ea526",
      "placeholder": "​",
      "style": "IPY_MODEL_6d33382dd00046119bc62e6d18ba665c",
      "value": " 313/313 [00:00&lt;00:00, 24.8kB/s]"
     }
    },
    "f0700f934e4049938252909d7f927a7f": {
     "model_module": "@jupyter-widgets/base",
     "model_module_version": "1.2.0",
     "model_name": "LayoutModel",
     "state": {
      "_model_module": "@jupyter-widgets/base",
      "_model_module_version": "1.2.0",
      "_model_name": "LayoutModel",
      "_view_count": null,
      "_view_module": "@jupyter-widgets/base",
      "_view_module_version": "1.2.0",
      "_view_name": "LayoutView",
      "align_content": null,
      "align_items": null,
      "align_self": null,
      "border": null,
      "bottom": null,
      "display": null,
      "flex": null,
      "flex_flow": null,
      "grid_area": null,
      "grid_auto_columns": null,
      "grid_auto_flow": null,
      "grid_auto_rows": null,
      "grid_column": null,
      "grid_gap": null,
      "grid_row": null,
      "grid_template_areas": null,
      "grid_template_columns": null,
      "grid_template_rows": null,
      "height": null,
      "justify_content": null,
      "justify_items": null,
      "left": null,
      "margin": null,
      "max_height": null,
      "max_width": null,
      "min_height": null,
      "min_width": null,
      "object_fit": null,
      "object_position": null,
      "order": null,
      "overflow": null,
      "overflow_x": null,
      "overflow_y": null,
      "padding": null,
      "right": null,
      "top": null,
      "visibility": null,
      "width": null
     }
    },
    "f33e39cf4d85422a941dbf4ae4f67b62": {
     "model_module": "@jupyter-widgets/controls",
     "model_module_version": "1.5.0",
     "model_name": "HBoxModel",
     "state": {
      "_dom_classes": [],
      "_model_module": "@jupyter-widgets/controls",
      "_model_module_version": "1.5.0",
      "_model_name": "HBoxModel",
      "_view_count": null,
      "_view_module": "@jupyter-widgets/controls",
      "_view_module_version": "1.5.0",
      "_view_name": "HBoxView",
      "box_style": "",
      "children": [
       "IPY_MODEL_7a17747f25624ce284d674bc281edca3",
       "IPY_MODEL_74f07774a9844a2398df8b5df26e0d95",
       "IPY_MODEL_d5665a1037944d1588a2693ae83f479e"
      ],
      "layout": "IPY_MODEL_24ae40ea52bb40c2b5cfb9e38b61087a"
     }
    }
   }
  }
 },
 "nbformat": 4,
 "nbformat_minor": 0
}

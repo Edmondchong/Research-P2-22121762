{
  "nbformat": 4,
  "nbformat_minor": 0,
  "metadata": {
    "colab": {
      "provenance": [],
      "machine_shape": "hm",
      "gpuType": "A100"
    },
    "kernelspec": {
      "name": "python3",
      "display_name": "Python 3"
    },
    "language_info": {
      "name": "python"
    },
    "accelerator": "GPU",
    "widgets": {
      "application/vnd.jupyter.widget-state+json": {
        "67847dc1e13045e48718362745c59597": {
          "model_module": "@jupyter-widgets/controls",
          "model_name": "HBoxModel",
          "model_module_version": "1.5.0",
          "state": {
            "_dom_classes": [],
            "_model_module": "@jupyter-widgets/controls",
            "_model_module_version": "1.5.0",
            "_model_name": "HBoxModel",
            "_view_count": null,
            "_view_module": "@jupyter-widgets/controls",
            "_view_module_version": "1.5.0",
            "_view_name": "HBoxView",
            "box_style": "",
            "children": [
              "IPY_MODEL_3c6f1b155484470fae8af97f38c2ef2a",
              "IPY_MODEL_be8013ca2ca641248ec310b8ba1d2de1",
              "IPY_MODEL_8335466bd144489b8a13614a670792e1"
            ],
            "layout": "IPY_MODEL_3dd2a69473b844f39446c5895a489aa9"
          }
        },
        "3c6f1b155484470fae8af97f38c2ef2a": {
          "model_module": "@jupyter-widgets/controls",
          "model_name": "HTMLModel",
          "model_module_version": "1.5.0",
          "state": {
            "_dom_classes": [],
            "_model_module": "@jupyter-widgets/controls",
            "_model_module_version": "1.5.0",
            "_model_name": "HTMLModel",
            "_view_count": null,
            "_view_module": "@jupyter-widgets/controls",
            "_view_module_version": "1.5.0",
            "_view_name": "HTMLView",
            "description": "",
            "description_tooltip": null,
            "layout": "IPY_MODEL_76965bd8d1ef4f49a4e99a5f890ac4ae",
            "placeholder": "​",
            "style": "IPY_MODEL_03231ac354564d44a46bd2f52de0993a",
            "value": "config.json: 100%"
          }
        },
        "be8013ca2ca641248ec310b8ba1d2de1": {
          "model_module": "@jupyter-widgets/controls",
          "model_name": "FloatProgressModel",
          "model_module_version": "1.5.0",
          "state": {
            "_dom_classes": [],
            "_model_module": "@jupyter-widgets/controls",
            "_model_module_version": "1.5.0",
            "_model_name": "FloatProgressModel",
            "_view_count": null,
            "_view_module": "@jupyter-widgets/controls",
            "_view_module_version": "1.5.0",
            "_view_name": "ProgressView",
            "bar_style": "success",
            "description": "",
            "description_tooltip": null,
            "layout": "IPY_MODEL_1d6b43f378584ec9867f2a215713c18c",
            "max": 313,
            "min": 0,
            "orientation": "horizontal",
            "style": "IPY_MODEL_e42a897f4c2f49a6a59937f7a4112d89",
            "value": 313
          }
        },
        "8335466bd144489b8a13614a670792e1": {
          "model_module": "@jupyter-widgets/controls",
          "model_name": "HTMLModel",
          "model_module_version": "1.5.0",
          "state": {
            "_dom_classes": [],
            "_model_module": "@jupyter-widgets/controls",
            "_model_module_version": "1.5.0",
            "_model_name": "HTMLModel",
            "_view_count": null,
            "_view_module": "@jupyter-widgets/controls",
            "_view_module_version": "1.5.0",
            "_view_name": "HTMLView",
            "description": "",
            "description_tooltip": null,
            "layout": "IPY_MODEL_b77ff7d6e4b54e58b4f6d94ab0a14e6c",
            "placeholder": "​",
            "style": "IPY_MODEL_f5c734041e0c4caf8b918c63dabe6a25",
            "value": " 313/313 [00:00&lt;00:00, 24.3kB/s]"
          }
        },
        "3dd2a69473b844f39446c5895a489aa9": {
          "model_module": "@jupyter-widgets/base",
          "model_name": "LayoutModel",
          "model_module_version": "1.2.0",
          "state": {
            "_model_module": "@jupyter-widgets/base",
            "_model_module_version": "1.2.0",
            "_model_name": "LayoutModel",
            "_view_count": null,
            "_view_module": "@jupyter-widgets/base",
            "_view_module_version": "1.2.0",
            "_view_name": "LayoutView",
            "align_content": null,
            "align_items": null,
            "align_self": null,
            "border": null,
            "bottom": null,
            "display": null,
            "flex": null,
            "flex_flow": null,
            "grid_area": null,
            "grid_auto_columns": null,
            "grid_auto_flow": null,
            "grid_auto_rows": null,
            "grid_column": null,
            "grid_gap": null,
            "grid_row": null,
            "grid_template_areas": null,
            "grid_template_columns": null,
            "grid_template_rows": null,
            "height": null,
            "justify_content": null,
            "justify_items": null,
            "left": null,
            "margin": null,
            "max_height": null,
            "max_width": null,
            "min_height": null,
            "min_width": null,
            "object_fit": null,
            "object_position": null,
            "order": null,
            "overflow": null,
            "overflow_x": null,
            "overflow_y": null,
            "padding": null,
            "right": null,
            "top": null,
            "visibility": null,
            "width": null
          }
        },
        "76965bd8d1ef4f49a4e99a5f890ac4ae": {
          "model_module": "@jupyter-widgets/base",
          "model_name": "LayoutModel",
          "model_module_version": "1.2.0",
          "state": {
            "_model_module": "@jupyter-widgets/base",
            "_model_module_version": "1.2.0",
            "_model_name": "LayoutModel",
            "_view_count": null,
            "_view_module": "@jupyter-widgets/base",
            "_view_module_version": "1.2.0",
            "_view_name": "LayoutView",
            "align_content": null,
            "align_items": null,
            "align_self": null,
            "border": null,
            "bottom": null,
            "display": null,
            "flex": null,
            "flex_flow": null,
            "grid_area": null,
            "grid_auto_columns": null,
            "grid_auto_flow": null,
            "grid_auto_rows": null,
            "grid_column": null,
            "grid_gap": null,
            "grid_row": null,
            "grid_template_areas": null,
            "grid_template_columns": null,
            "grid_template_rows": null,
            "height": null,
            "justify_content": null,
            "justify_items": null,
            "left": null,
            "margin": null,
            "max_height": null,
            "max_width": null,
            "min_height": null,
            "min_width": null,
            "object_fit": null,
            "object_position": null,
            "order": null,
            "overflow": null,
            "overflow_x": null,
            "overflow_y": null,
            "padding": null,
            "right": null,
            "top": null,
            "visibility": null,
            "width": null
          }
        },
        "03231ac354564d44a46bd2f52de0993a": {
          "model_module": "@jupyter-widgets/controls",
          "model_name": "DescriptionStyleModel",
          "model_module_version": "1.5.0",
          "state": {
            "_model_module": "@jupyter-widgets/controls",
            "_model_module_version": "1.5.0",
            "_model_name": "DescriptionStyleModel",
            "_view_count": null,
            "_view_module": "@jupyter-widgets/base",
            "_view_module_version": "1.2.0",
            "_view_name": "StyleView",
            "description_width": ""
          }
        },
        "1d6b43f378584ec9867f2a215713c18c": {
          "model_module": "@jupyter-widgets/base",
          "model_name": "LayoutModel",
          "model_module_version": "1.2.0",
          "state": {
            "_model_module": "@jupyter-widgets/base",
            "_model_module_version": "1.2.0",
            "_model_name": "LayoutModel",
            "_view_count": null,
            "_view_module": "@jupyter-widgets/base",
            "_view_module_version": "1.2.0",
            "_view_name": "LayoutView",
            "align_content": null,
            "align_items": null,
            "align_self": null,
            "border": null,
            "bottom": null,
            "display": null,
            "flex": null,
            "flex_flow": null,
            "grid_area": null,
            "grid_auto_columns": null,
            "grid_auto_flow": null,
            "grid_auto_rows": null,
            "grid_column": null,
            "grid_gap": null,
            "grid_row": null,
            "grid_template_areas": null,
            "grid_template_columns": null,
            "grid_template_rows": null,
            "height": null,
            "justify_content": null,
            "justify_items": null,
            "left": null,
            "margin": null,
            "max_height": null,
            "max_width": null,
            "min_height": null,
            "min_width": null,
            "object_fit": null,
            "object_position": null,
            "order": null,
            "overflow": null,
            "overflow_x": null,
            "overflow_y": null,
            "padding": null,
            "right": null,
            "top": null,
            "visibility": null,
            "width": null
          }
        },
        "e42a897f4c2f49a6a59937f7a4112d89": {
          "model_module": "@jupyter-widgets/controls",
          "model_name": "ProgressStyleModel",
          "model_module_version": "1.5.0",
          "state": {
            "_model_module": "@jupyter-widgets/controls",
            "_model_module_version": "1.5.0",
            "_model_name": "ProgressStyleModel",
            "_view_count": null,
            "_view_module": "@jupyter-widgets/base",
            "_view_module_version": "1.2.0",
            "_view_name": "StyleView",
            "bar_color": null,
            "description_width": ""
          }
        },
        "b77ff7d6e4b54e58b4f6d94ab0a14e6c": {
          "model_module": "@jupyter-widgets/base",
          "model_name": "LayoutModel",
          "model_module_version": "1.2.0",
          "state": {
            "_model_module": "@jupyter-widgets/base",
            "_model_module_version": "1.2.0",
            "_model_name": "LayoutModel",
            "_view_count": null,
            "_view_module": "@jupyter-widgets/base",
            "_view_module_version": "1.2.0",
            "_view_name": "LayoutView",
            "align_content": null,
            "align_items": null,
            "align_self": null,
            "border": null,
            "bottom": null,
            "display": null,
            "flex": null,
            "flex_flow": null,
            "grid_area": null,
            "grid_auto_columns": null,
            "grid_auto_flow": null,
            "grid_auto_rows": null,
            "grid_column": null,
            "grid_gap": null,
            "grid_row": null,
            "grid_template_areas": null,
            "grid_template_columns": null,
            "grid_template_rows": null,
            "height": null,
            "justify_content": null,
            "justify_items": null,
            "left": null,
            "margin": null,
            "max_height": null,
            "max_width": null,
            "min_height": null,
            "min_width": null,
            "object_fit": null,
            "object_position": null,
            "order": null,
            "overflow": null,
            "overflow_x": null,
            "overflow_y": null,
            "padding": null,
            "right": null,
            "top": null,
            "visibility": null,
            "width": null
          }
        },
        "f5c734041e0c4caf8b918c63dabe6a25": {
          "model_module": "@jupyter-widgets/controls",
          "model_name": "DescriptionStyleModel",
          "model_module_version": "1.5.0",
          "state": {
            "_model_module": "@jupyter-widgets/controls",
            "_model_module_version": "1.5.0",
            "_model_name": "DescriptionStyleModel",
            "_view_count": null,
            "_view_module": "@jupyter-widgets/base",
            "_view_module_version": "1.2.0",
            "_view_name": "StyleView",
            "description_width": ""
          }
        },
        "9bff43cccc8e459cadbe88fa824857ab": {
          "model_module": "@jupyter-widgets/controls",
          "model_name": "HBoxModel",
          "model_module_version": "1.5.0",
          "state": {
            "_dom_classes": [],
            "_model_module": "@jupyter-widgets/controls",
            "_model_module_version": "1.5.0",
            "_model_name": "HBoxModel",
            "_view_count": null,
            "_view_module": "@jupyter-widgets/controls",
            "_view_module_version": "1.5.0",
            "_view_name": "HBoxView",
            "box_style": "",
            "children": [
              "IPY_MODEL_dc4134abf3604e91b7eab8e728806bb7",
              "IPY_MODEL_62bd1c5695a3439bbcdf057347411cd6",
              "IPY_MODEL_c0c9207801d44fe99048497699fc69c7"
            ],
            "layout": "IPY_MODEL_a4866661ca11446080f71b0ef45138e2"
          }
        },
        "dc4134abf3604e91b7eab8e728806bb7": {
          "model_module": "@jupyter-widgets/controls",
          "model_name": "HTMLModel",
          "model_module_version": "1.5.0",
          "state": {
            "_dom_classes": [],
            "_model_module": "@jupyter-widgets/controls",
            "_model_module_version": "1.5.0",
            "_model_name": "HTMLModel",
            "_view_count": null,
            "_view_module": "@jupyter-widgets/controls",
            "_view_module_version": "1.5.0",
            "_view_name": "HTMLView",
            "description": "",
            "description_tooltip": null,
            "layout": "IPY_MODEL_96b64377622a40ada30a2e7784328815",
            "placeholder": "​",
            "style": "IPY_MODEL_718ddc21112f4912aafa70ff956c63c7",
            "value": "vocab.txt: 100%"
          }
        },
        "62bd1c5695a3439bbcdf057347411cd6": {
          "model_module": "@jupyter-widgets/controls",
          "model_name": "FloatProgressModel",
          "model_module_version": "1.5.0",
          "state": {
            "_dom_classes": [],
            "_model_module": "@jupyter-widgets/controls",
            "_model_module_version": "1.5.0",
            "_model_name": "FloatProgressModel",
            "_view_count": null,
            "_view_module": "@jupyter-widgets/controls",
            "_view_module_version": "1.5.0",
            "_view_name": "ProgressView",
            "bar_style": "success",
            "description": "",
            "description_tooltip": null,
            "layout": "IPY_MODEL_e10b085f35314958ad690b39b2c96268",
            "max": 213450,
            "min": 0,
            "orientation": "horizontal",
            "style": "IPY_MODEL_1dc1add320a849d5b32a806d6815dc0c",
            "value": 213450
          }
        },
        "c0c9207801d44fe99048497699fc69c7": {
          "model_module": "@jupyter-widgets/controls",
          "model_name": "HTMLModel",
          "model_module_version": "1.5.0",
          "state": {
            "_dom_classes": [],
            "_model_module": "@jupyter-widgets/controls",
            "_model_module_version": "1.5.0",
            "_model_name": "HTMLModel",
            "_view_count": null,
            "_view_module": "@jupyter-widgets/controls",
            "_view_module_version": "1.5.0",
            "_view_name": "HTMLView",
            "description": "",
            "description_tooltip": null,
            "layout": "IPY_MODEL_8f67878a50694688bdb3ce974c13959c",
            "placeholder": "​",
            "style": "IPY_MODEL_38cb4f30fc8a41c395c2f88f158916ac",
            "value": " 213k/213k [00:00&lt;00:00, 3.09MB/s]"
          }
        },
        "a4866661ca11446080f71b0ef45138e2": {
          "model_module": "@jupyter-widgets/base",
          "model_name": "LayoutModel",
          "model_module_version": "1.2.0",
          "state": {
            "_model_module": "@jupyter-widgets/base",
            "_model_module_version": "1.2.0",
            "_model_name": "LayoutModel",
            "_view_count": null,
            "_view_module": "@jupyter-widgets/base",
            "_view_module_version": "1.2.0",
            "_view_name": "LayoutView",
            "align_content": null,
            "align_items": null,
            "align_self": null,
            "border": null,
            "bottom": null,
            "display": null,
            "flex": null,
            "flex_flow": null,
            "grid_area": null,
            "grid_auto_columns": null,
            "grid_auto_flow": null,
            "grid_auto_rows": null,
            "grid_column": null,
            "grid_gap": null,
            "grid_row": null,
            "grid_template_areas": null,
            "grid_template_columns": null,
            "grid_template_rows": null,
            "height": null,
            "justify_content": null,
            "justify_items": null,
            "left": null,
            "margin": null,
            "max_height": null,
            "max_width": null,
            "min_height": null,
            "min_width": null,
            "object_fit": null,
            "object_position": null,
            "order": null,
            "overflow": null,
            "overflow_x": null,
            "overflow_y": null,
            "padding": null,
            "right": null,
            "top": null,
            "visibility": null,
            "width": null
          }
        },
        "96b64377622a40ada30a2e7784328815": {
          "model_module": "@jupyter-widgets/base",
          "model_name": "LayoutModel",
          "model_module_version": "1.2.0",
          "state": {
            "_model_module": "@jupyter-widgets/base",
            "_model_module_version": "1.2.0",
            "_model_name": "LayoutModel",
            "_view_count": null,
            "_view_module": "@jupyter-widgets/base",
            "_view_module_version": "1.2.0",
            "_view_name": "LayoutView",
            "align_content": null,
            "align_items": null,
            "align_self": null,
            "border": null,
            "bottom": null,
            "display": null,
            "flex": null,
            "flex_flow": null,
            "grid_area": null,
            "grid_auto_columns": null,
            "grid_auto_flow": null,
            "grid_auto_rows": null,
            "grid_column": null,
            "grid_gap": null,
            "grid_row": null,
            "grid_template_areas": null,
            "grid_template_columns": null,
            "grid_template_rows": null,
            "height": null,
            "justify_content": null,
            "justify_items": null,
            "left": null,
            "margin": null,
            "max_height": null,
            "max_width": null,
            "min_height": null,
            "min_width": null,
            "object_fit": null,
            "object_position": null,
            "order": null,
            "overflow": null,
            "overflow_x": null,
            "overflow_y": null,
            "padding": null,
            "right": null,
            "top": null,
            "visibility": null,
            "width": null
          }
        },
        "718ddc21112f4912aafa70ff956c63c7": {
          "model_module": "@jupyter-widgets/controls",
          "model_name": "DescriptionStyleModel",
          "model_module_version": "1.5.0",
          "state": {
            "_model_module": "@jupyter-widgets/controls",
            "_model_module_version": "1.5.0",
            "_model_name": "DescriptionStyleModel",
            "_view_count": null,
            "_view_module": "@jupyter-widgets/base",
            "_view_module_version": "1.2.0",
            "_view_name": "StyleView",
            "description_width": ""
          }
        },
        "e10b085f35314958ad690b39b2c96268": {
          "model_module": "@jupyter-widgets/base",
          "model_name": "LayoutModel",
          "model_module_version": "1.2.0",
          "state": {
            "_model_module": "@jupyter-widgets/base",
            "_model_module_version": "1.2.0",
            "_model_name": "LayoutModel",
            "_view_count": null,
            "_view_module": "@jupyter-widgets/base",
            "_view_module_version": "1.2.0",
            "_view_name": "LayoutView",
            "align_content": null,
            "align_items": null,
            "align_self": null,
            "border": null,
            "bottom": null,
            "display": null,
            "flex": null,
            "flex_flow": null,
            "grid_area": null,
            "grid_auto_columns": null,
            "grid_auto_flow": null,
            "grid_auto_rows": null,
            "grid_column": null,
            "grid_gap": null,
            "grid_row": null,
            "grid_template_areas": null,
            "grid_template_columns": null,
            "grid_template_rows": null,
            "height": null,
            "justify_content": null,
            "justify_items": null,
            "left": null,
            "margin": null,
            "max_height": null,
            "max_width": null,
            "min_height": null,
            "min_width": null,
            "object_fit": null,
            "object_position": null,
            "order": null,
            "overflow": null,
            "overflow_x": null,
            "overflow_y": null,
            "padding": null,
            "right": null,
            "top": null,
            "visibility": null,
            "width": null
          }
        },
        "1dc1add320a849d5b32a806d6815dc0c": {
          "model_module": "@jupyter-widgets/controls",
          "model_name": "ProgressStyleModel",
          "model_module_version": "1.5.0",
          "state": {
            "_model_module": "@jupyter-widgets/controls",
            "_model_module_version": "1.5.0",
            "_model_name": "ProgressStyleModel",
            "_view_count": null,
            "_view_module": "@jupyter-widgets/base",
            "_view_module_version": "1.2.0",
            "_view_name": "StyleView",
            "bar_color": null,
            "description_width": ""
          }
        },
        "8f67878a50694688bdb3ce974c13959c": {
          "model_module": "@jupyter-widgets/base",
          "model_name": "LayoutModel",
          "model_module_version": "1.2.0",
          "state": {
            "_model_module": "@jupyter-widgets/base",
            "_model_module_version": "1.2.0",
            "_model_name": "LayoutModel",
            "_view_count": null,
            "_view_module": "@jupyter-widgets/base",
            "_view_module_version": "1.2.0",
            "_view_name": "LayoutView",
            "align_content": null,
            "align_items": null,
            "align_self": null,
            "border": null,
            "bottom": null,
            "display": null,
            "flex": null,
            "flex_flow": null,
            "grid_area": null,
            "grid_auto_columns": null,
            "grid_auto_flow": null,
            "grid_auto_rows": null,
            "grid_column": null,
            "grid_gap": null,
            "grid_row": null,
            "grid_template_areas": null,
            "grid_template_columns": null,
            "grid_template_rows": null,
            "height": null,
            "justify_content": null,
            "justify_items": null,
            "left": null,
            "margin": null,
            "max_height": null,
            "max_width": null,
            "min_height": null,
            "min_width": null,
            "object_fit": null,
            "object_position": null,
            "order": null,
            "overflow": null,
            "overflow_x": null,
            "overflow_y": null,
            "padding": null,
            "right": null,
            "top": null,
            "visibility": null,
            "width": null
          }
        },
        "38cb4f30fc8a41c395c2f88f158916ac": {
          "model_module": "@jupyter-widgets/controls",
          "model_name": "DescriptionStyleModel",
          "model_module_version": "1.5.0",
          "state": {
            "_model_module": "@jupyter-widgets/controls",
            "_model_module_version": "1.5.0",
            "_model_name": "DescriptionStyleModel",
            "_view_count": null,
            "_view_module": "@jupyter-widgets/base",
            "_view_module_version": "1.2.0",
            "_view_name": "StyleView",
            "description_width": ""
          }
        },
        "365099401f14465095c1ed763948d38a": {
          "model_module": "@jupyter-widgets/controls",
          "model_name": "HBoxModel",
          "model_module_version": "1.5.0",
          "state": {
            "_dom_classes": [],
            "_model_module": "@jupyter-widgets/controls",
            "_model_module_version": "1.5.0",
            "_model_name": "HBoxModel",
            "_view_count": null,
            "_view_module": "@jupyter-widgets/controls",
            "_view_module_version": "1.5.0",
            "_view_name": "HBoxView",
            "box_style": "",
            "children": [
              "IPY_MODEL_270001d5937a47858753725d55c67df0",
              "IPY_MODEL_ab6f1dc66c844623bf0600fcbfcda9e6",
              "IPY_MODEL_72ab4bbc5c8345c1bcceb46fe51e5e08"
            ],
            "layout": "IPY_MODEL_62cd7cfaa7d54fd7a49f207cb2e6c474"
          }
        },
        "270001d5937a47858753725d55c67df0": {
          "model_module": "@jupyter-widgets/controls",
          "model_name": "HTMLModel",
          "model_module_version": "1.5.0",
          "state": {
            "_dom_classes": [],
            "_model_module": "@jupyter-widgets/controls",
            "_model_module_version": "1.5.0",
            "_model_name": "HTMLModel",
            "_view_count": null,
            "_view_module": "@jupyter-widgets/controls",
            "_view_module_version": "1.5.0",
            "_view_name": "HTMLView",
            "description": "",
            "description_tooltip": null,
            "layout": "IPY_MODEL_c7d292c1704a480b9cbb9984c886e67e",
            "placeholder": "​",
            "style": "IPY_MODEL_8d61d5579b9a44c8a03f975575b32640",
            "value": "pytorch_model.bin: 100%"
          }
        },
        "ab6f1dc66c844623bf0600fcbfcda9e6": {
          "model_module": "@jupyter-widgets/controls",
          "model_name": "FloatProgressModel",
          "model_module_version": "1.5.0",
          "state": {
            "_dom_classes": [],
            "_model_module": "@jupyter-widgets/controls",
            "_model_module_version": "1.5.0",
            "_model_name": "FloatProgressModel",
            "_view_count": null,
            "_view_module": "@jupyter-widgets/controls",
            "_view_module_version": "1.5.0",
            "_view_name": "ProgressView",
            "bar_style": "success",
            "description": "",
            "description_tooltip": null,
            "layout": "IPY_MODEL_6e98a17fb0a4482b993cd6627a20a54b",
            "max": 435780550,
            "min": 0,
            "orientation": "horizontal",
            "style": "IPY_MODEL_082bc6dc1af24e61b47eebbc83994662",
            "value": 435780550
          }
        },
        "72ab4bbc5c8345c1bcceb46fe51e5e08": {
          "model_module": "@jupyter-widgets/controls",
          "model_name": "HTMLModel",
          "model_module_version": "1.5.0",
          "state": {
            "_dom_classes": [],
            "_model_module": "@jupyter-widgets/controls",
            "_model_module_version": "1.5.0",
            "_model_name": "HTMLModel",
            "_view_count": null,
            "_view_module": "@jupyter-widgets/controls",
            "_view_module_version": "1.5.0",
            "_view_name": "HTMLView",
            "description": "",
            "description_tooltip": null,
            "layout": "IPY_MODEL_6e4efc3573954594bbabeba1b168e156",
            "placeholder": "​",
            "style": "IPY_MODEL_8d2a3b352de9417a92e9eb9a6dd2ebca",
            "value": " 436M/436M [00:02&lt;00:00, 236MB/s]"
          }
        },
        "62cd7cfaa7d54fd7a49f207cb2e6c474": {
          "model_module": "@jupyter-widgets/base",
          "model_name": "LayoutModel",
          "model_module_version": "1.2.0",
          "state": {
            "_model_module": "@jupyter-widgets/base",
            "_model_module_version": "1.2.0",
            "_model_name": "LayoutModel",
            "_view_count": null,
            "_view_module": "@jupyter-widgets/base",
            "_view_module_version": "1.2.0",
            "_view_name": "LayoutView",
            "align_content": null,
            "align_items": null,
            "align_self": null,
            "border": null,
            "bottom": null,
            "display": null,
            "flex": null,
            "flex_flow": null,
            "grid_area": null,
            "grid_auto_columns": null,
            "grid_auto_flow": null,
            "grid_auto_rows": null,
            "grid_column": null,
            "grid_gap": null,
            "grid_row": null,
            "grid_template_areas": null,
            "grid_template_columns": null,
            "grid_template_rows": null,
            "height": null,
            "justify_content": null,
            "justify_items": null,
            "left": null,
            "margin": null,
            "max_height": null,
            "max_width": null,
            "min_height": null,
            "min_width": null,
            "object_fit": null,
            "object_position": null,
            "order": null,
            "overflow": null,
            "overflow_x": null,
            "overflow_y": null,
            "padding": null,
            "right": null,
            "top": null,
            "visibility": null,
            "width": null
          }
        },
        "c7d292c1704a480b9cbb9984c886e67e": {
          "model_module": "@jupyter-widgets/base",
          "model_name": "LayoutModel",
          "model_module_version": "1.2.0",
          "state": {
            "_model_module": "@jupyter-widgets/base",
            "_model_module_version": "1.2.0",
            "_model_name": "LayoutModel",
            "_view_count": null,
            "_view_module": "@jupyter-widgets/base",
            "_view_module_version": "1.2.0",
            "_view_name": "LayoutView",
            "align_content": null,
            "align_items": null,
            "align_self": null,
            "border": null,
            "bottom": null,
            "display": null,
            "flex": null,
            "flex_flow": null,
            "grid_area": null,
            "grid_auto_columns": null,
            "grid_auto_flow": null,
            "grid_auto_rows": null,
            "grid_column": null,
            "grid_gap": null,
            "grid_row": null,
            "grid_template_areas": null,
            "grid_template_columns": null,
            "grid_template_rows": null,
            "height": null,
            "justify_content": null,
            "justify_items": null,
            "left": null,
            "margin": null,
            "max_height": null,
            "max_width": null,
            "min_height": null,
            "min_width": null,
            "object_fit": null,
            "object_position": null,
            "order": null,
            "overflow": null,
            "overflow_x": null,
            "overflow_y": null,
            "padding": null,
            "right": null,
            "top": null,
            "visibility": null,
            "width": null
          }
        },
        "8d61d5579b9a44c8a03f975575b32640": {
          "model_module": "@jupyter-widgets/controls",
          "model_name": "DescriptionStyleModel",
          "model_module_version": "1.5.0",
          "state": {
            "_model_module": "@jupyter-widgets/controls",
            "_model_module_version": "1.5.0",
            "_model_name": "DescriptionStyleModel",
            "_view_count": null,
            "_view_module": "@jupyter-widgets/base",
            "_view_module_version": "1.2.0",
            "_view_name": "StyleView",
            "description_width": ""
          }
        },
        "6e98a17fb0a4482b993cd6627a20a54b": {
          "model_module": "@jupyter-widgets/base",
          "model_name": "LayoutModel",
          "model_module_version": "1.2.0",
          "state": {
            "_model_module": "@jupyter-widgets/base",
            "_model_module_version": "1.2.0",
            "_model_name": "LayoutModel",
            "_view_count": null,
            "_view_module": "@jupyter-widgets/base",
            "_view_module_version": "1.2.0",
            "_view_name": "LayoutView",
            "align_content": null,
            "align_items": null,
            "align_self": null,
            "border": null,
            "bottom": null,
            "display": null,
            "flex": null,
            "flex_flow": null,
            "grid_area": null,
            "grid_auto_columns": null,
            "grid_auto_flow": null,
            "grid_auto_rows": null,
            "grid_column": null,
            "grid_gap": null,
            "grid_row": null,
            "grid_template_areas": null,
            "grid_template_columns": null,
            "grid_template_rows": null,
            "height": null,
            "justify_content": null,
            "justify_items": null,
            "left": null,
            "margin": null,
            "max_height": null,
            "max_width": null,
            "min_height": null,
            "min_width": null,
            "object_fit": null,
            "object_position": null,
            "order": null,
            "overflow": null,
            "overflow_x": null,
            "overflow_y": null,
            "padding": null,
            "right": null,
            "top": null,
            "visibility": null,
            "width": null
          }
        },
        "082bc6dc1af24e61b47eebbc83994662": {
          "model_module": "@jupyter-widgets/controls",
          "model_name": "ProgressStyleModel",
          "model_module_version": "1.5.0",
          "state": {
            "_model_module": "@jupyter-widgets/controls",
            "_model_module_version": "1.5.0",
            "_model_name": "ProgressStyleModel",
            "_view_count": null,
            "_view_module": "@jupyter-widgets/base",
            "_view_module_version": "1.2.0",
            "_view_name": "StyleView",
            "bar_color": null,
            "description_width": ""
          }
        },
        "6e4efc3573954594bbabeba1b168e156": {
          "model_module": "@jupyter-widgets/base",
          "model_name": "LayoutModel",
          "model_module_version": "1.2.0",
          "state": {
            "_model_module": "@jupyter-widgets/base",
            "_model_module_version": "1.2.0",
            "_model_name": "LayoutModel",
            "_view_count": null,
            "_view_module": "@jupyter-widgets/base",
            "_view_module_version": "1.2.0",
            "_view_name": "LayoutView",
            "align_content": null,
            "align_items": null,
            "align_self": null,
            "border": null,
            "bottom": null,
            "display": null,
            "flex": null,
            "flex_flow": null,
            "grid_area": null,
            "grid_auto_columns": null,
            "grid_auto_flow": null,
            "grid_auto_rows": null,
            "grid_column": null,
            "grid_gap": null,
            "grid_row": null,
            "grid_template_areas": null,
            "grid_template_columns": null,
            "grid_template_rows": null,
            "height": null,
            "justify_content": null,
            "justify_items": null,
            "left": null,
            "margin": null,
            "max_height": null,
            "max_width": null,
            "min_height": null,
            "min_width": null,
            "object_fit": null,
            "object_position": null,
            "order": null,
            "overflow": null,
            "overflow_x": null,
            "overflow_y": null,
            "padding": null,
            "right": null,
            "top": null,
            "visibility": null,
            "width": null
          }
        },
        "8d2a3b352de9417a92e9eb9a6dd2ebca": {
          "model_module": "@jupyter-widgets/controls",
          "model_name": "DescriptionStyleModel",
          "model_module_version": "1.5.0",
          "state": {
            "_model_module": "@jupyter-widgets/controls",
            "_model_module_version": "1.5.0",
            "_model_name": "DescriptionStyleModel",
            "_view_count": null,
            "_view_module": "@jupyter-widgets/base",
            "_view_module_version": "1.2.0",
            "_view_name": "StyleView",
            "description_width": ""
          }
        }
      }
    }
  },
  "cells": [
    {
      "cell_type": "code",
      "execution_count": 1,
      "metadata": {
        "colab": {
          "base_uri": "https://localhost:8080/"
        },
        "id": "TuVoU60VxHqB",
        "outputId": "b3e3abd3-5ae7-45fd-a052-67eed2e5fb6d"
      },
      "outputs": [
        {
          "output_type": "stream",
          "name": "stdout",
          "text": [
            "Mounted at /content/drive\n"
          ]
        }
      ],
      "source": [
        "from google.colab import drive\n",
        "drive.mount('/content/drive')"
      ]
    },
    {
      "cell_type": "code",
      "source": [
        "# Install Required Libraries\n",
        "!pip install transformers scikit-learn pandas torch"
      ],
      "metadata": {
        "colab": {
          "base_uri": "https://localhost:8080/"
        },
        "id": "jtd9HGd5xxta",
        "outputId": "38f31b3b-d8cf-4f4f-cea2-0eea2550431a"
      },
      "execution_count": 2,
      "outputs": [
        {
          "output_type": "stream",
          "name": "stdout",
          "text": [
            "Requirement already satisfied: transformers in /usr/local/lib/python3.11/dist-packages (4.47.1)\n",
            "Requirement already satisfied: scikit-learn in /usr/local/lib/python3.11/dist-packages (1.6.1)\n",
            "Requirement already satisfied: pandas in /usr/local/lib/python3.11/dist-packages (2.2.2)\n",
            "Requirement already satisfied: torch in /usr/local/lib/python3.11/dist-packages (2.5.1+cu121)\n",
            "Requirement already satisfied: filelock in /usr/local/lib/python3.11/dist-packages (from transformers) (3.17.0)\n",
            "Requirement already satisfied: huggingface-hub<1.0,>=0.24.0 in /usr/local/lib/python3.11/dist-packages (from transformers) (0.27.1)\n",
            "Requirement already satisfied: numpy>=1.17 in /usr/local/lib/python3.11/dist-packages (from transformers) (1.26.4)\n",
            "Requirement already satisfied: packaging>=20.0 in /usr/local/lib/python3.11/dist-packages (from transformers) (24.2)\n",
            "Requirement already satisfied: pyyaml>=5.1 in /usr/local/lib/python3.11/dist-packages (from transformers) (6.0.2)\n",
            "Requirement already satisfied: regex!=2019.12.17 in /usr/local/lib/python3.11/dist-packages (from transformers) (2024.11.6)\n",
            "Requirement already satisfied: requests in /usr/local/lib/python3.11/dist-packages (from transformers) (2.32.3)\n",
            "Requirement already satisfied: tokenizers<0.22,>=0.21 in /usr/local/lib/python3.11/dist-packages (from transformers) (0.21.0)\n",
            "Requirement already satisfied: safetensors>=0.4.1 in /usr/local/lib/python3.11/dist-packages (from transformers) (0.5.2)\n",
            "Requirement already satisfied: tqdm>=4.27 in /usr/local/lib/python3.11/dist-packages (from transformers) (4.67.1)\n",
            "Requirement already satisfied: scipy>=1.6.0 in /usr/local/lib/python3.11/dist-packages (from scikit-learn) (1.13.1)\n",
            "Requirement already satisfied: joblib>=1.2.0 in /usr/local/lib/python3.11/dist-packages (from scikit-learn) (1.4.2)\n",
            "Requirement already satisfied: threadpoolctl>=3.1.0 in /usr/local/lib/python3.11/dist-packages (from scikit-learn) (3.5.0)\n",
            "Requirement already satisfied: python-dateutil>=2.8.2 in /usr/local/lib/python3.11/dist-packages (from pandas) (2.8.2)\n",
            "Requirement already satisfied: pytz>=2020.1 in /usr/local/lib/python3.11/dist-packages (from pandas) (2024.2)\n",
            "Requirement already satisfied: tzdata>=2022.7 in /usr/local/lib/python3.11/dist-packages (from pandas) (2025.1)\n",
            "Requirement already satisfied: typing-extensions>=4.8.0 in /usr/local/lib/python3.11/dist-packages (from torch) (4.12.2)\n",
            "Requirement already satisfied: networkx in /usr/local/lib/python3.11/dist-packages (from torch) (3.4.2)\n",
            "Requirement already satisfied: jinja2 in /usr/local/lib/python3.11/dist-packages (from torch) (3.1.5)\n",
            "Requirement already satisfied: fsspec in /usr/local/lib/python3.11/dist-packages (from torch) (2024.10.0)\n",
            "Requirement already satisfied: nvidia-cuda-nvrtc-cu12==12.1.105 in /usr/local/lib/python3.11/dist-packages (from torch) (12.1.105)\n",
            "Requirement already satisfied: nvidia-cuda-runtime-cu12==12.1.105 in /usr/local/lib/python3.11/dist-packages (from torch) (12.1.105)\n",
            "Requirement already satisfied: nvidia-cuda-cupti-cu12==12.1.105 in /usr/local/lib/python3.11/dist-packages (from torch) (12.1.105)\n",
            "Requirement already satisfied: nvidia-cudnn-cu12==9.1.0.70 in /usr/local/lib/python3.11/dist-packages (from torch) (9.1.0.70)\n",
            "Requirement already satisfied: nvidia-cublas-cu12==12.1.3.1 in /usr/local/lib/python3.11/dist-packages (from torch) (12.1.3.1)\n",
            "Requirement already satisfied: nvidia-cufft-cu12==11.0.2.54 in /usr/local/lib/python3.11/dist-packages (from torch) (11.0.2.54)\n",
            "Requirement already satisfied: nvidia-curand-cu12==10.3.2.106 in /usr/local/lib/python3.11/dist-packages (from torch) (10.3.2.106)\n",
            "Requirement already satisfied: nvidia-cusolver-cu12==11.4.5.107 in /usr/local/lib/python3.11/dist-packages (from torch) (11.4.5.107)\n",
            "Requirement already satisfied: nvidia-cusparse-cu12==12.1.0.106 in /usr/local/lib/python3.11/dist-packages (from torch) (12.1.0.106)\n",
            "Requirement already satisfied: nvidia-nccl-cu12==2.21.5 in /usr/local/lib/python3.11/dist-packages (from torch) (2.21.5)\n",
            "Requirement already satisfied: nvidia-nvtx-cu12==12.1.105 in /usr/local/lib/python3.11/dist-packages (from torch) (12.1.105)\n",
            "Requirement already satisfied: triton==3.1.0 in /usr/local/lib/python3.11/dist-packages (from torch) (3.1.0)\n",
            "Requirement already satisfied: sympy==1.13.1 in /usr/local/lib/python3.11/dist-packages (from torch) (1.13.1)\n",
            "Requirement already satisfied: nvidia-nvjitlink-cu12 in /usr/local/lib/python3.11/dist-packages (from nvidia-cusolver-cu12==11.4.5.107->torch) (12.6.85)\n",
            "Requirement already satisfied: mpmath<1.4,>=1.1.0 in /usr/local/lib/python3.11/dist-packages (from sympy==1.13.1->torch) (1.3.0)\n",
            "Requirement already satisfied: six>=1.5 in /usr/local/lib/python3.11/dist-packages (from python-dateutil>=2.8.2->pandas) (1.17.0)\n",
            "Requirement already satisfied: MarkupSafe>=2.0 in /usr/local/lib/python3.11/dist-packages (from jinja2->torch) (3.0.2)\n",
            "Requirement already satisfied: charset-normalizer<4,>=2 in /usr/local/lib/python3.11/dist-packages (from requests->transformers) (3.4.1)\n",
            "Requirement already satisfied: idna<4,>=2.5 in /usr/local/lib/python3.11/dist-packages (from requests->transformers) (3.10)\n",
            "Requirement already satisfied: urllib3<3,>=1.21.1 in /usr/local/lib/python3.11/dist-packages (from requests->transformers) (2.3.0)\n",
            "Requirement already satisfied: certifi>=2017.4.17 in /usr/local/lib/python3.11/dist-packages (from requests->transformers) (2024.12.14)\n"
          ]
        }
      ]
    },
    {
      "cell_type": "code",
      "source": [
        "import pandas as pd\n",
        "import torch\n",
        "import numpy as np\n",
        "from transformers import AutoTokenizer, AutoModelForSequenceClassification, Trainer, TrainingArguments\n",
        "from sklearn.ensemble import RandomForestClassifier\n",
        "from sklearn.metrics import classification_report\n",
        "from sklearn.preprocessing import LabelEncoder\n",
        "from sklearn.naive_bayes import GaussianNB"
      ],
      "metadata": {
        "id": "W0_ArHWXxyCi"
      },
      "execution_count": 3,
      "outputs": []
    },
    {
      "cell_type": "markdown",
      "source": [
        "# Load LLM"
      ],
      "metadata": {
        "id": "s7Dhd5Q9zLLw"
      }
    },
    {
      "cell_type": "code",
      "source": [
        "# Load BioBERT\n",
        "model_name = \"dmis-lab/biobert-base-cased-v1.1\"\n",
        "tokenizer = AutoTokenizer.from_pretrained(model_name)\n",
        "model = AutoModelForSequenceClassification.from_pretrained(model_name, num_labels=48)  # Placeholder for `num_labels`\n",
        "\n",
        "# GPU Check\n",
        "device = torch.device(\"cuda\" if torch.cuda.is_available() else \"cpu\")\n",
        "model = model.to(device)"
      ],
      "metadata": {
        "colab": {
          "base_uri": "https://localhost:8080/",
          "height": 272,
          "referenced_widgets": [
            "67847dc1e13045e48718362745c59597",
            "3c6f1b155484470fae8af97f38c2ef2a",
            "be8013ca2ca641248ec310b8ba1d2de1",
            "8335466bd144489b8a13614a670792e1",
            "3dd2a69473b844f39446c5895a489aa9",
            "76965bd8d1ef4f49a4e99a5f890ac4ae",
            "03231ac354564d44a46bd2f52de0993a",
            "1d6b43f378584ec9867f2a215713c18c",
            "e42a897f4c2f49a6a59937f7a4112d89",
            "b77ff7d6e4b54e58b4f6d94ab0a14e6c",
            "f5c734041e0c4caf8b918c63dabe6a25",
            "9bff43cccc8e459cadbe88fa824857ab",
            "dc4134abf3604e91b7eab8e728806bb7",
            "62bd1c5695a3439bbcdf057347411cd6",
            "c0c9207801d44fe99048497699fc69c7",
            "a4866661ca11446080f71b0ef45138e2",
            "96b64377622a40ada30a2e7784328815",
            "718ddc21112f4912aafa70ff956c63c7",
            "e10b085f35314958ad690b39b2c96268",
            "1dc1add320a849d5b32a806d6815dc0c",
            "8f67878a50694688bdb3ce974c13959c",
            "38cb4f30fc8a41c395c2f88f158916ac",
            "365099401f14465095c1ed763948d38a",
            "270001d5937a47858753725d55c67df0",
            "ab6f1dc66c844623bf0600fcbfcda9e6",
            "72ab4bbc5c8345c1bcceb46fe51e5e08",
            "62cd7cfaa7d54fd7a49f207cb2e6c474",
            "c7d292c1704a480b9cbb9984c886e67e",
            "8d61d5579b9a44c8a03f975575b32640",
            "6e98a17fb0a4482b993cd6627a20a54b",
            "082bc6dc1af24e61b47eebbc83994662",
            "6e4efc3573954594bbabeba1b168e156",
            "8d2a3b352de9417a92e9eb9a6dd2ebca"
          ]
        },
        "id": "cv33Q4XjzNQQ",
        "outputId": "d92b17ea-f944-4247-fecd-c1eb8f3634cf"
      },
      "execution_count": 4,
      "outputs": [
        {
          "output_type": "stream",
          "name": "stderr",
          "text": [
            "/usr/local/lib/python3.11/dist-packages/huggingface_hub/utils/_auth.py:94: UserWarning: \n",
            "The secret `HF_TOKEN` does not exist in your Colab secrets.\n",
            "To authenticate with the Hugging Face Hub, create a token in your settings tab (https://huggingface.co/settings/tokens), set it as secret in your Google Colab and restart your session.\n",
            "You will be able to reuse this secret in all of your notebooks.\n",
            "Please note that authentication is recommended but still optional to access public models or datasets.\n",
            "  warnings.warn(\n"
          ]
        },
        {
          "output_type": "display_data",
          "data": {
            "text/plain": [
              "config.json:   0%|          | 0.00/313 [00:00<?, ?B/s]"
            ],
            "application/vnd.jupyter.widget-view+json": {
              "version_major": 2,
              "version_minor": 0,
              "model_id": "67847dc1e13045e48718362745c59597"
            }
          },
          "metadata": {}
        },
        {
          "output_type": "display_data",
          "data": {
            "text/plain": [
              "vocab.txt:   0%|          | 0.00/213k [00:00<?, ?B/s]"
            ],
            "application/vnd.jupyter.widget-view+json": {
              "version_major": 2,
              "version_minor": 0,
              "model_id": "9bff43cccc8e459cadbe88fa824857ab"
            }
          },
          "metadata": {}
        },
        {
          "output_type": "display_data",
          "data": {
            "text/plain": [
              "pytorch_model.bin:   0%|          | 0.00/436M [00:00<?, ?B/s]"
            ],
            "application/vnd.jupyter.widget-view+json": {
              "version_major": 2,
              "version_minor": 0,
              "model_id": "365099401f14465095c1ed763948d38a"
            }
          },
          "metadata": {}
        },
        {
          "output_type": "stream",
          "name": "stderr",
          "text": [
            "Some weights of BertForSequenceClassification were not initialized from the model checkpoint at dmis-lab/biobert-base-cased-v1.1 and are newly initialized: ['classifier.bias', 'classifier.weight']\n",
            "You should probably TRAIN this model on a down-stream task to be able to use it for predictions and inference.\n"
          ]
        }
      ]
    },
    {
      "cell_type": "markdown",
      "source": [
        "# Load File"
      ],
      "metadata": {
        "id": "N8HNZX3lzOOn"
      }
    },
    {
      "cell_type": "code",
      "source": [
        "# Load Pre-split Datasets\n",
        "train_path = \"/content/drive/MyDrive/P2/T1/Dataset/overlapped/LLM-o-train.csv\"\n",
        "val_path = \"/content/drive/MyDrive/P2/T1/Dataset/overlapped/LLM-o-val.csv\"\n",
        "test_path = \"/content/drive/MyDrive/P2/T1/Dataset/overlapped/LLM-o-test.csv\"\n",
        "\n",
        "train_data = pd.read_csv(train_path)\n",
        "val_data = pd.read_csv(val_path)\n",
        "test_data = pd.read_csv(test_path)"
      ],
      "metadata": {
        "id": "tXl-d7B8zHlf"
      },
      "execution_count": 5,
      "outputs": []
    },
    {
      "cell_type": "code",
      "source": [
        "# Encode Disease Labels\n",
        "label_encoder = LabelEncoder()\n",
        "train_data['encoded_labels'] = label_encoder.fit_transform(train_data['disease_label'])\n",
        "val_data['encoded_labels'] = label_encoder.transform(val_data['disease_label'])\n",
        "test_data['encoded_labels'] = label_encoder.transform(test_data['disease_label'])\n",
        "\n",
        "num_classes = len(label_encoder.classes_)\n",
        "\n",
        "# Update BioBERT Model for Classification\n",
        "model.num_labels = num_classes  # Update number of labels"
      ],
      "metadata": {
        "id": "SO203fezFuuK"
      },
      "execution_count": 6,
      "outputs": []
    },
    {
      "cell_type": "markdown",
      "source": [
        "# Tokenize Symptoms"
      ],
      "metadata": {
        "id": "fFHP5ahu0CBT"
      }
    },
    {
      "cell_type": "code",
      "source": [
        "# Tokenize Symptoms\n",
        "def tokenize_texts(texts):\n",
        "    return tokenizer(texts.tolist(), padding=True, truncation=True, max_length=128, return_tensors=\"pt\")\n",
        "\n",
        "train_encodings = tokenize_texts(train_data['symptoms'])\n",
        "val_encodings = tokenize_texts(val_data['symptoms'])\n",
        "test_encodings = tokenize_texts(test_data['symptoms'])\n",
        "\n",
        "# Convert labels to tensors\n",
        "train_labels = torch.tensor(train_data['encoded_labels'].tolist())\n",
        "val_labels = torch.tensor(val_data['encoded_labels'].tolist())\n",
        "test_labels = torch.tensor(test_data['encoded_labels'].tolist())\n",
        "\n",
        "# Dataset Class for Fine-Tuning\n",
        "class SymptomDataset(torch.utils.data.Dataset):\n",
        "    def __init__(self, encodings, labels):\n",
        "        self.encodings = encodings\n",
        "        self.labels = labels\n",
        "\n",
        "    def __len__(self):\n",
        "        return len(self.labels)\n",
        "\n",
        "    def __getitem__(self, idx):\n",
        "        item = {key: val[idx] for key, val in self.encodings.items()}\n",
        "        item['labels'] = self.labels[idx]\n",
        "        return item\n",
        "\n",
        "# Create PyTorch Datasets\n",
        "train_dataset = SymptomDataset(train_encodings, train_labels)\n",
        "val_dataset = SymptomDataset(val_encodings, val_labels)\n"
      ],
      "metadata": {
        "id": "uU-J653p0Dhj"
      },
      "execution_count": 7,
      "outputs": []
    },
    {
      "cell_type": "markdown",
      "source": [
        "# Fine-tuning BioBERT"
      ],
      "metadata": {
        "id": "8M5A8x1w0FVZ"
      }
    },
    {
      "cell_type": "code",
      "source": [
        "# Fine-Tuning BioBERT\n",
        "training_args = TrainingArguments(\n",
        "    output_dir=\"./results\",\n",
        "    evaluation_strategy=\"epoch\",\n",
        "    logging_strategy=\"steps\",  # Enable logging after a fixed number of steps\n",
        "    logging_steps= 10,  # Log training loss every 10 steps\n",
        "    learning_rate= 9e-5,\n",
        "    per_device_train_batch_size=16,\n",
        "    per_device_eval_batch_size=128,\n",
        "    num_train_epochs = 30,\n",
        "    weight_decay=0.001,\n",
        "    logging_dir=\"./logs\",\n",
        "    save_strategy=\"epoch\",\n",
        "    save_total_limit=2\n",
        ")\n",
        "\n",
        "trainer = Trainer(\n",
        "    model=model,\n",
        "    args=training_args,\n",
        "    train_dataset=train_dataset,\n",
        "    eval_dataset=val_dataset\n",
        ")"
      ],
      "metadata": {
        "id": "TNvk1yI60G1E",
        "colab": {
          "base_uri": "https://localhost:8080/"
        },
        "outputId": "2a135870-b938-411d-83ca-ab4b9088addd"
      },
      "execution_count": 8,
      "outputs": [
        {
          "output_type": "stream",
          "name": "stderr",
          "text": [
            "/usr/local/lib/python3.11/dist-packages/transformers/training_args.py:1575: FutureWarning: `evaluation_strategy` is deprecated and will be removed in version 4.46 of 🤗 Transformers. Use `eval_strategy` instead\n",
            "  warnings.warn(\n"
          ]
        }
      ]
    },
    {
      "cell_type": "code",
      "source": [
        "trainer.train()"
      ],
      "metadata": {
        "id": "cbWy5CVq0IvL",
        "colab": {
          "base_uri": "https://localhost:8080/",
          "height": 1000
        },
        "outputId": "742b434f-4741-44cc-9d3a-27673b760762"
      },
      "execution_count": 9,
      "outputs": [
        {
          "output_type": "stream",
          "name": "stderr",
          "text": [
            "\u001b[34m\u001b[1mwandb\u001b[0m: \u001b[33mWARNING\u001b[0m The `run_name` is currently set to the same value as `TrainingArguments.output_dir`. If this was not intended, please specify a different run name by setting the `TrainingArguments.run_name` parameter.\n"
          ]
        },
        {
          "output_type": "display_data",
          "data": {
            "text/plain": [
              "<IPython.core.display.Javascript object>"
            ],
            "application/javascript": [
              "\n",
              "        window._wandbApiKey = new Promise((resolve, reject) => {\n",
              "            function loadScript(url) {\n",
              "            return new Promise(function(resolve, reject) {\n",
              "                let newScript = document.createElement(\"script\");\n",
              "                newScript.onerror = reject;\n",
              "                newScript.onload = resolve;\n",
              "                document.body.appendChild(newScript);\n",
              "                newScript.src = url;\n",
              "            });\n",
              "            }\n",
              "            loadScript(\"https://cdn.jsdelivr.net/npm/postmate/build/postmate.min.js\").then(() => {\n",
              "            const iframe = document.createElement('iframe')\n",
              "            iframe.style.cssText = \"width:0;height:0;border:none\"\n",
              "            document.body.appendChild(iframe)\n",
              "            const handshake = new Postmate({\n",
              "                container: iframe,\n",
              "                url: 'https://wandb.ai/authorize'\n",
              "            });\n",
              "            const timeout = setTimeout(() => reject(\"Couldn't auto authenticate\"), 5000)\n",
              "            handshake.then(function(child) {\n",
              "                child.on('authorize', data => {\n",
              "                    clearTimeout(timeout)\n",
              "                    resolve(data)\n",
              "                });\n",
              "            });\n",
              "            })\n",
              "        });\n",
              "    "
            ]
          },
          "metadata": {}
        },
        {
          "output_type": "stream",
          "name": "stderr",
          "text": [
            "\u001b[34m\u001b[1mwandb\u001b[0m: Logging into wandb.ai. (Learn how to deploy a W&B server locally: https://wandb.me/wandb-server)\n",
            "\u001b[34m\u001b[1mwandb\u001b[0m: You can find your API key in your browser here: https://wandb.ai/authorize\n",
            "wandb: Paste an API key from your profile and hit enter, or press ctrl+c to quit:"
          ]
        },
        {
          "name": "stdout",
          "output_type": "stream",
          "text": [
            " ··········\n"
          ]
        },
        {
          "output_type": "stream",
          "name": "stderr",
          "text": [
            "\u001b[34m\u001b[1mwandb\u001b[0m: Appending key for api.wandb.ai to your netrc file: /root/.netrc\n",
            "\u001b[34m\u001b[1mwandb\u001b[0m: Using wandb-core as the SDK backend.  Please refer to https://wandb.me/wandb-core for more information.\n"
          ]
        },
        {
          "output_type": "display_data",
          "data": {
            "text/plain": [
              "<IPython.core.display.HTML object>"
            ],
            "text/html": [
              "Tracking run with wandb version 0.19.4"
            ]
          },
          "metadata": {}
        },
        {
          "output_type": "display_data",
          "data": {
            "text/plain": [
              "<IPython.core.display.HTML object>"
            ],
            "text/html": [
              "Run data is saved locally in <code>/content/wandb/run-20250126_161958-lhjmv4wd</code>"
            ]
          },
          "metadata": {}
        },
        {
          "output_type": "display_data",
          "data": {
            "text/plain": [
              "<IPython.core.display.HTML object>"
            ],
            "text/html": [
              "Syncing run <strong><a href='https://wandb.ai/edmondchongyh-universiti-malaya-students-union/huggingface/runs/lhjmv4wd' target=\"_blank\">./results</a></strong> to <a href='https://wandb.ai/edmondchongyh-universiti-malaya-students-union/huggingface' target=\"_blank\">Weights & Biases</a> (<a href='https://wandb.me/developer-guide' target=\"_blank\">docs</a>)<br>"
            ]
          },
          "metadata": {}
        },
        {
          "output_type": "display_data",
          "data": {
            "text/plain": [
              "<IPython.core.display.HTML object>"
            ],
            "text/html": [
              " View project at <a href='https://wandb.ai/edmondchongyh-universiti-malaya-students-union/huggingface' target=\"_blank\">https://wandb.ai/edmondchongyh-universiti-malaya-students-union/huggingface</a>"
            ]
          },
          "metadata": {}
        },
        {
          "output_type": "display_data",
          "data": {
            "text/plain": [
              "<IPython.core.display.HTML object>"
            ],
            "text/html": [
              " View run at <a href='https://wandb.ai/edmondchongyh-universiti-malaya-students-union/huggingface/runs/lhjmv4wd' target=\"_blank\">https://wandb.ai/edmondchongyh-universiti-malaya-students-union/huggingface/runs/lhjmv4wd</a>"
            ]
          },
          "metadata": {}
        },
        {
          "output_type": "display_data",
          "data": {
            "text/plain": [
              "<IPython.core.display.HTML object>"
            ],
            "text/html": [
              "\n",
              "    <div>\n",
              "      \n",
              "      <progress value='12720' max='12720' style='width:300px; height:20px; vertical-align: middle;'></progress>\n",
              "      [12720/12720 10:39, Epoch 30/30]\n",
              "    </div>\n",
              "    <table border=\"1\" class=\"dataframe\">\n",
              "  <thead>\n",
              " <tr style=\"text-align: left;\">\n",
              "      <th>Epoch</th>\n",
              "      <th>Training Loss</th>\n",
              "      <th>Validation Loss</th>\n",
              "    </tr>\n",
              "  </thead>\n",
              "  <tbody>\n",
              "    <tr>\n",
              "      <td>1</td>\n",
              "      <td>1.859300</td>\n",
              "      <td>1.811722</td>\n",
              "    </tr>\n",
              "    <tr>\n",
              "      <td>2</td>\n",
              "      <td>1.460500</td>\n",
              "      <td>1.575305</td>\n",
              "    </tr>\n",
              "    <tr>\n",
              "      <td>3</td>\n",
              "      <td>1.433200</td>\n",
              "      <td>1.463911</td>\n",
              "    </tr>\n",
              "    <tr>\n",
              "      <td>4</td>\n",
              "      <td>1.258900</td>\n",
              "      <td>1.391205</td>\n",
              "    </tr>\n",
              "    <tr>\n",
              "      <td>5</td>\n",
              "      <td>1.249800</td>\n",
              "      <td>1.401779</td>\n",
              "    </tr>\n",
              "    <tr>\n",
              "      <td>6</td>\n",
              "      <td>1.196600</td>\n",
              "      <td>1.411974</td>\n",
              "    </tr>\n",
              "    <tr>\n",
              "      <td>7</td>\n",
              "      <td>1.227600</td>\n",
              "      <td>1.363681</td>\n",
              "    </tr>\n",
              "    <tr>\n",
              "      <td>8</td>\n",
              "      <td>1.225300</td>\n",
              "      <td>1.370445</td>\n",
              "    </tr>\n",
              "    <tr>\n",
              "      <td>9</td>\n",
              "      <td>1.160500</td>\n",
              "      <td>1.360216</td>\n",
              "    </tr>\n",
              "    <tr>\n",
              "      <td>10</td>\n",
              "      <td>1.246200</td>\n",
              "      <td>1.339954</td>\n",
              "    </tr>\n",
              "    <tr>\n",
              "      <td>11</td>\n",
              "      <td>1.057700</td>\n",
              "      <td>1.331113</td>\n",
              "    </tr>\n",
              "    <tr>\n",
              "      <td>12</td>\n",
              "      <td>1.140000</td>\n",
              "      <td>1.313856</td>\n",
              "    </tr>\n",
              "    <tr>\n",
              "      <td>13</td>\n",
              "      <td>1.145400</td>\n",
              "      <td>1.344110</td>\n",
              "    </tr>\n",
              "    <tr>\n",
              "      <td>14</td>\n",
              "      <td>1.108200</td>\n",
              "      <td>1.341756</td>\n",
              "    </tr>\n",
              "    <tr>\n",
              "      <td>15</td>\n",
              "      <td>1.136600</td>\n",
              "      <td>1.317218</td>\n",
              "    </tr>\n",
              "    <tr>\n",
              "      <td>16</td>\n",
              "      <td>1.121000</td>\n",
              "      <td>1.317187</td>\n",
              "    </tr>\n",
              "    <tr>\n",
              "      <td>17</td>\n",
              "      <td>1.148100</td>\n",
              "      <td>1.310728</td>\n",
              "    </tr>\n",
              "    <tr>\n",
              "      <td>18</td>\n",
              "      <td>1.154700</td>\n",
              "      <td>1.290023</td>\n",
              "    </tr>\n",
              "    <tr>\n",
              "      <td>19</td>\n",
              "      <td>1.066300</td>\n",
              "      <td>1.314701</td>\n",
              "    </tr>\n",
              "    <tr>\n",
              "      <td>20</td>\n",
              "      <td>1.062400</td>\n",
              "      <td>1.306989</td>\n",
              "    </tr>\n",
              "    <tr>\n",
              "      <td>21</td>\n",
              "      <td>1.016900</td>\n",
              "      <td>1.297485</td>\n",
              "    </tr>\n",
              "    <tr>\n",
              "      <td>22</td>\n",
              "      <td>1.034400</td>\n",
              "      <td>1.328276</td>\n",
              "    </tr>\n",
              "    <tr>\n",
              "      <td>23</td>\n",
              "      <td>1.048500</td>\n",
              "      <td>1.323327</td>\n",
              "    </tr>\n",
              "    <tr>\n",
              "      <td>24</td>\n",
              "      <td>1.124000</td>\n",
              "      <td>1.305759</td>\n",
              "    </tr>\n",
              "    <tr>\n",
              "      <td>25</td>\n",
              "      <td>1.099000</td>\n",
              "      <td>1.340632</td>\n",
              "    </tr>\n",
              "    <tr>\n",
              "      <td>26</td>\n",
              "      <td>0.982400</td>\n",
              "      <td>1.367560</td>\n",
              "    </tr>\n",
              "    <tr>\n",
              "      <td>27</td>\n",
              "      <td>1.141700</td>\n",
              "      <td>1.342076</td>\n",
              "    </tr>\n",
              "    <tr>\n",
              "      <td>28</td>\n",
              "      <td>1.068700</td>\n",
              "      <td>1.328088</td>\n",
              "    </tr>\n",
              "    <tr>\n",
              "      <td>29</td>\n",
              "      <td>1.013300</td>\n",
              "      <td>1.333596</td>\n",
              "    </tr>\n",
              "    <tr>\n",
              "      <td>30</td>\n",
              "      <td>1.003400</td>\n",
              "      <td>1.339527</td>\n",
              "    </tr>\n",
              "  </tbody>\n",
              "</table><p>"
            ]
          },
          "metadata": {}
        },
        {
          "output_type": "execute_result",
          "data": {
            "text/plain": [
              "TrainOutput(global_step=12720, training_loss=1.1741552927209147, metrics={'train_runtime': 657.8008, 'train_samples_per_second': 309.212, 'train_steps_per_second': 19.337, 'total_flos': 4810134820953600.0, 'train_loss': 1.1741552927209147, 'epoch': 30.0})"
            ]
          },
          "metadata": {},
          "execution_count": 9
        }
      ]
    },
    {
      "cell_type": "code",
      "source": [
        "# Save Fine-Tuned Model\n",
        "model.save_pretrained(\"/content/drive/MyDrive/P2/T1/Dataset/combined/LLM + ML/fine_tuned_biobert\")"
      ],
      "metadata": {
        "id": "Aeyt0bsW0Ok7"
      },
      "execution_count": 10,
      "outputs": []
    },
    {
      "cell_type": "markdown",
      "source": [
        "# Generate BioBERT Embedding for Random Forest"
      ],
      "metadata": {
        "id": "wYtSipsG0hBv"
      }
    },
    {
      "cell_type": "code",
      "source": [
        "# Generate BioBERT Embeddings\n",
        "def generate_embeddings(dataset):\n",
        "    dataloader = torch.utils.data.DataLoader(dataset, batch_size=16)\n",
        "    embeddings = []\n",
        "    model.eval()\n",
        "    with torch.no_grad():\n",
        "        for batch in dataloader:\n",
        "            inputs = {key: batch[key].to(device) for key in ['input_ids', 'attention_mask']}\n",
        "            outputs = model(**inputs)\n",
        "            cls_embedding = outputs.logits.cpu().numpy()  # Extract logits for embedding\n",
        "            embeddings.append(cls_embedding)\n",
        "    return np.vstack(embeddings)\n",
        "\n",
        "print(\"Generating embeddings for training data...\")\n",
        "train_embeddings = generate_embeddings(train_dataset)\n",
        "print(\"Generating embeddings for validation data...\")\n",
        "val_embeddings = generate_embeddings(val_dataset)\n",
        "print(\"Generating embeddings for testing data...\")\n",
        "test_embeddings = generate_embeddings(SymptomDataset(test_encodings, test_labels))\n"
      ],
      "metadata": {
        "id": "MuGJaJl60jxd",
        "colab": {
          "base_uri": "https://localhost:8080/"
        },
        "outputId": "e8560d95-1a92-4b1f-f29f-79032974e12b"
      },
      "execution_count": 11,
      "outputs": [
        {
          "output_type": "stream",
          "name": "stdout",
          "text": [
            "Generating embeddings for training data...\n",
            "Generating embeddings for validation data...\n",
            "Generating embeddings for testing data...\n"
          ]
        }
      ]
    },
    {
      "cell_type": "markdown",
      "source": [
        "# UMAP (Uniform Manifold Approximation and Projection)"
      ],
      "metadata": {
        "id": "rtH47jHAGMZa"
      }
    },
    {
      "cell_type": "code",
      "source": [
        "!pip install umap-learn"
      ],
      "metadata": {
        "colab": {
          "base_uri": "https://localhost:8080/"
        },
        "id": "czIVzTaXGPeA",
        "outputId": "1d908e63-23c4-47f8-b708-e59a1c4eeff1"
      },
      "execution_count": 12,
      "outputs": [
        {
          "output_type": "stream",
          "name": "stdout",
          "text": [
            "Collecting umap-learn\n",
            "  Downloading umap_learn-0.5.7-py3-none-any.whl.metadata (21 kB)\n",
            "Requirement already satisfied: numpy>=1.17 in /usr/local/lib/python3.11/dist-packages (from umap-learn) (1.26.4)\n",
            "Requirement already satisfied: scipy>=1.3.1 in /usr/local/lib/python3.11/dist-packages (from umap-learn) (1.13.1)\n",
            "Requirement already satisfied: scikit-learn>=0.22 in /usr/local/lib/python3.11/dist-packages (from umap-learn) (1.6.1)\n",
            "Requirement already satisfied: numba>=0.51.2 in /usr/local/lib/python3.11/dist-packages (from umap-learn) (0.60.0)\n",
            "Collecting pynndescent>=0.5 (from umap-learn)\n",
            "  Downloading pynndescent-0.5.13-py3-none-any.whl.metadata (6.8 kB)\n",
            "Requirement already satisfied: tqdm in /usr/local/lib/python3.11/dist-packages (from umap-learn) (4.67.1)\n",
            "Requirement already satisfied: llvmlite<0.44,>=0.43.0dev0 in /usr/local/lib/python3.11/dist-packages (from numba>=0.51.2->umap-learn) (0.43.0)\n",
            "Requirement already satisfied: joblib>=0.11 in /usr/local/lib/python3.11/dist-packages (from pynndescent>=0.5->umap-learn) (1.4.2)\n",
            "Requirement already satisfied: threadpoolctl>=3.1.0 in /usr/local/lib/python3.11/dist-packages (from scikit-learn>=0.22->umap-learn) (3.5.0)\n",
            "Downloading umap_learn-0.5.7-py3-none-any.whl (88 kB)\n",
            "\u001b[2K   \u001b[90m━━━━━━━━━━━━━━━━━━━━━━━━━━━━━━━━━━━━━━━━\u001b[0m \u001b[32m88.8/88.8 kB\u001b[0m \u001b[31m5.3 MB/s\u001b[0m eta \u001b[36m0:00:00\u001b[0m\n",
            "\u001b[?25hDownloading pynndescent-0.5.13-py3-none-any.whl (56 kB)\n",
            "\u001b[2K   \u001b[90m━━━━━━━━━━━━━━━━━━━━━━━━━━━━━━━━━━━━━━━━\u001b[0m \u001b[32m56.9/56.9 kB\u001b[0m \u001b[31m5.7 MB/s\u001b[0m eta \u001b[36m0:00:00\u001b[0m\n",
            "\u001b[?25hInstalling collected packages: pynndescent, umap-learn\n",
            "Successfully installed pynndescent-0.5.13 umap-learn-0.5.7\n"
          ]
        }
      ]
    },
    {
      "cell_type": "code",
      "source": [
        "import umap.umap_ as umap\n",
        "import matplotlib.pyplot as plt\n",
        "import numpy as np\n",
        "\n",
        "# Generate test embeddings (ensure this is executed before using UMAP)\n",
        "# test_embeddings should already be generated using your generate_embeddings function.\n",
        "\n",
        "# Convert test labels to NumPy for easier handling\n",
        "labels = test_labels.cpu().numpy()  # Ensure this is defined and matches the test dataset\n",
        "\n",
        "# Reduce dimensions using UMAP\n",
        "print(\"Reducing dimensions using UMAP...\")\n",
        "umap_model = umap.UMAP(n_components=2, random_state=42)\n",
        "reduced_embeddings = umap_model.fit_transform(test_embeddings)\n",
        "\n",
        "# Map numeric labels to disease names\n",
        "disease_names = label_encoder.inverse_transform(labels)  # Map numeric labels to actual disease names\n",
        "\n",
        "# Plot the 2D representation\n",
        "plt.figure(figsize=(14, 8))\n",
        "unique_labels = np.unique(disease_names)\n",
        "\n",
        "for disease in unique_labels:\n",
        "    indices = np.where(disease_names == disease)\n",
        "    plt.scatter(\n",
        "        reduced_embeddings[indices, 0], reduced_embeddings[indices, 1],\n",
        "        label=disease, alpha=0.7\n",
        "    )\n",
        "\n",
        "plt.legend(bbox_to_anchor=(1.05, 1), loc='upper left', fontsize='small')\n",
        "plt.title(\"UMAP Visualization of BioBERT Embeddings on Overlapping\")\n",
        "plt.xlabel(\"UMAP Dimension 1\")\n",
        "plt.ylabel(\"UMAP Dimension 2\")\n",
        "plt.tight_layout()\n",
        "plt.show()\n"
      ],
      "metadata": {
        "colab": {
          "base_uri": "https://localhost:8080/",
          "height": 1000
        },
        "id": "2_8KJeGcGQSO",
        "outputId": "f53c2238-07ad-4fa6-ca61-8a31400de0ee"
      },
      "execution_count": 13,
      "outputs": [
        {
          "output_type": "stream",
          "name": "stdout",
          "text": [
            "Reducing dimensions using UMAP...\n"
          ]
        },
        {
          "output_type": "stream",
          "name": "stderr",
          "text": [
            "/usr/local/lib/python3.11/dist-packages/sklearn/utils/deprecation.py:151: FutureWarning: 'force_all_finite' was renamed to 'ensure_all_finite' in 1.6 and will be removed in 1.8.\n",
            "  warnings.warn(\n",
            "/usr/local/lib/python3.11/dist-packages/umap/umap_.py:1952: UserWarning: n_jobs value 1 overridden to 1 by setting random_state. Use no seed for parallelism.\n",
            "  warn(\n"
          ]
        },
        {
          "output_type": "display_data",
          "data": {
            "text/plain": [
              "<Figure size 1400x800 with 1 Axes>"
            ],
            "image/png": "[encoded data removed]"
          },
          "metadata": {}
        }
      ]
    },
    {
      "cell_type": "markdown",
      "source": [
        "# Naive Bayes"
      ],
      "metadata": {
        "id": "us06ti3bTNgj"
      }
    },
    {
      "cell_type": "code",
      "source": [
        "# Train Naive Bayes\n",
        "nb_model = GaussianNB()\n",
        "nb_model.fit(train_embeddings, train_data['encoded_labels'])\n",
        "\n",
        "# Validate the Model\n",
        "val_preds = nb_model.predict(val_embeddings)\n",
        "val_report = classification_report(val_labels, val_preds, target_names=label_encoder.classes_, output_dict=True)\n",
        "print(\"Validation Report:\")\n",
        "print(pd.DataFrame(val_report))\n",
        "\n",
        "# Test the Model\n",
        "test_preds = nb_model.predict(test_embeddings)\n",
        "test_report = classification_report(test_labels, test_preds, target_names=label_encoder.classes_, output_dict=True)\n",
        "print(\"Test Report:\")\n",
        "print(pd.DataFrame(test_report))\n",
        "\n",
        "# Save Classification Report to CSV\n",
        "test_report_df = pd.DataFrame(test_report).transpose()\n",
        "test_report_path = \"/content/drive/MyDrive/P2/T1/Dataset/overlapped/LLM + ML/biobert-nb-o-class.csv\"\n",
        "test_report_df.to_csv(test_report_path, index=True)\n",
        "print(f\"Classification report saved to {test_report_path}\")"
      ],
      "metadata": {
        "id": "T9Z3mn9hTOr4",
        "colab": {
          "base_uri": "https://localhost:8080/"
        },
        "outputId": "343a6bae-f1cf-4042-8b1b-dc9388d8d84a"
      },
      "execution_count": 14,
      "outputs": [
        {
          "output_type": "stream",
          "name": "stdout",
          "text": [
            "Validation Report:\n",
            "           adenocarcinoma  adhesion  affect labile  arthritis     asthma  \\\n",
            "precision        0.500000  1.000000       0.333333        0.5   0.500000   \n",
            "recall           1.000000  0.500000       1.000000        0.5   0.666667   \n",
            "f1-score         0.666667  0.666667       0.500000        0.5   0.571429   \n",
            "support         12.000000  8.000000       4.000000        8.0  12.000000   \n",
            "\n",
            "           benign prostatic hypertrophy  biliary calculus  carcinoma breast  \\\n",
            "precision                           0.0          0.500000          0.500000   \n",
            "recall                              0.0          0.083333          1.000000   \n",
            "f1-score                            0.0          0.142857          0.666667   \n",
            "support                             4.0         48.000000          8.000000   \n",
            "\n",
            "           chronic obstructive airway disease  cirrhosis  ...  pyelonephritis  \\\n",
            "precision                                 0.0   0.500000  ...             0.4   \n",
            "recall                                    0.0   1.000000  ...             0.4   \n",
            "f1-score                                  0.0   0.666667  ...             0.4   \n",
            "support                                  20.0   8.000000  ...            40.0   \n",
            "\n",
            "           schizophrenia  sickle cell anemia  stenosis aortic valve  \\\n",
            "precision       0.200000            0.400000               0.400000   \n",
            "recall          0.500000            0.666667               0.666667   \n",
            "f1-score        0.285714            0.500000               0.500000   \n",
            "support         8.000000           12.000000              24.000000   \n",
            "\n",
            "           tachycardia sinus   thrombus  tricuspid valve insufficiency  \\\n",
            "precision           0.333333   0.500000                            0.0   \n",
            "recall              0.500000   0.666667                            0.0   \n",
            "f1-score            0.400000   0.571429                            0.0   \n",
            "support             8.000000  12.000000                            8.0   \n",
            "\n",
            "           accuracy   macro avg  weighted avg  \n",
            "precision  0.406699    0.352618      0.351664  \n",
            "recall     0.406699    0.454253      0.406699  \n",
            "f1-score   0.406699    0.363630      0.345061  \n",
            "support    0.406699  836.000000    836.000000  \n",
            "\n",
            "[4 rows x 51 columns]\n",
            "Test Report:\n",
            "           adenocarcinoma  adhesion  affect labile  arthritis     asthma  \\\n",
            "precision        0.500000  0.250000            0.0        0.0   0.500000   \n",
            "recall           0.333333  0.500000            0.0        0.0   1.000000   \n",
            "f1-score         0.400000  0.333333            0.0        0.0   0.666667   \n",
            "support         12.000000  8.000000            4.0        8.0  12.000000   \n",
            "\n",
            "           benign prostatic hypertrophy  biliary calculus  carcinoma breast  \\\n",
            "precision                           0.0          0.500000               0.5   \n",
            "recall                              0.0          0.083333               0.5   \n",
            "f1-score                            0.0          0.142857               0.5   \n",
            "support                             4.0         48.000000               8.0   \n",
            "\n",
            "           chronic obstructive airway disease  cirrhosis  ...  pyelonephritis  \\\n",
            "precision                                 0.0   0.400000  ...        0.210526   \n",
            "recall                                    0.0   0.500000  ...        0.363636   \n",
            "f1-score                                  0.0   0.444444  ...        0.266667   \n",
            "support                                  20.0  16.000000  ...       44.000000   \n",
            "\n",
            "           schizophrenia  sickle cell anemia  stenosis aortic valve  \\\n",
            "precision            0.5                 0.0                    0.5   \n",
            "recall               0.5                 0.0                    0.5   \n",
            "f1-score             0.5                 0.0                    0.5   \n",
            "support              8.0                 4.0                   16.0   \n",
            "\n",
            "           tachycardia sinus  thrombus  tricuspid valve insufficiency  \\\n",
            "precision                0.0       0.0                            0.0   \n",
            "recall                   0.0       0.0                            0.0   \n",
            "f1-score                 0.0       0.0                            0.0   \n",
            "support                 12.0      12.0                           12.0   \n",
            "\n",
            "           accuracy   macro avg  weighted avg  \n",
            "precision  0.389908    0.324882      0.378122  \n",
            "recall     0.389908    0.380733      0.389908  \n",
            "f1-score   0.389908    0.321306      0.344099  \n",
            "support    0.389908  872.000000    872.000000  \n",
            "\n",
            "[4 rows x 51 columns]\n",
            "Classification report saved to /content/drive/MyDrive/P2/T1/Dataset/overlapped/LLM + ML/biobert-nb-o-class.csv\n"
          ]
        },
        {
          "output_type": "stream",
          "name": "stderr",
          "text": [
            "/usr/local/lib/python3.11/dist-packages/sklearn/metrics/_classification.py:1565: UndefinedMetricWarning: Precision is ill-defined and being set to 0.0 in labels with no predicted samples. Use `zero_division` parameter to control this behavior.\n",
            "  _warn_prf(average, modifier, f\"{metric.capitalize()} is\", len(result))\n",
            "/usr/local/lib/python3.11/dist-packages/sklearn/metrics/_classification.py:1565: UndefinedMetricWarning: Precision is ill-defined and being set to 0.0 in labels with no predicted samples. Use `zero_division` parameter to control this behavior.\n",
            "  _warn_prf(average, modifier, f\"{metric.capitalize()} is\", len(result))\n",
            "/usr/local/lib/python3.11/dist-packages/sklearn/metrics/_classification.py:1565: UndefinedMetricWarning: Precision is ill-defined and being set to 0.0 in labels with no predicted samples. Use `zero_division` parameter to control this behavior.\n",
            "  _warn_prf(average, modifier, f\"{metric.capitalize()} is\", len(result))\n",
            "/usr/local/lib/python3.11/dist-packages/sklearn/metrics/_classification.py:1565: UndefinedMetricWarning: Precision is ill-defined and being set to 0.0 in labels with no predicted samples. Use `zero_division` parameter to control this behavior.\n",
            "  _warn_prf(average, modifier, f\"{metric.capitalize()} is\", len(result))\n",
            "/usr/local/lib/python3.11/dist-packages/sklearn/metrics/_classification.py:1565: UndefinedMetricWarning: Precision is ill-defined and being set to 0.0 in labels with no predicted samples. Use `zero_division` parameter to control this behavior.\n",
            "  _warn_prf(average, modifier, f\"{metric.capitalize()} is\", len(result))\n",
            "/usr/local/lib/python3.11/dist-packages/sklearn/metrics/_classification.py:1565: UndefinedMetricWarning: Precision is ill-defined and being set to 0.0 in labels with no predicted samples. Use `zero_division` parameter to control this behavior.\n",
            "  _warn_prf(average, modifier, f\"{metric.capitalize()} is\", len(result))\n"
          ]
        }
      ]
    },
    {
      "cell_type": "markdown",
      "source": [
        "# Random Forest"
      ],
      "metadata": {
        "id": "1pGLMstX0o8q"
      }
    },
    {
      "cell_type": "code",
      "source": [
        "# Train Random Forest on Embeddings\n",
        "rf_model = RandomForestClassifier(n_estimators=100, random_state=42)\n",
        "rf_model.fit(train_embeddings, train_data['encoded_labels'])\n",
        "\n",
        "# Validate the Model\n",
        "val_preds = rf_model.predict(val_embeddings)\n",
        "val_report = classification_report(val_labels, val_preds, target_names=label_encoder.classes_, output_dict=True)\n",
        "print(\"Validation Report:\")\n",
        "print(pd.DataFrame(val_report))\n",
        "\n",
        "# Test the Model\n",
        "test_preds = rf_model.predict(test_embeddings)\n",
        "test_report = classification_report(test_labels, test_preds, target_names=label_encoder.classes_, output_dict=True)\n",
        "print(\"Test Report:\")\n",
        "print(pd.DataFrame(test_report))\n"
      ],
      "metadata": {
        "id": "omkCg8wD0lZE",
        "colab": {
          "base_uri": "https://localhost:8080/"
        },
        "outputId": "ea961968-ad9d-413f-f0d4-3badf9c2d371"
      },
      "execution_count": 15,
      "outputs": [
        {
          "output_type": "stream",
          "name": "stdout",
          "text": [
            "Validation Report:\n",
            "           adenocarcinoma  adhesion  affect labile  arthritis     asthma  \\\n",
            "precision        0.500000       0.0            0.0   0.400000   0.500000   \n",
            "recall           0.333333       0.0            0.0   1.000000   0.666667   \n",
            "f1-score         0.400000       0.0            0.0   0.571429   0.571429   \n",
            "support         12.000000       8.0            4.0   8.000000  12.000000   \n",
            "\n",
            "           benign prostatic hypertrophy  biliary calculus  carcinoma breast  \\\n",
            "precision                           0.0          0.304348               0.5   \n",
            "recall                              0.0          0.583333               0.5   \n",
            "f1-score                            0.0          0.400000               0.5   \n",
            "support                             4.0         48.000000               8.0   \n",
            "\n",
            "           chronic obstructive airway disease  cirrhosis  ...  pyelonephritis  \\\n",
            "precision                                 0.4   0.500000  ...            0.40   \n",
            "recall                                    0.4   1.000000  ...            0.60   \n",
            "f1-score                                  0.4   0.666667  ...            0.48   \n",
            "support                                  20.0   8.000000  ...           40.00   \n",
            "\n",
            "           schizophrenia  sickle cell anemia  stenosis aortic valve  \\\n",
            "precision       0.285714            0.375000               0.333333   \n",
            "recall          1.000000            1.000000               0.333333   \n",
            "f1-score        0.444444            0.545455               0.333333   \n",
            "support         8.000000           12.000000              24.000000   \n",
            "\n",
            "           tachycardia sinus   thrombus  tricuspid valve insufficiency  \\\n",
            "precision                0.0   0.500000                            0.5   \n",
            "recall                   0.0   0.666667                            0.5   \n",
            "f1-score                 0.0   0.571429                            0.5   \n",
            "support                  8.0  12.000000                            8.0   \n",
            "\n",
            "           accuracy   macro avg  weighted avg  \n",
            "precision  0.397129    0.346131      0.379599  \n",
            "recall     0.397129    0.373890      0.397129  \n",
            "f1-score   0.397129    0.330134      0.361176  \n",
            "support    0.397129  836.000000    836.000000  \n",
            "\n",
            "[4 rows x 51 columns]\n",
            "Test Report:\n",
            "           adenocarcinoma  adhesion  affect labile  arthritis     asthma  \\\n",
            "precision             0.0  0.250000            0.0        0.0   0.500000   \n",
            "recall                0.0  0.500000            0.0        0.0   1.000000   \n",
            "f1-score              0.0  0.333333            0.0        0.0   0.666667   \n",
            "support              12.0  8.000000            4.0        8.0  12.000000   \n",
            "\n",
            "           benign prostatic hypertrophy  biliary calculus  carcinoma breast  \\\n",
            "precision                           0.0          0.500000               0.5   \n",
            "recall                              0.0          0.416667               0.5   \n",
            "f1-score                            0.0          0.454545               0.5   \n",
            "support                             4.0         48.000000               8.0   \n",
            "\n",
            "           chronic obstructive airway disease  cirrhosis  ...  pyelonephritis  \\\n",
            "precision                                 0.4   0.400000  ...        0.384615   \n",
            "recall                                    0.4   0.500000  ...        0.454545   \n",
            "f1-score                                  0.4   0.444444  ...        0.416667   \n",
            "support                                  20.0  16.000000  ...       44.000000   \n",
            "\n",
            "           schizophrenia  sickle cell anemia  stenosis aortic valve  \\\n",
            "precision            0.5                 0.0               0.500000   \n",
            "recall               0.5                 0.0               0.250000   \n",
            "f1-score             0.5                 0.0               0.333333   \n",
            "support              8.0                 4.0              16.000000   \n",
            "\n",
            "           tachycardia sinus  thrombus  tricuspid valve insufficiency  \\\n",
            "precision                0.0       0.0                       0.250000   \n",
            "recall                   0.0       0.0                       0.333333   \n",
            "f1-score                 0.0       0.0                       0.285714   \n",
            "support                 12.0      12.0                      12.000000   \n",
            "\n",
            "           accuracy   macro avg  weighted avg  \n",
            "precision  0.385321    0.305537      0.358380  \n",
            "recall     0.385321    0.366775      0.385321  \n",
            "f1-score   0.385321    0.313715      0.349677  \n",
            "support    0.385321  872.000000    872.000000  \n",
            "\n",
            "[4 rows x 51 columns]\n"
          ]
        },
        {
          "output_type": "stream",
          "name": "stderr",
          "text": [
            "/usr/local/lib/python3.11/dist-packages/sklearn/metrics/_classification.py:1565: UndefinedMetricWarning: Precision is ill-defined and being set to 0.0 in labels with no predicted samples. Use `zero_division` parameter to control this behavior.\n",
            "  _warn_prf(average, modifier, f\"{metric.capitalize()} is\", len(result))\n",
            "/usr/local/lib/python3.11/dist-packages/sklearn/metrics/_classification.py:1565: UndefinedMetricWarning: Precision is ill-defined and being set to 0.0 in labels with no predicted samples. Use `zero_division` parameter to control this behavior.\n",
            "  _warn_prf(average, modifier, f\"{metric.capitalize()} is\", len(result))\n",
            "/usr/local/lib/python3.11/dist-packages/sklearn/metrics/_classification.py:1565: UndefinedMetricWarning: Precision is ill-defined and being set to 0.0 in labels with no predicted samples. Use `zero_division` parameter to control this behavior.\n",
            "  _warn_prf(average, modifier, f\"{metric.capitalize()} is\", len(result))\n",
            "/usr/local/lib/python3.11/dist-packages/sklearn/metrics/_classification.py:1565: UndefinedMetricWarning: Precision is ill-defined and being set to 0.0 in labels with no predicted samples. Use `zero_division` parameter to control this behavior.\n",
            "  _warn_prf(average, modifier, f\"{metric.capitalize()} is\", len(result))\n",
            "/usr/local/lib/python3.11/dist-packages/sklearn/metrics/_classification.py:1565: UndefinedMetricWarning: Precision is ill-defined and being set to 0.0 in labels with no predicted samples. Use `zero_division` parameter to control this behavior.\n",
            "  _warn_prf(average, modifier, f\"{metric.capitalize()} is\", len(result))\n",
            "/usr/local/lib/python3.11/dist-packages/sklearn/metrics/_classification.py:1565: UndefinedMetricWarning: Precision is ill-defined and being set to 0.0 in labels with no predicted samples. Use `zero_division` parameter to control this behavior.\n",
            "  _warn_prf(average, modifier, f\"{metric.capitalize()} is\", len(result))\n"
          ]
        }
      ]
    },
    {
      "cell_type": "code",
      "source": [
        "# Save Classification Report to CSV\n",
        "test_report_df = pd.DataFrame(test_report).transpose()\n",
        "test_report_path = \"/content/drive/MyDrive/P2/T1/Dataset/overlapped/LLM + ML/biobert-rf-o-class.csv\"\n",
        "test_report_df.to_csv(test_report_path, index=True)\n",
        "print(f\"Classification report saved to {test_report_path}\")"
      ],
      "metadata": {
        "id": "QPxbI23S0nK7",
        "colab": {
          "base_uri": "https://localhost:8080/"
        },
        "outputId": "9d233b73-9f23-4a43-dde6-86f3a2cf2b3a"
      },
      "execution_count": 16,
      "outputs": [
        {
          "output_type": "stream",
          "name": "stdout",
          "text": [
            "Classification report saved to /content/drive/MyDrive/P2/T1/Dataset/overlapped/LLM + ML/biobert-rf-o-class.csv\n"
          ]
        }
      ]
    },
    {
      "cell_type": "markdown",
      "source": [
        "# Support Vector Classifier"
      ],
      "metadata": {
        "id": "yA9I1QnQTYjq"
      }
    },
    {
      "cell_type": "code",
      "source": [
        "# Train Support Vector Classifier (SVC) on Embeddings\n",
        "from sklearn.svm import SVC\n",
        "\n",
        "svc_model = SVC(kernel='linear', random_state=42)  # You can choose other kernels like 'rbf' or 'poly'\n",
        "svc_model.fit(train_embeddings, train_data['encoded_labels'])\n",
        "\n",
        "# Validate the Model\n",
        "val_preds = svc_model.predict(val_embeddings)\n",
        "val_report = classification_report(val_labels, val_preds, target_names=label_encoder.classes_, output_dict=True)\n",
        "print(\"Validation Report:\")\n",
        "print(pd.DataFrame(val_report))\n",
        "\n",
        "# Test the Model\n",
        "test_preds = svc_model.predict(test_embeddings)\n",
        "test_report = classification_report(test_labels, test_preds, target_names=label_encoder.classes_, output_dict=True)\n",
        "print(\"Test Report:\")\n",
        "print(pd.DataFrame(test_report))\n"
      ],
      "metadata": {
        "id": "pGEvCsXNTaIo",
        "colab": {
          "base_uri": "https://localhost:8080/"
        },
        "outputId": "0644f8d2-1b76-4bae-d460-5c19e6c211f8"
      },
      "execution_count": 17,
      "outputs": [
        {
          "output_type": "stream",
          "name": "stderr",
          "text": [
            "/usr/local/lib/python3.11/dist-packages/sklearn/metrics/_classification.py:1565: UndefinedMetricWarning: Precision is ill-defined and being set to 0.0 in labels with no predicted samples. Use `zero_division` parameter to control this behavior.\n",
            "  _warn_prf(average, modifier, f\"{metric.capitalize()} is\", len(result))\n",
            "/usr/local/lib/python3.11/dist-packages/sklearn/metrics/_classification.py:1565: UndefinedMetricWarning: Precision is ill-defined and being set to 0.0 in labels with no predicted samples. Use `zero_division` parameter to control this behavior.\n",
            "  _warn_prf(average, modifier, f\"{metric.capitalize()} is\", len(result))\n",
            "/usr/local/lib/python3.11/dist-packages/sklearn/metrics/_classification.py:1565: UndefinedMetricWarning: Precision is ill-defined and being set to 0.0 in labels with no predicted samples. Use `zero_division` parameter to control this behavior.\n",
            "  _warn_prf(average, modifier, f\"{metric.capitalize()} is\", len(result))\n"
          ]
        },
        {
          "output_type": "stream",
          "name": "stdout",
          "text": [
            "Validation Report:\n",
            "           adenocarcinoma  adhesion  affect labile  arthritis     asthma  \\\n",
            "precision        0.500000  1.000000            0.0   0.333333   0.500000   \n",
            "recall           0.666667  0.500000            0.0   0.500000   0.333333   \n",
            "f1-score         0.571429  0.666667            0.0   0.400000   0.400000   \n",
            "support         12.000000  8.000000            4.0   8.000000  12.000000   \n",
            "\n",
            "           benign prostatic hypertrophy  biliary calculus  carcinoma breast  \\\n",
            "precision                           0.0               0.0               0.0   \n",
            "recall                              0.0               0.0               0.0   \n",
            "f1-score                            0.0               0.0               0.0   \n",
            "support                             4.0              48.0               8.0   \n",
            "\n",
            "           chronic obstructive airway disease  cirrhosis  ...  pyelonephritis  \\\n",
            "precision                            0.428571   0.500000  ...        0.384615   \n",
            "recall                               0.600000   1.000000  ...        0.500000   \n",
            "f1-score                             0.500000   0.666667  ...        0.434783   \n",
            "support                             20.000000   8.000000  ...       40.000000   \n",
            "\n",
            "           schizophrenia  sickle cell anemia  stenosis aortic valve  \\\n",
            "precision            0.5            0.500000               0.384615   \n",
            "recall               0.5            0.333333               0.833333   \n",
            "f1-score             0.5            0.400000               0.526316   \n",
            "support              8.0           12.000000              24.000000   \n",
            "\n",
            "           tachycardia sinus   thrombus  tricuspid valve insufficiency  \\\n",
            "precision                0.0   0.500000                            0.0   \n",
            "recall                   0.0   0.666667                            0.0   \n",
            "f1-score                 0.0   0.571429                            0.0   \n",
            "support                  8.0  12.000000                            8.0   \n",
            "\n",
            "           accuracy   macro avg  weighted avg  \n",
            "precision  0.406699    0.333226      0.335174  \n",
            "recall     0.406699    0.368456      0.406699  \n",
            "f1-score   0.406699    0.319400      0.337961  \n",
            "support    0.406699  836.000000    836.000000  \n",
            "\n",
            "[4 rows x 51 columns]\n",
            "Test Report:\n",
            "           adenocarcinoma  adhesion  affect labile  arthritis     asthma  \\\n",
            "precision             0.0       0.0            0.0        0.0   0.500000   \n",
            "recall                0.0       0.0            0.0        0.0   0.666667   \n",
            "f1-score              0.0       0.0            0.0        0.0   0.571429   \n",
            "support              12.0       8.0            4.0        8.0  12.000000   \n",
            "\n",
            "           benign prostatic hypertrophy  biliary calculus  carcinoma breast  \\\n",
            "precision                           0.0          0.500000               0.0   \n",
            "recall                              0.0          0.166667               0.0   \n",
            "f1-score                            0.0          0.250000               0.0   \n",
            "support                             4.0         48.000000               8.0   \n",
            "\n",
            "           chronic obstructive airway disease  cirrhosis  ...  pyelonephritis  \\\n",
            "precision                                 0.4   0.333333  ...        0.400000   \n",
            "recall                                    0.4   0.250000  ...        0.545455   \n",
            "f1-score                                  0.4   0.285714  ...        0.461538   \n",
            "support                                  20.0  16.000000  ...       44.000000   \n",
            "\n",
            "           schizophrenia  sickle cell anemia  stenosis aortic valve  \\\n",
            "precision       0.500000                 0.0               0.400000   \n",
            "recall          1.000000                 0.0               0.500000   \n",
            "f1-score        0.666667                 0.0               0.444444   \n",
            "support         8.000000                 4.0              16.000000   \n",
            "\n",
            "           tachycardia sinus   thrombus  tricuspid valve insufficiency  \\\n",
            "precision                0.0   0.500000                       0.250000   \n",
            "recall                   0.0   0.333333                       0.333333   \n",
            "f1-score                 0.0   0.400000                       0.285714   \n",
            "support                 12.0  12.000000                      12.000000   \n",
            "\n",
            "           accuracy   macro avg  weighted avg  \n",
            "precision  0.394495    0.291162      0.326145  \n",
            "recall     0.394495    0.359827      0.394495  \n",
            "f1-score   0.394495    0.303563      0.335291  \n",
            "support    0.394495  872.000000    872.000000  \n",
            "\n",
            "[4 rows x 51 columns]\n"
          ]
        },
        {
          "output_type": "stream",
          "name": "stderr",
          "text": [
            "/usr/local/lib/python3.11/dist-packages/sklearn/metrics/_classification.py:1565: UndefinedMetricWarning: Precision is ill-defined and being set to 0.0 in labels with no predicted samples. Use `zero_division` parameter to control this behavior.\n",
            "  _warn_prf(average, modifier, f\"{metric.capitalize()} is\", len(result))\n",
            "/usr/local/lib/python3.11/dist-packages/sklearn/metrics/_classification.py:1565: UndefinedMetricWarning: Precision is ill-defined and being set to 0.0 in labels with no predicted samples. Use `zero_division` parameter to control this behavior.\n",
            "  _warn_prf(average, modifier, f\"{metric.capitalize()} is\", len(result))\n",
            "/usr/local/lib/python3.11/dist-packages/sklearn/metrics/_classification.py:1565: UndefinedMetricWarning: Precision is ill-defined and being set to 0.0 in labels with no predicted samples. Use `zero_division` parameter to control this behavior.\n",
            "  _warn_prf(average, modifier, f\"{metric.capitalize()} is\", len(result))\n"
          ]
        }
      ]
    },
    {
      "cell_type": "code",
      "source": [
        "# Save Classification Report to CSV\n",
        "test_report_df = pd.DataFrame(test_report).transpose()\n",
        "test_report_path = \"/content/drive/MyDrive/P2/T1/Dataset/overlapped/LLM + ML/biobert-svc-o-class.csv\"\n",
        "test_report_df.to_csv(test_report_path, index=True)\n",
        "print(f\"Classification report saved to {test_report_path}\")"
      ],
      "metadata": {
        "id": "QDrG9fITTa73",
        "colab": {
          "base_uri": "https://localhost:8080/"
        },
        "outputId": "a5200f5e-2d5a-4c06-d6d9-2f120358eb19"
      },
      "execution_count": 18,
      "outputs": [
        {
          "output_type": "stream",
          "name": "stdout",
          "text": [
            "Classification report saved to /content/drive/MyDrive/P2/T1/Dataset/overlapped/LLM + ML/biobert-svc-o-class.csv\n"
          ]
        }
      ]
    }
  ]
}
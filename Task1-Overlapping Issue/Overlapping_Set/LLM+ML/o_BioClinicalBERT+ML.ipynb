{
  "nbformat": 4,
  "nbformat_minor": 0,
  "metadata": {
    "colab": {
      "provenance": [],
      "machine_shape": "hm",
      "gpuType": "A100"
    },
    "kernelspec": {
      "name": "python3",
      "display_name": "Python 3"
    },
    "language_info": {
      "name": "python"
    },
    "accelerator": "GPU",
    "widgets": {
      "application/vnd.jupyter.widget-state+json": {
        "aefc8b64b8fe46f28e0151209121ee9e": {
          "model_module": "@jupyter-widgets/controls",
          "model_name": "HBoxModel",
          "model_module_version": "1.5.0",
          "state": {
            "_dom_classes": [],
            "_model_module": "@jupyter-widgets/controls",
            "_model_module_version": "1.5.0",
            "_model_name": "HBoxModel",
            "_view_count": null,
            "_view_module": "@jupyter-widgets/controls",
            "_view_module_version": "1.5.0",
            "_view_name": "HBoxView",
            "box_style": "",
            "children": [
              "IPY_MODEL_08ed4582e4c5486980819944a1e2b6a3",
              "IPY_MODEL_e71a2f46c3bd4d80be6b2ab7c469699e",
              "IPY_MODEL_c0a726d3b0c44f83a99590b752a6e07f"
            ],
            "layout": "IPY_MODEL_c550053b2e5c445d8869c565ca726243"
          }
        },
        "08ed4582e4c5486980819944a1e2b6a3": {
          "model_module": "@jupyter-widgets/controls",
          "model_name": "HTMLModel",
          "model_module_version": "1.5.0",
          "state": {
            "_dom_classes": [],
            "_model_module": "@jupyter-widgets/controls",
            "_model_module_version": "1.5.0",
            "_model_name": "HTMLModel",
            "_view_count": null,
            "_view_module": "@jupyter-widgets/controls",
            "_view_module_version": "1.5.0",
            "_view_name": "HTMLView",
            "description": "",
            "description_tooltip": null,
            "layout": "IPY_MODEL_db6fcb854d84477c9de9112b5e6452d7",
            "placeholder": "​",
            "style": "IPY_MODEL_1c2cbc7b57ff4fd2881343a4bd7be239",
            "value": "config.json: 100%"
          }
        },
        "e71a2f46c3bd4d80be6b2ab7c469699e": {
          "model_module": "@jupyter-widgets/controls",
          "model_name": "FloatProgressModel",
          "model_module_version": "1.5.0",
          "state": {
            "_dom_classes": [],
            "_model_module": "@jupyter-widgets/controls",
            "_model_module_version": "1.5.0",
            "_model_name": "FloatProgressModel",
            "_view_count": null,
            "_view_module": "@jupyter-widgets/controls",
            "_view_module_version": "1.5.0",
            "_view_name": "ProgressView",
            "bar_style": "success",
            "description": "",
            "description_tooltip": null,
            "layout": "IPY_MODEL_6a86559c57e7450eaddb9555933612a2",
            "max": 385,
            "min": 0,
            "orientation": "horizontal",
            "style": "IPY_MODEL_28942a2c64cd463986053653adb1e9dc",
            "value": 385
          }
        },
        "c0a726d3b0c44f83a99590b752a6e07f": {
          "model_module": "@jupyter-widgets/controls",
          "model_name": "HTMLModel",
          "model_module_version": "1.5.0",
          "state": {
            "_dom_classes": [],
            "_model_module": "@jupyter-widgets/controls",
            "_model_module_version": "1.5.0",
            "_model_name": "HTMLModel",
            "_view_count": null,
            "_view_module": "@jupyter-widgets/controls",
            "_view_module_version": "1.5.0",
            "_view_name": "HTMLView",
            "description": "",
            "description_tooltip": null,
            "layout": "IPY_MODEL_a2d46cd37fed4c4491c70b1744d3dd00",
            "placeholder": "​",
            "style": "IPY_MODEL_8c9a08f79f57492c8016ce4afe01e585",
            "value": " 385/385 [00:00&lt;00:00, 29.6kB/s]"
          }
        },
        "c550053b2e5c445d8869c565ca726243": {
          "model_module": "@jupyter-widgets/base",
          "model_name": "LayoutModel",
          "model_module_version": "1.2.0",
          "state": {
            "_model_module": "@jupyter-widgets/base",
            "_model_module_version": "1.2.0",
            "_model_name": "LayoutModel",
            "_view_count": null,
            "_view_module": "@jupyter-widgets/base",
            "_view_module_version": "1.2.0",
            "_view_name": "LayoutView",
            "align_content": null,
            "align_items": null,
            "align_self": null,
            "border": null,
            "bottom": null,
            "display": null,
            "flex": null,
            "flex_flow": null,
            "grid_area": null,
            "grid_auto_columns": null,
            "grid_auto_flow": null,
            "grid_auto_rows": null,
            "grid_column": null,
            "grid_gap": null,
            "grid_row": null,
            "grid_template_areas": null,
            "grid_template_columns": null,
            "grid_template_rows": null,
            "height": null,
            "justify_content": null,
            "justify_items": null,
            "left": null,
            "margin": null,
            "max_height": null,
            "max_width": null,
            "min_height": null,
            "min_width": null,
            "object_fit": null,
            "object_position": null,
            "order": null,
            "overflow": null,
            "overflow_x": null,
            "overflow_y": null,
            "padding": null,
            "right": null,
            "top": null,
            "visibility": null,
            "width": null
          }
        },
        "db6fcb854d84477c9de9112b5e6452d7": {
          "model_module": "@jupyter-widgets/base",
          "model_name": "LayoutModel",
          "model_module_version": "1.2.0",
          "state": {
            "_model_module": "@jupyter-widgets/base",
            "_model_module_version": "1.2.0",
            "_model_name": "LayoutModel",
            "_view_count": null,
            "_view_module": "@jupyter-widgets/base",
            "_view_module_version": "1.2.0",
            "_view_name": "LayoutView",
            "align_content": null,
            "align_items": null,
            "align_self": null,
            "border": null,
            "bottom": null,
            "display": null,
            "flex": null,
            "flex_flow": null,
            "grid_area": null,
            "grid_auto_columns": null,
            "grid_auto_flow": null,
            "grid_auto_rows": null,
            "grid_column": null,
            "grid_gap": null,
            "grid_row": null,
            "grid_template_areas": null,
            "grid_template_columns": null,
            "grid_template_rows": null,
            "height": null,
            "justify_content": null,
            "justify_items": null,
            "left": null,
            "margin": null,
            "max_height": null,
            "max_width": null,
            "min_height": null,
            "min_width": null,
            "object_fit": null,
            "object_position": null,
            "order": null,
            "overflow": null,
            "overflow_x": null,
            "overflow_y": null,
            "padding": null,
            "right": null,
            "top": null,
            "visibility": null,
            "width": null
          }
        },
        "1c2cbc7b57ff4fd2881343a4bd7be239": {
          "model_module": "@jupyter-widgets/controls",
          "model_name": "DescriptionStyleModel",
          "model_module_version": "1.5.0",
          "state": {
            "_model_module": "@jupyter-widgets/controls",
            "_model_module_version": "1.5.0",
            "_model_name": "DescriptionStyleModel",
            "_view_count": null,
            "_view_module": "@jupyter-widgets/base",
            "_view_module_version": "1.2.0",
            "_view_name": "StyleView",
            "description_width": ""
          }
        },
        "6a86559c57e7450eaddb9555933612a2": {
          "model_module": "@jupyter-widgets/base",
          "model_name": "LayoutModel",
          "model_module_version": "1.2.0",
          "state": {
            "_model_module": "@jupyter-widgets/base",
            "_model_module_version": "1.2.0",
            "_model_name": "LayoutModel",
            "_view_count": null,
            "_view_module": "@jupyter-widgets/base",
            "_view_module_version": "1.2.0",
            "_view_name": "LayoutView",
            "align_content": null,
            "align_items": null,
            "align_self": null,
            "border": null,
            "bottom": null,
            "display": null,
            "flex": null,
            "flex_flow": null,
            "grid_area": null,
            "grid_auto_columns": null,
            "grid_auto_flow": null,
            "grid_auto_rows": null,
            "grid_column": null,
            "grid_gap": null,
            "grid_row": null,
            "grid_template_areas": null,
            "grid_template_columns": null,
            "grid_template_rows": null,
            "height": null,
            "justify_content": null,
            "justify_items": null,
            "left": null,
            "margin": null,
            "max_height": null,
            "max_width": null,
            "min_height": null,
            "min_width": null,
            "object_fit": null,
            "object_position": null,
            "order": null,
            "overflow": null,
            "overflow_x": null,
            "overflow_y": null,
            "padding": null,
            "right": null,
            "top": null,
            "visibility": null,
            "width": null
          }
        },
        "28942a2c64cd463986053653adb1e9dc": {
          "model_module": "@jupyter-widgets/controls",
          "model_name": "ProgressStyleModel",
          "model_module_version": "1.5.0",
          "state": {
            "_model_module": "@jupyter-widgets/controls",
            "_model_module_version": "1.5.0",
            "_model_name": "ProgressStyleModel",
            "_view_count": null,
            "_view_module": "@jupyter-widgets/base",
            "_view_module_version": "1.2.0",
            "_view_name": "StyleView",
            "bar_color": null,
            "description_width": ""
          }
        },
        "a2d46cd37fed4c4491c70b1744d3dd00": {
          "model_module": "@jupyter-widgets/base",
          "model_name": "LayoutModel",
          "model_module_version": "1.2.0",
          "state": {
            "_model_module": "@jupyter-widgets/base",
            "_model_module_version": "1.2.0",
            "_model_name": "LayoutModel",
            "_view_count": null,
            "_view_module": "@jupyter-widgets/base",
            "_view_module_version": "1.2.0",
            "_view_name": "LayoutView",
            "align_content": null,
            "align_items": null,
            "align_self": null,
            "border": null,
            "bottom": null,
            "display": null,
            "flex": null,
            "flex_flow": null,
            "grid_area": null,
            "grid_auto_columns": null,
            "grid_auto_flow": null,
            "grid_auto_rows": null,
            "grid_column": null,
            "grid_gap": null,
            "grid_row": null,
            "grid_template_areas": null,
            "grid_template_columns": null,
            "grid_template_rows": null,
            "height": null,
            "justify_content": null,
            "justify_items": null,
            "left": null,
            "margin": null,
            "max_height": null,
            "max_width": null,
            "min_height": null,
            "min_width": null,
            "object_fit": null,
            "object_position": null,
            "order": null,
            "overflow": null,
            "overflow_x": null,
            "overflow_y": null,
            "padding": null,
            "right": null,
            "top": null,
            "visibility": null,
            "width": null
          }
        },
        "8c9a08f79f57492c8016ce4afe01e585": {
          "model_module": "@jupyter-widgets/controls",
          "model_name": "DescriptionStyleModel",
          "model_module_version": "1.5.0",
          "state": {
            "_model_module": "@jupyter-widgets/controls",
            "_model_module_version": "1.5.0",
            "_model_name": "DescriptionStyleModel",
            "_view_count": null,
            "_view_module": "@jupyter-widgets/base",
            "_view_module_version": "1.2.0",
            "_view_name": "StyleView",
            "description_width": ""
          }
        },
        "18cddcf27ae8474488296adb88a63581": {
          "model_module": "@jupyter-widgets/controls",
          "model_name": "HBoxModel",
          "model_module_version": "1.5.0",
          "state": {
            "_dom_classes": [],
            "_model_module": "@jupyter-widgets/controls",
            "_model_module_version": "1.5.0",
            "_model_name": "HBoxModel",
            "_view_count": null,
            "_view_module": "@jupyter-widgets/controls",
            "_view_module_version": "1.5.0",
            "_view_name": "HBoxView",
            "box_style": "",
            "children": [
              "IPY_MODEL_01e463bd75dc4320930613b304d51676",
              "IPY_MODEL_88126155f8194aa395959e445b4f7cb0",
              "IPY_MODEL_72bf955912e441148d70d68a1e23221b"
            ],
            "layout": "IPY_MODEL_4288eaa0b7bf4d8e9c37fafc7516d6d4"
          }
        },
        "01e463bd75dc4320930613b304d51676": {
          "model_module": "@jupyter-widgets/controls",
          "model_name": "HTMLModel",
          "model_module_version": "1.5.0",
          "state": {
            "_dom_classes": [],
            "_model_module": "@jupyter-widgets/controls",
            "_model_module_version": "1.5.0",
            "_model_name": "HTMLModel",
            "_view_count": null,
            "_view_module": "@jupyter-widgets/controls",
            "_view_module_version": "1.5.0",
            "_view_name": "HTMLView",
            "description": "",
            "description_tooltip": null,
            "layout": "IPY_MODEL_9ce88413bb764d6daf13d227d912199e",
            "placeholder": "​",
            "style": "IPY_MODEL_507599cd03a84de8bb20e1c7a9fe24e5",
            "value": "vocab.txt: 100%"
          }
        },
        "88126155f8194aa395959e445b4f7cb0": {
          "model_module": "@jupyter-widgets/controls",
          "model_name": "FloatProgressModel",
          "model_module_version": "1.5.0",
          "state": {
            "_dom_classes": [],
            "_model_module": "@jupyter-widgets/controls",
            "_model_module_version": "1.5.0",
            "_model_name": "FloatProgressModel",
            "_view_count": null,
            "_view_module": "@jupyter-widgets/controls",
            "_view_module_version": "1.5.0",
            "_view_name": "ProgressView",
            "bar_style": "success",
            "description": "",
            "description_tooltip": null,
            "layout": "IPY_MODEL_11a761f9b9564a448d320ccc89e71876",
            "max": 213450,
            "min": 0,
            "orientation": "horizontal",
            "style": "IPY_MODEL_e952de1571c243a9a3274fd9d225b5e8",
            "value": 213450
          }
        },
        "72bf955912e441148d70d68a1e23221b": {
          "model_module": "@jupyter-widgets/controls",
          "model_name": "HTMLModel",
          "model_module_version": "1.5.0",
          "state": {
            "_dom_classes": [],
            "_model_module": "@jupyter-widgets/controls",
            "_model_module_version": "1.5.0",
            "_model_name": "HTMLModel",
            "_view_count": null,
            "_view_module": "@jupyter-widgets/controls",
            "_view_module_version": "1.5.0",
            "_view_name": "HTMLView",
            "description": "",
            "description_tooltip": null,
            "layout": "IPY_MODEL_f5b48bb7c3834255b2aeaf70cd6d6a11",
            "placeholder": "​",
            "style": "IPY_MODEL_281725fee6a54daeaf4ff5977b32eeed",
            "value": " 213k/213k [00:00&lt;00:00, 4.12MB/s]"
          }
        },
        "4288eaa0b7bf4d8e9c37fafc7516d6d4": {
          "model_module": "@jupyter-widgets/base",
          "model_name": "LayoutModel",
          "model_module_version": "1.2.0",
          "state": {
            "_model_module": "@jupyter-widgets/base",
            "_model_module_version": "1.2.0",
            "_model_name": "LayoutModel",
            "_view_count": null,
            "_view_module": "@jupyter-widgets/base",
            "_view_module_version": "1.2.0",
            "_view_name": "LayoutView",
            "align_content": null,
            "align_items": null,
            "align_self": null,
            "border": null,
            "bottom": null,
            "display": null,
            "flex": null,
            "flex_flow": null,
            "grid_area": null,
            "grid_auto_columns": null,
            "grid_auto_flow": null,
            "grid_auto_rows": null,
            "grid_column": null,
            "grid_gap": null,
            "grid_row": null,
            "grid_template_areas": null,
            "grid_template_columns": null,
            "grid_template_rows": null,
            "height": null,
            "justify_content": null,
            "justify_items": null,
            "left": null,
            "margin": null,
            "max_height": null,
            "max_width": null,
            "min_height": null,
            "min_width": null,
            "object_fit": null,
            "object_position": null,
            "order": null,
            "overflow": null,
            "overflow_x": null,
            "overflow_y": null,
            "padding": null,
            "right": null,
            "top": null,
            "visibility": null,
            "width": null
          }
        },
        "9ce88413bb764d6daf13d227d912199e": {
          "model_module": "@jupyter-widgets/base",
          "model_name": "LayoutModel",
          "model_module_version": "1.2.0",
          "state": {
            "_model_module": "@jupyter-widgets/base",
            "_model_module_version": "1.2.0",
            "_model_name": "LayoutModel",
            "_view_count": null,
            "_view_module": "@jupyter-widgets/base",
            "_view_module_version": "1.2.0",
            "_view_name": "LayoutView",
            "align_content": null,
            "align_items": null,
            "align_self": null,
            "border": null,
            "bottom": null,
            "display": null,
            "flex": null,
            "flex_flow": null,
            "grid_area": null,
            "grid_auto_columns": null,
            "grid_auto_flow": null,
            "grid_auto_rows": null,
            "grid_column": null,
            "grid_gap": null,
            "grid_row": null,
            "grid_template_areas": null,
            "grid_template_columns": null,
            "grid_template_rows": null,
            "height": null,
            "justify_content": null,
            "justify_items": null,
            "left": null,
            "margin": null,
            "max_height": null,
            "max_width": null,
            "min_height": null,
            "min_width": null,
            "object_fit": null,
            "object_position": null,
            "order": null,
            "overflow": null,
            "overflow_x": null,
            "overflow_y": null,
            "padding": null,
            "right": null,
            "top": null,
            "visibility": null,
            "width": null
          }
        },
        "507599cd03a84de8bb20e1c7a9fe24e5": {
          "model_module": "@jupyter-widgets/controls",
          "model_name": "DescriptionStyleModel",
          "model_module_version": "1.5.0",
          "state": {
            "_model_module": "@jupyter-widgets/controls",
            "_model_module_version": "1.5.0",
            "_model_name": "DescriptionStyleModel",
            "_view_count": null,
            "_view_module": "@jupyter-widgets/base",
            "_view_module_version": "1.2.0",
            "_view_name": "StyleView",
            "description_width": ""
          }
        },
        "11a761f9b9564a448d320ccc89e71876": {
          "model_module": "@jupyter-widgets/base",
          "model_name": "LayoutModel",
          "model_module_version": "1.2.0",
          "state": {
            "_model_module": "@jupyter-widgets/base",
            "_model_module_version": "1.2.0",
            "_model_name": "LayoutModel",
            "_view_count": null,
            "_view_module": "@jupyter-widgets/base",
            "_view_module_version": "1.2.0",
            "_view_name": "LayoutView",
            "align_content": null,
            "align_items": null,
            "align_self": null,
            "border": null,
            "bottom": null,
            "display": null,
            "flex": null,
            "flex_flow": null,
            "grid_area": null,
            "grid_auto_columns": null,
            "grid_auto_flow": null,
            "grid_auto_rows": null,
            "grid_column": null,
            "grid_gap": null,
            "grid_row": null,
            "grid_template_areas": null,
            "grid_template_columns": null,
            "grid_template_rows": null,
            "height": null,
            "justify_content": null,
            "justify_items": null,
            "left": null,
            "margin": null,
            "max_height": null,
            "max_width": null,
            "min_height": null,
            "min_width": null,
            "object_fit": null,
            "object_position": null,
            "order": null,
            "overflow": null,
            "overflow_x": null,
            "overflow_y": null,
            "padding": null,
            "right": null,
            "top": null,
            "visibility": null,
            "width": null
          }
        },
        "e952de1571c243a9a3274fd9d225b5e8": {
          "model_module": "@jupyter-widgets/controls",
          "model_name": "ProgressStyleModel",
          "model_module_version": "1.5.0",
          "state": {
            "_model_module": "@jupyter-widgets/controls",
            "_model_module_version": "1.5.0",
            "_model_name": "ProgressStyleModel",
            "_view_count": null,
            "_view_module": "@jupyter-widgets/base",
            "_view_module_version": "1.2.0",
            "_view_name": "StyleView",
            "bar_color": null,
            "description_width": ""
          }
        },
        "f5b48bb7c3834255b2aeaf70cd6d6a11": {
          "model_module": "@jupyter-widgets/base",
          "model_name": "LayoutModel",
          "model_module_version": "1.2.0",
          "state": {
            "_model_module": "@jupyter-widgets/base",
            "_model_module_version": "1.2.0",
            "_model_name": "LayoutModel",
            "_view_count": null,
            "_view_module": "@jupyter-widgets/base",
            "_view_module_version": "1.2.0",
            "_view_name": "LayoutView",
            "align_content": null,
            "align_items": null,
            "align_self": null,
            "border": null,
            "bottom": null,
            "display": null,
            "flex": null,
            "flex_flow": null,
            "grid_area": null,
            "grid_auto_columns": null,
            "grid_auto_flow": null,
            "grid_auto_rows": null,
            "grid_column": null,
            "grid_gap": null,
            "grid_row": null,
            "grid_template_areas": null,
            "grid_template_columns": null,
            "grid_template_rows": null,
            "height": null,
            "justify_content": null,
            "justify_items": null,
            "left": null,
            "margin": null,
            "max_height": null,
            "max_width": null,
            "min_height": null,
            "min_width": null,
            "object_fit": null,
            "object_position": null,
            "order": null,
            "overflow": null,
            "overflow_x": null,
            "overflow_y": null,
            "padding": null,
            "right": null,
            "top": null,
            "visibility": null,
            "width": null
          }
        },
        "281725fee6a54daeaf4ff5977b32eeed": {
          "model_module": "@jupyter-widgets/controls",
          "model_name": "DescriptionStyleModel",
          "model_module_version": "1.5.0",
          "state": {
            "_model_module": "@jupyter-widgets/controls",
            "_model_module_version": "1.5.0",
            "_model_name": "DescriptionStyleModel",
            "_view_count": null,
            "_view_module": "@jupyter-widgets/base",
            "_view_module_version": "1.2.0",
            "_view_name": "StyleView",
            "description_width": ""
          }
        },
        "ebb8c4ae6e8b4f15a1b7cdbe3239425f": {
          "model_module": "@jupyter-widgets/controls",
          "model_name": "HBoxModel",
          "model_module_version": "1.5.0",
          "state": {
            "_dom_classes": [],
            "_model_module": "@jupyter-widgets/controls",
            "_model_module_version": "1.5.0",
            "_model_name": "HBoxModel",
            "_view_count": null,
            "_view_module": "@jupyter-widgets/controls",
            "_view_module_version": "1.5.0",
            "_view_name": "HBoxView",
            "box_style": "",
            "children": [
              "IPY_MODEL_b493fe2faa154017ac0b6453e9b8cffd",
              "IPY_MODEL_3383d9ee48a44486a0cdfe94f51d0343",
              "IPY_MODEL_bee82f918be84da7b4f4917b524dc445"
            ],
            "layout": "IPY_MODEL_cad65770b6704370a67d3733bcc8ea5e"
          }
        },
        "b493fe2faa154017ac0b6453e9b8cffd": {
          "model_module": "@jupyter-widgets/controls",
          "model_name": "HTMLModel",
          "model_module_version": "1.5.0",
          "state": {
            "_dom_classes": [],
            "_model_module": "@jupyter-widgets/controls",
            "_model_module_version": "1.5.0",
            "_model_name": "HTMLModel",
            "_view_count": null,
            "_view_module": "@jupyter-widgets/controls",
            "_view_module_version": "1.5.0",
            "_view_name": "HTMLView",
            "description": "",
            "description_tooltip": null,
            "layout": "IPY_MODEL_6f8dbb8dabea4ed09deb7ee8bc263a25",
            "placeholder": "​",
            "style": "IPY_MODEL_d02c68a718924a889e289ccc65fcf943",
            "value": "pytorch_model.bin: 100%"
          }
        },
        "3383d9ee48a44486a0cdfe94f51d0343": {
          "model_module": "@jupyter-widgets/controls",
          "model_name": "FloatProgressModel",
          "model_module_version": "1.5.0",
          "state": {
            "_dom_classes": [],
            "_model_module": "@jupyter-widgets/controls",
            "_model_module_version": "1.5.0",
            "_model_name": "FloatProgressModel",
            "_view_count": null,
            "_view_module": "@jupyter-widgets/controls",
            "_view_module_version": "1.5.0",
            "_view_name": "ProgressView",
            "bar_style": "success",
            "description": "",
            "description_tooltip": null,
            "layout": "IPY_MODEL_796524c41c3f4669990190e621e787c4",
            "max": 435778770,
            "min": 0,
            "orientation": "horizontal",
            "style": "IPY_MODEL_74d4428cfa6544949eede1dd7948f597",
            "value": 435778770
          }
        },
        "bee82f918be84da7b4f4917b524dc445": {
          "model_module": "@jupyter-widgets/controls",
          "model_name": "HTMLModel",
          "model_module_version": "1.5.0",
          "state": {
            "_dom_classes": [],
            "_model_module": "@jupyter-widgets/controls",
            "_model_module_version": "1.5.0",
            "_model_name": "HTMLModel",
            "_view_count": null,
            "_view_module": "@jupyter-widgets/controls",
            "_view_module_version": "1.5.0",
            "_view_name": "HTMLView",
            "description": "",
            "description_tooltip": null,
            "layout": "IPY_MODEL_45e5baad972343f581ecbf8f747d94fa",
            "placeholder": "​",
            "style": "IPY_MODEL_3ae9af3cc8444b01baeee878c74aa4d3",
            "value": " 436M/436M [00:02&lt;00:00, 245MB/s]"
          }
        },
        "cad65770b6704370a67d3733bcc8ea5e": {
          "model_module": "@jupyter-widgets/base",
          "model_name": "LayoutModel",
          "model_module_version": "1.2.0",
          "state": {
            "_model_module": "@jupyter-widgets/base",
            "_model_module_version": "1.2.0",
            "_model_name": "LayoutModel",
            "_view_count": null,
            "_view_module": "@jupyter-widgets/base",
            "_view_module_version": "1.2.0",
            "_view_name": "LayoutView",
            "align_content": null,
            "align_items": null,
            "align_self": null,
            "border": null,
            "bottom": null,
            "display": null,
            "flex": null,
            "flex_flow": null,
            "grid_area": null,
            "grid_auto_columns": null,
            "grid_auto_flow": null,
            "grid_auto_rows": null,
            "grid_column": null,
            "grid_gap": null,
            "grid_row": null,
            "grid_template_areas": null,
            "grid_template_columns": null,
            "grid_template_rows": null,
            "height": null,
            "justify_content": null,
            "justify_items": null,
            "left": null,
            "margin": null,
            "max_height": null,
            "max_width": null,
            "min_height": null,
            "min_width": null,
            "object_fit": null,
            "object_position": null,
            "order": null,
            "overflow": null,
            "overflow_x": null,
            "overflow_y": null,
            "padding": null,
            "right": null,
            "top": null,
            "visibility": null,
            "width": null
          }
        },
        "6f8dbb8dabea4ed09deb7ee8bc263a25": {
          "model_module": "@jupyter-widgets/base",
          "model_name": "LayoutModel",
          "model_module_version": "1.2.0",
          "state": {
            "_model_module": "@jupyter-widgets/base",
            "_model_module_version": "1.2.0",
            "_model_name": "LayoutModel",
            "_view_count": null,
            "_view_module": "@jupyter-widgets/base",
            "_view_module_version": "1.2.0",
            "_view_name": "LayoutView",
            "align_content": null,
            "align_items": null,
            "align_self": null,
            "border": null,
            "bottom": null,
            "display": null,
            "flex": null,
            "flex_flow": null,
            "grid_area": null,
            "grid_auto_columns": null,
            "grid_auto_flow": null,
            "grid_auto_rows": null,
            "grid_column": null,
            "grid_gap": null,
            "grid_row": null,
            "grid_template_areas": null,
            "grid_template_columns": null,
            "grid_template_rows": null,
            "height": null,
            "justify_content": null,
            "justify_items": null,
            "left": null,
            "margin": null,
            "max_height": null,
            "max_width": null,
            "min_height": null,
            "min_width": null,
            "object_fit": null,
            "object_position": null,
            "order": null,
            "overflow": null,
            "overflow_x": null,
            "overflow_y": null,
            "padding": null,
            "right": null,
            "top": null,
            "visibility": null,
            "width": null
          }
        },
        "d02c68a718924a889e289ccc65fcf943": {
          "model_module": "@jupyter-widgets/controls",
          "model_name": "DescriptionStyleModel",
          "model_module_version": "1.5.0",
          "state": {
            "_model_module": "@jupyter-widgets/controls",
            "_model_module_version": "1.5.0",
            "_model_name": "DescriptionStyleModel",
            "_view_count": null,
            "_view_module": "@jupyter-widgets/base",
            "_view_module_version": "1.2.0",
            "_view_name": "StyleView",
            "description_width": ""
          }
        },
        "796524c41c3f4669990190e621e787c4": {
          "model_module": "@jupyter-widgets/base",
          "model_name": "LayoutModel",
          "model_module_version": "1.2.0",
          "state": {
            "_model_module": "@jupyter-widgets/base",
            "_model_module_version": "1.2.0",
            "_model_name": "LayoutModel",
            "_view_count": null,
            "_view_module": "@jupyter-widgets/base",
            "_view_module_version": "1.2.0",
            "_view_name": "LayoutView",
            "align_content": null,
            "align_items": null,
            "align_self": null,
            "border": null,
            "bottom": null,
            "display": null,
            "flex": null,
            "flex_flow": null,
            "grid_area": null,
            "grid_auto_columns": null,
            "grid_auto_flow": null,
            "grid_auto_rows": null,
            "grid_column": null,
            "grid_gap": null,
            "grid_row": null,
            "grid_template_areas": null,
            "grid_template_columns": null,
            "grid_template_rows": null,
            "height": null,
            "justify_content": null,
            "justify_items": null,
            "left": null,
            "margin": null,
            "max_height": null,
            "max_width": null,
            "min_height": null,
            "min_width": null,
            "object_fit": null,
            "object_position": null,
            "order": null,
            "overflow": null,
            "overflow_x": null,
            "overflow_y": null,
            "padding": null,
            "right": null,
            "top": null,
            "visibility": null,
            "width": null
          }
        },
        "74d4428cfa6544949eede1dd7948f597": {
          "model_module": "@jupyter-widgets/controls",
          "model_name": "ProgressStyleModel",
          "model_module_version": "1.5.0",
          "state": {
            "_model_module": "@jupyter-widgets/controls",
            "_model_module_version": "1.5.0",
            "_model_name": "ProgressStyleModel",
            "_view_count": null,
            "_view_module": "@jupyter-widgets/base",
            "_view_module_version": "1.2.0",
            "_view_name": "StyleView",
            "bar_color": null,
            "description_width": ""
          }
        },
        "45e5baad972343f581ecbf8f747d94fa": {
          "model_module": "@jupyter-widgets/base",
          "model_name": "LayoutModel",
          "model_module_version": "1.2.0",
          "state": {
            "_model_module": "@jupyter-widgets/base",
            "_model_module_version": "1.2.0",
            "_model_name": "LayoutModel",
            "_view_count": null,
            "_view_module": "@jupyter-widgets/base",
            "_view_module_version": "1.2.0",
            "_view_name": "LayoutView",
            "align_content": null,
            "align_items": null,
            "align_self": null,
            "border": null,
            "bottom": null,
            "display": null,
            "flex": null,
            "flex_flow": null,
            "grid_area": null,
            "grid_auto_columns": null,
            "grid_auto_flow": null,
            "grid_auto_rows": null,
            "grid_column": null,
            "grid_gap": null,
            "grid_row": null,
            "grid_template_areas": null,
            "grid_template_columns": null,
            "grid_template_rows": null,
            "height": null,
            "justify_content": null,
            "justify_items": null,
            "left": null,
            "margin": null,
            "max_height": null,
            "max_width": null,
            "min_height": null,
            "min_width": null,
            "object_fit": null,
            "object_position": null,
            "order": null,
            "overflow": null,
            "overflow_x": null,
            "overflow_y": null,
            "padding": null,
            "right": null,
            "top": null,
            "visibility": null,
            "width": null
          }
        },
        "3ae9af3cc8444b01baeee878c74aa4d3": {
          "model_module": "@jupyter-widgets/controls",
          "model_name": "DescriptionStyleModel",
          "model_module_version": "1.5.0",
          "state": {
            "_model_module": "@jupyter-widgets/controls",
            "_model_module_version": "1.5.0",
            "_model_name": "DescriptionStyleModel",
            "_view_count": null,
            "_view_module": "@jupyter-widgets/base",
            "_view_module_version": "1.2.0",
            "_view_name": "StyleView",
            "description_width": ""
          }
        }
      }
    }
  },
  "cells": [
    {
      "cell_type": "code",
      "execution_count": 1,
      "metadata": {
        "colab": {
          "base_uri": "https://localhost:8080/"
        },
        "id": "TuVoU60VxHqB",
        "outputId": "f2384c69-ac16-4968-907e-26c427ca808c"
      },
      "outputs": [
        {
          "output_type": "stream",
          "name": "stdout",
          "text": [
            "Mounted at /content/drive\n"
          ]
        }
      ],
      "source": [
        "from google.colab import drive\n",
        "drive.mount('/content/drive')"
      ]
    },
    {
      "cell_type": "code",
      "source": [
        "# Install Required Libraries\n",
        "!pip install transformers scikit-learn pandas torch"
      ],
      "metadata": {
        "colab": {
          "base_uri": "https://localhost:8080/"
        },
        "id": "jtd9HGd5xxta",
        "outputId": "34e2c30a-075e-4301-d8fd-27fc8022aa0e"
      },
      "execution_count": 2,
      "outputs": [
        {
          "output_type": "stream",
          "name": "stdout",
          "text": [
            "Requirement already satisfied: transformers in /usr/local/lib/python3.11/dist-packages (4.47.1)\n",
            "Requirement already satisfied: scikit-learn in /usr/local/lib/python3.11/dist-packages (1.6.1)\n",
            "Requirement already satisfied: pandas in /usr/local/lib/python3.11/dist-packages (2.2.2)\n",
            "Requirement already satisfied: torch in /usr/local/lib/python3.11/dist-packages (2.5.1+cu121)\n",
            "Requirement already satisfied: filelock in /usr/local/lib/python3.11/dist-packages (from transformers) (3.17.0)\n",
            "Requirement already satisfied: huggingface-hub<1.0,>=0.24.0 in /usr/local/lib/python3.11/dist-packages (from transformers) (0.27.1)\n",
            "Requirement already satisfied: numpy>=1.17 in /usr/local/lib/python3.11/dist-packages (from transformers) (1.26.4)\n",
            "Requirement already satisfied: packaging>=20.0 in /usr/local/lib/python3.11/dist-packages (from transformers) (24.2)\n",
            "Requirement already satisfied: pyyaml>=5.1 in /usr/local/lib/python3.11/dist-packages (from transformers) (6.0.2)\n",
            "Requirement already satisfied: regex!=2019.12.17 in /usr/local/lib/python3.11/dist-packages (from transformers) (2024.11.6)\n",
            "Requirement already satisfied: requests in /usr/local/lib/python3.11/dist-packages (from transformers) (2.32.3)\n",
            "Requirement already satisfied: tokenizers<0.22,>=0.21 in /usr/local/lib/python3.11/dist-packages (from transformers) (0.21.0)\n",
            "Requirement already satisfied: safetensors>=0.4.1 in /usr/local/lib/python3.11/dist-packages (from transformers) (0.5.2)\n",
            "Requirement already satisfied: tqdm>=4.27 in /usr/local/lib/python3.11/dist-packages (from transformers) (4.67.1)\n",
            "Requirement already satisfied: scipy>=1.6.0 in /usr/local/lib/python3.11/dist-packages (from scikit-learn) (1.13.1)\n",
            "Requirement already satisfied: joblib>=1.2.0 in /usr/local/lib/python3.11/dist-packages (from scikit-learn) (1.4.2)\n",
            "Requirement already satisfied: threadpoolctl>=3.1.0 in /usr/local/lib/python3.11/dist-packages (from scikit-learn) (3.5.0)\n",
            "Requirement already satisfied: python-dateutil>=2.8.2 in /usr/local/lib/python3.11/dist-packages (from pandas) (2.8.2)\n",
            "Requirement already satisfied: pytz>=2020.1 in /usr/local/lib/python3.11/dist-packages (from pandas) (2024.2)\n",
            "Requirement already satisfied: tzdata>=2022.7 in /usr/local/lib/python3.11/dist-packages (from pandas) (2025.1)\n",
            "Requirement already satisfied: typing-extensions>=4.8.0 in /usr/local/lib/python3.11/dist-packages (from torch) (4.12.2)\n",
            "Requirement already satisfied: networkx in /usr/local/lib/python3.11/dist-packages (from torch) (3.4.2)\n",
            "Requirement already satisfied: jinja2 in /usr/local/lib/python3.11/dist-packages (from torch) (3.1.5)\n",
            "Requirement already satisfied: fsspec in /usr/local/lib/python3.11/dist-packages (from torch) (2024.10.0)\n",
            "Requirement already satisfied: nvidia-cuda-nvrtc-cu12==12.1.105 in /usr/local/lib/python3.11/dist-packages (from torch) (12.1.105)\n",
            "Requirement already satisfied: nvidia-cuda-runtime-cu12==12.1.105 in /usr/local/lib/python3.11/dist-packages (from torch) (12.1.105)\n",
            "Requirement already satisfied: nvidia-cuda-cupti-cu12==12.1.105 in /usr/local/lib/python3.11/dist-packages (from torch) (12.1.105)\n",
            "Requirement already satisfied: nvidia-cudnn-cu12==9.1.0.70 in /usr/local/lib/python3.11/dist-packages (from torch) (9.1.0.70)\n",
            "Requirement already satisfied: nvidia-cublas-cu12==12.1.3.1 in /usr/local/lib/python3.11/dist-packages (from torch) (12.1.3.1)\n",
            "Requirement already satisfied: nvidia-cufft-cu12==11.0.2.54 in /usr/local/lib/python3.11/dist-packages (from torch) (11.0.2.54)\n",
            "Requirement already satisfied: nvidia-curand-cu12==10.3.2.106 in /usr/local/lib/python3.11/dist-packages (from torch) (10.3.2.106)\n",
            "Requirement already satisfied: nvidia-cusolver-cu12==11.4.5.107 in /usr/local/lib/python3.11/dist-packages (from torch) (11.4.5.107)\n",
            "Requirement already satisfied: nvidia-cusparse-cu12==12.1.0.106 in /usr/local/lib/python3.11/dist-packages (from torch) (12.1.0.106)\n",
            "Requirement already satisfied: nvidia-nccl-cu12==2.21.5 in /usr/local/lib/python3.11/dist-packages (from torch) (2.21.5)\n",
            "Requirement already satisfied: nvidia-nvtx-cu12==12.1.105 in /usr/local/lib/python3.11/dist-packages (from torch) (12.1.105)\n",
            "Requirement already satisfied: triton==3.1.0 in /usr/local/lib/python3.11/dist-packages (from torch) (3.1.0)\n",
            "Requirement already satisfied: sympy==1.13.1 in /usr/local/lib/python3.11/dist-packages (from torch) (1.13.1)\n",
            "Requirement already satisfied: nvidia-nvjitlink-cu12 in /usr/local/lib/python3.11/dist-packages (from nvidia-cusolver-cu12==11.4.5.107->torch) (12.6.85)\n",
            "Requirement already satisfied: mpmath<1.4,>=1.1.0 in /usr/local/lib/python3.11/dist-packages (from sympy==1.13.1->torch) (1.3.0)\n",
            "Requirement already satisfied: six>=1.5 in /usr/local/lib/python3.11/dist-packages (from python-dateutil>=2.8.2->pandas) (1.17.0)\n",
            "Requirement already satisfied: MarkupSafe>=2.0 in /usr/local/lib/python3.11/dist-packages (from jinja2->torch) (3.0.2)\n",
            "Requirement already satisfied: charset-normalizer<4,>=2 in /usr/local/lib/python3.11/dist-packages (from requests->transformers) (3.4.1)\n",
            "Requirement already satisfied: idna<4,>=2.5 in /usr/local/lib/python3.11/dist-packages (from requests->transformers) (3.10)\n",
            "Requirement already satisfied: urllib3<3,>=1.21.1 in /usr/local/lib/python3.11/dist-packages (from requests->transformers) (2.3.0)\n",
            "Requirement already satisfied: certifi>=2017.4.17 in /usr/local/lib/python3.11/dist-packages (from requests->transformers) (2024.12.14)\n"
          ]
        }
      ]
    },
    {
      "cell_type": "code",
      "source": [
        "import pandas as pd\n",
        "import torch\n",
        "import numpy as np\n",
        "from transformers import AutoTokenizer, AutoModelForSequenceClassification, Trainer, TrainingArguments\n",
        "from sklearn.ensemble import RandomForestClassifier\n",
        "from sklearn.metrics import classification_report\n",
        "from sklearn.preprocessing import LabelEncoder\n",
        "from sklearn.naive_bayes import GaussianNB"
      ],
      "metadata": {
        "id": "W0_ArHWXxyCi"
      },
      "execution_count": 3,
      "outputs": []
    },
    {
      "cell_type": "markdown",
      "source": [
        "# Load LLM"
      ],
      "metadata": {
        "id": "s7Dhd5Q9zLLw"
      }
    },
    {
      "cell_type": "code",
      "source": [
        "# Load ClinicalBERT\n",
        "model_name = \"emilyalsentzer/Bio_ClinicalBERT\"  # ClinicalBERT model\n",
        "tokenizer = AutoTokenizer.from_pretrained(model_name)\n",
        "model = AutoModelForSequenceClassification.from_pretrained(\n",
        "    model_name,\n",
        "    num_labels=48  # Placeholder for `num_labels`\n",
        ")\n",
        "\n",
        "# GPU Check\n",
        "device = torch.device(\"cuda\" if torch.cuda.is_available() else \"cpu\")\n",
        "model = model.to(device)"
      ],
      "metadata": {
        "colab": {
          "base_uri": "https://localhost:8080/",
          "height": 272,
          "referenced_widgets": [
            "aefc8b64b8fe46f28e0151209121ee9e",
            "08ed4582e4c5486980819944a1e2b6a3",
            "e71a2f46c3bd4d80be6b2ab7c469699e",
            "c0a726d3b0c44f83a99590b752a6e07f",
            "c550053b2e5c445d8869c565ca726243",
            "db6fcb854d84477c9de9112b5e6452d7",
            "1c2cbc7b57ff4fd2881343a4bd7be239",
            "6a86559c57e7450eaddb9555933612a2",
            "28942a2c64cd463986053653adb1e9dc",
            "a2d46cd37fed4c4491c70b1744d3dd00",
            "8c9a08f79f57492c8016ce4afe01e585",
            "18cddcf27ae8474488296adb88a63581",
            "01e463bd75dc4320930613b304d51676",
            "88126155f8194aa395959e445b4f7cb0",
            "72bf955912e441148d70d68a1e23221b",
            "4288eaa0b7bf4d8e9c37fafc7516d6d4",
            "9ce88413bb764d6daf13d227d912199e",
            "507599cd03a84de8bb20e1c7a9fe24e5",
            "11a761f9b9564a448d320ccc89e71876",
            "e952de1571c243a9a3274fd9d225b5e8",
            "f5b48bb7c3834255b2aeaf70cd6d6a11",
            "281725fee6a54daeaf4ff5977b32eeed",
            "ebb8c4ae6e8b4f15a1b7cdbe3239425f",
            "b493fe2faa154017ac0b6453e9b8cffd",
            "3383d9ee48a44486a0cdfe94f51d0343",
            "bee82f918be84da7b4f4917b524dc445",
            "cad65770b6704370a67d3733bcc8ea5e",
            "6f8dbb8dabea4ed09deb7ee8bc263a25",
            "d02c68a718924a889e289ccc65fcf943",
            "796524c41c3f4669990190e621e787c4",
            "74d4428cfa6544949eede1dd7948f597",
            "45e5baad972343f581ecbf8f747d94fa",
            "3ae9af3cc8444b01baeee878c74aa4d3"
          ]
        },
        "id": "cv33Q4XjzNQQ",
        "outputId": "d358bbda-f032-49b0-d1c0-7fb0d8f6a39b"
      },
      "execution_count": 4,
      "outputs": [
        {
          "output_type": "stream",
          "name": "stderr",
          "text": [
            "/usr/local/lib/python3.11/dist-packages/huggingface_hub/utils/_auth.py:94: UserWarning: \n",
            "The secret `HF_TOKEN` does not exist in your Colab secrets.\n",
            "To authenticate with the Hugging Face Hub, create a token in your settings tab (https://huggingface.co/settings/tokens), set it as secret in your Google Colab and restart your session.\n",
            "You will be able to reuse this secret in all of your notebooks.\n",
            "Please note that authentication is recommended but still optional to access public models or datasets.\n",
            "  warnings.warn(\n"
          ]
        },
        {
          "output_type": "display_data",
          "data": {
            "text/plain": [
              "config.json:   0%|          | 0.00/385 [00:00<?, ?B/s]"
            ],
            "application/vnd.jupyter.widget-view+json": {
              "version_major": 2,
              "version_minor": 0,
              "model_id": "aefc8b64b8fe46f28e0151209121ee9e"
            }
          },
          "metadata": {}
        },
        {
          "output_type": "display_data",
          "data": {
            "text/plain": [
              "vocab.txt:   0%|          | 0.00/213k [00:00<?, ?B/s]"
            ],
            "application/vnd.jupyter.widget-view+json": {
              "version_major": 2,
              "version_minor": 0,
              "model_id": "18cddcf27ae8474488296adb88a63581"
            }
          },
          "metadata": {}
        },
        {
          "output_type": "display_data",
          "data": {
            "text/plain": [
              "pytorch_model.bin:   0%|          | 0.00/436M [00:00<?, ?B/s]"
            ],
            "application/vnd.jupyter.widget-view+json": {
              "version_major": 2,
              "version_minor": 0,
              "model_id": "ebb8c4ae6e8b4f15a1b7cdbe3239425f"
            }
          },
          "metadata": {}
        },
        {
          "output_type": "stream",
          "name": "stderr",
          "text": [
            "Some weights of BertForSequenceClassification were not initialized from the model checkpoint at emilyalsentzer/Bio_ClinicalBERT and are newly initialized: ['classifier.bias', 'classifier.weight']\n",
            "You should probably TRAIN this model on a down-stream task to be able to use it for predictions and inference.\n"
          ]
        }
      ]
    },
    {
      "cell_type": "markdown",
      "source": [
        "# Load File"
      ],
      "metadata": {
        "id": "N8HNZX3lzOOn"
      }
    },
    {
      "cell_type": "code",
      "source": [
        "# Load Pre-split Datasets\n",
        "train_path = \"/content/drive/MyDrive/P2/T1/Dataset/overlapped/LLM-o-train.csv\"\n",
        "val_path = \"/content/drive/MyDrive/P2/T1/Dataset/overlapped/LLM-o-val.csv\"\n",
        "test_path = \"/content/drive/MyDrive/P2/T1/Dataset/overlapped/LLM-o-test.csv\"\n",
        "\n",
        "train_data = pd.read_csv(train_path)\n",
        "val_data = pd.read_csv(val_path)\n",
        "test_data = pd.read_csv(test_path)"
      ],
      "metadata": {
        "id": "tXl-d7B8zHlf"
      },
      "execution_count": 5,
      "outputs": []
    },
    {
      "cell_type": "code",
      "source": [
        "# Encode Disease Labels\n",
        "label_encoder = LabelEncoder()\n",
        "train_data['encoded_labels'] = label_encoder.fit_transform(train_data['disease_label'])\n",
        "val_data['encoded_labels'] = label_encoder.transform(val_data['disease_label'])\n",
        "test_data['encoded_labels'] = label_encoder.transform(test_data['disease_label'])\n",
        "\n",
        "num_classes = len(label_encoder.classes_)\n",
        "\n",
        "# Update BioClinicalBERT Model for Classification\n",
        "model.num_labels = num_classes"
      ],
      "metadata": {
        "id": "SO203fezFuuK"
      },
      "execution_count": 6,
      "outputs": []
    },
    {
      "cell_type": "markdown",
      "source": [
        "# Tokenize Symptoms"
      ],
      "metadata": {
        "id": "fFHP5ahu0CBT"
      }
    },
    {
      "cell_type": "code",
      "source": [
        "# Tokenize Symptoms\n",
        "def tokenize_texts(texts):\n",
        "    return tokenizer(texts.tolist(), padding=True, truncation=True, max_length=128, return_tensors=\"pt\")\n",
        "\n",
        "train_encodings = tokenize_texts(train_data['symptoms'])\n",
        "val_encodings = tokenize_texts(val_data['symptoms'])\n",
        "test_encodings = tokenize_texts(test_data['symptoms'])\n",
        "\n",
        "# Convert labels to tensors\n",
        "train_labels = torch.tensor(train_data['encoded_labels'].tolist())\n",
        "val_labels = torch.tensor(val_data['encoded_labels'].tolist())\n",
        "test_labels = torch.tensor(test_data['encoded_labels'].tolist())\n",
        "\n",
        "# Dataset Class for Fine-Tuning\n",
        "class SymptomDataset(torch.utils.data.Dataset):\n",
        "    def __init__(self, encodings, labels):\n",
        "        self.encodings = encodings\n",
        "        self.labels = labels\n",
        "\n",
        "    def __len__(self):\n",
        "        return len(self.labels)\n",
        "\n",
        "    def __getitem__(self, idx):\n",
        "        item = {key: val[idx] for key, val in self.encodings.items()}\n",
        "        item['labels'] = self.labels[idx]\n",
        "        return item\n",
        "\n",
        "# Create PyTorch Datasets\n",
        "train_dataset = SymptomDataset(train_encodings, train_labels)\n",
        "val_dataset = SymptomDataset(val_encodings, val_labels)\n"
      ],
      "metadata": {
        "id": "uU-J653p0Dhj"
      },
      "execution_count": 7,
      "outputs": []
    },
    {
      "cell_type": "markdown",
      "source": [
        "# Fine-tuning BioBERT with LoRA"
      ],
      "metadata": {
        "id": "8M5A8x1w0FVZ"
      }
    },
    {
      "cell_type": "code",
      "source": [
        "# Fine-Tuning BioBERT\n",
        "training_args = TrainingArguments(\n",
        "    output_dir=\"./results\",\n",
        "    evaluation_strategy=\"epoch\",\n",
        "    logging_strategy=\"steps\",  # Enable logging after a fixed number of steps\n",
        "    logging_steps= 10,  # Log training loss every 10 steps\n",
        "    learning_rate= 8e-5,\n",
        "    per_device_train_batch_size=16,\n",
        "    per_device_eval_batch_size=128,\n",
        "    num_train_epochs = 30,\n",
        "    weight_decay=0.001,\n",
        "    logging_dir=\"./logs\",\n",
        "    save_strategy=\"epoch\",\n",
        "    save_total_limit=2\n",
        ")\n",
        "\n",
        "trainer = Trainer(\n",
        "    model=model,\n",
        "    args=training_args,\n",
        "    train_dataset=train_dataset,\n",
        "    eval_dataset=val_dataset\n",
        ")"
      ],
      "metadata": {
        "id": "TNvk1yI60G1E",
        "colab": {
          "base_uri": "https://localhost:8080/"
        },
        "outputId": "7083d21c-e766-4d7e-dbd7-16359ee58214"
      },
      "execution_count": 8,
      "outputs": [
        {
          "output_type": "stream",
          "name": "stderr",
          "text": [
            "/usr/local/lib/python3.11/dist-packages/transformers/training_args.py:1575: FutureWarning: `evaluation_strategy` is deprecated and will be removed in version 4.46 of 🤗 Transformers. Use `eval_strategy` instead\n",
            "  warnings.warn(\n"
          ]
        }
      ]
    },
    {
      "cell_type": "code",
      "source": [
        "trainer.train()"
      ],
      "metadata": {
        "id": "cbWy5CVq0IvL",
        "colab": {
          "base_uri": "https://localhost:8080/",
          "height": 1000
        },
        "outputId": "97f5a82c-b073-4b7a-9ac6-47bb07cb6e09"
      },
      "execution_count": 9,
      "outputs": [
        {
          "output_type": "stream",
          "name": "stderr",
          "text": [
            "\u001b[34m\u001b[1mwandb\u001b[0m: \u001b[33mWARNING\u001b[0m The `run_name` is currently set to the same value as `TrainingArguments.output_dir`. If this was not intended, please specify a different run name by setting the `TrainingArguments.run_name` parameter.\n"
          ]
        },
        {
          "output_type": "display_data",
          "data": {
            "text/plain": [
              "<IPython.core.display.Javascript object>"
            ],
            "application/javascript": [
              "\n",
              "        window._wandbApiKey = new Promise((resolve, reject) => {\n",
              "            function loadScript(url) {\n",
              "            return new Promise(function(resolve, reject) {\n",
              "                let newScript = document.createElement(\"script\");\n",
              "                newScript.onerror = reject;\n",
              "                newScript.onload = resolve;\n",
              "                document.body.appendChild(newScript);\n",
              "                newScript.src = url;\n",
              "            });\n",
              "            }\n",
              "            loadScript(\"https://cdn.jsdelivr.net/npm/postmate/build/postmate.min.js\").then(() => {\n",
              "            const iframe = document.createElement('iframe')\n",
              "            iframe.style.cssText = \"width:0;height:0;border:none\"\n",
              "            document.body.appendChild(iframe)\n",
              "            const handshake = new Postmate({\n",
              "                container: iframe,\n",
              "                url: 'https://wandb.ai/authorize'\n",
              "            });\n",
              "            const timeout = setTimeout(() => reject(\"Couldn't auto authenticate\"), 5000)\n",
              "            handshake.then(function(child) {\n",
              "                child.on('authorize', data => {\n",
              "                    clearTimeout(timeout)\n",
              "                    resolve(data)\n",
              "                });\n",
              "            });\n",
              "            })\n",
              "        });\n",
              "    "
            ]
          },
          "metadata": {}
        },
        {
          "output_type": "stream",
          "name": "stderr",
          "text": [
            "\u001b[34m\u001b[1mwandb\u001b[0m: Logging into wandb.ai. (Learn how to deploy a W&B server locally: https://wandb.me/wandb-server)\n",
            "\u001b[34m\u001b[1mwandb\u001b[0m: You can find your API key in your browser here: https://wandb.ai/authorize\n",
            "wandb: Paste an API key from your profile and hit enter, or press ctrl+c to quit:"
          ]
        },
        {
          "name": "stdout",
          "output_type": "stream",
          "text": [
            " ··········\n"
          ]
        },
        {
          "output_type": "stream",
          "name": "stderr",
          "text": [
            "\u001b[34m\u001b[1mwandb\u001b[0m: Appending key for api.wandb.ai to your netrc file: /root/.netrc\n",
            "\u001b[34m\u001b[1mwandb\u001b[0m: Using wandb-core as the SDK backend.  Please refer to https://wandb.me/wandb-core for more information.\n"
          ]
        },
        {
          "output_type": "display_data",
          "data": {
            "text/plain": [
              "<IPython.core.display.HTML object>"
            ],
            "text/html": [
              "Tracking run with wandb version 0.19.4"
            ]
          },
          "metadata": {}
        },
        {
          "output_type": "display_data",
          "data": {
            "text/plain": [
              "<IPython.core.display.HTML object>"
            ],
            "text/html": [
              "Run data is saved locally in <code>/content/wandb/run-20250126_162002-gqbxgzf0</code>"
            ]
          },
          "metadata": {}
        },
        {
          "output_type": "display_data",
          "data": {
            "text/plain": [
              "<IPython.core.display.HTML object>"
            ],
            "text/html": [
              "Syncing run <strong><a href='https://wandb.ai/edmondchongyh-universiti-malaya-students-union/huggingface/runs/gqbxgzf0' target=\"_blank\">./results</a></strong> to <a href='https://wandb.ai/edmondchongyh-universiti-malaya-students-union/huggingface' target=\"_blank\">Weights & Biases</a> (<a href='https://wandb.me/developer-guide' target=\"_blank\">docs</a>)<br>"
            ]
          },
          "metadata": {}
        },
        {
          "output_type": "display_data",
          "data": {
            "text/plain": [
              "<IPython.core.display.HTML object>"
            ],
            "text/html": [
              " View project at <a href='https://wandb.ai/edmondchongyh-universiti-malaya-students-union/huggingface' target=\"_blank\">https://wandb.ai/edmondchongyh-universiti-malaya-students-union/huggingface</a>"
            ]
          },
          "metadata": {}
        },
        {
          "output_type": "display_data",
          "data": {
            "text/plain": [
              "<IPython.core.display.HTML object>"
            ],
            "text/html": [
              " View run at <a href='https://wandb.ai/edmondchongyh-universiti-malaya-students-union/huggingface/runs/gqbxgzf0' target=\"_blank\">https://wandb.ai/edmondchongyh-universiti-malaya-students-union/huggingface/runs/gqbxgzf0</a>"
            ]
          },
          "metadata": {}
        },
        {
          "output_type": "display_data",
          "data": {
            "text/plain": [
              "<IPython.core.display.HTML object>"
            ],
            "text/html": [
              "\n",
              "    <div>\n",
              "      \n",
              "      <progress value='12720' max='12720' style='width:300px; height:20px; vertical-align: middle;'></progress>\n",
              "      [12720/12720 10:30, Epoch 30/30]\n",
              "    </div>\n",
              "    <table border=\"1\" class=\"dataframe\">\n",
              "  <thead>\n",
              " <tr style=\"text-align: left;\">\n",
              "      <th>Epoch</th>\n",
              "      <th>Training Loss</th>\n",
              "      <th>Validation Loss</th>\n",
              "    </tr>\n",
              "  </thead>\n",
              "  <tbody>\n",
              "    <tr>\n",
              "      <td>1</td>\n",
              "      <td>1.898500</td>\n",
              "      <td>1.890676</td>\n",
              "    </tr>\n",
              "    <tr>\n",
              "      <td>2</td>\n",
              "      <td>1.491100</td>\n",
              "      <td>1.648499</td>\n",
              "    </tr>\n",
              "    <tr>\n",
              "      <td>3</td>\n",
              "      <td>1.458200</td>\n",
              "      <td>1.503253</td>\n",
              "    </tr>\n",
              "    <tr>\n",
              "      <td>4</td>\n",
              "      <td>1.250600</td>\n",
              "      <td>1.375666</td>\n",
              "    </tr>\n",
              "    <tr>\n",
              "      <td>5</td>\n",
              "      <td>1.267900</td>\n",
              "      <td>1.400725</td>\n",
              "    </tr>\n",
              "    <tr>\n",
              "      <td>6</td>\n",
              "      <td>1.180800</td>\n",
              "      <td>1.383792</td>\n",
              "    </tr>\n",
              "    <tr>\n",
              "      <td>7</td>\n",
              "      <td>1.265700</td>\n",
              "      <td>1.318754</td>\n",
              "    </tr>\n",
              "    <tr>\n",
              "      <td>8</td>\n",
              "      <td>1.231000</td>\n",
              "      <td>1.325348</td>\n",
              "    </tr>\n",
              "    <tr>\n",
              "      <td>9</td>\n",
              "      <td>1.159200</td>\n",
              "      <td>1.279302</td>\n",
              "    </tr>\n",
              "    <tr>\n",
              "      <td>10</td>\n",
              "      <td>1.254800</td>\n",
              "      <td>1.319746</td>\n",
              "    </tr>\n",
              "    <tr>\n",
              "      <td>11</td>\n",
              "      <td>1.066600</td>\n",
              "      <td>1.301433</td>\n",
              "    </tr>\n",
              "    <tr>\n",
              "      <td>12</td>\n",
              "      <td>1.132200</td>\n",
              "      <td>1.283394</td>\n",
              "    </tr>\n",
              "    <tr>\n",
              "      <td>13</td>\n",
              "      <td>1.180500</td>\n",
              "      <td>1.255148</td>\n",
              "    </tr>\n",
              "    <tr>\n",
              "      <td>14</td>\n",
              "      <td>1.095100</td>\n",
              "      <td>1.256085</td>\n",
              "    </tr>\n",
              "    <tr>\n",
              "      <td>15</td>\n",
              "      <td>1.147700</td>\n",
              "      <td>1.265403</td>\n",
              "    </tr>\n",
              "    <tr>\n",
              "      <td>16</td>\n",
              "      <td>1.115400</td>\n",
              "      <td>1.278433</td>\n",
              "    </tr>\n",
              "    <tr>\n",
              "      <td>17</td>\n",
              "      <td>1.170400</td>\n",
              "      <td>1.297443</td>\n",
              "    </tr>\n",
              "    <tr>\n",
              "      <td>18</td>\n",
              "      <td>1.118000</td>\n",
              "      <td>1.241441</td>\n",
              "    </tr>\n",
              "    <tr>\n",
              "      <td>19</td>\n",
              "      <td>1.082300</td>\n",
              "      <td>1.229250</td>\n",
              "    </tr>\n",
              "    <tr>\n",
              "      <td>20</td>\n",
              "      <td>1.060600</td>\n",
              "      <td>1.237362</td>\n",
              "    </tr>\n",
              "    <tr>\n",
              "      <td>21</td>\n",
              "      <td>1.012600</td>\n",
              "      <td>1.231018</td>\n",
              "    </tr>\n",
              "    <tr>\n",
              "      <td>22</td>\n",
              "      <td>1.064600</td>\n",
              "      <td>1.233912</td>\n",
              "    </tr>\n",
              "    <tr>\n",
              "      <td>23</td>\n",
              "      <td>1.051000</td>\n",
              "      <td>1.229193</td>\n",
              "    </tr>\n",
              "    <tr>\n",
              "      <td>24</td>\n",
              "      <td>1.115000</td>\n",
              "      <td>1.243572</td>\n",
              "    </tr>\n",
              "    <tr>\n",
              "      <td>25</td>\n",
              "      <td>1.081700</td>\n",
              "      <td>1.224819</td>\n",
              "    </tr>\n",
              "    <tr>\n",
              "      <td>26</td>\n",
              "      <td>0.973200</td>\n",
              "      <td>1.216706</td>\n",
              "    </tr>\n",
              "    <tr>\n",
              "      <td>27</td>\n",
              "      <td>1.129800</td>\n",
              "      <td>1.223586</td>\n",
              "    </tr>\n",
              "    <tr>\n",
              "      <td>28</td>\n",
              "      <td>1.086200</td>\n",
              "      <td>1.211146</td>\n",
              "    </tr>\n",
              "    <tr>\n",
              "      <td>29</td>\n",
              "      <td>1.047200</td>\n",
              "      <td>1.213857</td>\n",
              "    </tr>\n",
              "    <tr>\n",
              "      <td>30</td>\n",
              "      <td>0.998800</td>\n",
              "      <td>1.213521</td>\n",
              "    </tr>\n",
              "  </tbody>\n",
              "</table><p>"
            ]
          },
          "metadata": {}
        },
        {
          "output_type": "execute_result",
          "data": {
            "text/plain": [
              "TrainOutput(global_step=12720, training_loss=1.1827641641568838, metrics={'train_runtime': 655.7286, 'train_samples_per_second': 310.189, 'train_steps_per_second': 19.398, 'total_flos': 4810134820953600.0, 'train_loss': 1.1827641641568838, 'epoch': 30.0})"
            ]
          },
          "metadata": {},
          "execution_count": 9
        }
      ]
    },
    {
      "cell_type": "markdown",
      "source": [
        "# Generate ClinicalBERT Embedding for Random Forest"
      ],
      "metadata": {
        "id": "wYtSipsG0hBv"
      }
    },
    {
      "cell_type": "code",
      "source": [
        "# Generate ClinicalBERT Embeddings\n",
        "def generate_embeddings(dataset):\n",
        "    dataloader = torch.utils.data.DataLoader(dataset, batch_size=16)\n",
        "    embeddings = []\n",
        "    model.eval()\n",
        "    with torch.no_grad():\n",
        "        for batch in dataloader:\n",
        "            inputs = {key: batch[key].to(device) for key in ['input_ids', 'attention_mask']}\n",
        "            outputs = model(**inputs)\n",
        "            cls_embedding = outputs.logits.cpu().numpy()  # Extract logits for embedding\n",
        "            embeddings.append(cls_embedding)\n",
        "    return np.vstack(embeddings)\n",
        "\n",
        "print(\"Generating embeddings for training data...\")\n",
        "train_embeddings = generate_embeddings(train_dataset)\n",
        "print(\"Generating embeddings for validation data...\")\n",
        "val_embeddings = generate_embeddings(val_dataset)\n",
        "print(\"Generating embeddings for testing data...\")\n",
        "test_embeddings = generate_embeddings(SymptomDataset(test_encodings, test_labels))"
      ],
      "metadata": {
        "id": "MuGJaJl60jxd",
        "colab": {
          "base_uri": "https://localhost:8080/"
        },
        "outputId": "49aba3f6-f27c-4c1f-fb37-0074ec025d5e"
      },
      "execution_count": 10,
      "outputs": [
        {
          "output_type": "stream",
          "name": "stdout",
          "text": [
            "Generating embeddings for training data...\n",
            "Generating embeddings for validation data...\n",
            "Generating embeddings for testing data...\n"
          ]
        }
      ]
    },
    {
      "cell_type": "markdown",
      "source": [
        "# UMAP (Uniform Manifold Approximation and Projection)"
      ],
      "metadata": {
        "id": "rdEnq34THIXo"
      }
    },
    {
      "cell_type": "code",
      "source": [
        "!pip install umap-learn"
      ],
      "metadata": {
        "colab": {
          "base_uri": "https://localhost:8080/"
        },
        "id": "6y-d5qefHLSi",
        "outputId": "ef5959d1-8b7d-47ca-ef58-cc5521f40e00"
      },
      "execution_count": 11,
      "outputs": [
        {
          "output_type": "stream",
          "name": "stdout",
          "text": [
            "Collecting umap-learn\n",
            "  Downloading umap_learn-0.5.7-py3-none-any.whl.metadata (21 kB)\n",
            "Requirement already satisfied: numpy>=1.17 in /usr/local/lib/python3.11/dist-packages (from umap-learn) (1.26.4)\n",
            "Requirement already satisfied: scipy>=1.3.1 in /usr/local/lib/python3.11/dist-packages (from umap-learn) (1.13.1)\n",
            "Requirement already satisfied: scikit-learn>=0.22 in /usr/local/lib/python3.11/dist-packages (from umap-learn) (1.6.1)\n",
            "Requirement already satisfied: numba>=0.51.2 in /usr/local/lib/python3.11/dist-packages (from umap-learn) (0.60.0)\n",
            "Collecting pynndescent>=0.5 (from umap-learn)\n",
            "  Downloading pynndescent-0.5.13-py3-none-any.whl.metadata (6.8 kB)\n",
            "Requirement already satisfied: tqdm in /usr/local/lib/python3.11/dist-packages (from umap-learn) (4.67.1)\n",
            "Requirement already satisfied: llvmlite<0.44,>=0.43.0dev0 in /usr/local/lib/python3.11/dist-packages (from numba>=0.51.2->umap-learn) (0.43.0)\n",
            "Requirement already satisfied: joblib>=0.11 in /usr/local/lib/python3.11/dist-packages (from pynndescent>=0.5->umap-learn) (1.4.2)\n",
            "Requirement already satisfied: threadpoolctl>=3.1.0 in /usr/local/lib/python3.11/dist-packages (from scikit-learn>=0.22->umap-learn) (3.5.0)\n",
            "Downloading umap_learn-0.5.7-py3-none-any.whl (88 kB)\n",
            "\u001b[2K   \u001b[90m━━━━━━━━━━━━━━━━━━━━━━━━━━━━━━━━━━━━━━━━\u001b[0m \u001b[32m88.8/88.8 kB\u001b[0m \u001b[31m3.9 MB/s\u001b[0m eta \u001b[36m0:00:00\u001b[0m\n",
            "\u001b[?25hDownloading pynndescent-0.5.13-py3-none-any.whl (56 kB)\n",
            "\u001b[2K   \u001b[90m━━━━━━━━━━━━━━━━━━━━━━━━━━━━━━━━━━━━━━━━\u001b[0m \u001b[32m56.9/56.9 kB\u001b[0m \u001b[31m6.0 MB/s\u001b[0m eta \u001b[36m0:00:00\u001b[0m\n",
            "\u001b[?25hInstalling collected packages: pynndescent, umap-learn\n",
            "Successfully installed pynndescent-0.5.13 umap-learn-0.5.7\n"
          ]
        }
      ]
    },
    {
      "cell_type": "code",
      "source": [
        "import umap.umap_ as umap\n",
        "import matplotlib.pyplot as plt\n",
        "import numpy as np\n",
        "\n",
        "# Generate test embeddings (ensure this is executed before using UMAP)\n",
        "# test_embeddings should already be generated using your generate_embeddings function.\n",
        "\n",
        "# Convert test labels to NumPy for easier handling\n",
        "labels = test_labels.cpu().numpy()  # Ensure this is defined and matches the test dataset\n",
        "\n",
        "# Reduce dimensions using UMAP\n",
        "print(\"Reducing dimensions using UMAP...\")\n",
        "umap_model = umap.UMAP(n_components=2, random_state=42)\n",
        "reduced_embeddings = umap_model.fit_transform(test_embeddings)\n",
        "\n",
        "# Map numeric labels to disease names\n",
        "disease_names = label_encoder.inverse_transform(labels)  # Map numeric labels to actual disease names\n",
        "\n",
        "# Plot the 2D representation\n",
        "plt.figure(figsize=(12, 10))\n",
        "unique_labels = np.unique(disease_names)\n",
        "\n",
        "for disease in unique_labels:\n",
        "    indices = np.where(disease_names == disease)\n",
        "    plt.scatter(\n",
        "        reduced_embeddings[indices, 0], reduced_embeddings[indices, 1],\n",
        "        label=disease, alpha=0.7\n",
        "    )\n",
        "\n",
        "plt.legend(bbox_to_anchor=(1.05, 1), loc='upper left', fontsize='small')\n",
        "plt.title(\"UMAP Visualization of BioClinicalBERT Embeddings on Overlapping\")\n",
        "plt.xlabel(\"UMAP Dimension 1\")\n",
        "plt.ylabel(\"UMAP Dimension 2\")\n",
        "plt.tight_layout()\n",
        "plt.show()\n"
      ],
      "metadata": {
        "colab": {
          "base_uri": "https://localhost:8080/",
          "height": 1000
        },
        "id": "NTNDuDeMHMHJ",
        "outputId": "f6845094-872d-4e89-af45-07c2c4e27705"
      },
      "execution_count": 12,
      "outputs": [
        {
          "output_type": "stream",
          "name": "stdout",
          "text": [
            "Reducing dimensions using UMAP...\n"
          ]
        },
        {
          "output_type": "stream",
          "name": "stderr",
          "text": [
            "/usr/local/lib/python3.11/dist-packages/sklearn/utils/deprecation.py:151: FutureWarning: 'force_all_finite' was renamed to 'ensure_all_finite' in 1.6 and will be removed in 1.8.\n",
            "  warnings.warn(\n",
            "/usr/local/lib/python3.11/dist-packages/umap/umap_.py:1952: UserWarning: n_jobs value 1 overridden to 1 by setting random_state. Use no seed for parallelism.\n",
            "  warn(\n"
          ]
        },
        {
          "output_type": "display_data",
          "data": {
            "text/plain": [
              "<Figure size 1200x1000 with 1 Axes>"
            ],
            "image/png": "[encoded data removed]"
          },
          "metadata": {}
        }
      ]
    },
    {
      "cell_type": "markdown",
      "source": [
        "# Naive Bayes"
      ],
      "metadata": {
        "id": "VeovqnfDHXBc"
      }
    },
    {
      "cell_type": "code",
      "source": [
        "# Train Naive Bayes\n",
        "nb_model = GaussianNB()\n",
        "nb_model.fit(train_embeddings, train_data['encoded_labels'])\n",
        "\n",
        "# Validate the Model\n",
        "val_preds = nb_model.predict(val_embeddings)\n",
        "val_report = classification_report(val_labels, val_preds, target_names=label_encoder.classes_, output_dict=True)\n",
        "print(\"Validation Report:\")\n",
        "print(pd.DataFrame(val_report))\n",
        "\n",
        "# Test the Model\n",
        "test_preds = nb_model.predict(test_embeddings)\n",
        "test_report = classification_report(test_labels, test_preds, target_names=label_encoder.classes_, output_dict=True)\n",
        "print(\"Test Report:\")\n",
        "print(pd.DataFrame(test_report))"
      ],
      "metadata": {
        "colab": {
          "base_uri": "https://localhost:8080/"
        },
        "id": "KBv2ccD2HZWP",
        "outputId": "30ea41f2-f1f9-40d5-abf3-e3d8152c7365"
      },
      "execution_count": 13,
      "outputs": [
        {
          "output_type": "stream",
          "name": "stdout",
          "text": [
            "Validation Report:\n",
            "           adenocarcinoma  adhesion  affect labile  arthritis     asthma  \\\n",
            "precision        0.500000       0.0            0.0        0.5   0.500000   \n",
            "recall           1.000000       0.0            0.0        0.5   0.666667   \n",
            "f1-score         0.666667       0.0            0.0        0.5   0.571429   \n",
            "support         12.000000       8.0            4.0        8.0  12.000000   \n",
            "\n",
            "           benign prostatic hypertrophy  biliary calculus  carcinoma breast  \\\n",
            "precision                      0.500000          0.500000               0.0   \n",
            "recall                         1.000000          0.083333               0.0   \n",
            "f1-score                       0.666667          0.142857               0.0   \n",
            "support                        4.000000         48.000000               8.0   \n",
            "\n",
            "           chronic obstructive airway disease  cirrhosis  ...  pyelonephritis  \\\n",
            "precision                                 0.0   0.500000  ...        0.357143   \n",
            "recall                                    0.0   1.000000  ...        0.500000   \n",
            "f1-score                                  0.0   0.666667  ...        0.416667   \n",
            "support                                  20.0   8.000000  ...       40.000000   \n",
            "\n",
            "           schizophrenia  sickle cell anemia  stenosis aortic valve  \\\n",
            "precision            0.5            0.400000               0.400000   \n",
            "recall               0.5            0.666667               0.666667   \n",
            "f1-score             0.5            0.500000               0.500000   \n",
            "support              8.0           12.000000              24.000000   \n",
            "\n",
            "           tachycardia sinus   thrombus  tricuspid valve insufficiency  \\\n",
            "precision           0.333333   0.500000                            0.0   \n",
            "recall              0.500000   0.333333                            0.0   \n",
            "f1-score            0.400000   0.400000                            0.0   \n",
            "support             8.000000  12.000000                            8.0   \n",
            "\n",
            "           accuracy   macro avg  weighted avg  \n",
            "precision  0.406699    0.328069      0.364531  \n",
            "recall     0.406699    0.439265      0.406699  \n",
            "f1-score   0.406699    0.345693      0.348750  \n",
            "support    0.406699  836.000000    836.000000  \n",
            "\n",
            "[4 rows x 51 columns]\n",
            "Test Report:\n",
            "           adenocarcinoma  adhesion  affect labile  arthritis     asthma  \\\n",
            "precision        0.500000  0.250000       0.200000        0.0   0.500000   \n",
            "recall           0.333333  0.500000       1.000000        0.0   1.000000   \n",
            "f1-score         0.400000  0.333333       0.333333        0.0   0.666667   \n",
            "support         12.000000  8.000000       4.000000        8.0  12.000000   \n",
            "\n",
            "           benign prostatic hypertrophy  biliary calculus  carcinoma breast  \\\n",
            "precision                           0.0               0.0               0.0   \n",
            "recall                              0.0               0.0               0.0   \n",
            "f1-score                            0.0               0.0               0.0   \n",
            "support                             4.0              48.0               8.0   \n",
            "\n",
            "           chronic obstructive airway disease  cirrhosis  ...  pyelonephritis  \\\n",
            "precision                                 0.0   0.333333  ...        0.312500   \n",
            "recall                                    0.0   0.250000  ...        0.454545   \n",
            "f1-score                                  0.0   0.285714  ...        0.370370   \n",
            "support                                  20.0  16.000000  ...       44.000000   \n",
            "\n",
            "           schizophrenia  sickle cell anemia  stenosis aortic valve  \\\n",
            "precision            0.0                 0.0                    0.5   \n",
            "recall               0.0                 0.0                    0.5   \n",
            "f1-score             0.0                 0.0                    0.5   \n",
            "support              8.0                 4.0                   16.0   \n",
            "\n",
            "           tachycardia sinus  thrombus  tricuspid valve insufficiency  \\\n",
            "precision                0.0       0.0                       0.100000   \n",
            "recall                   0.0       0.0                       0.333333   \n",
            "f1-score                 0.0       0.0                       0.153846   \n",
            "support                 12.0      12.0                      12.000000   \n",
            "\n",
            "           accuracy   macro avg  weighted avg  \n",
            "precision  0.380734    0.278593      0.293446  \n",
            "recall     0.380734    0.399182      0.380734  \n",
            "f1-score   0.380734    0.308159      0.317359  \n",
            "support    0.380734  872.000000    872.000000  \n",
            "\n",
            "[4 rows x 51 columns]\n"
          ]
        },
        {
          "output_type": "stream",
          "name": "stderr",
          "text": [
            "/usr/local/lib/python3.11/dist-packages/sklearn/metrics/_classification.py:1565: UndefinedMetricWarning: Precision is ill-defined and being set to 0.0 in labels with no predicted samples. Use `zero_division` parameter to control this behavior.\n",
            "  _warn_prf(average, modifier, f\"{metric.capitalize()} is\", len(result))\n",
            "/usr/local/lib/python3.11/dist-packages/sklearn/metrics/_classification.py:1565: UndefinedMetricWarning: Precision is ill-defined and being set to 0.0 in labels with no predicted samples. Use `zero_division` parameter to control this behavior.\n",
            "  _warn_prf(average, modifier, f\"{metric.capitalize()} is\", len(result))\n",
            "/usr/local/lib/python3.11/dist-packages/sklearn/metrics/_classification.py:1565: UndefinedMetricWarning: Precision is ill-defined and being set to 0.0 in labels with no predicted samples. Use `zero_division` parameter to control this behavior.\n",
            "  _warn_prf(average, modifier, f\"{metric.capitalize()} is\", len(result))\n",
            "/usr/local/lib/python3.11/dist-packages/sklearn/metrics/_classification.py:1565: UndefinedMetricWarning: Precision is ill-defined and being set to 0.0 in labels with no predicted samples. Use `zero_division` parameter to control this behavior.\n",
            "  _warn_prf(average, modifier, f\"{metric.capitalize()} is\", len(result))\n",
            "/usr/local/lib/python3.11/dist-packages/sklearn/metrics/_classification.py:1565: UndefinedMetricWarning: Precision is ill-defined and being set to 0.0 in labels with no predicted samples. Use `zero_division` parameter to control this behavior.\n",
            "  _warn_prf(average, modifier, f\"{metric.capitalize()} is\", len(result))\n",
            "/usr/local/lib/python3.11/dist-packages/sklearn/metrics/_classification.py:1565: UndefinedMetricWarning: Precision is ill-defined and being set to 0.0 in labels with no predicted samples. Use `zero_division` parameter to control this behavior.\n",
            "  _warn_prf(average, modifier, f\"{metric.capitalize()} is\", len(result))\n"
          ]
        }
      ]
    },
    {
      "cell_type": "code",
      "source": [
        "# Save Classification Report to CSV\n",
        "test_report_df = pd.DataFrame(test_report).transpose()\n",
        "test_report_path = \"/content/drive/MyDrive/P2/T1/Dataset/overlapped/LLM + ML/BioClinicalbert-nb-o-class.csv\"\n",
        "test_report_df.to_csv(test_report_path, index=True)\n",
        "print(f\"Classification report saved to {test_report_path}\")"
      ],
      "metadata": {
        "colab": {
          "base_uri": "https://localhost:8080/"
        },
        "id": "kA7Lo4YaHayl",
        "outputId": "a8d142b6-9246-481b-e571-f82f70eb4a5d"
      },
      "execution_count": 14,
      "outputs": [
        {
          "output_type": "stream",
          "name": "stdout",
          "text": [
            "Classification report saved to /content/drive/MyDrive/P2/T1/Dataset/overlapped/LLM + ML/BioClinicalbert-nb-o-class.csv\n"
          ]
        }
      ]
    },
    {
      "cell_type": "markdown",
      "source": [
        "# Random Forest"
      ],
      "metadata": {
        "id": "YpdjoddGHyrv"
      }
    },
    {
      "cell_type": "code",
      "source": [
        "from sklearn.ensemble import RandomForestClassifier\n",
        "# Train Random Forest on Embeddings\n",
        "rf_model = RandomForestClassifier(n_estimators=100, random_state=42)\n",
        "rf_model.fit(train_embeddings, train_data['encoded_labels'])\n",
        "\n",
        "# Validate the Model\n",
        "val_preds = rf_model.predict(val_embeddings)\n",
        "val_report = classification_report(val_labels, val_preds, target_names=label_encoder.classes_, output_dict=True)\n",
        "print(\"Validation Report:\")\n",
        "print(pd.DataFrame(val_report))\n",
        "\n",
        "# Test the Model\n",
        "test_preds = rf_model.predict(test_embeddings)\n",
        "test_report = classification_report(test_labels, test_preds, target_names=label_encoder.classes_, output_dict=True)\n",
        "print(\"Test Report:\")\n",
        "print(pd.DataFrame(test_report))\n"
      ],
      "metadata": {
        "colab": {
          "base_uri": "https://localhost:8080/"
        },
        "id": "8N_nixHkH0DZ",
        "outputId": "cd0266a4-6638-490c-f758-991c95ae3a99"
      },
      "execution_count": 15,
      "outputs": [
        {
          "output_type": "stream",
          "name": "stdout",
          "text": [
            "Validation Report:\n",
            "           adenocarcinoma  adhesion  affect labile  arthritis     asthma  \\\n",
            "precision        0.333333       0.0            0.0   0.400000   0.500000   \n",
            "recall           0.333333       0.0            0.0   1.000000   0.666667   \n",
            "f1-score         0.333333       0.0            0.0   0.571429   0.571429   \n",
            "support         12.000000       8.0            4.0   8.000000  12.000000   \n",
            "\n",
            "           benign prostatic hypertrophy  biliary calculus  carcinoma breast  \\\n",
            "precision                           0.0          0.285714          0.500000   \n",
            "recall                              0.0          0.500000          1.000000   \n",
            "f1-score                            0.0          0.363636          0.666667   \n",
            "support                             4.0         48.000000          8.000000   \n",
            "\n",
            "           chronic obstructive airway disease  cirrhosis  ...  pyelonephritis  \\\n",
            "precision                            0.333333   0.500000  ...            0.40   \n",
            "recall                               0.200000   1.000000  ...            0.60   \n",
            "f1-score                             0.250000   0.666667  ...            0.48   \n",
            "support                             20.000000   8.000000  ...           40.00   \n",
            "\n",
            "           schizophrenia  sickle cell anemia  stenosis aortic valve  \\\n",
            "precision            0.5            0.400000               0.333333   \n",
            "recall               0.5            0.666667               0.166667   \n",
            "f1-score             0.5            0.500000               0.222222   \n",
            "support              8.0           12.000000              24.000000   \n",
            "\n",
            "           tachycardia sinus  thrombus  tricuspid valve insufficiency  \\\n",
            "precision           0.333333       0.0                            0.0   \n",
            "recall              0.500000       0.0                            0.0   \n",
            "f1-score            0.400000       0.0                            0.0   \n",
            "support             8.000000      12.0                            8.0   \n",
            "\n",
            "           accuracy   macro avg  weighted avg  \n",
            "precision  0.397129    0.295263      0.345062  \n",
            "recall     0.397129    0.368288      0.397129  \n",
            "f1-score   0.397129    0.312123      0.352826  \n",
            "support    0.397129  836.000000    836.000000  \n",
            "\n",
            "[4 rows x 51 columns]\n",
            "Test Report:\n",
            "           adenocarcinoma  adhesion  affect labile  arthritis     asthma  \\\n",
            "precision             0.0       0.0            0.0        0.5   0.500000   \n",
            "recall                0.0       0.0            0.0        0.5   0.333333   \n",
            "f1-score              0.0       0.0            0.0        0.5   0.400000   \n",
            "support              12.0       8.0            4.0        8.0  12.000000   \n",
            "\n",
            "           benign prostatic hypertrophy  biliary calculus  carcinoma breast  \\\n",
            "precision                           0.0              0.50               0.5   \n",
            "recall                              0.0              0.75               0.5   \n",
            "f1-score                            0.0              0.60               0.5   \n",
            "support                             4.0             48.00               8.0   \n",
            "\n",
            "           chronic obstructive airway disease  cirrhosis  ...  pyelonephritis  \\\n",
            "precision                            0.444444   0.400000  ...        0.421053   \n",
            "recall                               0.800000   0.500000  ...        0.727273   \n",
            "f1-score                             0.571429   0.444444  ...        0.533333   \n",
            "support                             20.000000  16.000000  ...       44.000000   \n",
            "\n",
            "           schizophrenia  sickle cell anemia  stenosis aortic valve  \\\n",
            "precision       0.200000                 0.0               0.500000   \n",
            "recall          0.500000                 0.0               0.250000   \n",
            "f1-score        0.285714                 0.0               0.333333   \n",
            "support         8.000000                 4.0              16.000000   \n",
            "\n",
            "           tachycardia sinus   thrombus  tricuspid valve insufficiency  \\\n",
            "precision                0.0   0.500000                       0.250000   \n",
            "recall                   0.0   0.666667                       0.333333   \n",
            "f1-score                 0.0   0.571429                       0.285714   \n",
            "support                 12.0  12.000000                      12.000000   \n",
            "\n",
            "           accuracy   macro avg  weighted avg  \n",
            "precision  0.389908    0.293789      0.342982  \n",
            "recall     0.389908    0.339158      0.389908  \n",
            "f1-score   0.389908    0.293087      0.342807  \n",
            "support    0.389908  872.000000    872.000000  \n",
            "\n",
            "[4 rows x 51 columns]\n"
          ]
        },
        {
          "output_type": "stream",
          "name": "stderr",
          "text": [
            "/usr/local/lib/python3.11/dist-packages/sklearn/metrics/_classification.py:1565: UndefinedMetricWarning: Precision is ill-defined and being set to 0.0 in labels with no predicted samples. Use `zero_division` parameter to control this behavior.\n",
            "  _warn_prf(average, modifier, f\"{metric.capitalize()} is\", len(result))\n",
            "/usr/local/lib/python3.11/dist-packages/sklearn/metrics/_classification.py:1565: UndefinedMetricWarning: Precision is ill-defined and being set to 0.0 in labels with no predicted samples. Use `zero_division` parameter to control this behavior.\n",
            "  _warn_prf(average, modifier, f\"{metric.capitalize()} is\", len(result))\n",
            "/usr/local/lib/python3.11/dist-packages/sklearn/metrics/_classification.py:1565: UndefinedMetricWarning: Precision is ill-defined and being set to 0.0 in labels with no predicted samples. Use `zero_division` parameter to control this behavior.\n",
            "  _warn_prf(average, modifier, f\"{metric.capitalize()} is\", len(result))\n",
            "/usr/local/lib/python3.11/dist-packages/sklearn/metrics/_classification.py:1565: UndefinedMetricWarning: Precision is ill-defined and being set to 0.0 in labels with no predicted samples. Use `zero_division` parameter to control this behavior.\n",
            "  _warn_prf(average, modifier, f\"{metric.capitalize()} is\", len(result))\n",
            "/usr/local/lib/python3.11/dist-packages/sklearn/metrics/_classification.py:1565: UndefinedMetricWarning: Precision is ill-defined and being set to 0.0 in labels with no predicted samples. Use `zero_division` parameter to control this behavior.\n",
            "  _warn_prf(average, modifier, f\"{metric.capitalize()} is\", len(result))\n",
            "/usr/local/lib/python3.11/dist-packages/sklearn/metrics/_classification.py:1565: UndefinedMetricWarning: Precision is ill-defined and being set to 0.0 in labels with no predicted samples. Use `zero_division` parameter to control this behavior.\n",
            "  _warn_prf(average, modifier, f\"{metric.capitalize()} is\", len(result))\n"
          ]
        }
      ]
    },
    {
      "cell_type": "code",
      "source": [
        "# Save Classification Report to CSV\n",
        "test_report_df = pd.DataFrame(test_report).transpose()\n",
        "test_report_path = \"/content/drive/MyDrive/P2/T1/Dataset/overlapped/LLM + ML/BioClinicalbert-rf-o-class.csv\"\n",
        "test_report_df.to_csv(test_report_path, index=True)\n",
        "print(f\"Classification report saved to {test_report_path}\")"
      ],
      "metadata": {
        "colab": {
          "base_uri": "https://localhost:8080/"
        },
        "id": "_ODhLzl-H05X",
        "outputId": "beed6f88-ecd6-4543-de05-456df7159a88"
      },
      "execution_count": 16,
      "outputs": [
        {
          "output_type": "stream",
          "name": "stdout",
          "text": [
            "Classification report saved to /content/drive/MyDrive/P2/T1/Dataset/overlapped/LLM + ML/BioClinicalbert-rf-o-class.csv\n"
          ]
        }
      ]
    },
    {
      "cell_type": "markdown",
      "source": [
        "# Support Vector Classifier"
      ],
      "metadata": {
        "id": "1pGLMstX0o8q"
      }
    },
    {
      "cell_type": "code",
      "source": [
        "# Train Naive Bayes on Embeddings\n",
        "from sklearn.naive_bayes import GaussianNB\n",
        "\n",
        "nb_model = GaussianNB()\n",
        "nb_model.fit(train_embeddings, train_data['encoded_labels'])\n",
        "\n",
        "# Validate the Model\n",
        "val_preds = nb_model.predict(val_embeddings)\n",
        "val_report = classification_report(val_labels, val_preds, target_names=label_encoder.classes_, output_dict=True)\n",
        "print(\"Validation Report:\")\n",
        "print(pd.DataFrame(val_report))\n",
        "\n",
        "# Test the Model\n",
        "test_preds = nb_model.predict(test_embeddings)\n",
        "test_report = classification_report(test_labels, test_preds, target_names=label_encoder.classes_, output_dict=True)\n",
        "print(\"Test Report:\")\n",
        "print(pd.DataFrame(test_report))"
      ],
      "metadata": {
        "id": "omkCg8wD0lZE",
        "colab": {
          "base_uri": "https://localhost:8080/"
        },
        "outputId": "7b9d3308-e34a-477c-c634-ea263894176b"
      },
      "execution_count": 17,
      "outputs": [
        {
          "output_type": "stream",
          "name": "stdout",
          "text": [
            "Validation Report:\n",
            "           adenocarcinoma  adhesion  affect labile  arthritis     asthma  \\\n",
            "precision        0.500000       0.0            0.0        0.5   0.500000   \n",
            "recall           1.000000       0.0            0.0        0.5   0.666667   \n",
            "f1-score         0.666667       0.0            0.0        0.5   0.571429   \n",
            "support         12.000000       8.0            4.0        8.0  12.000000   \n",
            "\n",
            "           benign prostatic hypertrophy  biliary calculus  carcinoma breast  \\\n",
            "precision                      0.500000          0.500000               0.0   \n",
            "recall                         1.000000          0.083333               0.0   \n",
            "f1-score                       0.666667          0.142857               0.0   \n",
            "support                        4.000000         48.000000               8.0   \n",
            "\n",
            "           chronic obstructive airway disease  cirrhosis  ...  pyelonephritis  \\\n",
            "precision                                 0.0   0.500000  ...        0.357143   \n",
            "recall                                    0.0   1.000000  ...        0.500000   \n",
            "f1-score                                  0.0   0.666667  ...        0.416667   \n",
            "support                                  20.0   8.000000  ...       40.000000   \n",
            "\n",
            "           schizophrenia  sickle cell anemia  stenosis aortic valve  \\\n",
            "precision            0.5            0.400000               0.400000   \n",
            "recall               0.5            0.666667               0.666667   \n",
            "f1-score             0.5            0.500000               0.500000   \n",
            "support              8.0           12.000000              24.000000   \n",
            "\n",
            "           tachycardia sinus   thrombus  tricuspid valve insufficiency  \\\n",
            "precision           0.333333   0.500000                            0.0   \n",
            "recall              0.500000   0.333333                            0.0   \n",
            "f1-score            0.400000   0.400000                            0.0   \n",
            "support             8.000000  12.000000                            8.0   \n",
            "\n",
            "           accuracy   macro avg  weighted avg  \n",
            "precision  0.406699    0.328069      0.364531  \n",
            "recall     0.406699    0.439265      0.406699  \n",
            "f1-score   0.406699    0.345693      0.348750  \n",
            "support    0.406699  836.000000    836.000000  \n",
            "\n",
            "[4 rows x 51 columns]\n",
            "Test Report:\n",
            "           adenocarcinoma  adhesion  affect labile  arthritis     asthma  \\\n",
            "precision        0.500000  0.250000       0.200000        0.0   0.500000   \n",
            "recall           0.333333  0.500000       1.000000        0.0   1.000000   \n",
            "f1-score         0.400000  0.333333       0.333333        0.0   0.666667   \n",
            "support         12.000000  8.000000       4.000000        8.0  12.000000   \n",
            "\n",
            "           benign prostatic hypertrophy  biliary calculus  carcinoma breast  \\\n",
            "precision                           0.0               0.0               0.0   \n",
            "recall                              0.0               0.0               0.0   \n",
            "f1-score                            0.0               0.0               0.0   \n",
            "support                             4.0              48.0               8.0   \n",
            "\n",
            "           chronic obstructive airway disease  cirrhosis  ...  pyelonephritis  \\\n",
            "precision                                 0.0   0.333333  ...        0.312500   \n",
            "recall                                    0.0   0.250000  ...        0.454545   \n",
            "f1-score                                  0.0   0.285714  ...        0.370370   \n",
            "support                                  20.0  16.000000  ...       44.000000   \n",
            "\n",
            "           schizophrenia  sickle cell anemia  stenosis aortic valve  \\\n",
            "precision            0.0                 0.0                    0.5   \n",
            "recall               0.0                 0.0                    0.5   \n",
            "f1-score             0.0                 0.0                    0.5   \n",
            "support              8.0                 4.0                   16.0   \n",
            "\n",
            "           tachycardia sinus  thrombus  tricuspid valve insufficiency  \\\n",
            "precision                0.0       0.0                       0.100000   \n",
            "recall                   0.0       0.0                       0.333333   \n",
            "f1-score                 0.0       0.0                       0.153846   \n",
            "support                 12.0      12.0                      12.000000   \n",
            "\n",
            "           accuracy   macro avg  weighted avg  \n",
            "precision  0.380734    0.278593      0.293446  \n",
            "recall     0.380734    0.399182      0.380734  \n",
            "f1-score   0.380734    0.308159      0.317359  \n",
            "support    0.380734  872.000000    872.000000  \n",
            "\n",
            "[4 rows x 51 columns]\n"
          ]
        },
        {
          "output_type": "stream",
          "name": "stderr",
          "text": [
            "/usr/local/lib/python3.11/dist-packages/sklearn/metrics/_classification.py:1565: UndefinedMetricWarning: Precision is ill-defined and being set to 0.0 in labels with no predicted samples. Use `zero_division` parameter to control this behavior.\n",
            "  _warn_prf(average, modifier, f\"{metric.capitalize()} is\", len(result))\n",
            "/usr/local/lib/python3.11/dist-packages/sklearn/metrics/_classification.py:1565: UndefinedMetricWarning: Precision is ill-defined and being set to 0.0 in labels with no predicted samples. Use `zero_division` parameter to control this behavior.\n",
            "  _warn_prf(average, modifier, f\"{metric.capitalize()} is\", len(result))\n",
            "/usr/local/lib/python3.11/dist-packages/sklearn/metrics/_classification.py:1565: UndefinedMetricWarning: Precision is ill-defined and being set to 0.0 in labels with no predicted samples. Use `zero_division` parameter to control this behavior.\n",
            "  _warn_prf(average, modifier, f\"{metric.capitalize()} is\", len(result))\n",
            "/usr/local/lib/python3.11/dist-packages/sklearn/metrics/_classification.py:1565: UndefinedMetricWarning: Precision is ill-defined and being set to 0.0 in labels with no predicted samples. Use `zero_division` parameter to control this behavior.\n",
            "  _warn_prf(average, modifier, f\"{metric.capitalize()} is\", len(result))\n",
            "/usr/local/lib/python3.11/dist-packages/sklearn/metrics/_classification.py:1565: UndefinedMetricWarning: Precision is ill-defined and being set to 0.0 in labels with no predicted samples. Use `zero_division` parameter to control this behavior.\n",
            "  _warn_prf(average, modifier, f\"{metric.capitalize()} is\", len(result))\n",
            "/usr/local/lib/python3.11/dist-packages/sklearn/metrics/_classification.py:1565: UndefinedMetricWarning: Precision is ill-defined and being set to 0.0 in labels with no predicted samples. Use `zero_division` parameter to control this behavior.\n",
            "  _warn_prf(average, modifier, f\"{metric.capitalize()} is\", len(result))\n"
          ]
        }
      ]
    },
    {
      "cell_type": "code",
      "source": [
        "# Save Classification Report to CSV\n",
        "test_report_df = pd.DataFrame(test_report).transpose()\n",
        "test_report_path = \"/content/drive/MyDrive/P2/T1/Dataset/overlapped/LLM + ML/BioClinicalbert-svc-o-class.csv\"\n",
        "test_report_df.to_csv(test_report_path, index=True)\n",
        "print(f\"Classification report saved to {test_report_path}\")"
      ],
      "metadata": {
        "id": "QPxbI23S0nK7",
        "colab": {
          "base_uri": "https://localhost:8080/"
        },
        "outputId": "a3ba657f-a457-415c-b6dd-6426dccfaee0"
      },
      "execution_count": 18,
      "outputs": [
        {
          "output_type": "stream",
          "name": "stdout",
          "text": [
            "Classification report saved to /content/drive/MyDrive/P2/T1/Dataset/overlapped/LLM + ML/BioClinicalbert-svc-o-class.csv\n"
          ]
        }
      ]
    }
  ]
}
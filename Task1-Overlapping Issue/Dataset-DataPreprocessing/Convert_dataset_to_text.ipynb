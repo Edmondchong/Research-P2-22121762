{
  "nbformat": 4,
  "nbformat_minor": 0,
  "metadata": {
    "colab": {
      "provenance": [],
      "machine_shape": "hm"
    },
    "kernelspec": {
      "name": "python3",
      "display_name": "Python 3"
    },
    "language_info": {
      "name": "python"
    }
  },
  "cells": [
    {
      "cell_type": "code",
      "source": [
        "from google.colab import drive\n",
        "drive.mount('/content/drive')"
      ],
      "metadata": {
        "colab": {
          "base_uri": "https://localhost:8080/"
        },
        "id": "p8Nn-zNZIrjN",
        "outputId": "a9fe62b3-ba5e-47d5-9c36-5e45f0f6d2ba"
      },
      "execution_count": null,
      "outputs": [
        {
          "output_type": "stream",
          "name": "stdout",
          "text": [
            "Mounted at /content/drive\n"
          ]
        }
      ]
    },
    {
      "cell_type": "code",
      "source": [
        "import pandas as pd\n",
        "\n",
        "# Load the CSV file\n",
        "df = pd.read_csv('/content/drive/MyDrive/P2/Dataset/DiseasePrediction2/ML/testing_ML.csv')\n",
        "\n",
        "# Get unique values in the \"prognosis\" column\n",
        "unique_labels = df['disease_label'].unique()\n",
        "\n",
        "# Print the unique labels\n",
        "print(unique_labels)\n",
        "\n",
        "print(len(unique_labels))"
      ],
      "metadata": {
        "colab": {
          "base_uri": "https://localhost:8080/"
        },
        "id": "w52uPhEkoA_A",
        "outputId": "28f071bc-f75a-424d-fe4f-ac79740bca04"
      },
      "execution_count": null,
      "outputs": [
        {
          "output_type": "stream",
          "name": "stdout",
          "text": [
            "['adenocarcinoma' 'adhesion' 'affect labile' 'arthritis' 'asthma'\n",
            " 'benign prostatic hypertrophy' 'biliary calculus' 'carcinoma breast'\n",
            " 'chronic obstructive airway disease' 'cirrhosis' 'colitis'\n",
            " 'coronary arteriosclerosis' 'deep vein thrombosis'\n",
            " 'degenerative polyarthritis' 'delirium' 'dependence'\n",
            " 'effusion pericardial' 'epilepsy' 'failure heart' 'fibroid tumor'\n",
            " 'gastritis' 'gastroenteritis' 'glaucoma' 'gout' 'hepatitis' 'hepatitis B'\n",
            " 'hepatitis C' 'hyperbilirubinemia' 'hyperglycemia' 'hyperlipidemia'\n",
            " 'hypertension pulmonary' 'hypertensive disease' 'hypoglycemia'\n",
            " 'infection' 'infection urinary tract' 'kidney failure acute'\n",
            " 'malignant neoplasms ' 'manic disorder' 'melanoma' 'neoplasm metastasis'\n",
            " 'neuropathy' 'neutropenia' 'obesity' 'obesity morbid' 'osteomyelitis'\n",
            " 'overload fluid' 'pancreatitis' 'paroxysmal dyspnea'\n",
            " 'peripheral vascular disease' 'pneumothorax' 'pyelonephritis'\n",
            " 'schizophrenia' 'sickle cell anemia' 'stenosis aortic valve'\n",
            " 'tachycardia sinus' 'thrombocytopaenia' 'thrombus'\n",
            " 'tricuspid valve insufficiency' 'ulcer peptic']\n",
            "59\n"
          ]
        }
      ]
    },
    {
      "cell_type": "markdown",
      "source": [
        "# Take only '1' symptoms and ignore all '0' (Use this only)"
      ],
      "metadata": {
        "id": "ls93pzBTdPIl"
      }
    },
    {
      "cell_type": "code",
      "source": [
        "# training_LLM\n",
        "import pandas as pd\n",
        "\n",
        "# Load the dataset\n",
        "file_path = '/content/drive/MyDrive/P2/Dataset/DiseasePrediction2/ML/ostraining_ML.csv'\n",
        "data = pd.read_csv(file_path)\n",
        "\n",
        "# Extract column names for features and label\n",
        "feature_columns = data.columns[:-1]  # All columns except the last one\n",
        "label_column = data.columns[-1]      # The last column is the prognosis\n",
        "\n",
        "# Convert each row into a descriptive text format for the features\n",
        "def convert_row_to_text(row):\n",
        "    symptoms = []\n",
        "    # Only include columns with a value of 1\n",
        "    relevant_columns = [col for col in feature_columns if row[col] == 1]\n",
        "\n",
        "    for col in relevant_columns:\n",
        "        symptoms.append(f\"have {col.replace('_', ' ')}\")\n",
        "\n",
        "    # Construct the description with only relevant symptoms\n",
        "    if symptoms:\n",
        "        text_description = f\"Patient shows symptoms as follows: {'; '.join(symptoms)}.\"\n",
        "    else:\n",
        "        text_description = \"Patient shows no symptoms.\"\n",
        "    return text_description\n",
        "\n",
        "# Apply the conversion to each row and separate the label\n",
        "data['symptoms'] = data.apply(convert_row_to_text, axis=1)\n",
        "data['disease_label'] = data[label_column].astype(str)\n",
        "\n",
        "# Save the transformed dataset to a new CSV file with separate columns for features and label\n",
        "output_path = '/content/drive/MyDrive/P2/Dataset/DiseasePrediction2/training_LLM.csv'\n",
        "data[['symptoms', 'disease_label']].to_csv(output_path, index=False)\n",
        "\n",
        "print(f\"Text-based dataset saved to {output_path}\")\n"
      ],
      "metadata": {
        "id": "CSm_WC3WZu7y",
        "outputId": "12a582b2-0809-4f81-a1b8-c2159b7e7dfd",
        "colab": {
          "base_uri": "https://localhost:8080/"
        }
      },
      "execution_count": null,
      "outputs": [
        {
          "output_type": "stream",
          "name": "stdout",
          "text": [
            "Text-based dataset saved to /content/drive/MyDrive/P2/Dataset/DiseasePrediction2/training_LLM.csv\n"
          ]
        }
      ]
    },
    {
      "cell_type": "code",
      "source": [
        "# validation_LLM\n",
        "import pandas as pd\n",
        "\n",
        "# Load the dataset\n",
        "file_path = '/content/drive/MyDrive/P2/Dataset/DiseasePrediction2/ML/validation_ML.csv'\n",
        "data = pd.read_csv(file_path)\n",
        "\n",
        "# Extract column names for features and label\n",
        "feature_columns = data.columns[:-1]  # All columns except the last one\n",
        "label_column = data.columns[-1]      # The last column is the prognosis\n",
        "\n",
        "# Convert each row into a descriptive text format for the features\n",
        "def convert_row_to_text(row):\n",
        "    symptoms = []\n",
        "    # Only include columns with a value of 1\n",
        "    relevant_columns = [col for col in feature_columns if row[col] == 1]\n",
        "\n",
        "    for col in relevant_columns:\n",
        "        symptoms.append(f\"have {col.replace('_', ' ')}\")\n",
        "\n",
        "    # Construct the description with only relevant symptoms\n",
        "    if symptoms:\n",
        "        text_description = f\"Patient shows symptoms as follows: {'; '.join(symptoms)}.\"\n",
        "    else:\n",
        "        text_description = \"Patient shows no symptoms.\"\n",
        "    return text_description\n",
        "\n",
        "# Apply the conversion to each row and separate the label\n",
        "data['symptoms'] = data.apply(convert_row_to_text, axis=1)\n",
        "data['disease_label'] = data[label_column].astype(str)\n",
        "\n",
        "# Save the transformed dataset to a new CSV file with separate columns for features and label\n",
        "output_path = '/content/drive/MyDrive/P2/Dataset/DiseasePrediction2/validation_LLM.csv'\n",
        "data[['symptoms', 'disease_label']].to_csv(output_path, index=False)\n",
        "\n",
        "print(f\"Text-based dataset saved to {output_path}\")\n"
      ],
      "metadata": {
        "id": "sSzUgmY-LYNI",
        "colab": {
          "base_uri": "https://localhost:8080/"
        },
        "outputId": "4dcf63aa-637e-4c78-b741-6711df2b9ff7"
      },
      "execution_count": null,
      "outputs": [
        {
          "output_type": "stream",
          "name": "stdout",
          "text": [
            "Text-based dataset saved to /content/drive/MyDrive/P2/Dataset/DiseasePrediction2/validation_LLM.csv\n"
          ]
        }
      ]
    },
    {
      "cell_type": "code",
      "source": [
        "# testing_LLM\n",
        "import pandas as pd\n",
        "\n",
        "# Load the dataset\n",
        "file_path = '/content/drive/MyDrive/P2/Dataset/DiseasePrediction2/ML/testing_ML.csv'\n",
        "data = pd.read_csv(file_path)\n",
        "\n",
        "# Extract column names for features and label\n",
        "feature_columns = data.columns[:-1]  # All columns except the last one\n",
        "label_column = data.columns[-1]      # The last column is the prognosis\n",
        "\n",
        "# Convert each row into a descriptive text format for the features\n",
        "def convert_row_to_text(row):\n",
        "    symptoms = []\n",
        "    # Only include columns with a value of 1\n",
        "    relevant_columns = [col for col in feature_columns if row[col] == 1]\n",
        "\n",
        "    for col in relevant_columns:\n",
        "        symptoms.append(f\"have {col.replace('_', ' ')}\")\n",
        "\n",
        "    # Construct the description with only relevant symptoms\n",
        "    if symptoms:\n",
        "        text_description = f\"Patient shows symptoms as follows: {'; '.join(symptoms)}.\"\n",
        "    else:\n",
        "        text_description = \"Patient shows no symptoms.\"\n",
        "    return text_description\n",
        "\n",
        "# Apply the conversion to each row and separate the label\n",
        "data['symptoms'] = data.apply(convert_row_to_text, axis=1)\n",
        "data['disease_label'] = data[label_column].astype(str)\n",
        "\n",
        "# Save the transformed dataset to a new CSV file with separate columns for features and label\n",
        "output_path = '/content/drive/MyDrive/P2/Dataset/DiseasePrediction2/testing_LLM.csv'\n",
        "data[['symptoms', 'disease_label']].to_csv(output_path, index=False)\n",
        "\n",
        "print(f\"Text-based dataset saved to {output_path}\")\n"
      ],
      "metadata": {
        "id": "lQxtHb31elj2",
        "colab": {
          "base_uri": "https://localhost:8080/"
        },
        "outputId": "73f27c1b-ee9d-4fb8-a2db-1d1eab7de4f7"
      },
      "execution_count": null,
      "outputs": [
        {
          "output_type": "stream",
          "name": "stdout",
          "text": [
            "Text-based dataset saved to /content/drive/MyDrive/P2/Dataset/DiseasePrediction2/testing_LLM.csv\n"
          ]
        }
      ]
    }
  ]
}
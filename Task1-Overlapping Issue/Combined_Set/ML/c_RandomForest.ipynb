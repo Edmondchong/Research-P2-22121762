{
  "nbformat": 4,
  "nbformat_minor": 0,
  "metadata": {
    "colab": {
      "provenance": [],
      "machine_shape": "hm"
    },
    "kernelspec": {
      "name": "python3",
      "display_name": "Python 3"
    },
    "language_info": {
      "name": "python"
    }
  },
  "cells": [
    {
      "cell_type": "code",
      "execution_count": 1,
      "metadata": {
        "id": "ClyJqcwArOUL",
        "colab": {
          "base_uri": "https://localhost:8080/"
        },
        "outputId": "f800ba10-bb03-4846-f299-8b88046b51d5"
      },
      "outputs": [
        {
          "output_type": "stream",
          "name": "stdout",
          "text": [
            "Mounted at /content/drive/\n"
          ]
        }
      ],
      "source": [
        "from google.colab import drive\n",
        "drive.mount('/content/drive/')"
      ]
    },
    {
      "cell_type": "markdown",
      "source": [
        "# Random Forest"
      ],
      "metadata": {
        "id": "1k5uIljS-a9l"
      }
    },
    {
      "cell_type": "code",
      "source": [
        "import pandas as pd\n",
        "from sklearn.ensemble import RandomForestClassifier\n",
        "from sklearn.metrics import classification_report\n",
        "\n",
        "# Load the datasets\n",
        "train_data = pd.read_csv(\"/content/drive/MyDrive/P2/T1/Dataset/combined/ML-c-train.csv\")\n",
        "valid_data = pd.read_csv(\"/content/drive/MyDrive/P2/T1/Dataset/combined/ML-c-val.csv\")\n",
        "test_data = pd.read_csv(\"/content/drive/MyDrive/P2/T1/Dataset/combined/ML-c-test.csv\")\n",
        "\n",
        "# Separate features and target\n",
        "X_train, y_train = train_data.drop(columns=[\"disease_label\"]), train_data[\"disease_label\"]\n",
        "X_valid, y_valid = valid_data.drop(columns=[\"disease_label\"]), valid_data[\"disease_label\"]\n",
        "X_test, y_test = test_data.drop(columns=[\"disease_label\"]), test_data[\"disease_label\"]\n",
        "\n",
        "# Ensure all feature columns are numeric\n",
        "X_train = X_train.select_dtypes(include=[\"number\"])\n",
        "X_valid = X_valid.select_dtypes(include=[\"number\"])\n",
        "X_test = X_test.select_dtypes(include=[\"number\"])\n",
        "\n",
        "# Ensure the same columns in all splits\n",
        "common_columns = X_train.columns.intersection(X_valid.columns).intersection(X_test.columns)\n",
        "X_train = X_train[common_columns]\n",
        "X_valid = X_valid[common_columns]\n",
        "X_test = X_test[common_columns]\n",
        "\n",
        "# Train Random Forest model\n",
        "rf_model = RandomForestClassifier(n_estimators=100, random_state=42)\n",
        "rf_model.fit(X_train, y_train)\n",
        "\n",
        "# Validate the Model\n",
        "y_valid_pred = rf_model.predict(X_valid)\n",
        "val_report = classification_report(y_valid, y_valid_pred)\n",
        "print(\"Validation Report:\")\n",
        "print(val_report)\n",
        "\n",
        "# Test the Model\n",
        "y_test_pred = rf_model.predict(X_test)\n",
        "test_report = classification_report(y_test, y_test_pred)\n",
        "print(\"Test Report:\")\n",
        "print(test_report)\n"
      ],
      "metadata": {
        "id": "WttZiOgkGe5j",
        "colab": {
          "base_uri": "https://localhost:8080/"
        },
        "outputId": "3d55cea3-2d0b-4156-edc6-8988ed1aed29"
      },
      "execution_count": 2,
      "outputs": [
        {
          "output_type": "stream",
          "name": "stdout",
          "text": [
            "Validation Report:\n",
            "                                    precision    recall  f1-score   support\n",
            "\n",
            "                    adenocarcinoma       0.85      0.96      0.90       163\n",
            "                          adhesion       0.92      0.96      0.94       164\n",
            "                     affect labile       0.96      0.91      0.94        79\n",
            "                         arthritis       0.94      0.97      0.95       131\n",
            "                            asthma       0.82      1.00      0.90        71\n",
            "      benign prostatic hypertrophy       0.95      1.00      0.98        79\n",
            "                  biliary calculus       0.81      0.85      0.83       190\n",
            "                  carcinoma breast       0.96      0.96      0.96       170\n",
            "chronic obstructive airway disease       0.98      0.82      0.89       143\n",
            "                         cirrhosis       0.98      0.97      0.97       170\n",
            "                           colitis       0.90      0.92      0.91       190\n",
            "         coronary arteriosclerosis       0.81      0.75      0.78       158\n",
            "              deep vein thrombosis       0.88      0.88      0.88       176\n",
            "        degenerative polyarthritis       0.90      0.90      0.90       151\n",
            "                          delirium       0.95      0.98      0.97       170\n",
            "                        dependence       0.95      0.95      0.95       171\n",
            "              effusion pericardial       0.94      0.89      0.92       169\n",
            "                          epilepsy       0.92      0.94      0.93       164\n",
            "                     failure heart       0.95      0.94      0.95       159\n",
            "                     fibroid tumor       0.88      0.88      0.88       163\n",
            "                         gastritis       0.87      0.87      0.87       167\n",
            "                   gastroenteritis       0.77      0.98      0.86       168\n",
            "                          glaucoma       0.92      0.89      0.90       147\n",
            "                              gout       0.94      0.94      0.94       137\n",
            "                         hepatitis       0.95      0.95      0.95       175\n",
            "                       hepatitis B       0.80      0.80      0.80        75\n",
            "                       hepatitis C       0.90      0.90      0.90       151\n",
            "                hyperbilirubinemia       0.80      0.80      0.80        75\n",
            "                     hyperglycemia       0.91      0.86      0.88       169\n",
            "                    hyperlipidemia       0.71      0.82      0.76       215\n",
            "            hypertension pulmonary       1.00      0.80      0.89        75\n",
            "              hypertensive disease       0.73      0.85      0.79       186\n",
            "                      hypoglycemia       0.89      0.89      0.89       152\n",
            "                         infection       0.88      0.83      0.86       176\n",
            "           infection urinary tract       0.91      0.87      0.89       171\n",
            "              kidney failure acute       0.86      0.83      0.85       127\n",
            "              malignant neoplasms        0.87      0.83      0.85       161\n",
            "                    manic disorder       0.91      0.84      0.87       171\n",
            "                          melanoma       0.93      0.84      0.88        88\n",
            "               neoplasm metastasis       0.83      0.83      0.83       124\n",
            "                        neuropathy       0.84      0.84      0.84       124\n",
            "                       neutropenia       0.95      0.98      0.96       168\n",
            "                           obesity       0.93      0.91      0.92       184\n",
            "                    obesity morbid       0.91      1.00      0.96       172\n",
            "                     osteomyelitis       0.86      0.80      0.83       176\n",
            "                    overload fluid       0.86      0.80      0.83       179\n",
            "                      pancreatitis       0.81      0.67      0.73       124\n",
            "                paroxysmal dyspnea       0.92      0.93      0.92       164\n",
            "       peripheral vascular disease       0.96      0.92      0.94       166\n",
            "                      pneumothorax       0.97      0.92      0.95        78\n",
            "                    pyelonephritis       0.94      0.86      0.90       141\n",
            "                     schizophrenia       0.94      0.94      0.94       169\n",
            "                sickle cell anemia       0.92      0.96      0.94       161\n",
            "             stenosis aortic valve       0.85      0.78      0.81       178\n",
            "                 tachycardia sinus       0.82      0.86      0.84       171\n",
            "                 thrombocytopaenia       0.75      0.78      0.77        74\n",
            "                          thrombus       0.86      0.88      0.87       152\n",
            "     tricuspid valve insufficiency       0.87      0.81      0.84       127\n",
            "                      ulcer peptic       0.89      0.89      0.89       161\n",
            "\n",
            "                          accuracy                           0.89      8810\n",
            "                         macro avg       0.89      0.88      0.89      8810\n",
            "                      weighted avg       0.89      0.89      0.89      8810\n",
            "\n",
            "Test Report:\n",
            "                                    precision    recall  f1-score   support\n",
            "\n",
            "                    adenocarcinoma       0.89      0.93      0.91       171\n",
            "                          adhesion       0.85      0.93      0.89       168\n",
            "                     affect labile       0.88      0.80      0.84        83\n",
            "                         arthritis       0.85      0.93      0.89       131\n",
            "                            asthma       0.89      0.84      0.86        83\n",
            "      benign prostatic hypertrophy       0.85      0.89      0.87        79\n",
            "                  biliary calculus       0.94      0.78      0.85       194\n",
            "                  carcinoma breast       0.95      0.96      0.96       170\n",
            "chronic obstructive airway disease       0.93      0.95      0.94       131\n",
            "                         cirrhosis       0.98      0.89      0.93       186\n",
            "                           colitis       0.91      0.89      0.90       178\n",
            "         coronary arteriosclerosis       0.82      0.78      0.80       162\n",
            "              deep vein thrombosis       0.87      0.83      0.85       168\n",
            "        degenerative polyarthritis       0.87      0.87      0.87       151\n",
            "                          delirium       0.98      0.93      0.95       174\n",
            "                        dependence       0.86      0.88      0.87       163\n",
            "              effusion pericardial       0.83      0.88      0.86       169\n",
            "                          epilepsy       0.87      0.99      0.92       172\n",
            "                     failure heart       0.88      0.92      0.90       171\n",
            "                     fibroid tumor       0.88      0.88      0.88       163\n",
            "                         gastritis       0.87      0.79      0.83       175\n",
            "                   gastroenteritis       0.93      0.90      0.92       168\n",
            "                          glaucoma       0.98      0.86      0.92       139\n",
            "                              gout       0.93      0.96      0.94       137\n",
            "                         hepatitis       0.90      0.90      0.90       183\n",
            "                       hepatitis B       0.93      0.93      0.93        75\n",
            "                       hepatitis C       0.93      0.93      0.93       151\n",
            "                hyperbilirubinemia       0.91      0.91      0.91        75\n",
            "                     hyperglycemia       0.98      0.93      0.95       177\n",
            "                    hyperlipidemia       0.83      0.78      0.81       203\n",
            "            hypertension pulmonary       0.96      0.96      0.96        75\n",
            "              hypertensive disease       0.71      0.82      0.76       210\n",
            "                      hypoglycemia       0.96      0.98      0.97       152\n",
            "                         infection       0.83      0.79      0.81       184\n",
            "           infection urinary tract       0.88      0.86      0.87       167\n",
            "              kidney failure acute       0.84      0.97      0.90       131\n",
            "              malignant neoplasms        0.90      1.00      0.95       149\n",
            "                    manic disorder       0.92      0.98      0.95       171\n",
            "                          melanoma       0.91      0.86      0.88        84\n",
            "               neoplasm metastasis       0.84      0.84      0.84       124\n",
            "                        neuropathy       0.84      0.84      0.84       124\n",
            "                       neutropenia       0.95      0.93      0.94       180\n",
            "                           obesity       0.84      0.86      0.85       164\n",
            "                    obesity morbid       0.83      0.88      0.85       172\n",
            "                     osteomyelitis       0.93      0.88      0.91       172\n",
            "                    overload fluid       0.97      0.89      0.93       171\n",
            "                      pancreatitis       0.69      0.87      0.77        92\n",
            "                paroxysmal dyspnea       0.86      0.84      0.85       200\n",
            "       peripheral vascular disease       0.85      0.85      0.85       158\n",
            "                      pneumothorax       0.76      0.68      0.72        82\n",
            "                    pyelonephritis       0.84      0.82      0.83       153\n",
            "                     schizophrenia       1.00      0.95      0.98       169\n",
            "                sickle cell anemia       0.99      0.96      0.97       153\n",
            "             stenosis aortic valve       0.94      0.91      0.93       162\n",
            "                 tachycardia sinus       0.96      0.89      0.92       171\n",
            "                 thrombocytopaenia       0.64      0.64      0.64        74\n",
            "                          thrombus       0.88      0.81      0.84       160\n",
            "     tricuspid valve insufficiency       0.87      0.79      0.82       131\n",
            "                      ulcer peptic       0.71      0.88      0.78       161\n",
            "\n",
            "                          accuracy                           0.88      8846\n",
            "                         macro avg       0.88      0.88      0.88      8846\n",
            "                      weighted avg       0.89      0.88      0.88      8846\n",
            "\n"
          ]
        }
      ]
    },
    {
      "cell_type": "code",
      "source": [
        "feature_importance = pd.Series(rf_model.feature_importances_, index=X_train.columns)\n",
        "print(feature_importance.sort_values(ascending=False).head(10))  # Top 10 important features"
      ],
      "metadata": {
        "id": "8TOiLUiIFsOx",
        "colab": {
          "base_uri": "https://localhost:8080/"
        },
        "outputId": "f6beff02-683b-42c6-8d87-65240871018a"
      },
      "execution_count": 3,
      "outputs": [
        {
          "output_type": "stream",
          "name": "stdout",
          "text": [
            "pain                   0.009958\n",
            "sore to touch          0.009905\n",
            "shortness of breath    0.009617\n",
            "pain abdominal         0.009414\n",
            "cough                  0.009093\n",
            "vomiting               0.008676\n",
            "diarrhea               0.008614\n",
            "fever                  0.008585\n",
            "dyspnea                0.008095\n",
            "hypokinesia            0.007903\n",
            "dtype: float64\n"
          ]
        }
      ]
    },
    {
      "cell_type": "markdown",
      "source": [
        "# Saved the predicted out in csv"
      ],
      "metadata": {
        "id": "wagF7fyDo9Mg"
      }
    },
    {
      "cell_type": "code",
      "source": [
        "\"\"\"\n",
        "import pandas as pd\n",
        "\n",
        "# Combine the real labels, predicted labels, and optionally the testing features\n",
        "results = pd.DataFrame({\n",
        "    \"Real Label\": y_test.values,\n",
        "    \"Predicted Label\": y_pred\n",
        "})\n",
        "\n",
        "# Optionally, include testing features for context\n",
        "testing_features = X_test.reset_index(drop=True)  # Reset index to align with predictions\n",
        "results_with_features = pd.concat([testing_features, results], axis=1)\n",
        "\n",
        "# Save results to a CSV file\n",
        "results_with_features.to_csv(\"/content/drive/MyDrive/P2/Dataset/DiseasePrediction2/RFpredicted_output.csv\", index=False)\n",
        "\n",
        "print(\"Predicted output saved to 'predicted_output.csv'\")\n",
        "\"\"\""
      ],
      "metadata": {
        "id": "OO8RuZamislH",
        "colab": {
          "base_uri": "https://localhost:8080/",
          "height": 87
        },
        "outputId": "3a0a2a3c-7180-4858-cd4a-c4eb8b36694d"
      },
      "execution_count": 4,
      "outputs": [
        {
          "output_type": "execute_result",
          "data": {
            "text/plain": [
              "'\\nimport pandas as pd\\n\\n# Combine the real labels, predicted labels, and optionally the testing features\\nresults = pd.DataFrame({\\n    \"Real Label\": y_test.values,\\n    \"Predicted Label\": y_pred\\n})\\n\\n# Optionally, include testing features for context\\ntesting_features = X_test.reset_index(drop=True)  # Reset index to align with predictions\\nresults_with_features = pd.concat([testing_features, results], axis=1)\\n\\n# Save results to a CSV file\\nresults_with_features.to_csv(\"/content/drive/MyDrive/P2/Dataset/DiseasePrediction2/RFpredicted_output.csv\", index=False)\\n\\nprint(\"Predicted output saved to \\'predicted_output.csv\\'\")\\n'"
            ],
            "application/vnd.google.colaboratory.intrinsic+json": {
              "type": "string"
            }
          },
          "metadata": {},
          "execution_count": 4
        }
      ]
    },
    {
      "cell_type": "markdown",
      "source": [
        "# Generate Classification Report"
      ],
      "metadata": {
        "id": "1PTsOdMdoBjl"
      }
    },
    {
      "cell_type": "code",
      "source": [
        "\n",
        "import pandas as pd\n",
        "from sklearn.metrics import classification_report\n",
        "\n",
        "# Assuming rf_model is your trained model, and X_test, y_test are defined\n",
        "y_pred = rf_model.predict(X_test)\n",
        "\n",
        "# Generate the classification report as a dictionary\n",
        "report_dict = classification_report(y_test, y_pred, output_dict=True, zero_division=0)\n",
        "\n",
        "# Convert the dictionary to a pandas DataFrame\n",
        "report_df = pd.DataFrame(report_dict).transpose()\n",
        "\n",
        "# Save the classification report as a CSV file\n",
        "report_df.to_csv(\"/content/drive/MyDrive/P2/T1/Dataset/combined/ML/RF-c-class.csv\", index=True)\n",
        "\n",
        "print(\"Classification report saved.\")\n"
      ],
      "metadata": {
        "id": "cKA1HXxKoEW5",
        "colab": {
          "base_uri": "https://localhost:8080/"
        },
        "outputId": "18f7443a-f8ee-488f-9cad-cb1cdaebff9f"
      },
      "execution_count": 5,
      "outputs": [
        {
          "output_type": "stream",
          "name": "stdout",
          "text": [
            "Classification report saved.\n"
          ]
        }
      ]
    }
  ]
}
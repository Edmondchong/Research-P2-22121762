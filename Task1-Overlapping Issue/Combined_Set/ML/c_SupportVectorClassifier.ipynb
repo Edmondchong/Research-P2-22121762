{
  "nbformat": 4,
  "nbformat_minor": 0,
  "metadata": {
    "colab": {
      "provenance": [],
      "machine_shape": "hm",
      "gpuType": "A100"
    },
    "kernelspec": {
      "name": "python3",
      "display_name": "Python 3"
    },
    "language_info": {
      "name": "python"
    },
    "accelerator": "GPU"
  },
  "cells": [
    {
      "cell_type": "code",
      "execution_count": 1,
      "metadata": {
        "colab": {
          "base_uri": "https://localhost:8080/"
        },
        "id": "ClyJqcwArOUL",
        "outputId": "968538d4-60eb-4579-9904-c97c0eeefcd0"
      },
      "outputs": [
        {
          "output_type": "stream",
          "name": "stdout",
          "text": [
            "Mounted at /content/drive/\n"
          ]
        }
      ],
      "source": [
        "from google.colab import drive\n",
        "drive.mount('/content/drive/')"
      ]
    },
    {
      "cell_type": "markdown",
      "source": [
        "# Support Vector Classifier"
      ],
      "metadata": {
        "id": "1k5uIljS-a9l"
      }
    },
    {
      "cell_type": "code",
      "source": [
        "import pandas as pd\n",
        "from sklearn.svm import SVC\n",
        "from sklearn.preprocessing import StandardScaler\n",
        "from sklearn.pipeline import make_pipeline\n",
        "from sklearn.metrics import accuracy_score, classification_report\n",
        "\n",
        "# Load the datasets\n",
        "train_data = pd.read_csv(\"/content/drive/MyDrive/P2/T1/Dataset/combined/ML-c-train.csv\")\n",
        "valid_data = pd.read_csv(\"/content/drive/MyDrive/P2/T1/Dataset/combined/ML-c-val.csv\")\n",
        "test_data = pd.read_csv(\"/content/drive/MyDrive/P2/T1/Dataset/combined/ML-c-test.csv\")\n",
        "\n",
        "# Separate features and target\n",
        "X_train, y_train = train_data.drop(columns=[\"disease_label\"]), train_data[\"disease_label\"]\n",
        "X_valid, y_valid = valid_data.drop(columns=[\"disease_label\"]), valid_data[\"disease_label\"]\n",
        "X_test, y_test = test_data.drop(columns=[\"disease_label\"]), test_data[\"disease_label\"]\n",
        "\n",
        "# Ensure all feature columns are numeric\n",
        "X_train = X_train.select_dtypes(include=[\"number\"])\n",
        "X_valid = X_valid.select_dtypes(include=[\"number\"])\n",
        "X_test = X_test.select_dtypes(include=[\"number\"])\n",
        "\n",
        "# Ensure the same columns in all splits\n",
        "common_columns = X_train.columns.intersection(X_valid.columns).intersection(X_test.columns)\n",
        "X_train = X_train[common_columns]\n",
        "X_valid = X_valid[common_columns]\n",
        "X_test = X_test[common_columns]\n",
        "\n",
        "# Scale features (SVM requires scaled data)\n",
        "scaler = StandardScaler()\n",
        "X_train = scaler.fit_transform(X_train)\n",
        "X_valid = scaler.transform(X_valid)\n",
        "X_test = scaler.transform(X_test)\n",
        "\n",
        "# Train the SVM model\n",
        "svm_model = SVC(kernel=\"linear\", random_state=42, class_weight=\"balanced\")\n",
        "svm_model.fit(X_train, y_train)\n",
        "\n",
        "# Validate the Model\n",
        "y_valid_pred = svm_model.predict(X_valid)\n",
        "val_report = classification_report(y_valid, y_valid_pred)\n",
        "print(\"Validation Report (SVM):\")\n",
        "print(val_report)\n",
        "\n",
        "# Test the Model\n",
        "y_test_pred = svm_model.predict(X_test)\n",
        "test_report = classification_report(y_test, y_test_pred)\n",
        "print(\"Test Report (SVM):\")\n",
        "print(test_report)\n"
      ],
      "metadata": {
        "id": "uohtuSzd-cmg",
        "colab": {
          "base_uri": "https://localhost:8080/"
        },
        "outputId": "5699486a-c088-4e36-c176-cf261ac07ef8"
      },
      "execution_count": 3,
      "outputs": [
        {
          "output_type": "stream",
          "name": "stdout",
          "text": [
            "Validation Report (SVM):\n",
            "                                    precision    recall  f1-score   support\n",
            "\n",
            "                    adenocarcinoma       0.89      0.95      0.92       163\n",
            "                          adhesion       0.91      0.96      0.93       164\n",
            "                     affect labile       0.95      0.91      0.93        79\n",
            "                         arthritis       0.90      1.00      0.95       131\n",
            "                            asthma       0.71      0.97      0.82        71\n",
            "      benign prostatic hypertrophy       0.93      1.00      0.96        79\n",
            "                  biliary calculus       0.96      0.79      0.87       190\n",
            "                  carcinoma breast       0.98      0.94      0.96       170\n",
            "chronic obstructive airway disease       0.92      0.87      0.89       143\n",
            "                         cirrhosis       1.00      0.94      0.97       170\n",
            "                           colitis       0.98      0.83      0.90       190\n",
            "         coronary arteriosclerosis       0.75      0.87      0.81       158\n",
            "              deep vein thrombosis       0.89      0.85      0.87       176\n",
            "        degenerative polyarthritis       0.90      0.90      0.90       151\n",
            "                          delirium       0.98      0.93      0.95       170\n",
            "                        dependence       0.95      0.95      0.95       171\n",
            "              effusion pericardial       0.91      0.91      0.91       169\n",
            "                          epilepsy       0.92      0.94      0.93       164\n",
            "                     failure heart       0.97      0.92      0.95       159\n",
            "                     fibroid tumor       0.87      0.88      0.87       163\n",
            "                         gastritis       0.86      0.86      0.86       167\n",
            "                   gastroenteritis       0.89      0.98      0.93       168\n",
            "                          glaucoma       0.84      0.91      0.88       147\n",
            "                              gout       0.92      0.94      0.93       137\n",
            "                         hepatitis       0.96      0.90      0.93       175\n",
            "                       hepatitis B       0.76      0.77      0.77        75\n",
            "                       hepatitis C       0.90      0.87      0.89       151\n",
            "                hyperbilirubinemia       0.80      0.80      0.80        75\n",
            "                     hyperglycemia       0.91      0.85      0.88       169\n",
            "                    hyperlipidemia       0.82      0.78      0.80       215\n",
            "            hypertension pulmonary       1.00      0.79      0.88        75\n",
            "              hypertensive disease       1.00      0.76      0.87       186\n",
            "                      hypoglycemia       0.89      0.88      0.88       152\n",
            "                         infection       0.90      0.79      0.84       176\n",
            "           infection urinary tract       0.91      0.86      0.88       171\n",
            "              kidney failure acute       0.76      0.83      0.80       127\n",
            "              malignant neoplasms        0.87      0.83      0.85       161\n",
            "                    manic disorder       0.88      0.86      0.87       171\n",
            "                          melanoma       0.75      0.93      0.83        88\n",
            "               neoplasm metastasis       0.83      0.82      0.83       124\n",
            "                        neuropathy       0.84      0.84      0.84       124\n",
            "                       neutropenia       1.00      0.95      0.97       168\n",
            "                           obesity       0.95      0.91      0.93       184\n",
            "                    obesity morbid       1.00      0.93      0.96       172\n",
            "                     osteomyelitis       0.83      0.80      0.82       176\n",
            "                    overload fluid       0.86      0.79      0.82       179\n",
            "                      pancreatitis       0.56      0.77      0.65       124\n",
            "                paroxysmal dyspnea       0.86      0.92      0.89       164\n",
            "       peripheral vascular disease       0.86      0.94      0.90       166\n",
            "                      pneumothorax       0.90      0.92      0.91        78\n",
            "                    pyelonephritis       0.80      0.91      0.85       141\n",
            "                     schizophrenia       0.93      0.91      0.92       169\n",
            "                sickle cell anemia       0.92      0.96      0.94       161\n",
            "             stenosis aortic valve       0.78      0.82      0.80       178\n",
            "                 tachycardia sinus       0.79      0.88      0.83       171\n",
            "                 thrombocytopaenia       0.79      0.77      0.78        74\n",
            "                          thrombus       0.86      0.88      0.87       152\n",
            "     tricuspid valve insufficiency       0.79      0.87      0.83       127\n",
            "                      ulcer peptic       0.89      0.89      0.89       161\n",
            "\n",
            "                          accuracy                           0.88      8810\n",
            "                         macro avg       0.88      0.88      0.88      8810\n",
            "                      weighted avg       0.89      0.88      0.88      8810\n",
            "\n",
            "Test Report (SVM):\n",
            "                                    precision    recall  f1-score   support\n",
            "\n",
            "                    adenocarcinoma       0.89      0.92      0.91       171\n",
            "                          adhesion       0.92      0.92      0.92       168\n",
            "                     affect labile       0.78      0.78      0.78        83\n",
            "                         arthritis       0.82      0.93      0.87       131\n",
            "                            asthma       0.71      0.92      0.80        83\n",
            "      benign prostatic hypertrophy       0.68      0.90      0.77        79\n",
            "                  biliary calculus       0.95      0.76      0.85       194\n",
            "                  carcinoma breast       0.96      0.95      0.96       170\n",
            "chronic obstructive airway disease       0.91      0.89      0.90       131\n",
            "                         cirrhosis       0.99      0.87      0.93       186\n",
            "                           colitis       0.99      0.84      0.91       178\n",
            "         coronary arteriosclerosis       0.69      0.93      0.79       162\n",
            "              deep vein thrombosis       0.83      0.85      0.84       168\n",
            "        degenerative polyarthritis       0.87      0.87      0.87       151\n",
            "                          delirium       0.97      0.93      0.95       174\n",
            "                        dependence       0.85      0.87      0.86       163\n",
            "              effusion pericardial       0.88      0.84      0.86       169\n",
            "                          epilepsy       0.91      0.97      0.94       172\n",
            "                     failure heart       0.95      0.84      0.89       171\n",
            "                     fibroid tumor       0.88      0.88      0.88       163\n",
            "                         gastritis       0.86      0.81      0.83       175\n",
            "                   gastroenteritis       0.97      0.90      0.94       168\n",
            "                          glaucoma       0.95      0.90      0.93       139\n",
            "                              gout       0.88      0.96      0.92       137\n",
            "                         hepatitis       0.98      0.86      0.91       183\n",
            "                       hepatitis B       0.94      0.91      0.93        75\n",
            "                       hepatitis C       0.93      0.93      0.93       151\n",
            "                hyperbilirubinemia       0.90      0.87      0.88        75\n",
            "                     hyperglycemia       0.98      0.90      0.94       177\n",
            "                    hyperlipidemia       0.80      0.82      0.81       203\n",
            "            hypertension pulmonary       0.96      0.92      0.94        75\n",
            "              hypertensive disease       0.96      0.65      0.77       210\n",
            "                      hypoglycemia       0.98      0.97      0.97       152\n",
            "                         infection       0.83      0.80      0.82       184\n",
            "           infection urinary tract       0.88      0.86      0.87       167\n",
            "              kidney failure acute       0.84      0.97      0.90       131\n",
            "              malignant neoplasms        0.86      0.99      0.92       149\n",
            "                    manic disorder       0.96      0.94      0.95       171\n",
            "                          melanoma       0.91      0.85      0.88        84\n",
            "               neoplasm metastasis       0.84      0.82      0.83       124\n",
            "                        neuropathy       0.84      0.84      0.84       124\n",
            "                       neutropenia       0.93      0.94      0.94       180\n",
            "                           obesity       0.83      0.86      0.85       164\n",
            "                    obesity morbid       0.88      0.82      0.85       172\n",
            "                     osteomyelitis       0.96      0.87      0.91       172\n",
            "                    overload fluid       0.93      0.90      0.92       171\n",
            "                      pancreatitis       0.44      0.96      0.60        92\n",
            "                paroxysmal dyspnea       1.00      0.74      0.85       200\n",
            "       peripheral vascular disease       0.87      0.82      0.85       158\n",
            "                      pneumothorax       0.58      0.72      0.64        82\n",
            "                    pyelonephritis       0.78      0.84      0.81       153\n",
            "                     schizophrenia       1.00      0.95      0.98       169\n",
            "                sickle cell anemia       0.99      0.96      0.97       153\n",
            "             stenosis aortic valve       0.92      0.94      0.93       162\n",
            "                 tachycardia sinus       0.87      0.91      0.89       171\n",
            "                 thrombocytopaenia       0.64      0.62      0.63        74\n",
            "                          thrombus       0.83      0.86      0.84       160\n",
            "     tricuspid valve insufficiency       0.72      0.82      0.77       131\n",
            "                      ulcer peptic       0.85      0.86      0.86       161\n",
            "\n",
            "                          accuracy                           0.87      8846\n",
            "                         macro avg       0.87      0.87      0.87      8846\n",
            "                      weighted avg       0.89      0.87      0.88      8846\n",
            "\n"
          ]
        }
      ]
    },
    {
      "cell_type": "markdown",
      "source": [
        "# Saved Predicted Output in CSV"
      ],
      "metadata": {
        "id": "bchVW37SpZCh"
      }
    },
    {
      "cell_type": "code",
      "source": [
        "\"\"\"\n",
        "import pandas as pd\n",
        "\n",
        "# Save predictions (optional)\n",
        "predictions = pd.DataFrame({\"True Labels\": y_test, \"Predicted Labels\": y_test_pred})\n",
        "predictions.to_csv(\"/content/drive/MyDrive/P2/ML training/SVC_predictions.csv\", index=False)\n",
        "print(\"Predictions saved.\")\n",
        "\"\"\""
      ],
      "metadata": {
        "id": "OO8RuZamislH",
        "colab": {
          "base_uri": "https://localhost:8080/",
          "height": 52
        },
        "outputId": "cd61c4d5-b439-4588-b241-d490d5ba0cbf"
      },
      "execution_count": 4,
      "outputs": [
        {
          "output_type": "execute_result",
          "data": {
            "text/plain": [
              "'\\nimport pandas as pd\\n\\n# Save predictions (optional)\\npredictions = pd.DataFrame({\"True Labels\": y_test, \"Predicted Labels\": y_test_pred})\\npredictions.to_csv(\"/content/drive/MyDrive/P2/ML training/SVC_predictions.csv\", index=False)\\nprint(\"Predictions saved.\")\\n'"
            ],
            "application/vnd.google.colaboratory.intrinsic+json": {
              "type": "string"
            }
          },
          "metadata": {},
          "execution_count": 4
        }
      ]
    },
    {
      "cell_type": "markdown",
      "source": [
        "# Generate Classification Report"
      ],
      "metadata": {
        "id": "knS7IAV_nuHb"
      }
    },
    {
      "cell_type": "code",
      "source": [
        "\n",
        "import pandas as pd\n",
        "from sklearn.metrics import classification_report\n",
        "\n",
        "# Save the classification report as CSV (optional)\n",
        "report_dict = classification_report(y_test, y_test_pred, output_dict=True, zero_division=0)\n",
        "report_df = pd.DataFrame(report_dict).transpose()\n",
        "report_df.to_csv(\"/content/drive/MyDrive/P2/T1/Dataset/combined/ML/SVC-c-class.csv\", index=True)\n",
        "print(\"Classification report saved.\")\n"
      ],
      "metadata": {
        "id": "p97RbC18nyDQ",
        "colab": {
          "base_uri": "https://localhost:8080/"
        },
        "outputId": "6a101c30-f809-4c02-f7b7-7afdfae38e76"
      },
      "execution_count": 5,
      "outputs": [
        {
          "output_type": "stream",
          "name": "stdout",
          "text": [
            "Classification report saved.\n"
          ]
        }
      ]
    }
  ]
}
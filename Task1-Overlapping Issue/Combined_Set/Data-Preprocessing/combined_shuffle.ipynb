{
  "nbformat": 4,
  "nbformat_minor": 0,
  "metadata": {
    "colab": {
      "provenance": []
    },
    "kernelspec": {
      "name": "python3",
      "display_name": "Python 3"
    },
    "language_info": {
      "name": "python"
    }
  },
  "cells": [
    {
      "cell_type": "code",
      "execution_count": null,
      "metadata": {
        "colab": {
          "base_uri": "https://localhost:8080/"
        },
        "id": "qp8lQhIDjq14",
        "outputId": "f748efce-d26e-4e23-ef63-39b61755429e"
      },
      "outputs": [
        {
          "output_type": "stream",
          "name": "stdout",
          "text": [
            "Mounted at /content/drive\n"
          ]
        }
      ],
      "source": [
        "from google.colab import drive\n",
        "drive.mount('/content/drive')"
      ]
    },
    {
      "cell_type": "markdown",
      "source": [
        "# Combined and shuffle"
      ],
      "metadata": {
        "id": "C-OWP-KJvpca"
      }
    },
    {
      "cell_type": "code",
      "source": [
        "import pandas as pd\n",
        "from sklearn.utils import shuffle\n",
        "\n",
        "# Train Sets\n",
        "overlap_train = pd.read_csv(\"/content/drive/MyDrive/P2/T1/Dataset/overlapped/LLM-o-train.csv\")\n",
        "non_overlap_train = pd.read_csv(\"/content/drive/MyDrive/P2/T1/Dataset/non_overlapped/LLM-no-train.csv\")\n",
        "\n",
        "# Combine the train datasets\n",
        "combined_train = pd.concat([overlap_train, non_overlap_train], ignore_index=True)\n",
        "\n",
        "# Test Sets\n",
        "overlap_test = pd.read_csv(\"/content/drive/MyDrive/P2/T1/Dataset/overlapped/LLM-o-test.csv\")\n",
        "non_overlap_test = pd.read_csv(\"/content/drive/MyDrive/P2/T1/Dataset/non_overlapped/LLM-no-test.csv\")\n",
        "\n",
        "# Combine the test datasets\n",
        "combined_test = pd.concat([overlap_test, non_overlap_test], ignore_index=True)\n",
        "\n",
        "# Val Sets\n",
        "overlap_val = pd.read_csv(\"/content/drive/MyDrive/P2/T1/Dataset/overlapped/LLM-o-val.csv\")\n",
        "non_overlap_val = pd.read_csv(\"/content/drive/MyDrive/P2/T1/Dataset/non_overlapped/LLM-no-val.csv\")\n",
        "\n",
        "# Combine the validation datasets\n",
        "combined_val = pd.concat([overlap_val, non_overlap_val], ignore_index=True)\n",
        "\n",
        "# Shuffle the combined datasets\n",
        "combined_train = shuffle(combined_train, random_state=42)\n",
        "combined_test = shuffle(combined_test, random_state=42)\n",
        "combined_val = shuffle(combined_val, random_state=42)\n",
        "\n",
        "# Save the combined and shuffled datasets (optional)\n",
        "combined_train.to_csv(\"/content/drive/MyDrive/P2/T1/Dataset/combined/LLM-c-train.csv\", index=False)\n",
        "combined_test.to_csv(\"/content/drive/MyDrive/P2/T1/Dataset/combined/LLM-c-test.csv\", index=False)\n",
        "combined_val.to_csv(\"/content/drive/MyDrive/P2/T1/Dataset/combined/LLM-c-val.csv\", index=False)\n",
        "\n",
        "print(\"Datasets combined and shuffled successfully!\")\n"
      ],
      "metadata": {
        "colab": {
          "base_uri": "https://localhost:8080/"
        },
        "id": "vY23rKuFP5w7",
        "outputId": "2d5700d7-0135-49e1-f9f3-7c51a3c87aaa"
      },
      "execution_count": null,
      "outputs": [
        {
          "output_type": "stream",
          "name": "stdout",
          "text": [
            "Datasets combined and shuffled successfully!\n"
          ]
        }
      ]
    }
  ]
}
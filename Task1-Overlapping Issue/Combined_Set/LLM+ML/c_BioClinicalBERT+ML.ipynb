{
  "nbformat": 4,
  "nbformat_minor": 0,
  "metadata": {
    "colab": {
      "provenance": [],
      "machine_shape": "hm",
      "gpuType": "A100"
    },
    "kernelspec": {
      "name": "python3",
      "display_name": "Python 3"
    },
    "language_info": {
      "name": "python"
    },
    "accelerator": "GPU",
    "widgets": {
      "application/vnd.jupyter.widget-state+json": {
        "e967b926b7154cb6a395ce3548c2260f": {
          "model_module": "@jupyter-widgets/controls",
          "model_name": "HBoxModel",
          "model_module_version": "1.5.0",
          "state": {
            "_dom_classes": [],
            "_model_module": "@jupyter-widgets/controls",
            "_model_module_version": "1.5.0",
            "_model_name": "HBoxModel",
            "_view_count": null,
            "_view_module": "@jupyter-widgets/controls",
            "_view_module_version": "1.5.0",
            "_view_name": "HBoxView",
            "box_style": "",
            "children": [
              "IPY_MODEL_559307b1f9834e72ab0946c4c3d9eef5",
              "IPY_MODEL_6e1b5ab8d5d34b93980dd4dcf7b1032f",
              "IPY_MODEL_86f6b4013e0e444f807421edce808068"
            ],
            "layout": "IPY_MODEL_bb24253586d84168bc4e81842459a725"
          }
        },
        "559307b1f9834e72ab0946c4c3d9eef5": {
          "model_module": "@jupyter-widgets/controls",
          "model_name": "HTMLModel",
          "model_module_version": "1.5.0",
          "state": {
            "_dom_classes": [],
            "_model_module": "@jupyter-widgets/controls",
            "_model_module_version": "1.5.0",
            "_model_name": "HTMLModel",
            "_view_count": null,
            "_view_module": "@jupyter-widgets/controls",
            "_view_module_version": "1.5.0",
            "_view_name": "HTMLView",
            "description": "",
            "description_tooltip": null,
            "layout": "IPY_MODEL_eb6a775eb722440391b905d1f7d61e0d",
            "placeholder": "​",
            "style": "IPY_MODEL_f94712dbeada409f87fd2dd2de9eae92",
            "value": "config.json: 100%"
          }
        },
        "6e1b5ab8d5d34b93980dd4dcf7b1032f": {
          "model_module": "@jupyter-widgets/controls",
          "model_name": "FloatProgressModel",
          "model_module_version": "1.5.0",
          "state": {
            "_dom_classes": [],
            "_model_module": "@jupyter-widgets/controls",
            "_model_module_version": "1.5.0",
            "_model_name": "FloatProgressModel",
            "_view_count": null,
            "_view_module": "@jupyter-widgets/controls",
            "_view_module_version": "1.5.0",
            "_view_name": "ProgressView",
            "bar_style": "success",
            "description": "",
            "description_tooltip": null,
            "layout": "IPY_MODEL_687c3a1072a34e18a93e7b8b6f30a5e9",
            "max": 385,
            "min": 0,
            "orientation": "horizontal",
            "style": "IPY_MODEL_976100a64f52447492700ac01a8578a4",
            "value": 385
          }
        },
        "86f6b4013e0e444f807421edce808068": {
          "model_module": "@jupyter-widgets/controls",
          "model_name": "HTMLModel",
          "model_module_version": "1.5.0",
          "state": {
            "_dom_classes": [],
            "_model_module": "@jupyter-widgets/controls",
            "_model_module_version": "1.5.0",
            "_model_name": "HTMLModel",
            "_view_count": null,
            "_view_module": "@jupyter-widgets/controls",
            "_view_module_version": "1.5.0",
            "_view_name": "HTMLView",
            "description": "",
            "description_tooltip": null,
            "layout": "IPY_MODEL_1999dec8885547a9a2d9521ede7ea338",
            "placeholder": "​",
            "style": "IPY_MODEL_d18ab141d0b14e41ab55d22441b6de9f",
            "value": " 385/385 [00:00&lt;00:00, 28.5kB/s]"
          }
        },
        "bb24253586d84168bc4e81842459a725": {
          "model_module": "@jupyter-widgets/base",
          "model_name": "LayoutModel",
          "model_module_version": "1.2.0",
          "state": {
            "_model_module": "@jupyter-widgets/base",
            "_model_module_version": "1.2.0",
            "_model_name": "LayoutModel",
            "_view_count": null,
            "_view_module": "@jupyter-widgets/base",
            "_view_module_version": "1.2.0",
            "_view_name": "LayoutView",
            "align_content": null,
            "align_items": null,
            "align_self": null,
            "border": null,
            "bottom": null,
            "display": null,
            "flex": null,
            "flex_flow": null,
            "grid_area": null,
            "grid_auto_columns": null,
            "grid_auto_flow": null,
            "grid_auto_rows": null,
            "grid_column": null,
            "grid_gap": null,
            "grid_row": null,
            "grid_template_areas": null,
            "grid_template_columns": null,
            "grid_template_rows": null,
            "height": null,
            "justify_content": null,
            "justify_items": null,
            "left": null,
            "margin": null,
            "max_height": null,
            "max_width": null,
            "min_height": null,
            "min_width": null,
            "object_fit": null,
            "object_position": null,
            "order": null,
            "overflow": null,
            "overflow_x": null,
            "overflow_y": null,
            "padding": null,
            "right": null,
            "top": null,
            "visibility": null,
            "width": null
          }
        },
        "eb6a775eb722440391b905d1f7d61e0d": {
          "model_module": "@jupyter-widgets/base",
          "model_name": "LayoutModel",
          "model_module_version": "1.2.0",
          "state": {
            "_model_module": "@jupyter-widgets/base",
            "_model_module_version": "1.2.0",
            "_model_name": "LayoutModel",
            "_view_count": null,
            "_view_module": "@jupyter-widgets/base",
            "_view_module_version": "1.2.0",
            "_view_name": "LayoutView",
            "align_content": null,
            "align_items": null,
            "align_self": null,
            "border": null,
            "bottom": null,
            "display": null,
            "flex": null,
            "flex_flow": null,
            "grid_area": null,
            "grid_auto_columns": null,
            "grid_auto_flow": null,
            "grid_auto_rows": null,
            "grid_column": null,
            "grid_gap": null,
            "grid_row": null,
            "grid_template_areas": null,
            "grid_template_columns": null,
            "grid_template_rows": null,
            "height": null,
            "justify_content": null,
            "justify_items": null,
            "left": null,
            "margin": null,
            "max_height": null,
            "max_width": null,
            "min_height": null,
            "min_width": null,
            "object_fit": null,
            "object_position": null,
            "order": null,
            "overflow": null,
            "overflow_x": null,
            "overflow_y": null,
            "padding": null,
            "right": null,
            "top": null,
            "visibility": null,
            "width": null
          }
        },
        "f94712dbeada409f87fd2dd2de9eae92": {
          "model_module": "@jupyter-widgets/controls",
          "model_name": "DescriptionStyleModel",
          "model_module_version": "1.5.0",
          "state": {
            "_model_module": "@jupyter-widgets/controls",
            "_model_module_version": "1.5.0",
            "_model_name": "DescriptionStyleModel",
            "_view_count": null,
            "_view_module": "@jupyter-widgets/base",
            "_view_module_version": "1.2.0",
            "_view_name": "StyleView",
            "description_width": ""
          }
        },
        "687c3a1072a34e18a93e7b8b6f30a5e9": {
          "model_module": "@jupyter-widgets/base",
          "model_name": "LayoutModel",
          "model_module_version": "1.2.0",
          "state": {
            "_model_module": "@jupyter-widgets/base",
            "_model_module_version": "1.2.0",
            "_model_name": "LayoutModel",
            "_view_count": null,
            "_view_module": "@jupyter-widgets/base",
            "_view_module_version": "1.2.0",
            "_view_name": "LayoutView",
            "align_content": null,
            "align_items": null,
            "align_self": null,
            "border": null,
            "bottom": null,
            "display": null,
            "flex": null,
            "flex_flow": null,
            "grid_area": null,
            "grid_auto_columns": null,
            "grid_auto_flow": null,
            "grid_auto_rows": null,
            "grid_column": null,
            "grid_gap": null,
            "grid_row": null,
            "grid_template_areas": null,
            "grid_template_columns": null,
            "grid_template_rows": null,
            "height": null,
            "justify_content": null,
            "justify_items": null,
            "left": null,
            "margin": null,
            "max_height": null,
            "max_width": null,
            "min_height": null,
            "min_width": null,
            "object_fit": null,
            "object_position": null,
            "order": null,
            "overflow": null,
            "overflow_x": null,
            "overflow_y": null,
            "padding": null,
            "right": null,
            "top": null,
            "visibility": null,
            "width": null
          }
        },
        "976100a64f52447492700ac01a8578a4": {
          "model_module": "@jupyter-widgets/controls",
          "model_name": "ProgressStyleModel",
          "model_module_version": "1.5.0",
          "state": {
            "_model_module": "@jupyter-widgets/controls",
            "_model_module_version": "1.5.0",
            "_model_name": "ProgressStyleModel",
            "_view_count": null,
            "_view_module": "@jupyter-widgets/base",
            "_view_module_version": "1.2.0",
            "_view_name": "StyleView",
            "bar_color": null,
            "description_width": ""
          }
        },
        "1999dec8885547a9a2d9521ede7ea338": {
          "model_module": "@jupyter-widgets/base",
          "model_name": "LayoutModel",
          "model_module_version": "1.2.0",
          "state": {
            "_model_module": "@jupyter-widgets/base",
            "_model_module_version": "1.2.0",
            "_model_name": "LayoutModel",
            "_view_count": null,
            "_view_module": "@jupyter-widgets/base",
            "_view_module_version": "1.2.0",
            "_view_name": "LayoutView",
            "align_content": null,
            "align_items": null,
            "align_self": null,
            "border": null,
            "bottom": null,
            "display": null,
            "flex": null,
            "flex_flow": null,
            "grid_area": null,
            "grid_auto_columns": null,
            "grid_auto_flow": null,
            "grid_auto_rows": null,
            "grid_column": null,
            "grid_gap": null,
            "grid_row": null,
            "grid_template_areas": null,
            "grid_template_columns": null,
            "grid_template_rows": null,
            "height": null,
            "justify_content": null,
            "justify_items": null,
            "left": null,
            "margin": null,
            "max_height": null,
            "max_width": null,
            "min_height": null,
            "min_width": null,
            "object_fit": null,
            "object_position": null,
            "order": null,
            "overflow": null,
            "overflow_x": null,
            "overflow_y": null,
            "padding": null,
            "right": null,
            "top": null,
            "visibility": null,
            "width": null
          }
        },
        "d18ab141d0b14e41ab55d22441b6de9f": {
          "model_module": "@jupyter-widgets/controls",
          "model_name": "DescriptionStyleModel",
          "model_module_version": "1.5.0",
          "state": {
            "_model_module": "@jupyter-widgets/controls",
            "_model_module_version": "1.5.0",
            "_model_name": "DescriptionStyleModel",
            "_view_count": null,
            "_view_module": "@jupyter-widgets/base",
            "_view_module_version": "1.2.0",
            "_view_name": "StyleView",
            "description_width": ""
          }
        },
        "a703e538c09b463a903de6447765c74e": {
          "model_module": "@jupyter-widgets/controls",
          "model_name": "HBoxModel",
          "model_module_version": "1.5.0",
          "state": {
            "_dom_classes": [],
            "_model_module": "@jupyter-widgets/controls",
            "_model_module_version": "1.5.0",
            "_model_name": "HBoxModel",
            "_view_count": null,
            "_view_module": "@jupyter-widgets/controls",
            "_view_module_version": "1.5.0",
            "_view_name": "HBoxView",
            "box_style": "",
            "children": [
              "IPY_MODEL_8976af34bdd8415192c53344a6e099d9",
              "IPY_MODEL_3480c5a7b869406b995a2235bb906157",
              "IPY_MODEL_411b870a19444d8c8d45b55d061178a6"
            ],
            "layout": "IPY_MODEL_367747eece33490fb9f7c0660ddecc65"
          }
        },
        "8976af34bdd8415192c53344a6e099d9": {
          "model_module": "@jupyter-widgets/controls",
          "model_name": "HTMLModel",
          "model_module_version": "1.5.0",
          "state": {
            "_dom_classes": [],
            "_model_module": "@jupyter-widgets/controls",
            "_model_module_version": "1.5.0",
            "_model_name": "HTMLModel",
            "_view_count": null,
            "_view_module": "@jupyter-widgets/controls",
            "_view_module_version": "1.5.0",
            "_view_name": "HTMLView",
            "description": "",
            "description_tooltip": null,
            "layout": "IPY_MODEL_3ac802d259884abb88e6cf6ba0fbf7e3",
            "placeholder": "​",
            "style": "IPY_MODEL_1f4c22a71de040889f69a01059c99f8e",
            "value": "vocab.txt: 100%"
          }
        },
        "3480c5a7b869406b995a2235bb906157": {
          "model_module": "@jupyter-widgets/controls",
          "model_name": "FloatProgressModel",
          "model_module_version": "1.5.0",
          "state": {
            "_dom_classes": [],
            "_model_module": "@jupyter-widgets/controls",
            "_model_module_version": "1.5.0",
            "_model_name": "FloatProgressModel",
            "_view_count": null,
            "_view_module": "@jupyter-widgets/controls",
            "_view_module_version": "1.5.0",
            "_view_name": "ProgressView",
            "bar_style": "success",
            "description": "",
            "description_tooltip": null,
            "layout": "IPY_MODEL_121febcaab814adebd9e6a25bb59c1e6",
            "max": 213450,
            "min": 0,
            "orientation": "horizontal",
            "style": "IPY_MODEL_629b1b79fb4245c0a1e6b515fb9c95bc",
            "value": 213450
          }
        },
        "411b870a19444d8c8d45b55d061178a6": {
          "model_module": "@jupyter-widgets/controls",
          "model_name": "HTMLModel",
          "model_module_version": "1.5.0",
          "state": {
            "_dom_classes": [],
            "_model_module": "@jupyter-widgets/controls",
            "_model_module_version": "1.5.0",
            "_model_name": "HTMLModel",
            "_view_count": null,
            "_view_module": "@jupyter-widgets/controls",
            "_view_module_version": "1.5.0",
            "_view_name": "HTMLView",
            "description": "",
            "description_tooltip": null,
            "layout": "IPY_MODEL_3036f8052a4247d98ddacca66e5718fe",
            "placeholder": "​",
            "style": "IPY_MODEL_a6847c05632545ec8407b30f841d1507",
            "value": " 213k/213k [00:00&lt;00:00, 12.0MB/s]"
          }
        },
        "367747eece33490fb9f7c0660ddecc65": {
          "model_module": "@jupyter-widgets/base",
          "model_name": "LayoutModel",
          "model_module_version": "1.2.0",
          "state": {
            "_model_module": "@jupyter-widgets/base",
            "_model_module_version": "1.2.0",
            "_model_name": "LayoutModel",
            "_view_count": null,
            "_view_module": "@jupyter-widgets/base",
            "_view_module_version": "1.2.0",
            "_view_name": "LayoutView",
            "align_content": null,
            "align_items": null,
            "align_self": null,
            "border": null,
            "bottom": null,
            "display": null,
            "flex": null,
            "flex_flow": null,
            "grid_area": null,
            "grid_auto_columns": null,
            "grid_auto_flow": null,
            "grid_auto_rows": null,
            "grid_column": null,
            "grid_gap": null,
            "grid_row": null,
            "grid_template_areas": null,
            "grid_template_columns": null,
            "grid_template_rows": null,
            "height": null,
            "justify_content": null,
            "justify_items": null,
            "left": null,
            "margin": null,
            "max_height": null,
            "max_width": null,
            "min_height": null,
            "min_width": null,
            "object_fit": null,
            "object_position": null,
            "order": null,
            "overflow": null,
            "overflow_x": null,
            "overflow_y": null,
            "padding": null,
            "right": null,
            "top": null,
            "visibility": null,
            "width": null
          }
        },
        "3ac802d259884abb88e6cf6ba0fbf7e3": {
          "model_module": "@jupyter-widgets/base",
          "model_name": "LayoutModel",
          "model_module_version": "1.2.0",
          "state": {
            "_model_module": "@jupyter-widgets/base",
            "_model_module_version": "1.2.0",
            "_model_name": "LayoutModel",
            "_view_count": null,
            "_view_module": "@jupyter-widgets/base",
            "_view_module_version": "1.2.0",
            "_view_name": "LayoutView",
            "align_content": null,
            "align_items": null,
            "align_self": null,
            "border": null,
            "bottom": null,
            "display": null,
            "flex": null,
            "flex_flow": null,
            "grid_area": null,
            "grid_auto_columns": null,
            "grid_auto_flow": null,
            "grid_auto_rows": null,
            "grid_column": null,
            "grid_gap": null,
            "grid_row": null,
            "grid_template_areas": null,
            "grid_template_columns": null,
            "grid_template_rows": null,
            "height": null,
            "justify_content": null,
            "justify_items": null,
            "left": null,
            "margin": null,
            "max_height": null,
            "max_width": null,
            "min_height": null,
            "min_width": null,
            "object_fit": null,
            "object_position": null,
            "order": null,
            "overflow": null,
            "overflow_x": null,
            "overflow_y": null,
            "padding": null,
            "right": null,
            "top": null,
            "visibility": null,
            "width": null
          }
        },
        "1f4c22a71de040889f69a01059c99f8e": {
          "model_module": "@jupyter-widgets/controls",
          "model_name": "DescriptionStyleModel",
          "model_module_version": "1.5.0",
          "state": {
            "_model_module": "@jupyter-widgets/controls",
            "_model_module_version": "1.5.0",
            "_model_name": "DescriptionStyleModel",
            "_view_count": null,
            "_view_module": "@jupyter-widgets/base",
            "_view_module_version": "1.2.0",
            "_view_name": "StyleView",
            "description_width": ""
          }
        },
        "121febcaab814adebd9e6a25bb59c1e6": {
          "model_module": "@jupyter-widgets/base",
          "model_name": "LayoutModel",
          "model_module_version": "1.2.0",
          "state": {
            "_model_module": "@jupyter-widgets/base",
            "_model_module_version": "1.2.0",
            "_model_name": "LayoutModel",
            "_view_count": null,
            "_view_module": "@jupyter-widgets/base",
            "_view_module_version": "1.2.0",
            "_view_name": "LayoutView",
            "align_content": null,
            "align_items": null,
            "align_self": null,
            "border": null,
            "bottom": null,
            "display": null,
            "flex": null,
            "flex_flow": null,
            "grid_area": null,
            "grid_auto_columns": null,
            "grid_auto_flow": null,
            "grid_auto_rows": null,
            "grid_column": null,
            "grid_gap": null,
            "grid_row": null,
            "grid_template_areas": null,
            "grid_template_columns": null,
            "grid_template_rows": null,
            "height": null,
            "justify_content": null,
            "justify_items": null,
            "left": null,
            "margin": null,
            "max_height": null,
            "max_width": null,
            "min_height": null,
            "min_width": null,
            "object_fit": null,
            "object_position": null,
            "order": null,
            "overflow": null,
            "overflow_x": null,
            "overflow_y": null,
            "padding": null,
            "right": null,
            "top": null,
            "visibility": null,
            "width": null
          }
        },
        "629b1b79fb4245c0a1e6b515fb9c95bc": {
          "model_module": "@jupyter-widgets/controls",
          "model_name": "ProgressStyleModel",
          "model_module_version": "1.5.0",
          "state": {
            "_model_module": "@jupyter-widgets/controls",
            "_model_module_version": "1.5.0",
            "_model_name": "ProgressStyleModel",
            "_view_count": null,
            "_view_module": "@jupyter-widgets/base",
            "_view_module_version": "1.2.0",
            "_view_name": "StyleView",
            "bar_color": null,
            "description_width": ""
          }
        },
        "3036f8052a4247d98ddacca66e5718fe": {
          "model_module": "@jupyter-widgets/base",
          "model_name": "LayoutModel",
          "model_module_version": "1.2.0",
          "state": {
            "_model_module": "@jupyter-widgets/base",
            "_model_module_version": "1.2.0",
            "_model_name": "LayoutModel",
            "_view_count": null,
            "_view_module": "@jupyter-widgets/base",
            "_view_module_version": "1.2.0",
            "_view_name": "LayoutView",
            "align_content": null,
            "align_items": null,
            "align_self": null,
            "border": null,
            "bottom": null,
            "display": null,
            "flex": null,
            "flex_flow": null,
            "grid_area": null,
            "grid_auto_columns": null,
            "grid_auto_flow": null,
            "grid_auto_rows": null,
            "grid_column": null,
            "grid_gap": null,
            "grid_row": null,
            "grid_template_areas": null,
            "grid_template_columns": null,
            "grid_template_rows": null,
            "height": null,
            "justify_content": null,
            "justify_items": null,
            "left": null,
            "margin": null,
            "max_height": null,
            "max_width": null,
            "min_height": null,
            "min_width": null,
            "object_fit": null,
            "object_position": null,
            "order": null,
            "overflow": null,
            "overflow_x": null,
            "overflow_y": null,
            "padding": null,
            "right": null,
            "top": null,
            "visibility": null,
            "width": null
          }
        },
        "a6847c05632545ec8407b30f841d1507": {
          "model_module": "@jupyter-widgets/controls",
          "model_name": "DescriptionStyleModel",
          "model_module_version": "1.5.0",
          "state": {
            "_model_module": "@jupyter-widgets/controls",
            "_model_module_version": "1.5.0",
            "_model_name": "DescriptionStyleModel",
            "_view_count": null,
            "_view_module": "@jupyter-widgets/base",
            "_view_module_version": "1.2.0",
            "_view_name": "StyleView",
            "description_width": ""
          }
        },
        "4882d1246eee4fc496cc42c4743f539c": {
          "model_module": "@jupyter-widgets/controls",
          "model_name": "HBoxModel",
          "model_module_version": "1.5.0",
          "state": {
            "_dom_classes": [],
            "_model_module": "@jupyter-widgets/controls",
            "_model_module_version": "1.5.0",
            "_model_name": "HBoxModel",
            "_view_count": null,
            "_view_module": "@jupyter-widgets/controls",
            "_view_module_version": "1.5.0",
            "_view_name": "HBoxView",
            "box_style": "",
            "children": [
              "IPY_MODEL_529fc6f381784ba18bb55619ddc43112",
              "IPY_MODEL_7d7621c4d130425e88e787975d1db21f",
              "IPY_MODEL_17bc59e2f91c43eb92deba60df7b1bce"
            ],
            "layout": "IPY_MODEL_2a37923985ff47f3821bc8d66d3374be"
          }
        },
        "529fc6f381784ba18bb55619ddc43112": {
          "model_module": "@jupyter-widgets/controls",
          "model_name": "HTMLModel",
          "model_module_version": "1.5.0",
          "state": {
            "_dom_classes": [],
            "_model_module": "@jupyter-widgets/controls",
            "_model_module_version": "1.5.0",
            "_model_name": "HTMLModel",
            "_view_count": null,
            "_view_module": "@jupyter-widgets/controls",
            "_view_module_version": "1.5.0",
            "_view_name": "HTMLView",
            "description": "",
            "description_tooltip": null,
            "layout": "IPY_MODEL_9a04c1c756434d7497fdb47a0df8b935",
            "placeholder": "​",
            "style": "IPY_MODEL_278a81eacc7449619d863d775a00ded2",
            "value": "pytorch_model.bin: 100%"
          }
        },
        "7d7621c4d130425e88e787975d1db21f": {
          "model_module": "@jupyter-widgets/controls",
          "model_name": "FloatProgressModel",
          "model_module_version": "1.5.0",
          "state": {
            "_dom_classes": [],
            "_model_module": "@jupyter-widgets/controls",
            "_model_module_version": "1.5.0",
            "_model_name": "FloatProgressModel",
            "_view_count": null,
            "_view_module": "@jupyter-widgets/controls",
            "_view_module_version": "1.5.0",
            "_view_name": "ProgressView",
            "bar_style": "success",
            "description": "",
            "description_tooltip": null,
            "layout": "IPY_MODEL_8f851cd8dd794007a983f3fd72ef61ad",
            "max": 435778770,
            "min": 0,
            "orientation": "horizontal",
            "style": "IPY_MODEL_388543ea8ee44d279bcf026cfd99a6e0",
            "value": 435778770
          }
        },
        "17bc59e2f91c43eb92deba60df7b1bce": {
          "model_module": "@jupyter-widgets/controls",
          "model_name": "HTMLModel",
          "model_module_version": "1.5.0",
          "state": {
            "_dom_classes": [],
            "_model_module": "@jupyter-widgets/controls",
            "_model_module_version": "1.5.0",
            "_model_name": "HTMLModel",
            "_view_count": null,
            "_view_module": "@jupyter-widgets/controls",
            "_view_module_version": "1.5.0",
            "_view_name": "HTMLView",
            "description": "",
            "description_tooltip": null,
            "layout": "IPY_MODEL_ea5d31b0f87449448796afcc1cb74f20",
            "placeholder": "​",
            "style": "IPY_MODEL_41134d9ac68949379833a8de78d22bdc",
            "value": " 436M/436M [00:02&lt;00:00, 166MB/s]"
          }
        },
        "2a37923985ff47f3821bc8d66d3374be": {
          "model_module": "@jupyter-widgets/base",
          "model_name": "LayoutModel",
          "model_module_version": "1.2.0",
          "state": {
            "_model_module": "@jupyter-widgets/base",
            "_model_module_version": "1.2.0",
            "_model_name": "LayoutModel",
            "_view_count": null,
            "_view_module": "@jupyter-widgets/base",
            "_view_module_version": "1.2.0",
            "_view_name": "LayoutView",
            "align_content": null,
            "align_items": null,
            "align_self": null,
            "border": null,
            "bottom": null,
            "display": null,
            "flex": null,
            "flex_flow": null,
            "grid_area": null,
            "grid_auto_columns": null,
            "grid_auto_flow": null,
            "grid_auto_rows": null,
            "grid_column": null,
            "grid_gap": null,
            "grid_row": null,
            "grid_template_areas": null,
            "grid_template_columns": null,
            "grid_template_rows": null,
            "height": null,
            "justify_content": null,
            "justify_items": null,
            "left": null,
            "margin": null,
            "max_height": null,
            "max_width": null,
            "min_height": null,
            "min_width": null,
            "object_fit": null,
            "object_position": null,
            "order": null,
            "overflow": null,
            "overflow_x": null,
            "overflow_y": null,
            "padding": null,
            "right": null,
            "top": null,
            "visibility": null,
            "width": null
          }
        },
        "9a04c1c756434d7497fdb47a0df8b935": {
          "model_module": "@jupyter-widgets/base",
          "model_name": "LayoutModel",
          "model_module_version": "1.2.0",
          "state": {
            "_model_module": "@jupyter-widgets/base",
            "_model_module_version": "1.2.0",
            "_model_name": "LayoutModel",
            "_view_count": null,
            "_view_module": "@jupyter-widgets/base",
            "_view_module_version": "1.2.0",
            "_view_name": "LayoutView",
            "align_content": null,
            "align_items": null,
            "align_self": null,
            "border": null,
            "bottom": null,
            "display": null,
            "flex": null,
            "flex_flow": null,
            "grid_area": null,
            "grid_auto_columns": null,
            "grid_auto_flow": null,
            "grid_auto_rows": null,
            "grid_column": null,
            "grid_gap": null,
            "grid_row": null,
            "grid_template_areas": null,
            "grid_template_columns": null,
            "grid_template_rows": null,
            "height": null,
            "justify_content": null,
            "justify_items": null,
            "left": null,
            "margin": null,
            "max_height": null,
            "max_width": null,
            "min_height": null,
            "min_width": null,
            "object_fit": null,
            "object_position": null,
            "order": null,
            "overflow": null,
            "overflow_x": null,
            "overflow_y": null,
            "padding": null,
            "right": null,
            "top": null,
            "visibility": null,
            "width": null
          }
        },
        "278a81eacc7449619d863d775a00ded2": {
          "model_module": "@jupyter-widgets/controls",
          "model_name": "DescriptionStyleModel",
          "model_module_version": "1.5.0",
          "state": {
            "_model_module": "@jupyter-widgets/controls",
            "_model_module_version": "1.5.0",
            "_model_name": "DescriptionStyleModel",
            "_view_count": null,
            "_view_module": "@jupyter-widgets/base",
            "_view_module_version": "1.2.0",
            "_view_name": "StyleView",
            "description_width": ""
          }
        },
        "8f851cd8dd794007a983f3fd72ef61ad": {
          "model_module": "@jupyter-widgets/base",
          "model_name": "LayoutModel",
          "model_module_version": "1.2.0",
          "state": {
            "_model_module": "@jupyter-widgets/base",
            "_model_module_version": "1.2.0",
            "_model_name": "LayoutModel",
            "_view_count": null,
            "_view_module": "@jupyter-widgets/base",
            "_view_module_version": "1.2.0",
            "_view_name": "LayoutView",
            "align_content": null,
            "align_items": null,
            "align_self": null,
            "border": null,
            "bottom": null,
            "display": null,
            "flex": null,
            "flex_flow": null,
            "grid_area": null,
            "grid_auto_columns": null,
            "grid_auto_flow": null,
            "grid_auto_rows": null,
            "grid_column": null,
            "grid_gap": null,
            "grid_row": null,
            "grid_template_areas": null,
            "grid_template_columns": null,
            "grid_template_rows": null,
            "height": null,
            "justify_content": null,
            "justify_items": null,
            "left": null,
            "margin": null,
            "max_height": null,
            "max_width": null,
            "min_height": null,
            "min_width": null,
            "object_fit": null,
            "object_position": null,
            "order": null,
            "overflow": null,
            "overflow_x": null,
            "overflow_y": null,
            "padding": null,
            "right": null,
            "top": null,
            "visibility": null,
            "width": null
          }
        },
        "388543ea8ee44d279bcf026cfd99a6e0": {
          "model_module": "@jupyter-widgets/controls",
          "model_name": "ProgressStyleModel",
          "model_module_version": "1.5.0",
          "state": {
            "_model_module": "@jupyter-widgets/controls",
            "_model_module_version": "1.5.0",
            "_model_name": "ProgressStyleModel",
            "_view_count": null,
            "_view_module": "@jupyter-widgets/base",
            "_view_module_version": "1.2.0",
            "_view_name": "StyleView",
            "bar_color": null,
            "description_width": ""
          }
        },
        "ea5d31b0f87449448796afcc1cb74f20": {
          "model_module": "@jupyter-widgets/base",
          "model_name": "LayoutModel",
          "model_module_version": "1.2.0",
          "state": {
            "_model_module": "@jupyter-widgets/base",
            "_model_module_version": "1.2.0",
            "_model_name": "LayoutModel",
            "_view_count": null,
            "_view_module": "@jupyter-widgets/base",
            "_view_module_version": "1.2.0",
            "_view_name": "LayoutView",
            "align_content": null,
            "align_items": null,
            "align_self": null,
            "border": null,
            "bottom": null,
            "display": null,
            "flex": null,
            "flex_flow": null,
            "grid_area": null,
            "grid_auto_columns": null,
            "grid_auto_flow": null,
            "grid_auto_rows": null,
            "grid_column": null,
            "grid_gap": null,
            "grid_row": null,
            "grid_template_areas": null,
            "grid_template_columns": null,
            "grid_template_rows": null,
            "height": null,
            "justify_content": null,
            "justify_items": null,
            "left": null,
            "margin": null,
            "max_height": null,
            "max_width": null,
            "min_height": null,
            "min_width": null,
            "object_fit": null,
            "object_position": null,
            "order": null,
            "overflow": null,
            "overflow_x": null,
            "overflow_y": null,
            "padding": null,
            "right": null,
            "top": null,
            "visibility": null,
            "width": null
          }
        },
        "41134d9ac68949379833a8de78d22bdc": {
          "model_module": "@jupyter-widgets/controls",
          "model_name": "DescriptionStyleModel",
          "model_module_version": "1.5.0",
          "state": {
            "_model_module": "@jupyter-widgets/controls",
            "_model_module_version": "1.5.0",
            "_model_name": "DescriptionStyleModel",
            "_view_count": null,
            "_view_module": "@jupyter-widgets/base",
            "_view_module_version": "1.2.0",
            "_view_name": "StyleView",
            "description_width": ""
          }
        }
      }
    }
  },
  "cells": [
    {
      "cell_type": "code",
      "execution_count": null,
      "metadata": {
        "colab": {
          "base_uri": "https://localhost:8080/"
        },
        "id": "TuVoU60VxHqB",
        "outputId": "5d6536d3-f3a6-4d88-c88b-cb9d78b9f859"
      },
      "outputs": [
        {
          "output_type": "stream",
          "name": "stdout",
          "text": [
            "Mounted at /content/drive\n"
          ]
        }
      ],
      "source": [
        "from google.colab import drive\n",
        "drive.mount('/content/drive')"
      ]
    },
    {
      "cell_type": "code",
      "source": [
        "# Install Required Libraries\n",
        "!pip install transformers scikit-learn pandas torch"
      ],
      "metadata": {
        "colab": {
          "base_uri": "https://localhost:8080/"
        },
        "id": "jtd9HGd5xxta",
        "outputId": "11ae20fd-73d5-4e7f-cc27-630b84030a1a"
      },
      "execution_count": null,
      "outputs": [
        {
          "output_type": "stream",
          "name": "stdout",
          "text": [
            "Requirement already satisfied: transformers in /usr/local/lib/python3.10/dist-packages (4.47.1)\n",
            "Requirement already satisfied: scikit-learn in /usr/local/lib/python3.10/dist-packages (1.6.0)\n",
            "Requirement already satisfied: pandas in /usr/local/lib/python3.10/dist-packages (2.2.2)\n",
            "Requirement already satisfied: torch in /usr/local/lib/python3.10/dist-packages (2.5.1+cu121)\n",
            "Requirement already satisfied: filelock in /usr/local/lib/python3.10/dist-packages (from transformers) (3.16.1)\n",
            "Requirement already satisfied: huggingface-hub<1.0,>=0.24.0 in /usr/local/lib/python3.10/dist-packages (from transformers) (0.27.1)\n",
            "Requirement already satisfied: numpy>=1.17 in /usr/local/lib/python3.10/dist-packages (from transformers) (1.26.4)\n",
            "Requirement already satisfied: packaging>=20.0 in /usr/local/lib/python3.10/dist-packages (from transformers) (24.2)\n",
            "Requirement already satisfied: pyyaml>=5.1 in /usr/local/lib/python3.10/dist-packages (from transformers) (6.0.2)\n",
            "Requirement already satisfied: regex!=2019.12.17 in /usr/local/lib/python3.10/dist-packages (from transformers) (2024.11.6)\n",
            "Requirement already satisfied: requests in /usr/local/lib/python3.10/dist-packages (from transformers) (2.32.3)\n",
            "Requirement already satisfied: tokenizers<0.22,>=0.21 in /usr/local/lib/python3.10/dist-packages (from transformers) (0.21.0)\n",
            "Requirement already satisfied: safetensors>=0.4.1 in /usr/local/lib/python3.10/dist-packages (from transformers) (0.5.1)\n",
            "Requirement already satisfied: tqdm>=4.27 in /usr/local/lib/python3.10/dist-packages (from transformers) (4.67.1)\n",
            "Requirement already satisfied: scipy>=1.6.0 in /usr/local/lib/python3.10/dist-packages (from scikit-learn) (1.13.1)\n",
            "Requirement already satisfied: joblib>=1.2.0 in /usr/local/lib/python3.10/dist-packages (from scikit-learn) (1.4.2)\n",
            "Requirement already satisfied: threadpoolctl>=3.1.0 in /usr/local/lib/python3.10/dist-packages (from scikit-learn) (3.5.0)\n",
            "Requirement already satisfied: python-dateutil>=2.8.2 in /usr/local/lib/python3.10/dist-packages (from pandas) (2.8.2)\n",
            "Requirement already satisfied: pytz>=2020.1 in /usr/local/lib/python3.10/dist-packages (from pandas) (2024.2)\n",
            "Requirement already satisfied: tzdata>=2022.7 in /usr/local/lib/python3.10/dist-packages (from pandas) (2024.2)\n",
            "Requirement already satisfied: typing-extensions>=4.8.0 in /usr/local/lib/python3.10/dist-packages (from torch) (4.12.2)\n",
            "Requirement already satisfied: networkx in /usr/local/lib/python3.10/dist-packages (from torch) (3.4.2)\n",
            "Requirement already satisfied: jinja2 in /usr/local/lib/python3.10/dist-packages (from torch) (3.1.5)\n",
            "Requirement already satisfied: fsspec in /usr/local/lib/python3.10/dist-packages (from torch) (2024.10.0)\n",
            "Requirement already satisfied: sympy==1.13.1 in /usr/local/lib/python3.10/dist-packages (from torch) (1.13.1)\n",
            "Requirement already satisfied: mpmath<1.4,>=1.1.0 in /usr/local/lib/python3.10/dist-packages (from sympy==1.13.1->torch) (1.3.0)\n",
            "Requirement already satisfied: six>=1.5 in /usr/local/lib/python3.10/dist-packages (from python-dateutil>=2.8.2->pandas) (1.17.0)\n",
            "Requirement already satisfied: MarkupSafe>=2.0 in /usr/local/lib/python3.10/dist-packages (from jinja2->torch) (3.0.2)\n",
            "Requirement already satisfied: charset-normalizer<4,>=2 in /usr/local/lib/python3.10/dist-packages (from requests->transformers) (3.4.1)\n",
            "Requirement already satisfied: idna<4,>=2.5 in /usr/local/lib/python3.10/dist-packages (from requests->transformers) (3.10)\n",
            "Requirement already satisfied: urllib3<3,>=1.21.1 in /usr/local/lib/python3.10/dist-packages (from requests->transformers) (2.3.0)\n",
            "Requirement already satisfied: certifi>=2017.4.17 in /usr/local/lib/python3.10/dist-packages (from requests->transformers) (2024.12.14)\n"
          ]
        }
      ]
    },
    {
      "cell_type": "code",
      "source": [
        "import pandas as pd\n",
        "import torch\n",
        "import numpy as np\n",
        "from transformers import AutoTokenizer, AutoModelForSequenceClassification, Trainer, TrainingArguments\n",
        "from sklearn.naive_bayes import GaussianNB\n",
        "from sklearn.metrics import classification_report\n",
        "from sklearn.preprocessing import LabelEncoder"
      ],
      "metadata": {
        "id": "W0_ArHWXxyCi"
      },
      "execution_count": null,
      "outputs": []
    },
    {
      "cell_type": "markdown",
      "source": [
        "# Load LLM"
      ],
      "metadata": {
        "id": "s7Dhd5Q9zLLw"
      }
    },
    {
      "cell_type": "code",
      "source": [
        "# Load ClinicalBERT\n",
        "model_name = \"emilyalsentzer/Bio_ClinicalBERT\"  # ClinicalBERT model\n",
        "tokenizer = AutoTokenizer.from_pretrained(model_name)\n",
        "model = AutoModelForSequenceClassification.from_pretrained(\n",
        "    model_name,\n",
        "    num_labels=59  # Placeholder for `num_labels`\n",
        ")\n",
        "\n",
        "# GPU Check\n",
        "device = torch.device(\"cuda\" if torch.cuda.is_available() else \"cpu\")\n",
        "model = model.to(device)"
      ],
      "metadata": {
        "colab": {
          "base_uri": "https://localhost:8080/",
          "height": 272,
          "referenced_widgets": [
            "e967b926b7154cb6a395ce3548c2260f",
            "559307b1f9834e72ab0946c4c3d9eef5",
            "6e1b5ab8d5d34b93980dd4dcf7b1032f",
            "86f6b4013e0e444f807421edce808068",
            "bb24253586d84168bc4e81842459a725",
            "eb6a775eb722440391b905d1f7d61e0d",
            "f94712dbeada409f87fd2dd2de9eae92",
            "687c3a1072a34e18a93e7b8b6f30a5e9",
            "976100a64f52447492700ac01a8578a4",
            "1999dec8885547a9a2d9521ede7ea338",
            "d18ab141d0b14e41ab55d22441b6de9f",
            "a703e538c09b463a903de6447765c74e",
            "8976af34bdd8415192c53344a6e099d9",
            "3480c5a7b869406b995a2235bb906157",
            "411b870a19444d8c8d45b55d061178a6",
            "367747eece33490fb9f7c0660ddecc65",
            "3ac802d259884abb88e6cf6ba0fbf7e3",
            "1f4c22a71de040889f69a01059c99f8e",
            "121febcaab814adebd9e6a25bb59c1e6",
            "629b1b79fb4245c0a1e6b515fb9c95bc",
            "3036f8052a4247d98ddacca66e5718fe",
            "a6847c05632545ec8407b30f841d1507",
            "4882d1246eee4fc496cc42c4743f539c",
            "529fc6f381784ba18bb55619ddc43112",
            "7d7621c4d130425e88e787975d1db21f",
            "17bc59e2f91c43eb92deba60df7b1bce",
            "2a37923985ff47f3821bc8d66d3374be",
            "9a04c1c756434d7497fdb47a0df8b935",
            "278a81eacc7449619d863d775a00ded2",
            "8f851cd8dd794007a983f3fd72ef61ad",
            "388543ea8ee44d279bcf026cfd99a6e0",
            "ea5d31b0f87449448796afcc1cb74f20",
            "41134d9ac68949379833a8de78d22bdc"
          ]
        },
        "id": "cv33Q4XjzNQQ",
        "outputId": "638d9483-1edd-4089-c5e2-09f27d82ee02"
      },
      "execution_count": null,
      "outputs": [
        {
          "output_type": "stream",
          "name": "stderr",
          "text": [
            "/usr/local/lib/python3.10/dist-packages/huggingface_hub/utils/_auth.py:94: UserWarning: \n",
            "The secret `HF_TOKEN` does not exist in your Colab secrets.\n",
            "To authenticate with the Hugging Face Hub, create a token in your settings tab (https://huggingface.co/settings/tokens), set it as secret in your Google Colab and restart your session.\n",
            "You will be able to reuse this secret in all of your notebooks.\n",
            "Please note that authentication is recommended but still optional to access public models or datasets.\n",
            "  warnings.warn(\n"
          ]
        },
        {
          "output_type": "display_data",
          "data": {
            "text/plain": [
              "config.json:   0%|          | 0.00/385 [00:00<?, ?B/s]"
            ],
            "application/vnd.jupyter.widget-view+json": {
              "version_major": 2,
              "version_minor": 0,
              "model_id": "e967b926b7154cb6a395ce3548c2260f"
            }
          },
          "metadata": {}
        },
        {
          "output_type": "display_data",
          "data": {
            "text/plain": [
              "vocab.txt:   0%|          | 0.00/213k [00:00<?, ?B/s]"
            ],
            "application/vnd.jupyter.widget-view+json": {
              "version_major": 2,
              "version_minor": 0,
              "model_id": "a703e538c09b463a903de6447765c74e"
            }
          },
          "metadata": {}
        },
        {
          "output_type": "display_data",
          "data": {
            "text/plain": [
              "pytorch_model.bin:   0%|          | 0.00/436M [00:00<?, ?B/s]"
            ],
            "application/vnd.jupyter.widget-view+json": {
              "version_major": 2,
              "version_minor": 0,
              "model_id": "4882d1246eee4fc496cc42c4743f539c"
            }
          },
          "metadata": {}
        },
        {
          "output_type": "stream",
          "name": "stderr",
          "text": [
            "Some weights of BertForSequenceClassification were not initialized from the model checkpoint at emilyalsentzer/Bio_ClinicalBERT and are newly initialized: ['classifier.bias', 'classifier.weight']\n",
            "You should probably TRAIN this model on a down-stream task to be able to use it for predictions and inference.\n"
          ]
        }
      ]
    },
    {
      "cell_type": "markdown",
      "source": [
        "# Load File"
      ],
      "metadata": {
        "id": "N8HNZX3lzOOn"
      }
    },
    {
      "cell_type": "code",
      "source": [
        "# Load Pre-split Datasets\n",
        "train_path = \"/content/drive/MyDrive/P2/T1/Dataset/combined/LLM-c-train.csv\"\n",
        "val_path = \"/content/drive/MyDrive/P2/T1/Dataset/combined/LLM-c-val.csv\"\n",
        "test_path = \"/content/drive/MyDrive/P2/T1/Dataset/combined/LLM-c-test.csv\"\n",
        "\n",
        "train_data = pd.read_csv(train_path)\n",
        "val_data = pd.read_csv(val_path)\n",
        "test_data = pd.read_csv(test_path)"
      ],
      "metadata": {
        "id": "tXl-d7B8zHlf"
      },
      "execution_count": null,
      "outputs": []
    },
    {
      "cell_type": "code",
      "source": [
        "# Encode Disease Labels\n",
        "label_encoder = LabelEncoder()\n",
        "train_data['encoded_labels'] = label_encoder.fit_transform(train_data['disease_label'])\n",
        "val_data['encoded_labels'] = label_encoder.transform(val_data['disease_label'])\n",
        "test_data['encoded_labels'] = label_encoder.transform(test_data['disease_label'])\n",
        "\n",
        "train_data = pd.read_csv(train_path)\n",
        "val_data = pd.read_csv(val_path)\n",
        "test_data = pd.read_csv(test_path)\n",
        "\n",
        "# Encode Disease Labels\n",
        "label_encoder = LabelEncoder()\n",
        "train_data['encoded_labels'] = label_encoder.fit_transform(train_data['disease_label'])\n",
        "val_data['encoded_labels'] = label_encoder.transform(val_data['disease_label'])\n",
        "test_data['encoded_labels'] = label_encoder.transform(test_data['disease_label'])\n",
        "\n",
        "num_classes = len(label_encoder.classes_)\n",
        "\n",
        "# Update ClinicalBERT Model for Classification\n",
        "model.num_labels = num_classes  # Update number of labels"
      ],
      "metadata": {
        "id": "SO203fezFuuK"
      },
      "execution_count": null,
      "outputs": []
    },
    {
      "cell_type": "markdown",
      "source": [
        "# Tokenize Symptoms"
      ],
      "metadata": {
        "id": "fFHP5ahu0CBT"
      }
    },
    {
      "cell_type": "code",
      "source": [
        "# Tokenize Symptoms\n",
        "def tokenize_texts(texts):\n",
        "    return tokenizer(texts.tolist(), padding=True, truncation=True, max_length=128, return_tensors=\"pt\")\n",
        "\n",
        "train_encodings = tokenize_texts(train_data['symptoms'])\n",
        "val_encodings = tokenize_texts(val_data['symptoms'])\n",
        "test_encodings = tokenize_texts(test_data['symptoms'])\n",
        "\n",
        "# Convert labels to tensors\n",
        "train_labels = torch.tensor(train_data['encoded_labels'].tolist())\n",
        "val_labels = torch.tensor(val_data['encoded_labels'].tolist())\n",
        "test_labels = torch.tensor(test_data['encoded_labels'].tolist())\n",
        "\n",
        "# Dataset Class for Fine-Tuning\n",
        "class SymptomDataset(torch.utils.data.Dataset):\n",
        "    def __init__(self, encodings, labels):\n",
        "        self.encodings = encodings\n",
        "        self.labels = labels\n",
        "\n",
        "    def __len__(self):\n",
        "        return len(self.labels)\n",
        "\n",
        "    def __getitem__(self, idx):\n",
        "        item = {key: val[idx] for key, val in self.encodings.items()}\n",
        "        item['labels'] = self.labels[idx]\n",
        "        return item\n",
        "\n",
        "# Create PyTorch Datasets\n",
        "train_dataset = SymptomDataset(train_encodings, train_labels)\n",
        "val_dataset = SymptomDataset(val_encodings, val_labels)\n"
      ],
      "metadata": {
        "id": "uU-J653p0Dhj"
      },
      "execution_count": null,
      "outputs": []
    },
    {
      "cell_type": "markdown",
      "source": [
        "# Fine-tuning BioBERT with LoRA"
      ],
      "metadata": {
        "id": "8M5A8x1w0FVZ"
      }
    },
    {
      "cell_type": "code",
      "source": [
        "# Fine-Tuning BioBERT\n",
        "training_args = TrainingArguments(\n",
        "    output_dir=\"./results\",\n",
        "    evaluation_strategy=\"epoch\",\n",
        "    logging_strategy=\"steps\",  # Enable logging after a fixed number of steps\n",
        "    logging_steps=10,  # Log training loss every 10 steps\n",
        "    learning_rate=5e-5,\n",
        "    per_device_train_batch_size=32,\n",
        "    per_device_eval_batch_size=32,\n",
        "    num_train_epochs=6,\n",
        "    weight_decay=0.001,\n",
        "    logging_dir=\"./logs\",\n",
        "    save_strategy=\"epoch\",\n",
        "    save_total_limit=2\n",
        ")\n",
        "\n",
        "trainer = Trainer(\n",
        "    model=model,\n",
        "    args=training_args,\n",
        "    train_dataset=train_dataset,\n",
        "    eval_dataset=val_dataset\n",
        ")\n"
      ],
      "metadata": {
        "id": "TNvk1yI60G1E",
        "colab": {
          "base_uri": "https://localhost:8080/"
        },
        "outputId": "68b4b58d-93d4-4e57-8c67-372f30b6ceef"
      },
      "execution_count": null,
      "outputs": [
        {
          "output_type": "stream",
          "name": "stderr",
          "text": [
            "/usr/local/lib/python3.10/dist-packages/transformers/training_args.py:1575: FutureWarning: `evaluation_strategy` is deprecated and will be removed in version 4.46 of 🤗 Transformers. Use `eval_strategy` instead\n",
            "  warnings.warn(\n"
          ]
        }
      ]
    },
    {
      "cell_type": "code",
      "source": [
        "trainer.train()"
      ],
      "metadata": {
        "id": "cbWy5CVq0IvL",
        "colab": {
          "base_uri": "https://localhost:8080/",
          "height": 526
        },
        "outputId": "bf8b3556-f7a7-4fda-de2c-63e91ff244e2"
      },
      "execution_count": null,
      "outputs": [
        {
          "output_type": "stream",
          "name": "stderr",
          "text": [
            "\u001b[34m\u001b[1mwandb\u001b[0m: \u001b[33mWARNING\u001b[0m The `run_name` is currently set to the same value as `TrainingArguments.output_dir`. If this was not intended, please specify a different run name by setting the `TrainingArguments.run_name` parameter.\n",
            "\u001b[34m\u001b[1mwandb\u001b[0m: Using wandb-core as the SDK backend.  Please refer to https://wandb.me/wandb-core for more information.\n"
          ]
        },
        {
          "output_type": "display_data",
          "data": {
            "text/plain": [
              "<IPython.core.display.Javascript object>"
            ],
            "application/javascript": [
              "\n",
              "        window._wandbApiKey = new Promise((resolve, reject) => {\n",
              "            function loadScript(url) {\n",
              "            return new Promise(function(resolve, reject) {\n",
              "                let newScript = document.createElement(\"script\");\n",
              "                newScript.onerror = reject;\n",
              "                newScript.onload = resolve;\n",
              "                document.body.appendChild(newScript);\n",
              "                newScript.src = url;\n",
              "            });\n",
              "            }\n",
              "            loadScript(\"https://cdn.jsdelivr.net/npm/postmate/build/postmate.min.js\").then(() => {\n",
              "            const iframe = document.createElement('iframe')\n",
              "            iframe.style.cssText = \"width:0;height:0;border:none\"\n",
              "            document.body.appendChild(iframe)\n",
              "            const handshake = new Postmate({\n",
              "                container: iframe,\n",
              "                url: 'https://wandb.ai/authorize'\n",
              "            });\n",
              "            const timeout = setTimeout(() => reject(\"Couldn't auto authenticate\"), 5000)\n",
              "            handshake.then(function(child) {\n",
              "                child.on('authorize', data => {\n",
              "                    clearTimeout(timeout)\n",
              "                    resolve(data)\n",
              "                });\n",
              "            });\n",
              "            })\n",
              "        });\n",
              "    "
            ]
          },
          "metadata": {}
        },
        {
          "output_type": "stream",
          "name": "stderr",
          "text": [
            "\u001b[34m\u001b[1mwandb\u001b[0m: Logging into wandb.ai. (Learn how to deploy a W&B server locally: https://wandb.me/wandb-server)\n",
            "\u001b[34m\u001b[1mwandb\u001b[0m: You can find your API key in your browser here: https://wandb.ai/authorize\n",
            "wandb: Paste an API key from your profile and hit enter, or press ctrl+c to quit:"
          ]
        },
        {
          "name": "stdout",
          "output_type": "stream",
          "text": [
            " ··········\n"
          ]
        },
        {
          "output_type": "stream",
          "name": "stderr",
          "text": [
            "\u001b[34m\u001b[1mwandb\u001b[0m: Appending key for api.wandb.ai to your netrc file: /root/.netrc\n"
          ]
        },
        {
          "output_type": "display_data",
          "data": {
            "text/plain": [
              "<IPython.core.display.HTML object>"
            ],
            "text/html": [
              "Tracking run with wandb version 0.19.1"
            ]
          },
          "metadata": {}
        },
        {
          "output_type": "display_data",
          "data": {
            "text/plain": [
              "<IPython.core.display.HTML object>"
            ],
            "text/html": [
              "Run data is saved locally in <code>/content/wandb/run-20250114_112922-m381lyxz</code>"
            ]
          },
          "metadata": {}
        },
        {
          "output_type": "display_data",
          "data": {
            "text/plain": [
              "<IPython.core.display.HTML object>"
            ],
            "text/html": [
              "Syncing run <strong><a href='https://wandb.ai/edmondchongyh-universiti-malaya-students-union/huggingface/runs/m381lyxz' target=\"_blank\">./results</a></strong> to <a href='https://wandb.ai/edmondchongyh-universiti-malaya-students-union/huggingface' target=\"_blank\">Weights & Biases</a> (<a href='https://wandb.me/developer-guide' target=\"_blank\">docs</a>)<br>"
            ]
          },
          "metadata": {}
        },
        {
          "output_type": "display_data",
          "data": {
            "text/plain": [
              "<IPython.core.display.HTML object>"
            ],
            "text/html": [
              " View project at <a href='https://wandb.ai/edmondchongyh-universiti-malaya-students-union/huggingface' target=\"_blank\">https://wandb.ai/edmondchongyh-universiti-malaya-students-union/huggingface</a>"
            ]
          },
          "metadata": {}
        },
        {
          "output_type": "display_data",
          "data": {
            "text/plain": [
              "<IPython.core.display.HTML object>"
            ],
            "text/html": [
              " View run at <a href='https://wandb.ai/edmondchongyh-universiti-malaya-students-union/huggingface/runs/m381lyxz' target=\"_blank\">https://wandb.ai/edmondchongyh-universiti-malaya-students-union/huggingface/runs/m381lyxz</a>"
            ]
          },
          "metadata": {}
        },
        {
          "output_type": "display_data",
          "data": {
            "text/plain": [
              "<IPython.core.display.HTML object>"
            ],
            "text/html": [
              "\n",
              "    <div>\n",
              "      \n",
              "      <progress value='9552' max='9552' style='width:300px; height:20px; vertical-align: middle;'></progress>\n",
              "      [9552/9552 15:25, Epoch 6/6]\n",
              "    </div>\n",
              "    <table border=\"1\" class=\"dataframe\">\n",
              "  <thead>\n",
              " <tr style=\"text-align: left;\">\n",
              "      <th>Epoch</th>\n",
              "      <th>Training Loss</th>\n",
              "      <th>Validation Loss</th>\n",
              "    </tr>\n",
              "  </thead>\n",
              "  <tbody>\n",
              "    <tr>\n",
              "      <td>1</td>\n",
              "      <td>0.420500</td>\n",
              "      <td>0.283794</td>\n",
              "    </tr>\n",
              "    <tr>\n",
              "      <td>2</td>\n",
              "      <td>0.396500</td>\n",
              "      <td>0.228586</td>\n",
              "    </tr>\n",
              "    <tr>\n",
              "      <td>3</td>\n",
              "      <td>0.322500</td>\n",
              "      <td>0.225808</td>\n",
              "    </tr>\n",
              "    <tr>\n",
              "      <td>4</td>\n",
              "      <td>0.294400</td>\n",
              "      <td>0.206961</td>\n",
              "    </tr>\n",
              "    <tr>\n",
              "      <td>5</td>\n",
              "      <td>0.303300</td>\n",
              "      <td>0.204762</td>\n",
              "    </tr>\n",
              "    <tr>\n",
              "      <td>6</td>\n",
              "      <td>0.309100</td>\n",
              "      <td>0.194778</td>\n",
              "    </tr>\n",
              "  </tbody>\n",
              "</table><p>"
            ]
          },
          "metadata": {}
        },
        {
          "output_type": "execute_result",
          "data": {
            "text/plain": [
              "TrainOutput(global_step=9552, training_loss=0.41093791337368674, metrics={'train_runtime': 954.2082, 'train_samples_per_second': 320.333, 'train_steps_per_second': 10.01, 'total_flos': 1.0529565167729664e+16, 'train_loss': 0.41093791337368674, 'epoch': 6.0})"
            ]
          },
          "metadata": {},
          "execution_count": 9
        }
      ]
    },
    {
      "cell_type": "code",
      "source": [
        "# Save Fine-Tuned Model\n",
        "model.save_pretrained(\"/content/drive/MyDrive/P2/T1/Dataset/combined/LLM+ML/fine_tuned_clinicalbert\")"
      ],
      "metadata": {
        "id": "Aeyt0bsW0Ok7"
      },
      "execution_count": null,
      "outputs": []
    },
    {
      "cell_type": "markdown",
      "source": [
        "# Generate ClinicalBERT Embedding for Random Forest"
      ],
      "metadata": {
        "id": "wYtSipsG0hBv"
      }
    },
    {
      "cell_type": "code",
      "source": [
        "# Generate ClinicalBERT Embeddings\n",
        "def generate_embeddings(dataset):\n",
        "    dataloader = torch.utils.data.DataLoader(dataset, batch_size=16)\n",
        "    embeddings = []\n",
        "    model.eval()\n",
        "    with torch.no_grad():\n",
        "        for batch in dataloader:\n",
        "            inputs = {key: batch[key].to(device) for key in ['input_ids', 'attention_mask']}\n",
        "            outputs = model(**inputs)\n",
        "            cls_embedding = outputs.logits.cpu().numpy()  # Extract logits for embedding\n",
        "            embeddings.append(cls_embedding)\n",
        "    return np.vstack(embeddings)\n",
        "\n",
        "print(\"Generating embeddings for training data...\")\n",
        "train_embeddings = generate_embeddings(train_dataset)\n",
        "print(\"Generating embeddings for validation data...\")\n",
        "val_embeddings = generate_embeddings(val_dataset)\n",
        "print(\"Generating embeddings for testing data...\")\n",
        "test_embeddings = generate_embeddings(SymptomDataset(test_encodings, test_labels))"
      ],
      "metadata": {
        "id": "MuGJaJl60jxd",
        "colab": {
          "base_uri": "https://localhost:8080/"
        },
        "outputId": "289e4759-5eab-4cd3-eb44-e31f28532124"
      },
      "execution_count": null,
      "outputs": [
        {
          "output_type": "stream",
          "name": "stdout",
          "text": [
            "Generating embeddings for training data...\n",
            "Generating embeddings for validation data...\n",
            "Generating embeddings for testing data...\n"
          ]
        }
      ]
    },
    {
      "cell_type": "markdown",
      "source": [
        "# UMAP (Uniform Manifold Approximation and Projection)"
      ],
      "metadata": {
        "id": "vpBFZ58FcchL"
      }
    },
    {
      "cell_type": "code",
      "source": [
        "pip install umap-learn"
      ],
      "metadata": {
        "colab": {
          "base_uri": "https://localhost:8080/"
        },
        "id": "iJIdgKdRcf5-",
        "outputId": "fb23c44f-849c-467f-b888-7203bf4b802d"
      },
      "execution_count": null,
      "outputs": [
        {
          "output_type": "stream",
          "name": "stdout",
          "text": [
            "Collecting umap-learn\n",
            "  Downloading umap_learn-0.5.7-py3-none-any.whl.metadata (21 kB)\n",
            "Requirement already satisfied: numpy>=1.17 in /usr/local/lib/python3.10/dist-packages (from umap-learn) (1.26.4)\n",
            "Requirement already satisfied: scipy>=1.3.1 in /usr/local/lib/python3.10/dist-packages (from umap-learn) (1.13.1)\n",
            "Requirement already satisfied: scikit-learn>=0.22 in /usr/local/lib/python3.10/dist-packages (from umap-learn) (1.6.0)\n",
            "Requirement already satisfied: numba>=0.51.2 in /usr/local/lib/python3.10/dist-packages (from umap-learn) (0.60.0)\n",
            "Collecting pynndescent>=0.5 (from umap-learn)\n",
            "  Downloading pynndescent-0.5.13-py3-none-any.whl.metadata (6.8 kB)\n",
            "Requirement already satisfied: tqdm in /usr/local/lib/python3.10/dist-packages (from umap-learn) (4.67.1)\n",
            "Requirement already satisfied: llvmlite<0.44,>=0.43.0dev0 in /usr/local/lib/python3.10/dist-packages (from numba>=0.51.2->umap-learn) (0.43.0)\n",
            "Requirement already satisfied: joblib>=0.11 in /usr/local/lib/python3.10/dist-packages (from pynndescent>=0.5->umap-learn) (1.4.2)\n",
            "Requirement already satisfied: threadpoolctl>=3.1.0 in /usr/local/lib/python3.10/dist-packages (from scikit-learn>=0.22->umap-learn) (3.5.0)\n",
            "Downloading umap_learn-0.5.7-py3-none-any.whl (88 kB)\n",
            "\u001b[?25l   \u001b[90m━━━━━━━━━━━━━━━━━━━━━━━━━━━━━━━━━━━━━━━━\u001b[0m \u001b[32m0.0/88.8 kB\u001b[0m \u001b[31m?\u001b[0m eta \u001b[36m-:--:--\u001b[0m\r\u001b[2K   \u001b[90m━━━━━━━━━━━━━━━━━━━━━━━━━━━━━━━━━━━━━━━━\u001b[0m \u001b[32m88.8/88.8 kB\u001b[0m \u001b[31m7.9 MB/s\u001b[0m eta \u001b[36m0:00:00\u001b[0m\n",
            "\u001b[?25hDownloading pynndescent-0.5.13-py3-none-any.whl (56 kB)\n",
            "\u001b[2K   \u001b[90m━━━━━━━━━━━━━━━━━━━━━━━━━━━━━━━━━━━━━━━━\u001b[0m \u001b[32m56.9/56.9 kB\u001b[0m \u001b[31m5.3 MB/s\u001b[0m eta \u001b[36m0:00:00\u001b[0m\n",
            "\u001b[?25hInstalling collected packages: pynndescent, umap-learn\n",
            "Successfully installed pynndescent-0.5.13 umap-learn-0.5.7\n"
          ]
        }
      ]
    },
    {
      "cell_type": "code",
      "source": [
        "import umap.umap_ as umap\n",
        "import matplotlib.pyplot as plt\n",
        "import numpy as np\n",
        "\n",
        "# Generate test embeddings (ensure this is executed before using UMAP)\n",
        "# test_embeddings should already be generated using your generate_embeddings function.\n",
        "\n",
        "# Convert test labels to NumPy for easier handling\n",
        "labels = test_labels.cpu().numpy()  # Ensure this is defined and matches the test dataset\n",
        "\n",
        "# Reduce dimensions using UMAP\n",
        "print(\"Reducing dimensions using UMAP...\")\n",
        "umap_model = umap.UMAP(n_components=2, random_state=42)\n",
        "reduced_embeddings = umap_model.fit_transform(test_embeddings)\n",
        "\n",
        "# Map numeric labels to disease names\n",
        "disease_names = label_encoder.inverse_transform(labels)  # Map numeric labels to actual disease names\n",
        "\n",
        "# Plot the 2D representation\n",
        "plt.figure(figsize=(12, 10))\n",
        "unique_labels = np.unique(disease_names)\n",
        "\n",
        "for disease in unique_labels:\n",
        "    indices = np.where(disease_names == disease)\n",
        "    plt.scatter(\n",
        "        reduced_embeddings[indices, 0], reduced_embeddings[indices, 1],\n",
        "        label=disease, alpha=0.7\n",
        "    )\n",
        "\n",
        "plt.legend(bbox_to_anchor=(1.05, 1), loc='upper left', fontsize='small')\n",
        "plt.title(\"UMAP Visualization of BioClinicalBERT Embeddings\")\n",
        "plt.xlabel(\"UMAP Dimension 1\")\n",
        "plt.ylabel(\"UMAP Dimension 2\")\n",
        "plt.tight_layout()\n",
        "plt.show()\n"
      ],
      "metadata": {
        "colab": {
          "base_uri": "https://localhost:8080/",
          "height": 1000
        },
        "id": "rm8YiT6pcg0V",
        "outputId": "59145d3f-9e96-4004-e7bc-21c681c4f771"
      },
      "execution_count": null,
      "outputs": [
        {
          "output_type": "stream",
          "name": "stdout",
          "text": [
            "Reducing dimensions using UMAP...\n"
          ]
        },
        {
          "output_type": "stream",
          "name": "stderr",
          "text": [
            "/usr/local/lib/python3.10/dist-packages/sklearn/utils/deprecation.py:151: FutureWarning: 'force_all_finite' was renamed to 'ensure_all_finite' in 1.6 and will be removed in 1.8.\n",
            "  warnings.warn(\n",
            "/usr/local/lib/python3.10/dist-packages/umap/umap_.py:1952: UserWarning: n_jobs value 1 overridden to 1 by setting random_state. Use no seed for parallelism.\n",
            "  warn(\n"
          ]
        },
        {
          "output_type": "display_data",
          "data": {
            "text/plain": [
              "<Figure size 1200x1000 with 1 Axes>"
            ],
            "image/png": "[encoded data removed]"
          },
          "metadata": {}
        }
      ]
    },
    {
      "cell_type": "markdown",
      "source": [
        "# Naive Bayes"
      ],
      "metadata": {
        "id": "1pGLMstX0o8q"
      }
    },
    {
      "cell_type": "code",
      "source": [
        "# Train Naive Bayes\n",
        "nb_model = GaussianNB()\n",
        "nb_model.fit(train_embeddings, train_data['encoded_labels'])\n",
        "\n",
        "# Validate the Model\n",
        "val_preds = nb_model.predict(val_embeddings)\n",
        "val_report = classification_report(val_labels, val_preds, target_names=label_encoder.classes_, output_dict=True)\n",
        "print(\"Validation Report:\")\n",
        "print(pd.DataFrame(val_report))\n",
        "\n",
        "# Test the Model\n",
        "test_preds = nb_model.predict(test_embeddings)\n",
        "test_report = classification_report(test_labels, test_preds, target_names=label_encoder.classes_, output_dict=True)\n",
        "print(\"Test Report:\")\n",
        "print(pd.DataFrame(test_report))"
      ],
      "metadata": {
        "id": "omkCg8wD0lZE",
        "colab": {
          "base_uri": "https://localhost:8080/"
        },
        "outputId": "516ea59a-96e1-465b-8356-0a384917d513"
      },
      "execution_count": null,
      "outputs": [
        {
          "output_type": "stream",
          "name": "stdout",
          "text": [
            "Validation Report:\n",
            "           adenocarcinoma    adhesion  affect labile   arthritis     asthma  \\\n",
            "precision        1.000000    0.956284       1.000000    1.000000   0.844660   \n",
            "recall           0.868852    0.994318       0.903614    0.884892   0.915789   \n",
            "f1-score         0.929825    0.974930       0.949367    0.938931   0.878788   \n",
            "support        183.000000  176.000000      83.000000  139.000000  95.000000   \n",
            "\n",
            "           benign prostatic hypertrophy  biliary calculus  carcinoma breast  \\\n",
            "precision                      1.000000          0.939024          1.000000   \n",
            "recall                         0.903614          0.636364          0.910112   \n",
            "f1-score                       0.949367          0.758621          0.952941   \n",
            "support                       83.000000        242.000000        178.000000   \n",
            "\n",
            "           chronic obstructive airway disease   cirrhosis  ...  \\\n",
            "precision                            0.812500    1.000000  ...   \n",
            "recall                               0.899371    0.904494  ...   \n",
            "f1-score                             0.853731    0.949853  ...   \n",
            "support                            159.000000  178.000000  ...   \n",
            "\n",
            "           sickle cell anemia  stenosis aortic valve  tachycardia sinus  \\\n",
            "precision            0.951515               0.900585           0.912568   \n",
            "recall               0.907514               0.793814           0.954286   \n",
            "f1-score             0.928994               0.843836           0.932961   \n",
            "support            173.000000             194.000000         175.000000   \n",
            "\n",
            "           thrombocytopaenia    thrombus  tricuspid valve insufficiency  \\\n",
            "precision           1.000000    1.000000                       0.940741   \n",
            "recall              0.959459    0.860465                       0.940741   \n",
            "f1-score            0.979310    0.925000                       0.940741   \n",
            "support            74.000000  172.000000                     135.000000   \n",
            "\n",
            "           ulcer peptic  accuracy    macro avg  weighted avg  \n",
            "precision           1.0  0.897056     0.924258      0.915188  \n",
            "recall              1.0  0.897056     0.908211      0.897056  \n",
            "f1-score            1.0  0.897056     0.911445      0.900672  \n",
            "support           161.0  0.897056  9646.000000   9646.000000  \n",
            "\n",
            "[4 rows x 62 columns]\n",
            "Test Report:\n",
            "           adenocarcinoma    adhesion  affect labile   arthritis     asthma  \\\n",
            "precision        1.000000    0.993789       1.000000    0.891156   0.798319   \n",
            "recall           0.868852    0.909091       0.903614    0.942446   1.000000   \n",
            "f1-score         0.929825    0.949555       0.949367    0.916084   0.887850   \n",
            "support        183.000000  176.000000      83.000000  139.000000  95.000000   \n",
            "\n",
            "           benign prostatic hypertrophy  biliary calculus  carcinoma breast  \\\n",
            "precision                      0.911111          0.900000          0.954802   \n",
            "recall                         0.987952          0.669421          0.949438   \n",
            "f1-score                       0.947977          0.767773          0.952113   \n",
            "support                       83.000000        242.000000        178.000000   \n",
            "\n",
            "           chronic obstructive airway disease   cirrhosis  ...  \\\n",
            "precision                            0.843750    0.955056  ...   \n",
            "recall                               0.849057    0.876289  ...   \n",
            "f1-score                             0.846395    0.913978  ...   \n",
            "support                            159.000000  194.000000  ...   \n",
            "\n",
            "           sickle cell anemia  stenosis aortic valve  tachycardia sinus  \\\n",
            "precision            1.000000               0.876289           1.000000   \n",
            "recall               0.949045               0.955056           0.868852   \n",
            "f1-score             0.973856               0.913978           0.929825   \n",
            "support            157.000000             178.000000         183.000000   \n",
            "\n",
            "           thrombocytopaenia    thrombus  tricuspid valve insufficiency  \\\n",
            "precision           1.000000    0.951220                       0.841060   \n",
            "recall              0.972973    0.906977                       0.888112   \n",
            "f1-score            0.986301    0.928571                       0.863946   \n",
            "support            74.000000  172.000000                     143.000000   \n",
            "\n",
            "           ulcer peptic  accuracy    macro avg  weighted avg  \n",
            "precision      1.000000   0.89113     0.924650      0.916216  \n",
            "recall         0.987578   0.89113     0.906653      0.891130  \n",
            "f1-score       0.993750   0.89113     0.908863      0.895335  \n",
            "support      161.000000   0.89113  9718.000000   9718.000000  \n",
            "\n",
            "[4 rows x 62 columns]\n"
          ]
        }
      ]
    },
    {
      "cell_type": "code",
      "source": [
        "# Save Classification Report to CSV\n",
        "test_report_df = pd.DataFrame(test_report).transpose()\n",
        "test_report_path = \"/content/drive/MyDrive/P2/T1/Dataset/combined/LLM+ML/clinicalbert2-nb-c-class.csv\"\n",
        "test_report_df.to_csv(test_report_path, index=True)\n",
        "print(f\"Classification report saved to {test_report_path}\")"
      ],
      "metadata": {
        "id": "QPxbI23S0nK7",
        "colab": {
          "base_uri": "https://localhost:8080/"
        },
        "outputId": "2beb421f-09a1-4a98-ae0b-c2f614fdfff1"
      },
      "execution_count": null,
      "outputs": [
        {
          "output_type": "stream",
          "name": "stdout",
          "text": [
            "Classification report saved to /content/drive/MyDrive/P2/T1/Dataset/combined/LLM+ML/clinicalbert2-nb-c-class.csv\n"
          ]
        }
      ]
    },
    {
      "cell_type": "markdown",
      "source": [
        "# Random Forest"
      ],
      "metadata": {
        "id": "N0pP4bNjYNRf"
      }
    },
    {
      "cell_type": "code",
      "source": [
        "from sklearn.ensemble import RandomForestClassifier\n",
        "# Train Random Forest on Embeddings\n",
        "rf_model = RandomForestClassifier(n_estimators=100, random_state=42)\n",
        "rf_model.fit(train_embeddings, train_data['encoded_labels'])\n",
        "\n",
        "# Validate the Model\n",
        "val_preds = rf_model.predict(val_embeddings)\n",
        "val_report = classification_report(val_labels, val_preds, target_names=label_encoder.classes_, output_dict=True)\n",
        "print(\"Validation Report:\")\n",
        "print(pd.DataFrame(val_report))\n",
        "\n",
        "# Test the Model\n",
        "test_preds = rf_model.predict(test_embeddings)\n",
        "test_report = classification_report(test_labels, test_preds, target_names=label_encoder.classes_, output_dict=True)\n",
        "print(\"Test Report:\")\n",
        "print(pd.DataFrame(test_report))\n"
      ],
      "metadata": {
        "colab": {
          "base_uri": "https://localhost:8080/"
        },
        "id": "fIhomfBaYOig",
        "outputId": "f1fb9af3-a123-4cd9-ba0d-f40063a0a49f"
      },
      "execution_count": null,
      "outputs": [
        {
          "output_type": "stream",
          "name": "stdout",
          "text": [
            "Validation Report:\n",
            "           adenocarcinoma    adhesion  affect labile   arthritis     asthma  \\\n",
            "precision        0.884058    1.000000       1.000000    0.942446   0.897727   \n",
            "recall           1.000000    0.954545       0.903614    0.942446   0.831579   \n",
            "f1-score         0.938462    0.976744       0.949367    0.942446   0.863388   \n",
            "support        183.000000  176.000000      83.000000  139.000000  95.000000   \n",
            "\n",
            "           benign prostatic hypertrophy  biliary calculus  carcinoma breast  \\\n",
            "precision                      1.000000          0.861702          0.955056   \n",
            "recall                         0.903614          0.669421          0.955056   \n",
            "f1-score                       0.949367          0.753488          0.955056   \n",
            "support                       83.000000        242.000000        178.000000   \n",
            "\n",
            "           chronic obstructive airway disease   cirrhosis  ...  \\\n",
            "precision                            0.790576    1.000000  ...   \n",
            "recall                               0.949686    0.904494  ...   \n",
            "f1-score                             0.862857    0.949853  ...   \n",
            "support                            159.000000  178.000000  ...   \n",
            "\n",
            "           sickle cell anemia  stenosis aortic valve  tachycardia sinus  \\\n",
            "precision            0.907514               0.841584           0.912568   \n",
            "recall               0.907514               0.876289           0.954286   \n",
            "f1-score             0.907514               0.858586           0.932961   \n",
            "support            173.000000             194.000000         175.000000   \n",
            "\n",
            "           thrombocytopaenia    thrombus  tricuspid valve insufficiency  \\\n",
            "precision           1.000000    1.000000                       1.000000   \n",
            "recall              0.972973    0.860465                       0.881481   \n",
            "f1-score            0.986301    0.925000                       0.937008   \n",
            "support            74.000000  172.000000                     135.000000   \n",
            "\n",
            "           ulcer peptic  accuracy    macro avg  weighted avg  \n",
            "precision           1.0   0.89944     0.921265      0.910017  \n",
            "recall              1.0   0.89944     0.910637      0.899440  \n",
            "f1-score            1.0   0.89944     0.912870      0.901049  \n",
            "support           161.0   0.89944  9646.000000   9646.000000  \n",
            "\n",
            "[4 rows x 62 columns]\n",
            "Test Report:\n",
            "           adenocarcinoma    adhesion  affect labile   arthritis     asthma  \\\n",
            "precision        1.000000    1.000000       1.000000    1.000000   0.844660   \n",
            "recall           0.868852    0.909091       0.903614    0.884892   0.915789   \n",
            "f1-score         0.929825    0.952381       0.949367    0.938931   0.878788   \n",
            "support        183.000000  176.000000      83.000000  139.000000  95.000000   \n",
            "\n",
            "           benign prostatic hypertrophy  biliary calculus  carcinoma breast  \\\n",
            "precision                      1.000000          0.843602          0.949721   \n",
            "recall                         0.891566          0.735537          0.955056   \n",
            "f1-score                       0.942675          0.785872          0.952381   \n",
            "support                       83.000000        242.000000        178.000000   \n",
            "\n",
            "           chronic obstructive airway disease   cirrhosis  ...  \\\n",
            "precision                            0.817143    0.955056  ...   \n",
            "recall                               0.899371    0.876289  ...   \n",
            "f1-score                             0.856287    0.913978  ...   \n",
            "support                            159.000000  194.000000  ...   \n",
            "\n",
            "           sickle cell anemia  stenosis aortic valve  tachycardia sinus  \\\n",
            "precision            1.000000               0.876289           1.000000   \n",
            "recall               0.949045               0.955056           0.868852   \n",
            "f1-score             0.973856               0.913978           0.929825   \n",
            "support            157.000000             178.000000         183.000000   \n",
            "\n",
            "           thrombocytopaenia    thrombus  tricuspid valve insufficiency  \\\n",
            "precision           0.986667    1.000000                       0.584416   \n",
            "recall              1.000000    0.860465                       0.944056   \n",
            "f1-score            0.993289    0.925000                       0.721925   \n",
            "support            74.000000  172.000000                     143.000000   \n",
            "\n",
            "           ulcer peptic  accuracy    macro avg  weighted avg  \n",
            "precision           1.0  0.892365     0.920515      0.907308  \n",
            "recall              1.0  0.892365     0.904524      0.892365  \n",
            "f1-score            1.0  0.892365     0.908423      0.895437  \n",
            "support           161.0  0.892365  9718.000000   9718.000000  \n",
            "\n",
            "[4 rows x 62 columns]\n"
          ]
        }
      ]
    },
    {
      "cell_type": "code",
      "source": [
        "# Save Classification Report to CSV\n",
        "test_report_df = pd.DataFrame(test_report).transpose()\n",
        "test_report_path = \"/content/drive/MyDrive/P2/T1/Dataset/combined/LLM+ML/clinicalbert2-rf-c-class.csv\"\n",
        "test_report_df.to_csv(test_report_path, index=True)\n",
        "print(f\"Classification report saved to {test_report_path}\")"
      ],
      "metadata": {
        "colab": {
          "base_uri": "https://localhost:8080/"
        },
        "id": "DMvliuFkYQ5m",
        "outputId": "151fd4fa-2330-431e-db59-fe7492574551"
      },
      "execution_count": null,
      "outputs": [
        {
          "output_type": "stream",
          "name": "stdout",
          "text": [
            "Classification report saved to /content/drive/MyDrive/P2/T1/Dataset/combined/LLM+ML/clinicalbert2-rf-c-class.csv\n"
          ]
        }
      ]
    },
    {
      "cell_type": "markdown",
      "source": [
        "# Support Vector Classifier"
      ],
      "metadata": {
        "id": "_wRpdsTwYnGG"
      }
    },
    {
      "cell_type": "code",
      "source": [
        "# Train Support Vector Classifier (SVC) on Embeddings\n",
        "from sklearn.svm import SVC\n",
        "\n",
        "svc_model = SVC(kernel='linear', random_state=42)  # You can choose other kernels like 'rbf' or 'poly'\n",
        "svc_model.fit(train_embeddings, train_data['encoded_labels'])\n",
        "\n",
        "# Validate the Model\n",
        "val_preds = svc_model.predict(val_embeddings)\n",
        "val_report = classification_report(val_labels, val_preds, target_names=label_encoder.classes_, output_dict=True)\n",
        "print(\"Validation Report:\")\n",
        "print(pd.DataFrame(val_report))\n",
        "\n",
        "# Test the Model\n",
        "test_preds = svc_model.predict(test_embeddings)\n",
        "test_report = classification_report(test_labels, test_preds, target_names=label_encoder.classes_, output_dict=True)\n",
        "print(\"Test Report:\")\n",
        "print(pd.DataFrame(test_report))\n"
      ],
      "metadata": {
        "colab": {
          "base_uri": "https://localhost:8080/"
        },
        "id": "Uz9L0yEnYoEV",
        "outputId": "4ef49250-06b5-48b7-cd8a-7936ddc610c3"
      },
      "execution_count": null,
      "outputs": [
        {
          "output_type": "stream",
          "name": "stdout",
          "text": [
            "Validation Report:\n",
            "           adenocarcinoma    adhesion  affect labile   arthritis     asthma  \\\n",
            "precision        0.954286    1.000000       1.000000    1.000000   0.908046   \n",
            "recall           0.912568    0.948864       0.903614    0.884892   0.831579   \n",
            "f1-score         0.932961    0.973761       0.949367    0.938931   0.868132   \n",
            "support        183.000000  176.000000      83.000000  139.000000  95.000000   \n",
            "\n",
            "           benign prostatic hypertrophy  biliary calculus  carcinoma breast  \\\n",
            "precision                      1.000000          0.986486          1.000000   \n",
            "recall                         0.903614          0.603306          0.910112   \n",
            "f1-score                       0.949367          0.748718          0.952941   \n",
            "support                       83.000000        242.000000        178.000000   \n",
            "\n",
            "           chronic obstructive airway disease   cirrhosis  ...  \\\n",
            "precision                            0.790576    1.000000  ...   \n",
            "recall                               0.949686    0.904494  ...   \n",
            "f1-score                             0.862857    0.949853  ...   \n",
            "support                            159.000000  178.000000  ...   \n",
            "\n",
            "           sickle cell anemia  stenosis aortic valve  tachycardia sinus  \\\n",
            "precision            1.000000               0.870968           1.000000   \n",
            "recall               0.861272               0.835052           0.908571   \n",
            "f1-score             0.925466               0.852632           0.952096   \n",
            "support            173.000000             194.000000         175.000000   \n",
            "\n",
            "           thrombocytopaenia    thrombus  tricuspid valve insufficiency  \\\n",
            "precision           1.000000    0.951220                       0.940741   \n",
            "recall              0.972973    0.906977                       0.940741   \n",
            "f1-score            0.986301    0.928571                       0.940741   \n",
            "support            74.000000  172.000000                     135.000000   \n",
            "\n",
            "           ulcer peptic  accuracy    macro avg  weighted avg  \n",
            "precision           1.0  0.899544     0.930039      0.921900  \n",
            "recall              1.0  0.899544     0.911319      0.899544  \n",
            "f1-score            1.0  0.899544     0.914340      0.902815  \n",
            "support           161.0  0.899544  9646.000000   9646.000000  \n",
            "\n",
            "[4 rows x 62 columns]\n",
            "Test Report:\n",
            "           adenocarcinoma    adhesion  affect labile   arthritis     asthma  \\\n",
            "precision        0.993750    1.000000       1.000000    0.891156   1.000000   \n",
            "recall           0.868852    0.909091       0.903614    0.942446   0.747368   \n",
            "f1-score         0.927114    0.952381       0.949367    0.916084   0.855422   \n",
            "support        183.000000  176.000000      83.000000  139.000000  95.000000   \n",
            "\n",
            "           benign prostatic hypertrophy  biliary calculus  carcinoma breast  \\\n",
            "precision                      1.000000          0.876289          0.955056   \n",
            "recall                         0.891566          0.702479          0.955056   \n",
            "f1-score                       0.942675          0.779817          0.955056   \n",
            "support                       83.000000        242.000000        178.000000   \n",
            "\n",
            "           chronic obstructive airway disease   cirrhosis  ...  \\\n",
            "precision                            0.768116    1.000000  ...   \n",
            "recall                               1.000000    0.835052  ...   \n",
            "f1-score                             0.868852    0.910112  ...   \n",
            "support                            159.000000  194.000000  ...   \n",
            "\n",
            "           sickle cell anemia  stenosis aortic valve  tachycardia sinus  \\\n",
            "precision            1.000000               0.876289           1.000000   \n",
            "recall               0.949045               0.955056           0.868852   \n",
            "f1-score             0.973856               0.913978           0.929825   \n",
            "support            157.000000             178.000000         183.000000   \n",
            "\n",
            "           thrombocytopaenia    thrombus  tricuspid valve insufficiency  \\\n",
            "precision                1.0    1.000000                       0.841060   \n",
            "recall                   1.0    0.860465                       0.888112   \n",
            "f1-score                 1.0    0.925000                       0.863946   \n",
            "support                 74.0  172.000000                     143.000000   \n",
            "\n",
            "           ulcer peptic  accuracy    macro avg  weighted avg  \n",
            "precision           1.0  0.892879     0.930815      0.920276  \n",
            "recall              1.0  0.892879     0.905725      0.892879  \n",
            "f1-score            1.0  0.892879     0.910074      0.896439  \n",
            "support           161.0  0.892879  9718.000000   9718.000000  \n",
            "\n",
            "[4 rows x 62 columns]\n"
          ]
        }
      ]
    },
    {
      "cell_type": "code",
      "source": [
        "# Save Classification Report to CSV\n",
        "test_report_df = pd.DataFrame(test_report).transpose()\n",
        "test_report_path = \"/content/drive/MyDrive/P2/T1/Dataset/combined/LLM+ML/clinicalbert2-svc-c-class.csv\"\n",
        "test_report_df.to_csv(test_report_path, index=True)\n",
        "print(f\"Classification report saved to {test_report_path}\")"
      ],
      "metadata": {
        "colab": {
          "base_uri": "https://localhost:8080/"
        },
        "id": "lidoZSktY4Jb",
        "outputId": "a0d9eb83-749b-4db0-c580-c3dcf2d07e01"
      },
      "execution_count": null,
      "outputs": [
        {
          "output_type": "stream",
          "name": "stdout",
          "text": [
            "Classification report saved to /content/drive/MyDrive/P2/T1/Dataset/combined/LLM+ML/clinicalbert2-svc-c-class.csv\n"
          ]
        }
      ]
    }
  ]
}